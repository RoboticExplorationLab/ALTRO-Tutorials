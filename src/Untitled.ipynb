{
 "cells": [
  {
   "cell_type": "code",
   "execution_count": 1,
   "id": "596c9f6e-4f64-4f4d-ba66-44fdb2a89db5",
   "metadata": {},
   "outputs": [
    {
     "data": {
      "text/plain": [
       "TrajectoryOptimization"
      ]
     },
     "execution_count": 1,
     "metadata": {},
     "output_type": "execute_result"
    }
   ],
   "source": [
    "import Pkg; Pkg.activate(joinpath(@__DIR__, \"..\")); Pkg.instantiate();\n",
    "using Altro\n",
    "using TrajectoryOptimization\n",
    "using RobotDynamics\n",
    "using StaticArrays\n",
    "using LinearAlgebra\n",
    "using Rotations\n",
    "const TO = TrajectoryOptimization"
   ]
  },
  {
   "cell_type": "markdown",
   "id": "7cec3a8b-cb03-4497-a555-907f0e64b3ba",
   "metadata": {},
   "source": [
    "# Rocket MPC\n",
    "In this problem we'll walk through how to set up a simple rocket model, including second-order cone constraints, generate a reference trajectory, and then track that reference trajectory with Conic MPC to solve the soft-landing problem. We will also cover how to define your own constraints.\n",
    "\n",
    "\n",
    "## 1. Defining the Model\n",
    "For this problem we'll use a simple linear model of a rocket flying vertically. This simplified model is a decent approximation when the roll angle is small.\n",
    "This exposes part of the API for linear models defined by RobotDynamics.jl. The call to `LinearizedModel` can be used with any model, including nonlinear ones, to generate a discrete linear or linear-affine model."
   ]
  },
  {
   "cell_type": "code",
   "execution_count": 31,
   "id": "4a8c2a58-fd15-4bc1-828c-b9428b961a1a",
   "metadata": {},
   "outputs": [],
   "source": [
    "function RocketModel(mass, grav, dt, ωPlanet = [0.0; 0.0; 0.0];\n",
    "        integration=RobotDynamics.Exponential)\n",
    "    \n",
    "    # Define the dynamics matrices (including the affine term)\n",
    "    A = [\n",
    "        zeros(3,3)      I(3);\n",
    "        -Rotations.skew(ωPlanet)^2   -2*Rotations.skew(ωPlanet);\n",
    "    ]\n",
    "    B = [\n",
    "        zeros(3,3);\n",
    "        1/mass * I(3)\n",
    "    ]\n",
    "    d = [\n",
    "        zeros(3);\n",
    "        grav\n",
    "    ]\n",
    "\n",
    "    # Continuous Linear-Affine Model\n",
    "    cmodel =  LinearModel(A,B,d)\n",
    "\n",
    "    # Discrete Model\n",
    "    model = LinearizedModel(cmodel, dt=dt, is_affine=true, integration=integration)\n",
    "end\n",
    "\n",
    "# Generate the model\n",
    "mass = 10.0             # kg\n",
    "ωPlanet = [0, 0, 0]     # rad/s\n",
    "gravity = [0, 0, -9.81]  # m/s/s\n",
    "N = 301                 # number of knot points\n",
    "dt = 0.05               # sec\n",
    "tf = (N-1)*dt           # sec\n",
    "model = RocketModel(mass, gravity, dt, ωPlanet);\n",
    "n,m = size(model)\n",
    "\n",
    "# TIP: Get the A,B matrices for the discrete model\n",
    "RobotDynamics.get_A(model)\n",
    "RobotDynamics.get_B(model);"
   ]
  },
  {
   "cell_type": "markdown",
   "id": "767dd4e2-8e30-4353-ab2c-6b179111f8d5",
   "metadata": {},
   "source": [
    "## 2. Define the Objective"
   ]
  },
  {
   "cell_type": "code",
   "execution_count": 32,
   "id": "57073eba-90c3-482b-a76f-3b0df3f00bc6",
   "metadata": {},
   "outputs": [],
   "source": [
    "Q = Diagonal(@SVector fill(1e-2, n))\n",
    "R = Diagonal(@SVector fill(1e-0, m))\n",
    "Qf = Diagonal(@SVector fill(1e4, n))\n",
    "xf = @SVector zeros(n)\n",
    "x0 = SA_F64[4.0, 2.0, 20.0, -3.0, 2.0, -5.0]  # km\n",
    "obj = LQRObjective(Q, R, Qf, xf, N);"
   ]
  },
  {
   "cell_type": "markdown",
   "id": "adc1321f-146c-4086-b3b1-e7cb8a7cab66",
   "metadata": {},
   "source": [
    "## 3. Define the Constraints\n",
    "For the constraints, we'll start off with the ones that we can define using the constraints [already defined in TrajectoryOptimization.jl](http://roboticexplorationlab.org/TrajectoryOptimization.jl/dev/constraint_api.html#Implemented-Constraints)."
   ]
  },
  {
   "cell_type": "code",
   "execution_count": 33,
   "id": "4e90b463-b584-4fcf-b177-2492a4c460f4",
   "metadata": {},
   "outputs": [],
   "source": [
    "cons = ConstraintList(n, m, N)\n",
    "\n",
    "# Goal Constraint\n",
    "TO.add_constraint!(cons, GoalConstraint(xf), N)\n",
    "\n",
    "# Maximum Thrust\n",
    "# ||u||₂ <= u_bnd\n",
    "perWeightMax = 2.0  \n",
    "u_bnd = mass * abs(gravity[3]) * perWeightMax\n",
    "maxThrust = NormConstraint(n, m, u_bnd, TO.SecondOrderCone(), :control)\n",
    "TO.add_constraint!(cons, maxThrust, 1:N-1)"
   ]
  },
  {
   "cell_type": "markdown",
   "id": "937e4d73-753e-4437-add0-e5917c051492",
   "metadata": {},
   "source": [
    "### Defining a Custom Constraint\n",
    "For the next constraints, we need a custom constraint that can handle a more general SOCP constraint. We'll define a constraint of the form:\n",
    "$$ || A z ||_2 \\leq c^T z $$\n",
    "where $z$ is the concatenated vector of the states and controls.\n",
    "\n",
    "For a second-order cone constaint of the form $||v||_2 \\leq c$, we define the output of the constraint to be $\\begin{bmatrix} v^T & c \\end{bmatrix}^T$. The Jacobian of the constraint is then just the Jacobian of this vector with respect to the inputs.\n",
    "\n",
    "When defining our constraint below, we specify that it is a subclass of `StageConstraint`, meaning it is a function of the states and controls of a single knot point. Most other constraints will either be `StateConstraint` or `ControlConstraint`. This just tells the solver how wide the non-zero block in the constraint Jacobian is. Additionally, we need to provide methods for querying the state, control, and constraint output dimensions. Then, obviously, we need to define the constraint function via the `evaluate` method, which can be of any of the following forms:\n",
    "* `evaluate(con, z::KnotPoint)` - Stage, state, and control constraints\n",
    "* `evaluate(con, x::StaticVector, u::StaticVector)` - Stage constraints\n",
    "* `evaluate(con, x::StaticVector)` - State constraints\n",
    "* `evaluate(con, u::ControlVector)` - Control constraints\n",
    "\n",
    "Since it's convenient to index out of the concatentated state and control vector stored in the `KnotPoint` type, we use the first method. \n",
    "\n",
    "We also need to define the Jacobian via the `jacobian!` method. Jacobians are only automatically defined using [ForwardDiff.jl](https://github.com/JuliaDiff/ForwardDiff.jlhttps://github.com/JuliaDiff/ForwardDiff.jl) for state and control constraints."
   ]
  },
  {
   "cell_type": "code",
   "execution_count": 34,
   "id": "37af7d8c-0d8d-42b8-a1ef-a531b80dae44",
   "metadata": {},
   "outputs": [],
   "source": [
    "# Is a sub-class of StageConstraint since it is a function of both the states and controls\n",
    "struct LinearNormConstraint{N,D,ND} <: TO.StageConstraint\n",
    "    n::Int  # state dimension\n",
    "    m::Int  # control dimension\n",
    "    A::SMatrix{D, N, Float64, ND}\n",
    "    c::SVector{N, Float64}\n",
    "    inds::SVector{N, Int}  # extracts out a portion of the z vector\n",
    "    function LinearNormConstraint{N,D}(n::Int, m::Int, A::AbstractMatrix, c::AbstractVector, inds=SVector{n+m}(1:n+m)) where {N,D}\n",
    "        if inds == :state\n",
    "            inds = SVector{n}(1:n)\n",
    "        elseif inds == :control\n",
    "            inds = SVector{m}(n .+ (1:m))\n",
    "        end\n",
    "        new{N,D,N*D}(n, m, SMatrix{D,N}(A), SVector{N}(c), inds)\n",
    "    end\n",
    "end\n",
    "TO.state_dim(con::LinearNormConstraint) = con.n\n",
    "TO.control_dim(con::LinearNormConstraint) = con.m\n",
    "TO.sense(::LinearNormConstraint) = TO.SecondOrderCone()\n",
    "TO.Base.length(::LinearNormConstraint{<:Any,D}) where D = D + 1\n",
    "\n",
    "function TO.evaluate(con::LinearNormConstraint, z::KnotPoint)\n",
    "    x = z.z[con.inds]\n",
    "    v = con.A*x\n",
    "    s = con.c'x\n",
    "    return push(v, s)  # stack the vector and scalar parts\n",
    "end\n",
    "\n",
    "function TO.jacobian!(∇c, con::LinearNormConstraint{N,D}, z::KnotPoint) where {N,D}\n",
    "    ∇c[1:D,con.inds] .= con.A\n",
    "    ∇c[D+1,con.inds] .= con.c\n",
    "end"
   ]
  },
  {
   "cell_type": "code",
   "execution_count": 35,
   "id": "1c824ebe-f5f1-4021-a1ca-1fc35475e344",
   "metadata": {},
   "outputs": [],
   "source": [
    "# Max Angle angle\n",
    "# || [u_x, u_y] || ≤ tan(θ) u_z\n",
    "θ_thrust_max = 5.0 # deg\n",
    "α_max = tand(θ_thrust_max)\n",
    "\n",
    "AThrust = SA_F64[\n",
    "    1 0 0;\n",
    "    0 1 0;\n",
    "    0 0 0\n",
    "]\n",
    "cThrust = SA_F64[0, 0, α_max]\n",
    "maxAngle = LinearNormConstraint{3,3}(n, m, AThrust, cThrust, :control)\n",
    "TO.add_constraint!(cons, maxAngle, 1:N-1)\n",
    "\n",
    "# Glideslope Constraint\n",
    "# Keeps the rocket within a conic airspace, with the tip at the landing site\n",
    "# Keeps the rocket from flying low to the ground if it's not near the landing site\n",
    "θ_glideslope = 45 # deg\n",
    "α_glide = tand(θ_glideslope)\n",
    "AGlide = SA_F64[\n",
    "    1 0 0;\n",
    "    0 1 0;\n",
    "    0 0 0;\n",
    "]\n",
    "cGlide = SA_F64[0, 0, α_glide]\n",
    "glideSlope = LinearNormConstraint{3,3}(n, m, AGlide, cGlide, SA[1,2,3])\n",
    "TO.add_constraint!(cons, glideSlope, 1:N-1)"
   ]
  },
  {
   "cell_type": "markdown",
   "id": "e19a63f3-6ec3-4462-b38f-b914391e67f0",
   "metadata": {},
   "source": [
    "## 3. Define the problem\n",
    "We can now define our problem. Since our dynamics are already discretized, we want to disable the automatic integration by setting the integration method to `RobotDynamics.PassThrough`."
   ]
  },
  {
   "cell_type": "code",
   "execution_count": 45,
   "id": "9b841550-dd79-46fc-9a18-a454ed9b961a",
   "metadata": {},
   "outputs": [
    {
     "data": {
      "text/plain": [
       "PassThrough"
      ]
     },
     "execution_count": 45,
     "metadata": {},
     "output_type": "execute_result"
    }
   ],
   "source": [
    "prob = Problem(model, obj, xf, tf, x0=x0, constraints=cons, integration=RobotDynamics.PassThrough);\n",
    "U0 = [-mass * gravity for k = 1:N-1]\n",
    "initial_controls!(prob, U0)\n",
    "rollout!(prob)"
   ]
  },
  {
   "cell_type": "code",
   "execution_count": 40,
   "id": "ca06b3b7-b6d5-456f-97a3-caae98eff1a9",
   "metadata": {},
   "outputs": [
    {
     "ename": "LoadError",
     "evalue": "AssertionError: Can't call continuous dynamics on a discrete LinearModel",
     "output_type": "error",
     "traceback": [
      "AssertionError: Can't call continuous dynamics on a discrete LinearModel",
      "",
      "Stacktrace:",
      "  [1] dynamics(model::LinearModel{6, 3, Float64, 15}, x::SVector{6, ForwardDiff.Dual{ForwardDiff.Tag{RobotDynamics.var\"#fd_aug#15\"{RK3, LinearizedModel{LinearModel{6, 3, Float64, 15}, Exponential, LinearModel{6, 3, Float64, 15}, Traj{6, 3, Float64, KnotPoint{Float64, 6, 3, 9}}, RobotDynamics.DynamicsJacobian{6, 9, Float64}}, Float64, Float64, SVector{3, Int64}, SVector{6, Int64}}, Float64}, Float64, 9}}, u::SVector{3, ForwardDiff.Dual{ForwardDiff.Tag{RobotDynamics.var\"#fd_aug#15\"{RK3, LinearizedModel{LinearModel{6, 3, Float64, 15}, Exponential, LinearModel{6, 3, Float64, 15}, Traj{6, 3, Float64, KnotPoint{Float64, 6, 3, 9}}, RobotDynamics.DynamicsJacobian{6, 9, Float64}}, Float64, Float64, SVector{3, Int64}, SVector{6, Int64}}, Float64}, Float64, 9}}, t::Float64)",
      "    @ RobotDynamics ~/.julia/packages/RobotDynamics/e9xEC/src/linearmodel.jl:121",
      "  [2] dynamics",
      "    @ ~/.julia/packages/RobotDynamics/e9xEC/src/linearization.jl:108 [inlined]",
      "  [3] integrate(#unused#::Type{RK3}, model::LinearizedModel{LinearModel{6, 3, Float64, 15}, Exponential, LinearModel{6, 3, Float64, 15}, Traj{6, 3, Float64, KnotPoint{Float64, 6, 3, 9}}, RobotDynamics.DynamicsJacobian{6, 9, Float64}}, x::SVector{6, ForwardDiff.Dual{ForwardDiff.Tag{RobotDynamics.var\"#fd_aug#15\"{RK3, LinearizedModel{LinearModel{6, 3, Float64, 15}, Exponential, LinearModel{6, 3, Float64, 15}, Traj{6, 3, Float64, KnotPoint{Float64, 6, 3, 9}}, RobotDynamics.DynamicsJacobian{6, 9, Float64}}, Float64, Float64, SVector{3, Int64}, SVector{6, Int64}}, Float64}, Float64, 9}}, u::SVector{3, ForwardDiff.Dual{ForwardDiff.Tag{RobotDynamics.var\"#fd_aug#15\"{RK3, LinearizedModel{LinearModel{6, 3, Float64, 15}, Exponential, LinearModel{6, 3, Float64, 15}, Traj{6, 3, Float64, KnotPoint{Float64, 6, 3, 9}}, RobotDynamics.DynamicsJacobian{6, 9, Float64}}, Float64, Float64, SVector{3, Int64}, SVector{6, Int64}}, Float64}, Float64, 9}}, t::Float64, dt::Float64)",
      "    @ RobotDynamics ~/.julia/packages/RobotDynamics/e9xEC/src/integration.jl:18",
      "  [4] discrete_dynamics",
      "    @ ~/.julia/packages/RobotDynamics/e9xEC/src/model.jl:300 [inlined]",
      "  [5] fd_aug",
      "    @ ~/.julia/packages/RobotDynamics/e9xEC/src/model.jl:348 [inlined]",
      "  [6] static_dual_eval",
      "    @ ~/.julia/packages/ForwardDiff/QOqCN/src/apiutils.jl:32 [inlined]",
      "  [7] vector_mode_jacobian",
      "    @ ~/.julia/packages/ForwardDiff/QOqCN/src/jacobian.jl:181 [inlined]",
      "  [8] jacobian",
      "    @ ~/.julia/packages/ForwardDiff/QOqCN/src/jacobian.jl:85 [inlined]",
      "  [9] _discrete_jacobian!(::RobotDynamics.ForwardAD, ::Type{RK3}, ∇f::SparseArrays.SparseMatrixCSC{Float64, Int64}, model::LinearizedModel{LinearModel{6, 3, Float64, 15}, Exponential, LinearModel{6, 3, Float64, 15}, Traj{6, 3, Float64, KnotPoint{Float64, 6, 3, 9}}, RobotDynamics.DynamicsJacobian{6, 9, Float64}}, z::StaticKnotPoint{Float64, 6, 3, 9}, cache::Nothing)",
      "    @ RobotDynamics ~/.julia/packages/RobotDynamics/e9xEC/src/model.jl:349",
      " [10] detect_sparsity(::Type{RK3}, model::LinearizedModel{LinearModel{6, 3, Float64, 15}, Exponential, LinearModel{6, 3, Float64, 15}, Traj{6, 3, Float64, KnotPoint{Float64, 6, 3, 9}}, RobotDynamics.DynamicsJacobian{6, 9, Float64}}, samples::Int64)",
      "    @ RobotDynamics ~/.julia/packages/RobotDynamics/e9xEC/src/model.jl:147",
      " [11] detect_sparsity",
      "    @ ~/.julia/packages/RobotDynamics/e9xEC/src/model.jl:142 [inlined]",
      " [12] JacobianCache (repeats 3 times)",
      "    @ ~/.julia/packages/RobotDynamics/e9xEC/src/model.jl:119 [inlined]",
      " [13] Altro.iLQRSolver(prob::Problem{PassThrough, Float64}, opts::SolverOptions{Float64}, stats::SolverStats{Float64}; kwarg_opts::Base.Iterators.Pairs{Union{}, Union{}, Tuple{}, NamedTuple{(), Tuple{}}})",
      "    @ Altro ~/.julia/packages/Altro/6AiyV/src/ilqr/ilqr.jl:96",
      " [14] iLQRSolver",
      "    @ ~/.julia/packages/Altro/6AiyV/src/ilqr/ilqr.jl:64 [inlined]",
      " [15] Altro.AugmentedLagrangianSolver(prob::Problem{PassThrough, Float64}, opts::SolverOptions{Float64}, stats::SolverStats{Float64}; solver_uncon::Type{Altro.iLQRSolver}, kwarg_opts::Base.Iterators.Pairs{Union{}, Union{}, Tuple{}, NamedTuple{(), Tuple{}}})",
      "    @ Altro ~/.julia/packages/Altro/6AiyV/src/augmented_lagrangian/al_solver.jl:52",
      " [16] ALTROSolver(prob::Problem{PassThrough, Float64}, opts::SolverOptions{Float64}; infeasible::Bool, R_inf::Float64, solver_uncon::Type, kwarg_opts::Base.Iterators.Pairs{Union{}, Union{}, Tuple{}, NamedTuple{(), Tuple{}}})",
      "    @ Altro ~/.julia/packages/Altro/6AiyV/src/altro/altro_solver.jl:56",
      " [17] ALTROSolver(prob::Problem{PassThrough, Float64}, opts::SolverOptions{Float64})",
      "    @ Altro ~/.julia/packages/Altro/6AiyV/src/altro/altro_solver.jl:44",
      " [18] top-level scope",
      "    @ In[40]:13",
      " [19] eval",
      "    @ ./boot.jl:360 [inlined]",
      " [20] include_string(mapexpr::typeof(REPL.softscope), mod::Module, code::String, filename::String)",
      "    @ Base ./loading.jl:1094"
     ]
    }
   ],
   "source": [
    "opts = SolverOptions(\n",
    "    cost_tolerance_intermediate=1e-4,\n",
    "    penalty_scaling=500.,\n",
    "    penalty_initial=1e-2,\n",
    "#     verbose = 1,\n",
    "    projected_newton = false,\n",
    "    constraint_tolerance = 1.0e-5,\n",
    "    iterations = 5000,\n",
    "    iterations_inner = 100,\n",
    "    iterations_linesearch = 100,\n",
    "    iterations_outer = 500,\n",
    ")\n",
    "solver = ALTROSolver(prob, opts)\n",
    "# solve!(solver)"
   ]
  },
  {
   "cell_type": "code",
   "execution_count": 43,
   "id": "28007300-74b7-4719-9448-f825b55a66f2",
   "metadata": {},
   "outputs": [],
   "source": [
    "F = zeros(n, n+m)\n",
    "discrete_jacobian!(RobotDynamics.PassThrough, F, model, z)"
   ]
  },
  {
   "cell_type": "code",
   "execution_count": null,
   "id": "3f511e53-7c49-4f2b-ac84-1073fa38de07",
   "metadata": {},
   "outputs": [],
   "source": []
  }
 ],
 "metadata": {
  "kernelspec": {
   "display_name": "Julia 1.6.1",
   "language": "julia",
   "name": "julia-1.6"
  },
  "language_info": {
   "file_extension": ".jl",
   "mimetype": "application/julia",
   "name": "julia",
   "version": "1.6.1"
  }
 },
 "nbformat": 4,
 "nbformat_minor": 5
}
