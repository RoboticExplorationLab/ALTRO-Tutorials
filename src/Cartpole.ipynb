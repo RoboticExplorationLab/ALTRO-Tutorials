{
 "cells": [
  {
   "cell_type": "code",
   "execution_count": 1,
   "id": "4e3bf73b",
   "metadata": {},
   "outputs": [
    {
     "name": "stderr",
     "output_type": "stream",
     "text": [
      "\u001b[32m\u001b[1m  Activating\u001b[22m\u001b[39m environment at `~/.julia/dev/AltroTutorials/Project.toml`\n"
     ]
    }
   ],
   "source": [
    "import Pkg; Pkg.activate(joinpath(@__DIR__, \"..\")); Pkg.instantiate();\n",
    "using Altro\n",
    "using TrajectoryOptimization\n",
    "using RobotDynamics\n",
    "using StaticArrays\n",
    "using LinearAlgebra"
   ]
  },
  {
   "cell_type": "markdown",
   "id": "4794d11d",
   "metadata": {},
   "source": [
    "# Cartpole: Adding Constraints\n",
    "Now that you're familiar with the basics of defining a dynamics model, creating a quadratic cost function, and solving the problem, let's starting adding constraints. In this example we'll be working with the canonical cartpole system, and adding constraints on the torque and lateral movement."
   ]
  },
  {
   "cell_type": "markdown",
   "id": "e452a264",
   "metadata": {},
   "source": [
    "## 1. Defining the Dynamics Model\n",
    "The setup for the dynamics here is nearly identical to the setup we used previously on the pendulum. Just a few things to note:\n",
    "* We used `Base.@kwdef` in front of `struct` to allow us to provide default values for the model parameters directly in the struct. This is often much more convenient than defining your own custom constructors.\n",
    "* In the dynamics we made extensive use of StaticArrays to eliminate memory allocations and make it fast."
   ]
  },
  {
   "cell_type": "code",
   "execution_count": 2,
   "id": "ce2a7a1c",
   "metadata": {},
   "outputs": [],
   "source": [
    "Base.@kwdef struct Cartpole{T} <: AbstractModel\n",
    "    mc::T = 1.0\n",
    "    mp::T = 0.2\n",
    "    l::T = 0.5\n",
    "    g::T = 9.81\n",
    "end\n",
    "\n",
    "function RobotDynamics.dynamics(model::Cartpole, x, u)\n",
    "    mc = model.mc   # mass of the cart in kg (10)\n",
    "    mp = model.mp   # mass of the pole (point mass at the end) in kg\n",
    "    l = model.l     # length of the pole in m\n",
    "    g = model.g     # gravity m/s^2\n",
    "\n",
    "    q = x[ @SVector [1,2] ]  # must indepx with a static index vector to get a static array out\n",
    "    qd = x[ @SVector [3,4] ]\n",
    "\n",
    "    s = sin(q[2])\n",
    "    c = cos(q[2])\n",
    "\n",
    "    H = @SMatrix [mc+mp mp*l*c; mp*l*c mp*l^2]\n",
    "    C = @SMatrix [0 -mp*qd[2]*l*s; 0 0]\n",
    "    G = @SVector [0, mp*g*l*s]\n",
    "    B = @SVector [1, 0]\n",
    "\n",
    "    qdd = -H\\(C*qd + G - B*u[1])\n",
    "    return [qd; qdd]\n",
    "end\n",
    "\n",
    "RobotDynamics.state_dim(::Cartpole) = 4\n",
    "RobotDynamics.control_dim(::Cartpole) = 1"
   ]
  },
  {
   "cell_type": "markdown",
   "id": "a5f7a9f8",
   "metadata": {},
   "source": [
    "## 2. Defining the Cost Function\n",
    "For this problem we'll use the same LQR-style quadratic cost, penalizing distance from the goal state."
   ]
  },
  {
   "cell_type": "code",
   "execution_count": 3,
   "id": "792abba0",
   "metadata": {},
   "outputs": [],
   "source": [
    "# Get the model sizes\n",
    "model = Cartpole()\n",
    "n,m = size(model)\n",
    "\n",
    "# Set model discretization\n",
    "N = 101\n",
    "tf = 5.0\n",
    "dt = tf/(N-1);"
   ]
  },
  {
   "cell_type": "code",
   "execution_count": 4,
   "id": "4d78f66d",
   "metadata": {},
   "outputs": [],
   "source": [
    "# Define the Cost matrices\n",
    "Q = 1e-2*Diagonal(@SVector ones(n))\n",
    "Qf = 1e2*Diagonal(@SVector ones(n))\n",
    "R = 1e-1*Diagonal(@SVector ones(m))\n",
    "\n",
    "# Define the initial and final states\n",
    "x0 = @SVector zeros(n)\n",
    "xf = @SVector [0, pi, 0, 0]\n",
    "\n",
    "# Define the objective\n",
    "obj = LQRObjective(Q,R,Qf,xf,N);"
   ]
  },
  {
   "cell_type": "markdown",
   "id": "42b7d175",
   "metadata": {},
   "source": [
    "## 3. Adding Constraints\n",
    "Okay, now that we're through the stuff you should already know after going through the pendulum example, let's move on to the new stuff. We want to add constraints to this system. As a first step, let's add a goal constraint to make sure we hit the goal exactly (at least to the precision of our solve), and add torque limits.\n",
    "\n",
    "The first step to adding constraints is creating a [`ConstraintList`](http://roboticexplorationlab.org/TrajectoryOptimization.jl/dev/constraint_api.html#TrajectoryOptimization.ConstraintList). This is a fairly basic type that holds a vector of constraints and specifies which knot points each constraint applies to. In TrajectoryOptimization.jl, each constraint is allowed to apply to a set of knot points, all of which must be adjacent. For example, I can apply a constraint to knot points `[1,2,3,4]` or `[5,6]`, or even just `[11]`, but not `[1,3,5]`.\n",
    "\n",
    "Adding constraints usually happens in three steps:\n",
    "1. Create the `ConstraintList`\n",
    "2. Define the constraint function objects\n",
    "3. Add the constraints to `ConstraintList`\n",
    "\n",
    "We'll break this down in code below."
   ]
  },
  {
   "cell_type": "code",
   "execution_count": 5,
   "id": "36fc3ff8",
   "metadata": {},
   "outputs": [
    {
     "data": {
      "text/plain": [
       "ConstraintList(4, 1, TrajectoryOptimization.AbstractConstraint[], UnitRange{Int64}[], [0, 0, 0, 0, 0, 0, 0, 0, 0, 0  …  0, 0, 0, 0, 0, 0, 0, 0, 0, 0])"
      ]
     },
     "execution_count": 5,
     "metadata": {},
     "output_type": "execute_result"
    }
   ],
   "source": [
    "# 1. Create the ConstraintList\n",
    "conSet = ConstraintList(n,m,N)"
   ]
  },
  {
   "cell_type": "markdown",
   "id": "683f1c38",
   "metadata": {},
   "source": [
    "Easy enough. We have to provide the problem sizes so that the list can make sure the constraints we add are all compatible with those sizes."
   ]
  },
  {
   "cell_type": "code",
   "execution_count": 6,
   "id": "a4efa82c",
   "metadata": {},
   "outputs": [
    {
     "data": {
      "text/plain": [
       "GoalConstraint{4, Float64}(4, [0.0, 3.141592653589793, 0.0, 0.0], [1, 2, 3, 4])"
      ]
     },
     "execution_count": 6,
     "metadata": {},
     "output_type": "execute_result"
    }
   ],
   "source": [
    "# 2. Define the constraint function objects\n",
    "u_bnd = 3.0\n",
    "bnd = BoundConstraint(n,m, u_min=-u_bnd, u_max=u_bnd)\n",
    "goal = GoalConstraint(xf)"
   ]
  },
  {
   "cell_type": "markdown",
   "id": "925a9c8d",
   "metadata": {},
   "source": [
    "Here we created 2 new objects, a [`BoundConstraint`](http://roboticexplorationlab.org/TrajectoryOptimization.jl/dev/constraint_api.html#TrajectoryOptimization.BoundConstraint) and a [`GoalConstraint`](http://roboticexplorationlab.org/TrajectoryOptimization.jl/dev/constraint_api.html#TrajectoryOptimization.GoalConstraint). These are both sub-types of [`TrajectoryOptimization.AbstractConstraint`](http://roboticexplorationlab.org/TrajectoryOptimization.jl/dev/constraint_interface.html#TrajectoryOptimization.AbstractConstraint) (more on that later). These are both defined in TrajectoryOptimization.jl, and provide the methods necessary to evaluate the function and it's Jacobian. We'll cover defining your own constraints in a later example. For now you just need to know that these types implement the methods the solver will need to satisfy the constraints. "
   ]
  },
  {
   "cell_type": "code",
   "execution_count": 7,
   "id": "7386d9cd",
   "metadata": {},
   "outputs": [],
   "source": [
    "# 3. Add the constraints to ConstraintList\n",
    "add_constraint!(conSet, bnd, 1:N-1)\n",
    "add_constraint!(conSet, goal, N)"
   ]
  },
  {
   "cell_type": "markdown",
   "id": "077f2921",
   "metadata": {},
   "source": [
    "Here we used the `add_constraint!` method (note that it's a mutating function since it's modifying `conSet`) to add the constraints, specifying the knot point indices to which the constraint applies. Note that for the terminal constraint, we passed in a single index, but could have also passed in the range `N:N`.\n",
    "\n",
    "**NOTE**: Be very careful when applying constraints to the entire trajectory. Altro assumes the constraints are independent and can emit strange error messages and failure modes when this is not the case (typically these happen in the projected Newton solution-polishing phase and say something about bad indexing). For example, if I had a bound on the states and applied those to the terminal state in addition to a goal constraint, the bound constraint would be redundant (and possibly infeasible). This will usually cause the solve to fail. Right now Altro.jl does not have a method for detecting this redundancy, so it is left to you, the user, the think carefully about your constraints. "
   ]
  },
  {
   "cell_type": "markdown",
   "id": "15875878",
   "metadata": {},
   "source": [
    "## 4. Defining the Problem\n",
    "We now proceed back to familiar territory, and create a `Problem` object, but this time passing in our `ConstraintList`. Remember to provide an initial guess!"
   ]
  },
  {
   "cell_type": "code",
   "execution_count": 8,
   "id": "584c694b",
   "metadata": {},
   "outputs": [],
   "source": [
    "prob = Problem(model, obj, xf, tf, x0=x0, constraints=conSet);\n",
    "\n",
    "# initial condition\n",
    "U0 = [fill(0.01, m) for k = 1:N-1]\n",
    "initial_controls!(prob, U0)"
   ]
  },
  {
   "cell_type": "markdown",
   "id": "8745df88",
   "metadata": {},
   "source": [
    "## 5. Create the solver and solve\n",
    "Again, everything is the same here now that we've defined our problem. Under the hood, a few different things are happening since we're solving a constrained problem instead of an unconstrained one, but the interface is the same."
   ]
  },
  {
   "cell_type": "code",
   "execution_count": 9,
   "id": "7d3b2d17",
   "metadata": {},
   "outputs": [
    {
     "name": "stdout",
     "output_type": "stream",
     "text": [
      "\u001b[32;1m\n",
      "SOLVE COMPLETED\n",
      "\u001b[0m solved using the \u001b[0m\u001b[36;1mALTRO\u001b[0m Solver,\n",
      " part of the Altro.jl package developed by the REx Lab at Stanford and Carnegie Mellon Universities\n",
      "\u001b[34;1m\n",
      "  Solve Statistics\n",
      "\u001b[0m    Total Iterations: 88\n",
      "\u001b[0m    Solve Time: 5031.943584 (ms)\n",
      "\u001b[34;1m\n",
      "  Covergence\n",
      "\u001b[0m    Terminal Cost: 1.4973195087213034\n",
      "\u001b[0m    Terminal dJ: \u001b[32m-3.934382825487859e-5\n",
      "\u001b[0m    Terminal gradient: \u001b[32m0.0006495892428091425\n",
      "\u001b[0m    Terminal constraint violation: \u001b[32m2.007421056049452e-7\n",
      "\u001b[0m    Solve Status: \u001b[1m\u001b[32mSOLVE_SUCCEEDED\n",
      "\u001b[0m"
     ]
    }
   ],
   "source": [
    "solver = ALTROSolver(prob);\n",
    "solve!(solver);"
   ]
  },
  {
   "cell_type": "markdown",
   "id": "99a18623",
   "metadata": {},
   "source": [
    "## 6. Plotting the results\n",
    "Let's look at some graphs to visualize the result. RobotDynamics provides a few plotting \"recipes\" for plotting trajectories, which we'll use with `Plots.jl` to easily generate plots of our state and control trajectories. Note that it'll take a while to generate the first plot (the infamous TTFP, or time to first plot, problem in Julia).\n",
    "\n",
    "When plotting the states, we use the keyword `inds` and pass in a range to extract out the first 2 states, which are the position of the cart and the angle of the pole."
   ]
  },
  {
   "cell_type": "code",
   "execution_count": 11,
   "id": "677dbef6",
   "metadata": {},
   "outputs": [
    {
     "data": {
      "text/plain": [
       "Plots.PyPlotBackend()"
      ]
     },
     "execution_count": 11,
     "metadata": {},
     "output_type": "execute_result"
    }
   ],
   "source": [
    "using Plots\n",
    "pyplot()"
   ]
  },
  {
   "cell_type": "code",
   "execution_count": 12,
   "id": "6c37c433",
   "metadata": {},
   "outputs": [
    {
     "data": {
      "image/png": "[encoded data removed]"
     },
     "execution_count": 12,
     "metadata": {},
     "output_type": "execute_result"
    }
   ],
   "source": [
    "plot(get_times(solver), states(solver), inds=1:2, xlabel=\"time (s)\", ylabel=\"states\")"
   ]
  },
  {
   "cell_type": "code",
   "execution_count": 13,
   "id": "0cbe3ab3",
   "metadata": {},
   "outputs": [
    {
     "data": {
      "image/png": "[encoded data removed]"
     },
     "execution_count": 13,
     "metadata": {},
     "output_type": "execute_result"
    }
   ],
   "source": [
    "plot(get_times(solver)[1:N-1], controls(solver), xlabel=\"time (s)\", ylabel=\"control\")"
   ]
  },
  {
   "cell_type": "markdown",
   "id": "3767c256",
   "metadata": {},
   "source": [
    "As you can see, we're saturating our controls and taking multiple \"pumps\" to swing up, so it's doing what we're expecting it to!"
   ]
  },
  {
   "cell_type": "markdown",
   "id": "db6c7779",
   "metadata": {},
   "source": [
    "## 7. Changing Solver Parameters\n",
    "Now let's see if we can get it to solve a little faster. As with most optimization, the convergence is affected by a wide variety of solver hyperparameters. The ones we change here are usually the best ones to play around with.\n",
    "\n",
    "\n",
    "### Convergence Criteria\n",
    "Let's start by modifying our convergence criteria. But even before that, let's check what our current criteria are:"
   ]
  },
  {
   "cell_type": "code",
   "execution_count": 14,
   "id": "5fcf3a5b",
   "metadata": {},
   "outputs": [
    {
     "data": {
      "text/plain": [
       "SolverOptions{Float64}\n",
       "  constraint_tolerance: Float64 1.0e-6\n",
       "  cost_tolerance: Float64 0.0001\n",
       "  cost_tolerance_intermediate: Float64 0.0001\n",
       "  gradient_tolerance: Float64 10.0\n",
       "  gradient_tolerance_intermediate: Float64 1.0\n",
       "  iterations_inner: Int64 300\n",
       "  dJ_counter_limit: Int64 10\n",
       "  square_root: Bool false\n",
       "  line_search_lower_bound: Float64 1.0e-8\n",
       "  line_search_upper_bound: Float64 10.0\n",
       "  iterations_linesearch: Int64 20\n",
       "  max_cost_value: Float64 1.0e8\n",
       "  max_state_value: Float64 1.0e8\n",
       "  max_control_value: Float64 1.0e8\n",
       "  static_bp: Bool true\n",
       "  save_S: Bool false\n",
       "  bp_reg: Bool false\n",
       "  bp_reg_initial: Float64 0.0\n",
       "  bp_reg_increase_factor: Float64 1.6\n",
       "  bp_reg_max: Float64 1.0e8\n",
       "  bp_reg_min: Float64 1.0e-8\n",
       "  bp_reg_type: Symbol control\n",
       "  bp_reg_fp: Float64 10.0\n",
       "  penalty_initial: Float64 1.0\n",
       "  penalty_scaling: Float64 10.0\n",
       "  active_set_tolerance_al: Float64 0.001\n",
       "  dual_max: Float64 1.0e8\n",
       "  penalty_max: Float64 1.0e8\n",
       "  iterations_outer: Int64 30\n",
       "  kickout_max_penalty: Bool false\n",
       "  reset_duals: Bool true\n",
       "  reset_penalties: Bool true\n",
       "  force_pn: Bool false\n",
       "  verbose_pn: Bool false\n",
       "  n_steps: Int64 2\n",
       "  solve_type: Symbol feasible\n",
       "  projected_newton_tolerance: Float64 0.001\n",
       "  active_set_tolerance_pn: Float64 0.001\n",
       "  multiplier_projection: Bool true\n",
       "  ρ_chol: Float64 0.01\n",
       "  ρ_primal: Float64 1.0e-8\n",
       "  ρ_dual: Float64 1.0e-8\n",
       "  r_threshold: Float64 1.1\n",
       "  projected_newton: Bool true\n",
       "  reuse_jacobians: Bool false\n",
       "  iterations: Int64 1000\n",
       "  show_summary: Bool true\n",
       "  verbose: Int64 0\n"
      ]
     },
     "execution_count": 14,
     "metadata": {},
     "output_type": "execute_result"
    }
   ],
   "source": [
    "# Get the solver options\n",
    "opts = Altro.options(solver)"
   ]
  },
  {
   "cell_type": "markdown",
   "id": "3a69709a",
   "metadata": {},
   "source": [
    "Wow, that's a lot of options! Don't worry, you'll never have to even touch most of them, but we'll cover the most important ones as we move through the rest of the examples. For now, let's look at our convergence criteria:\n",
    "* Cost Tolerance: changes in cost between interations must be less than this value\n",
    "* Constraint Tolerance: maximum constraint violation must be less than this value\n",
    "* Gradient Tolerance: the gradient of our optimality condition must be less than this value. This means we can't really make any more progress on reducing our cost. In practice, this can sometimes be difficult to satisfy, so we use a fairly large default value. Also, typically we don't care too much about minimizing the cost, since it's an arbitrary cost function that doesn't usually represent *exactly* what we want the system to do. "
   ]
  },
  {
   "cell_type": "code",
   "execution_count": 15,
   "id": "b887423d",
   "metadata": {},
   "outputs": [
    {
     "name": "stdout",
     "output_type": "stream",
     "text": [
      "opts.cost_tolerance = 0.0001\n",
      "opts.constraint_tolerance = 1.0e-6\n",
      "opts.gradient_tolerance = 10.0\n"
     ]
    }
   ],
   "source": [
    "@show opts.cost_tolerance\n",
    "@show opts.constraint_tolerance\n",
    "@show opts.gradient_tolerance;"
   ]
  },
  {
   "cell_type": "markdown",
   "id": "a6907776",
   "metadata": {},
   "source": [
    "If we want to relax (or tighten) these tolerances, we can do that in a couple of ways:\n",
    "1. When we create the solver, specify them as keyword arguments\n",
    "2. Use the `set_options!` command\n",
    "3. Modify the options structure directly\n",
    "4. Pass in a solver options struct when the solver is created (recommended)\n",
    "\n",
    "We'll demonstrate these below:"
   ]
  },
  {
   "cell_type": "code",
   "execution_count": 16,
   "id": "a50f3542",
   "metadata": {},
   "outputs": [],
   "source": [
    "# 1. As keyword arguments in the constructor\n",
    "solver = ALTROSolver(prob, cost_tolerance=1e-3, constraint_tolerance=1e-3)\n",
    "\n",
    "# 2. With the `set_options!` command\n",
    "set_options!(solver, cost_tolerance=1e-3, constraint_tolerance=1e-3)\n",
    "\n",
    "# 3. Setting them directly\n",
    "solver.opts.cost_tolerance = 1e-3\n",
    "solver.opts.constraint_tolerance = 1e-3\n",
    "\n",
    "# 4. Via Options struct\n",
    "opts = SolverOptions(cost_tolerance=1e-3)  # set in constructor\n",
    "opts.constraint_tolerance = 1e-3           # OR set afterwards\n",
    "solver = ALTROSolver(prob, opts);"
   ]
  },
  {
   "cell_type": "markdown",
   "id": "2a4fd626",
   "metadata": {},
   "source": [
    "Let's solve it again and compare it with the solve with the default tolerances:"
   ]
  },
  {
   "cell_type": "code",
   "execution_count": 17,
   "id": "174fefe9",
   "metadata": {},
   "outputs": [
    {
     "name": "stdout",
     "output_type": "stream",
     "text": [
      "\u001b[32;1m\n",
      "SOLVE COMPLETED\n",
      "\u001b[0m solved using the \u001b[0m\u001b[36;1mALTRO\u001b[0m Solver,\n",
      " part of the Altro.jl package developed by the REx Lab at Stanford and Carnegie Mellon Universities\n",
      "\u001b[34;1m\n",
      "  Solve Statistics\n",
      "\u001b[0m    Total Iterations: 88\n",
      "\u001b[0m    Solve Time: 9.098637 (ms)\n",
      "\u001b[34;1m\n",
      "  Covergence\n",
      "\u001b[0m    Terminal Cost: 1.4973195087213034\n",
      "\u001b[0m    Terminal dJ: \u001b[32m-3.934382825487859e-5\n",
      "\u001b[0m    Terminal gradient: \u001b[32m0.0006495892428091425\n",
      "\u001b[0m    Terminal constraint violation: \u001b[32m2.007421056049452e-7\n",
      "\u001b[0m    Solve Status: \u001b[1m\u001b[32mSOLVE_SUCCEEDED\n",
      "\u001b[0m"
     ]
    }
   ],
   "source": [
    "solver = ALTROSolver(prob)\n",
    "initial_controls!(solver, U0)\n",
    "solve!(solver);"
   ]
  },
  {
   "cell_type": "code",
   "execution_count": 18,
   "id": "e3e0d817",
   "metadata": {},
   "outputs": [
    {
     "name": "stdout",
     "output_type": "stream",
     "text": [
      "\u001b[32;1m\n",
      "SOLVE COMPLETED\n",
      "\u001b[0m solved using the \u001b[0m\u001b[36;1mALTRO\u001b[0m Solver,\n",
      " part of the Altro.jl package developed by the REx Lab at Stanford and Carnegie Mellon Universities\n",
      "\u001b[34;1m\n",
      "  Solve Statistics\n",
      "\u001b[0m    Total Iterations: 87\n",
      "\u001b[0m    Solve Time: 8.101683999999999 (ms)\n",
      "\u001b[34;1m\n",
      "  Covergence\n",
      "\u001b[0m    Terminal Cost: 1.4972801648930485\n",
      "\u001b[0m    Terminal dJ: \u001b[32m2.0311150522145383e-5\n",
      "\u001b[0m    Terminal gradient: \u001b[32m0.005411044600531603\n",
      "\u001b[0m    Terminal constraint violation: \u001b[32m0.0002642553927056923\n",
      "\u001b[0m    Solve Status: \u001b[1m\u001b[32mSOLVE_SUCCEEDED\n",
      "\u001b[0m"
     ]
    }
   ],
   "source": [
    "solver2 = ALTROSolver(copy(prob), opts)  # note the copy around the problem, since by default it'll use the same trajectories\n",
    "initial_controls!(solver2, U0)\n",
    "solve!(solver2);"
   ]
  },
  {
   "cell_type": "markdown",
   "id": "c45030a8",
   "metadata": {},
   "source": [
    "You'll see that we only took one less iteration, but that the terminal constraint and gradient values are larger. We can query the max violation directly from the solver:"
   ]
  },
  {
   "cell_type": "code",
   "execution_count": 19,
   "id": "0a59efe6",
   "metadata": {},
   "outputs": [
    {
     "name": "stdout",
     "output_type": "stream",
     "text": [
      "max_violation(solver) = 2.007421056049452e-7\n",
      "max_violation(solver2) = 0.0002642553927056923\n"
     ]
    }
   ],
   "source": [
    "@show max_violation(solver)\n",
    "@show max_violation(solver2);"
   ]
  },
  {
   "cell_type": "markdown",
   "id": "a0a11a1d",
   "metadata": {},
   "source": [
    "If we want a more info on *where* the max violation is, we can use `TrajectoryOptimization.findmax_violation`:"
   ]
  },
  {
   "cell_type": "code",
   "execution_count": 20,
   "id": "33c106ea",
   "metadata": {},
   "outputs": [
    {
     "data": {
      "text/plain": [
       "\"typename(GoalConstraint) at time step 101 at index 2\""
      ]
     },
     "execution_count": 20,
     "metadata": {},
     "output_type": "execute_result"
    }
   ],
   "source": [
    "TrajectoryOptimization.findmax_violation(solver2)"
   ]
  },
  {
   "cell_type": "markdown",
   "id": "e551a9b8",
   "metadata": {},
   "source": [
    "Which tells us that the max violation is due to the goal constraint at the last time step at index 2, which is the pendulum angle.\n",
    "\n",
    "### Improving the Solve\n",
    "So we saw that changing the convergence criteria didn't really change things too much for us. Let's see if we can change how the solver converges during the solve, not just at the end. The parameters we change should be your go-to parameters for performance tuning ALTRO. Note that we changed the verbosity level to `1` to print out just the outer loop iterations. Changing it to `2` will print out the iLQR iterations as well."
   ]
  },
  {
   "cell_type": "code",
   "execution_count": 21,
   "id": "a3603b97",
   "metadata": {},
   "outputs": [
    {
     "name": "stderr",
     "output_type": "stream",
     "text": [
      "\u001b[33m\u001b[1miter  total  c_max       cost      penalty   info                                              \u001b[22m\u001b[39m\n",
      "\u001b[33m\u001b[1m-----------------------------------------------------------------------------------------------\u001b[22m\u001b[39m\n",
      "1     34      0.02568411  1.562007  1        \n",
      "2     35      0.02215689  1.571363  10       \n",
      "3     37      0.01279985  1.565029  100      \n"
     ]
    },
    {
     "name": "stdout",
     "output_type": "stream",
     "text": [
      "\u001b[32;1m\n",
      "SOLVE COMPLETED\n",
      "\u001b[0m solved using the \u001b[0m\u001b[36;1mALTRO\u001b[0m Solver,\n",
      " part of the Altro.jl package developed by the REx Lab at Stanford and Carnegie Mellon Universities\n",
      "\u001b[34;1m\n",
      "  Solve Statistics\n",
      "\u001b[0m    Total Iterations: 40\n",
      "\u001b[0m    Solve Time: 797.8342799999999 (ms)\n",
      "\u001b[34;1m\n",
      "  Covergence\n",
      "\u001b[0m    Terminal Cost: 1.5525585573254304\n",
      "\u001b[0m    Terminal dJ: \u001b[32m-0.0010405745407844336\n",
      "\u001b[0m    Terminal gradient: \u001b[32m0.0031063488952173747\n",
      "\u001b[0m    Terminal constraint violation: \u001b[32m3.4246685487460127e-9\n",
      "\u001b[0m    Solve Status: \u001b[1m\u001b[32mSOLVE_SUCCEEDED\n",
      "\u001b[0m"
     ]
    },
    {
     "name": "stderr",
     "output_type": "stream",
     "text": [
      "4     39      0.00048612  1.551518  1000     \n"
     ]
    }
   ],
   "source": [
    "opts = SolverOptions(\n",
    "    cost_tolerance_intermediate=1e-2,\n",
    "    penalty_scaling=10.,\n",
    "    penalty_initial=1.0,\n",
    "    verbose=1,\n",
    ")\n",
    "solver3 = ALTROSolver(copy(prob), opts)\n",
    "initial_controls!(solver3, U0)\n",
    "solve!(solver3);"
   ]
  },
  {
   "cell_type": "markdown",
   "id": "82b7c985",
   "metadata": {},
   "source": [
    "We more than halved the number of iterations! For tuning these parameters, we've found the following rules of thumb to be helpful:\n",
    "* Change `penalty_initial` first. If solving an unconstrained version of your problem will give you a good initial guess, make it small (e.g. 1e-3). If you've provided a good initial guess that is mostly feasible, use a higher penalty (e.g. 1e3).\n",
    "* Relaxing `cost_tolerance_intermediate` means that the iLQR iterations won't converge tightly every time, so you'll take more outer loop iterations. This can be helpful to crank down on constraint tolerances quickly. Generally keep this the same or nearly the same as `constraint_tolerance`, and only it change it at the end when you want to dial in the last bit of performance.\n",
    "* Increase `penalty_scaling` between 10-100 (sometimes a little more) last. This will help drive the constraint violations down quickly, but can result in premature ill-conditioning if your penalty values get too large."
   ]
  }
 ],
 "metadata": {
  "kernelspec": {
   "display_name": "Julia 1.6.0",
   "language": "julia",
   "name": "julia-1.6"
  },
  "language_info": {
   "file_extension": ".jl",
   "mimetype": "application/julia",
   "name": "julia",
   "version": "1.6.0"
  }
 },
 "nbformat": 4,
 "nbformat_minor": 5
}
