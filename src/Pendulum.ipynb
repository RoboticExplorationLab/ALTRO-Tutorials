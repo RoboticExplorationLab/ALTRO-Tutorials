{
 "cells": [
  {
   "cell_type": "markdown",
   "id": "0d3f2935-2ace-4cd1-a0be-a09719cb3e9b",
   "metadata": {},
   "source": [
    "# Pendulum: Getting Started"
   ]
  },
  {
   "cell_type": "code",
   "execution_count": 3,
   "id": "08e1507b-6b21-438c-94e1-8aa7d64f267b",
   "metadata": {},
   "outputs": [],
   "source": [
    "import Pkg; Pkg.activate(joinpath(@__DIR__, \"..\")); Pkg.instantiate();\n",
    "using Altro\n",
    "using TrajectoryOptimization\n",
    "using RobotDynamics"
   ]
  },
  {
   "cell_type": "markdown",
   "id": "7b43c319-0ece-454f-80c9-70d97cd5858b",
   "metadata": {},
   "source": [
    "## 1. Defining the Dynamics Model\n",
    "The first step of setting up and solving a trajectory optimization problem is usually defining the dynamics model you want to use. All dynamics models used by TrajectoryOptimization and Altro are defined using RobotDynamics. Here we set up a dynamics model for the simple pendulum.\n",
    "\n",
    "The first step is to create a new `struct` that is a sub-type of `RobotDynamics.AbstractModel`. In Julia, sub-typing is similar to inheritance, in that any methods that work on parent types work on the child types. Additionally, Julia will automatically find the method that matches the most specific method for the argument type(s), similar to virtual methods in C++. Therefore, by defining our new type to be a sub-type of `RobotDynamics.AbstractModel` we allow it to be used anywhere an `AbstractModel` is expected. Additionally, we're expected to define a few methods for our type to flush out the interface (similar to defining a pure virtual function in C++).\n",
    "\n",
    "We can add any model parameters to the new `struct` we have created, such as the mass, length, friction coefficient, etc. Remember to annotate the types on all member variables."
   ]
  },
  {
   "cell_type": "code",
   "execution_count": 5,
   "id": "d1cbe3d8-5f23-4fda-a371-af0a6e9621df",
   "metadata": {},
   "outputs": [],
   "source": [
    "struct Pendulum <: AbstractModel\n",
    "    mass::Float64\n",
    "    length::Float64\n",
    "    b::Float64\n",
    "    lc::Float64\n",
    "    I::Float64\n",
    "    g::Float64\n",
    "end"
   ]
  },
  {
   "cell_type": "markdown",
   "id": "30ad46c2-60c2-41a8-961b-2bb821f8bc9f",
   "metadata": {},
   "source": [
    "Often we want to define a default constructor for our model that supplies default values. We'll define an *outer* constructor taking keyword arguments corresponding to our data fields. It then calls the default *inner* constructor, which expects the positional arguments for all the fields, in the order they are declared in the struct. Note that the leading semi-colon in the argument list specifies that all the following arguments are keyword arguments. Unlike Python, these *must* be supplied as keyword arguments, e.g. `Pendulum(b=0.2)`. We'll demonstrate an easier way to define default values in the next example."
   ]
  },
  {
   "cell_type": "code",
   "execution_count": 6,
   "id": "872250de-f6df-48a7-9b4b-bbb93b5d3f73",
   "metadata": {},
   "outputs": [
    {
     "data": {
      "text/plain": [
       "Pendulum"
      ]
     },
     "execution_count": 6,
     "metadata": {},
     "output_type": "execute_result"
    }
   ],
   "source": [
    "# default constructor with default keyword arguments\n",
    "function Pendulum(; mass=1.0, length=0.5, b=0.1, lc=0.5, I=0.25, g=9.81)\n",
    "    Pendulum(mass, length, b, lc, I, g)  # call default \"inner\" constructor\n",
    "end"
   ]
  },
  {
   "cell_type": "markdown",
   "id": "a9ef4bd3-6de8-4270-b48b-ad5c293b857c",
   "metadata": {},
   "source": [
    "Now we need to flush out the interface, which expects us to \"overload\" the following methods on our type:\n",
    "* `RobotDynamics.state_dim(::NewModel)`\n",
    "* `RobotDynamics.control_dim(::NewModel)`\n",
    "* `RobotDynamics.dynamics(::NewModel, x, u, [t])`\n",
    "\n",
    "where the `t` argument for the dynamics is optional, and can be used for time-varying dynamics. When we define these methods, we have to tell Julia that we're overloading the methods in RobotDynamics. We can do this by either 1) explicitly specifying the module (`RobotDynamics`) when defining the method, or 2) importing the method via `import RobotDynamics.MethodToOverride`. We'll show both approaches below:"
   ]
  },
  {
   "cell_type": "code",
   "execution_count": 8,
   "id": "f9e6cd17-a50d-4a0e-ae75-796250420de7",
   "metadata": {},
   "outputs": [
    {
     "data": {
      "text/plain": [
       "dynamics (generic function with 21 methods)"
      ]
     },
     "execution_count": 8,
     "metadata": {},
     "output_type": "execute_result"
    }
   ],
   "source": [
    "import RobotDynamics.dynamics\n",
    "# import RobotDynamics: dynamics, state_dim, control_dim (alternative with multiple imports)\n",
    "\n",
    "# Explicitly define the module to override (recommended)\n",
    "RobotDynamics.state_dim(::Pendulum) = 2\n",
    "RobotDynamics.control_dim(::Pendulum) = 1\n",
    "\n",
    "# Use the imported function (not recommended, since it isn't as clear that you're overriding an existing method)\n",
    "function dynamics(p::Pendulum, x, u)\n",
    "    m = p.mass * p.lc * p.lc\n",
    "    xdot = [x[2], u[1]/m - p.g*sin(x[1])/p.lc - p.b*x[2]/m]\n",
    "    return xdot  # this line is optional, since Julia returns the last expression, by default\n",
    "end"
   ]
  },
  {
   "cell_type": "markdown",
   "id": "5eb4a64a-f3b6-4ed7-bb46-b1ad516cc7f8",
   "metadata": {},
   "source": [
    "And with that, we've defined our dynamics model!"
   ]
  },
  {
   "cell_type": "markdown",
   "id": "982c219f-df63-4e3e-8944-cd5f277b9460",
   "metadata": {},
   "source": [
    "## 2. Defining our Cost Function\n",
    "We'll now define our cost function, which will be a basic quadratic cost penalizing the distance to the goal:\n",
    "$$ \\frac{1}{2} (x_N - \\bar{x}_N)^T Q_N (x_N - \\bar{x}_N) + \\frac{1}{2}\\sum_{k=1}^{N-1} (x_k - \\bar{x}_N)^T Q (x_k - \\bar{x}_N) + u_k^T R u_k $$\n",
    "where $\\bar{x}_N$ is the goal state.\n",
    "\n",
    "We start be first creating an instance of our model, since it tells us our state and control dimensions. We also need to define the length of our trajectory, both in time (seconds) and the number of knot points (sample points)."
   ]
  },
  {
   "cell_type": "code",
   "execution_count": 11,
   "id": "44dee430-0bff-4cb7-8d43-12adccd266cd",
   "metadata": {},
   "outputs": [
    {
     "data": {
      "text/plain": [
       "3.0"
      ]
     },
     "execution_count": 11,
     "metadata": {},
     "output_type": "execute_result"
    }
   ],
   "source": [
    "# Create a pendulum model\n",
    "model = Pendulum()\n",
    "\n",
    "# Get the model sizes\n",
    "n = state_dim(model)\n",
    "m = control_dim(model)\n",
    "\n",
    "# Define the discretization\n",
    "N = 51\n",
    "tf = 3.0"
   ]
  },
  {
   "cell_type": "markdown",
   "id": "90d2ca97-1a48-4709-8b35-a0d789f02d14",
   "metadata": {},
   "source": [
    "We can now define our cost matrices, $Q_N$, $Q$, and $R$, as well our final state $\\bar{x}_N$. These are almost always diagonal, positive-definite matrices. To leverage this structure, we define them using the `Diagonal` matrix type in the `LinearAlgebra` package in the Julia standard library."
   ]
  },
  {
   "cell_type": "code",
   "execution_count": 13,
   "id": "3dd189fc-34b6-4691-8aa0-a0b3d5444d6c",
   "metadata": {},
   "outputs": [],
   "source": [
    "using LinearAlgebra\n",
    "\n",
    "Q = 1e-3*Diagonal(ones(n))\n",
    "R = 1e-3*Diagonal(ones(m))\n",
    "Qf = 1e-0*Diagonal(ones(n))\n",
    "xf = [pi, 0.0];  # i.e. swing up"
   ]
  },
  {
   "cell_type": "markdown",
   "id": "429897d1-eb71-4ffe-8bb2-9f093cb90a9d",
   "metadata": {},
   "source": [
    "With those defined, we now have all we need to define our cost function. We'll use the conventient [`LQRObjective`](http://roboticexplorationlab.org/TrajectoryOptimization.jl/dev/cost_api.html#TrajectoryOptimization.LQRObjective) constructor in TrajectoryOptimization.jl (see docs for more details)."
   ]
  },
  {
   "cell_type": "code",
   "execution_count": 14,
   "id": "0a65a2bc-5b26-4770-9da5-9b473d8b9b57",
   "metadata": {},
   "outputs": [],
   "source": [
    "obj = LQRObjective(Q,R,Qf,xf,N);"
   ]
  },
  {
   "cell_type": "markdown",
   "id": "54fd2f0b-3eab-448c-b47c-4909b14e1e04",
   "metadata": {},
   "source": [
    "The `Objective` object we just created holds an individual `CostFunction` for each knot point. We can extract those simply by indexing into the object, i.e. `obj[k]`. It defines methods for evaluating the cost and it's first and second-order derivatives."
   ]
  },
  {
   "cell_type": "markdown",
   "id": "15e7736c-33e4-48d2-a351-1ace7fe26c9b",
   "metadata": {},
   "source": [
    "## 3. Defining the Problem\n",
    "With our dynamics and cost function, we're now ready to set up and solve our first trajectory optimization problem! We do this using the aptly-named `TrajectoryOptimization.Problem` type. The constructor for this objective is quite friendly and offers several different convenient forms, but you'll almost always call it as follows:"
   ]
  },
  {
   "cell_type": "code",
   "execution_count": 20,
   "id": "a4e5a8cf-0c41-450d-992e-52ef5cfd33ae",
   "metadata": {},
   "outputs": [],
   "source": [
    "# Initial state\n",
    "x0 = [0.0, 0.0]\n",
    "\n",
    "# Define the problem\n",
    "prob_pendulum = Problem(model, obj, xf, tf, x0=x0);"
   ]
  },
  {
   "cell_type": "markdown",
   "id": "49b23a4f-1391-4053-af04-eb8556380dee",
   "metadata": {},
   "source": [
    "## 4. Setting the initial guess\n",
    "As with all gradient-based nonlinear optimization, the initial guess is extremely important. By default, Altro (which uses iLQR for unconstrained problems like this), only accepts initial guesses for the control trajectory. We'll provide a simple guess that applies a small torque in one direction for the duration of the trajectory."
   ]
  },
  {
   "cell_type": "code",
   "execution_count": 21,
   "id": "4bf44bf6-baea-4777-9e90-e1f623210668",
   "metadata": {},
   "outputs": [],
   "source": [
    "# Define the initial guess\n",
    "U0 = [fill(0.1, m) for k = 1:N-1]\n",
    "\n",
    "# Set the initial guess for the problem\n",
    "initial_controls!(prob_pendulum, U0)"
   ]
  },
  {
   "cell_type": "markdown",
   "id": "9568fec6-5447-43a6-9406-1c8bb9fda810",
   "metadata": {},
   "source": [
    "**A Note on Trajectory Representation**: Note that by default all trajectories in TrajectoryOptimization.jl are defined as vectors of (static) vectors. Don't worry about the static vectors for now, since we'll cover that in shortly. Instead of storing the trajectory as a 2D array, we avoid the overhead of slicing at runtime every time we need a state or control at a time step by defining them as separate vectors. Several methods in the API accept either vectors of vectors or 2D arrays, and `initial_controls!` is one of those. We demonstrate that below, along with an example of how to easily convert back and forth between these representations."
   ]
  },
  {
   "cell_type": "code",
   "execution_count": 46,
   "id": "ed68ab7b-8fda-4e14-9f7b-98bf4cf4f75e",
   "metadata": {},
   "outputs": [],
   "source": [
    "# convert from vector of vectors to 2D array\n",
    "U0_mat = hcat(U0...)  # uses splatting\n",
    "\n",
    "# pass to problem\n",
    "initial_controls!(prob_pendulum, U0_mat)\n",
    "\n",
    "# convert back to a vector of vectors\n",
    "U0_vecvec = [u for u in eachcol(U0_mat)];  # uses list comprehension"
   ]
  },
  {
   "cell_type": "markdown",
   "id": "fe24a53c-7c02-425d-9ba9-3936faa5cafd",
   "metadata": {},
   "source": [
    "**A note on methods that end with a bang!** Methods that end with a bang symbol (!) aren't more exciting than other methods, it's just Julia convention for *mutuating* functions. For example, if you want to sort a list of numbers, you can use either `sort` which returns a new array, or you can sort in place using `sort!`:"
   ]
  },
  {
   "cell_type": "code",
   "execution_count": 40,
   "id": "1c733c14-0c3b-412c-bad9-8f56547f19f1",
   "metadata": {},
   "outputs": [
    {
     "name": "stdout",
     "output_type": "stream",
     "text": [
      "Use `sort`\n",
      "list_sorted = [1, 2, 4, 5]\n",
      "list = [1, 5, 2, 4]\n",
      "list_sorted === list = false\n",
      "\n",
      "Use `sort!`\n",
      "list_sort!ed = [1, 2, 4, 5]\n",
      "list = [1, 2, 4, 5]\n",
      "list_sort!ed === list = true\n"
     ]
    }
   ],
   "source": [
    "list = [1,5,2,4]\n",
    "list_sorted = sort(list)\n",
    "println(\"Use `sort`\")\n",
    "@show list_sorted\n",
    "@show list\n",
    "@show list_sorted === list;  # test if they point to the same place in memory\n",
    "println(\"\\nUse `sort!`\")\n",
    "list_sort!ed = sort!(list)\n",
    "@show list_sort!ed\n",
    "@show list\n",
    "@show list_sort!ed === list; # test if they point to the same place in memory"
   ]
  },
  {
   "cell_type": "markdown",
   "id": "16b4a167-d35a-4622-af73-2dd8356a4a21",
   "metadata": {},
   "source": [
    "## 5. Creating the Solver\n",
    "Now that we have a problem, complete with an initial guess, let's create our solver. It might take a few seconds the first time.\n",
    "\n",
    "When we create the solver, it allocates a bunch of storage for all the expansions, costs, dynamics, etc. The solver object acts similarly to a `Problem` object, in that we can extract the state and contorl trajectories, query the cost, provide an initial guess, change the initial state, etc. We'll cover more of these methods as we go through later examples."
   ]
  },
  {
   "cell_type": "code",
   "execution_count": 47,
   "id": "553fe0e4-56b5-4486-af34-6a78d0c90e39",
   "metadata": {},
   "outputs": [],
   "source": [
    "# Create an Altro solver for our problem\n",
    "solver = ALTROSolver(prob_pendulum);"
   ]
  },
  {
   "cell_type": "markdown",
   "id": "588e2a7e-8a16-4323-8b70-62107d881a88",
   "metadata": {},
   "source": [
    "## 6. Solve the problem\n",
    "We're now ready to solve our problem, and it's as easy as calling the `solve!` method. Again, it might take a few seconds the first time."
   ]
  },
  {
   "cell_type": "code",
   "execution_count": 48,
   "id": "9d223845-dfeb-4594-8d4a-458442540ba2",
   "metadata": {},
   "outputs": [
    {
     "name": "stdout",
     "output_type": "stream",
     "text": [
      "\u001b[32;1m\n",
      "SOLVE COMPLETED\n",
      "\u001b[0m solved using the \u001b[0m\u001b[36;1mALTRO\u001b[0m Solver,\n",
      " part of the Altro.jl package developed by the REx Lab at Stanford and Carnegie Mellon Universities\n",
      "\u001b[34;1m\n",
      "  Solve Statistics\n",
      "\u001b[0m    Total Iterations: 44\n",
      "\u001b[0m    Solve Time: 2.3410699999999998 (ms)\n",
      "\u001b[34;1m\n",
      "  Covergence\n",
      "\u001b[0m    Terminal Cost: 0.013858301324225965\n",
      "\u001b[0m    Terminal dJ: \u001b[32m7.610875539241016e-5\n",
      "\u001b[0m    Terminal gradient: \u001b[32m0.014192639231066964\n",
      "\u001b[0m    Solve Status: \u001b[1m\u001b[32mSOLVE_SUCCEEDED\n",
      "\u001b[0m"
     ]
    }
   ],
   "source": [
    "solve!(solver);"
   ]
  },
  {
   "cell_type": "markdown",
   "id": "d8914d2d-ce0c-4e83-88b4-1bd3060e693f",
   "metadata": {},
   "source": [
    "Note that the `solve!` method ends with a bang symbol (!). This means that it modifies its trajectory in place. If we extract out the control vector we'll see that it's no longer the guess we provided:"
   ]
  },
  {
   "cell_type": "code",
   "execution_count": 50,
   "id": "1ef26305-fe2a-47e0-931f-9fab9f840ea4",
   "metadata": {},
   "outputs": [
    {
     "data": {
      "text/plain": [
       "1×50 adjoint(::Vector{StaticArrays.SVector{1, Float64}}) with eltype Adjoint{Float64, StaticArrays.SVector{1, Float64}}:\n",
       " [2.33418]  [2.86693]  [3.40326]  [3.91253]  …  [-0.0112322]  [-0.0188922]"
      ]
     },
     "execution_count": 50,
     "metadata": {},
     "output_type": "execute_result"
    }
   ],
   "source": [
    "controls(solver)'"
   ]
  },
  {
   "cell_type": "markdown",
   "id": "7bc37a40-fee0-4894-b76e-bc6e998f162d",
   "metadata": {},
   "source": [
    "So if we call the `solve!` method again, it will be using the answer as the initial guess, it now only takes 1 iteration:"
   ]
  },
  {
   "cell_type": "code",
   "execution_count": 53,
   "id": "ccf86364-5644-42e8-bbcf-daf126aa9383",
   "metadata": {},
   "outputs": [
    {
     "name": "stdout",
     "output_type": "stream",
     "text": [
      "\u001b[32;1m\n",
      "SOLVE COMPLETED\n",
      "\u001b[0m solved using the \u001b[0m\u001b[36;1mALTRO\u001b[0m Solver,\n",
      " part of the Altro.jl package developed by the REx Lab at Stanford and Carnegie Mellon Universities\n",
      "\u001b[34;1m\n",
      "  Solve Statistics\n",
      "\u001b[0m    Total Iterations: 1\n",
      "\u001b[0m    Solve Time: 0.13196 (ms)\n",
      "\u001b[34;1m\n",
      "  Covergence\n",
      "\u001b[0m    Terminal Cost: 0.0137887736277123\n",
      "\u001b[0m    Terminal dJ: \u001b[32m8.837552608548585e-6\n",
      "\u001b[0m    Terminal gradient: \u001b[32m0.004578379437119302\n",
      "\u001b[0m    Solve Status: \u001b[1m\u001b[32mSOLVE_SUCCEEDED\n",
      "\u001b[0m"
     ]
    }
   ],
   "source": [
    "solve!(solver);"
   ]
  },
  {
   "cell_type": "markdown",
   "id": "477dda4e-2130-4697-949a-df3423a2d8d4",
   "metadata": {},
   "source": [
    "If you want to re-run the initial solve, you'll have to reset the initial guess:"
   ]
  },
  {
   "cell_type": "code",
   "execution_count": 55,
   "id": "e9bb80cc-a5b6-4799-a10b-3663686a0b26",
   "metadata": {},
   "outputs": [
    {
     "name": "stdout",
     "output_type": "stream",
     "text": [
      "\u001b[32;1m\n",
      "SOLVE COMPLETED\n",
      "\u001b[0m solved using the \u001b[0m\u001b[36;1mALTRO\u001b[0m Solver,\n",
      " part of the Altro.jl package developed by the REx Lab at Stanford and Carnegie Mellon Universities\n",
      "\u001b[34;1m\n",
      "  Solve Statistics\n",
      "\u001b[0m    Total Iterations: 44\n",
      "\u001b[0m    Solve Time: 3.077326 (ms)\n",
      "\u001b[34;1m\n",
      "  Covergence\n",
      "\u001b[0m    Terminal Cost: 0.013858301324225965\n",
      "\u001b[0m    Terminal dJ: \u001b[32m7.610875539241016e-5\n",
      "\u001b[0m    Terminal gradient: \u001b[32m0.014192639231066964\n",
      "\u001b[0m    Solve Status: \u001b[1m\u001b[32mSOLVE_SUCCEEDED\n",
      "\u001b[0m"
     ]
    }
   ],
   "source": [
    "initial_controls!(solver, U0)\n",
    "solve!(solver);"
   ]
  },
  {
   "cell_type": "markdown",
   "id": "ee37f1b7-ffda-4f73-9936-f062271712ac",
   "metadata": {},
   "source": [
    "## 7. Post-processing\n",
    "Now that we've solved our problem, let's extract out some information. The code block below demonstrates several different useful methods:"
   ]
  },
  {
   "cell_type": "code",
   "execution_count": 58,
   "id": "dd4e7353-dcf4-40e3-9a39-d41361213372",
   "metadata": {},
   "outputs": [
    {
     "name": "stdout",
     "output_type": "stream",
     "text": [
      "\u001b[32;1m\n",
      "SOLVE COMPLETED\n",
      "\u001b[0m solved using the \u001b[0m\u001b[36;1mALTRO\u001b[0m Solver,\n",
      " part of the Altro.jl package developed by the REx Lab at Stanford and Carnegie Mellon Universities\n",
      "\u001b[34;1m\n",
      "  Solve Statistics\n",
      "\u001b[0m    Total Iterations: 44\n",
      "\u001b[0m    Solve Time: 3.077326 (ms)\n",
      "\u001b[34;1m\n",
      "  Covergence\n",
      "\u001b[0m    Terminal Cost: 0.013858301324225965\n",
      "\u001b[0m    Terminal dJ: \u001b[32m7.610875539241016e-5\n",
      "\u001b[0m    Terminal gradient: \u001b[32m0.014192639231066964\n",
      "\u001b[0m    Solve Status: \u001b[1m\u001b[32mSOLVE_SUCCEEDED\n",
      "\u001b[0m"
     ]
    }
   ],
   "source": [
    "# get the solver iterations\n",
    "iters = iterations(solver)\n",
    "\n",
    "# get the state trajectory\n",
    "X_sol = states(solver)\n",
    "\n",
    "# get the control trajectory\n",
    "U_sol = controls(solver)\n",
    "\n",
    "# get the final cost\n",
    "J_final = cost(solver)\n",
    "\n",
    "# print the summary\n",
    "Altro.print_summary(solver)"
   ]
  },
  {
   "cell_type": "markdown",
   "id": "a64b7fa6-7db1-40ca-883b-72646ea37c69",
   "metadata": {},
   "source": [
    "If you want to extract out intermediate values, you can extract out the `SolverStats` type which containts a bunch of info logged during the solve:"
   ]
  },
  {
   "cell_type": "code",
   "execution_count": 70,
   "id": "5d25e494-3948-4b94-acdb-3121dd2aa1a4",
   "metadata": {},
   "outputs": [
    {
     "data": {
      "image/svg+xml": [
       "<?xml version=\"1.0\" encoding=\"utf-8\"?>\n",
       "<svg xmlns=\"http://www.w3.org/2000/svg\" xmlns:xlink=\"http://www.w3.org/1999/xlink\" width=\"150\" height=\"100\" viewBox=\"0 0 600 400\">\n",
       "<defs>\n",
       "  <clipPath id=\"clip850\">\n",
       "    <rect x=\"0\" y=\"0\" width=\"600\" height=\"400\"/>\n",
       "  </clipPath>\n",
       "</defs>\n",
       "<path clip-path=\"url(#clip850)\" d=\"\n",
       "M0 400 L600 400 L600 0 L0 0  Z\n",
       "  \" fill=\"#ffffff\" fill-rule=\"evenodd\" fill-opacity=\"1\"/>\n",
       "<defs>\n",
       "  <clipPath id=\"clip851\">\n",
       "    <rect x=\"120\" y=\"0\" width=\"421\" height=\"400\"/>\n",
       "  </clipPath>\n",
       "</defs>\n",
       "<path clip-path=\"url(#clip850)\" d=\"\n",
       "M68.285 355.795 L588.189 355.795 L588.189 11.811 L68.285 11.811  Z\n",
       "  \" fill=\"#ffffff\" fill-rule=\"evenodd\" fill-opacity=\"1\"/>\n",
       "<defs>\n",
       "  <clipPath id=\"clip852\">\n",
       "    <rect x=\"68\" y=\"11\" width=\"521\" height=\"345\"/>\n",
       "  </clipPath>\n",
       "</defs>\n",
       "<polyline clip-path=\"url(#clip852)\" style=\"stroke:#000000; stroke-width:0.5; stroke-opacity:0.1; fill:none\" points=\"\n",
       "  71.5929,355.795 71.5929,11.811 \n",
       "  \"/>\n",
       "<polyline clip-path=\"url(#clip852)\" style=\"stroke:#000000; stroke-width:0.5; stroke-opacity:0.1; fill:none\" points=\"\n",
       "  185.657,355.795 185.657,11.811 \n",
       "  \"/>\n",
       "<polyline clip-path=\"url(#clip852)\" style=\"stroke:#000000; stroke-width:0.5; stroke-opacity:0.1; fill:none\" points=\"\n",
       "  299.721,355.795 299.721,11.811 \n",
       "  \"/>\n",
       "<polyline clip-path=\"url(#clip852)\" style=\"stroke:#000000; stroke-width:0.5; stroke-opacity:0.1; fill:none\" points=\"\n",
       "  413.785,355.795 413.785,11.811 \n",
       "  \"/>\n",
       "<polyline clip-path=\"url(#clip852)\" style=\"stroke:#000000; stroke-width:0.5; stroke-opacity:0.1; fill:none\" points=\"\n",
       "  527.849,355.795 527.849,11.811 \n",
       "  \"/>\n",
       "<polyline clip-path=\"url(#clip850)\" style=\"stroke:#000000; stroke-width:1; stroke-opacity:1; fill:none\" points=\"\n",
       "  68.285,355.795 588.189,355.795 \n",
       "  \"/>\n",
       "<polyline clip-path=\"url(#clip850)\" style=\"stroke:#000000; stroke-width:1; stroke-opacity:1; fill:none\" points=\"\n",
       "  71.5929,355.795 71.5929,351.667 \n",
       "  \"/>\n",
       "<polyline clip-path=\"url(#clip850)\" style=\"stroke:#000000; stroke-width:1; stroke-opacity:1; fill:none\" points=\"\n",
       "  185.657,355.795 185.657,351.667 \n",
       "  \"/>\n",
       "<polyline clip-path=\"url(#clip850)\" style=\"stroke:#000000; stroke-width:1; stroke-opacity:1; fill:none\" points=\"\n",
       "  299.721,355.795 299.721,351.667 \n",
       "  \"/>\n",
       "<polyline clip-path=\"url(#clip850)\" style=\"stroke:#000000; stroke-width:1; stroke-opacity:1; fill:none\" points=\"\n",
       "  413.785,355.795 413.785,351.667 \n",
       "  \"/>\n",
       "<polyline clip-path=\"url(#clip850)\" style=\"stroke:#000000; stroke-width:1; stroke-opacity:1; fill:none\" points=\"\n",
       "  527.849,355.795 527.849,351.667 \n",
       "  \"/>\n",
       "<path clip-path=\"url(#clip850)\" d=\"M 0 0 M71.5929 363.093 Q70.6901 363.093 70.2329 363.984 Q69.7815 364.869 69.7815 366.652 Q69.7815 368.428 70.2329 369.319 Q70.6901 370.205 71.5929 370.205 Q72.5014 370.205 72.9528 369.319 Q73.41 368.428 73.41 366.652 Q73.41 364.869 72.9528 363.984 Q72.5014 363.093 71.5929 363.093 M71.5929 362.167 Q73.0454 362.167 73.8093 363.318 Q74.579 364.464 74.579 366.652 Q74.579 368.833 73.8093 369.985 Q73.0454 371.131 71.5929 371.131 Q70.1403 371.131 69.3706 369.985 Q68.6068 368.833 68.6068 366.652 Q68.6068 364.464 69.3706 363.318 Q70.1403 362.167 71.5929 362.167 Z\" fill=\"#000000\" fill-rule=\"evenodd\" fill-opacity=\"1\" /><path clip-path=\"url(#clip850)\" d=\"M 0 0 M179.876 369.979 L181.785 369.979 L181.785 363.388 L179.708 363.804 L179.708 362.74 L181.774 362.323 L182.943 362.323 L182.943 369.979 L184.853 369.979 L184.853 370.963 L179.876 370.963 L179.876 369.979 Z\" fill=\"#000000\" fill-rule=\"evenodd\" fill-opacity=\"1\" /><path clip-path=\"url(#clip850)\" d=\"M 0 0 M188.62 363.093 Q187.717 363.093 187.26 363.984 Q186.809 364.869 186.809 366.652 Q186.809 368.428 187.26 369.319 Q187.717 370.205 188.62 370.205 Q189.528 370.205 189.98 369.319 Q190.437 368.428 190.437 366.652 Q190.437 364.869 189.98 363.984 Q189.528 363.093 188.62 363.093 M188.62 362.167 Q190.072 362.167 190.836 363.318 Q191.606 364.464 191.606 366.652 Q191.606 368.833 190.836 369.985 Q190.072 371.131 188.62 371.131 Q187.167 371.131 186.398 369.985 Q185.634 368.833 185.634 366.652 Q185.634 364.464 186.398 363.318 Q187.167 362.167 188.62 362.167 Z\" fill=\"#000000\" fill-rule=\"evenodd\" fill-opacity=\"1\" /><path clip-path=\"url(#clip850)\" d=\"M 0 0 M295.007 369.979 L299.087 369.979 L299.087 370.963 L293.601 370.963 L293.601 369.979 Q294.267 369.291 295.413 368.133 Q296.564 366.97 296.859 366.634 Q297.421 366.003 297.641 365.569 Q297.866 365.13 297.866 364.707 Q297.866 364.019 297.38 363.585 Q296.9 363.151 296.124 363.151 Q295.575 363.151 294.961 363.341 Q294.354 363.532 293.659 363.92 L293.659 362.74 Q294.365 362.456 294.979 362.311 Q295.592 362.167 296.101 362.167 Q297.444 362.167 298.242 362.838 Q299.041 363.509 299.041 364.632 Q299.041 365.164 298.838 365.645 Q298.642 366.119 298.115 366.767 Q297.97 366.935 297.195 367.74 Q296.419 368.538 295.007 369.979 Z\" fill=\"#000000\" fill-rule=\"evenodd\" fill-opacity=\"1\" /><path clip-path=\"url(#clip850)\" d=\"M 0 0 M302.855 363.093 Q301.952 363.093 301.495 363.984 Q301.043 364.869 301.043 366.652 Q301.043 368.428 301.495 369.319 Q301.952 370.205 302.855 370.205 Q303.763 370.205 304.215 369.319 Q304.672 368.428 304.672 366.652 Q304.672 364.869 304.215 363.984 Q303.763 363.093 302.855 363.093 M302.855 362.167 Q304.307 362.167 305.071 363.318 Q305.841 364.464 305.841 366.652 Q305.841 368.833 305.071 369.985 Q304.307 371.131 302.855 371.131 Q301.402 371.131 300.632 369.985 Q299.869 368.833 299.869 366.652 Q299.869 364.464 300.632 363.318 Q301.402 362.167 302.855 362.167 Z\" fill=\"#000000\" fill-rule=\"evenodd\" fill-opacity=\"1\" /><path clip-path=\"url(#clip850)\" d=\"M 0 0 M411.47 366.304 Q412.309 366.484 412.778 367.051 Q413.253 367.618 413.253 368.451 Q413.253 369.73 412.373 370.431 Q411.493 371.131 409.873 371.131 Q409.329 371.131 408.75 371.021 Q408.177 370.917 407.564 370.703 L407.564 369.574 Q408.05 369.858 408.629 370.002 Q409.208 370.147 409.838 370.147 Q410.938 370.147 411.511 369.713 Q412.089 369.279 412.089 368.451 Q412.089 367.688 411.551 367.259 Q411.019 366.825 410.064 366.825 L409.057 366.825 L409.057 365.865 L410.11 365.865 Q410.973 365.865 411.43 365.523 Q411.887 365.176 411.887 364.528 Q411.887 363.862 411.412 363.509 Q410.944 363.151 410.064 363.151 Q409.584 363.151 409.034 363.255 Q408.484 363.359 407.824 363.579 L407.824 362.537 Q408.49 362.352 409.069 362.259 Q409.653 362.167 410.168 362.167 Q411.499 362.167 412.275 362.774 Q413.05 363.376 413.05 364.406 Q413.05 365.124 412.639 365.622 Q412.228 366.113 411.47 366.304 Z\" fill=\"#000000\" fill-rule=\"evenodd\" fill-opacity=\"1\" /><path clip-path=\"url(#clip850)\" d=\"M 0 0 M417.02 363.093 Q416.117 363.093 415.66 363.984 Q415.209 364.869 415.209 366.652 Q415.209 368.428 415.66 369.319 Q416.117 370.205 417.02 370.205 Q417.929 370.205 418.38 369.319 Q418.837 368.428 418.837 366.652 Q418.837 364.869 418.38 363.984 Q417.929 363.093 417.02 363.093 M417.02 362.167 Q418.473 362.167 419.236 363.318 Q420.006 364.464 420.006 366.652 Q420.006 368.833 419.236 369.985 Q418.473 371.131 417.02 371.131 Q415.567 371.131 414.798 369.985 Q414.034 368.833 414.034 366.652 Q414.034 364.464 414.798 363.318 Q415.567 362.167 417.02 362.167 Z\" fill=\"#000000\" fill-rule=\"evenodd\" fill-opacity=\"1\" /><path clip-path=\"url(#clip850)\" d=\"M 0 0 M525.225 363.341 L522.273 367.954 L525.225 367.954 L525.225 363.341 M524.918 362.323 L526.388 362.323 L526.388 367.954 L527.621 367.954 L527.621 368.926 L526.388 368.926 L526.388 370.963 L525.225 370.963 L525.225 368.926 L521.324 368.926 L521.324 367.797 L524.918 362.323 Z\" fill=\"#000000\" fill-rule=\"evenodd\" fill-opacity=\"1\" /><path clip-path=\"url(#clip850)\" d=\"M 0 0 M531.388 363.093 Q530.485 363.093 530.028 363.984 Q529.577 364.869 529.577 366.652 Q529.577 368.428 530.028 369.319 Q530.485 370.205 531.388 370.205 Q532.296 370.205 532.748 369.319 Q533.205 368.428 533.205 366.652 Q533.205 364.869 532.748 363.984 Q532.296 363.093 531.388 363.093 M531.388 362.167 Q532.84 362.167 533.604 363.318 Q534.374 364.464 534.374 366.652 Q534.374 368.833 533.604 369.985 Q532.84 371.131 531.388 371.131 Q529.935 371.131 529.166 369.985 Q528.402 368.833 528.402 366.652 Q528.402 364.464 529.166 363.318 Q529.935 362.167 531.388 362.167 Z\" fill=\"#000000\" fill-rule=\"evenodd\" fill-opacity=\"1\" /><path clip-path=\"url(#clip850)\" d=\"M 0 0 M294.964 383.099 L296.428 383.099 L296.428 392.011 L294.964 392.011 L294.964 383.099 M294.964 379.63 L296.428 379.63 L296.428 381.484 L294.964 381.484 L294.964 379.63 Z\" fill=\"#000000\" fill-rule=\"evenodd\" fill-opacity=\"1\" /><path clip-path=\"url(#clip850)\" d=\"M 0 0 M299.412 380.569 L299.412 383.099 L302.428 383.099 L302.428 384.237 L299.412 384.237 L299.412 389.075 Q299.412 390.165 299.707 390.475 Q300.009 390.786 300.924 390.786 L302.428 390.786 L302.428 392.011 L300.924 392.011 Q299.229 392.011 298.585 391.382 Q297.94 390.746 297.94 389.075 L297.94 384.237 L296.866 384.237 L296.866 383.099 L297.94 383.099 L297.94 380.569 L299.412 380.569 Z\" fill=\"#000000\" fill-rule=\"evenodd\" fill-opacity=\"1\" /><path clip-path=\"url(#clip850)\" d=\"M 0 0 M311.587 387.189 L311.587 387.905 L304.855 387.905 Q304.95 389.417 305.762 390.213 Q306.582 391 308.038 391 Q308.881 391 309.669 390.794 Q310.465 390.587 311.245 390.173 L311.245 391.557 Q310.457 391.892 309.629 392.067 Q308.802 392.242 307.95 392.242 Q305.818 392.242 304.568 391 Q303.327 389.759 303.327 387.642 Q303.327 385.454 304.505 384.173 Q305.69 382.884 307.696 382.884 Q309.494 382.884 310.536 384.046 Q311.587 385.2 311.587 387.189 M310.123 386.759 Q310.107 385.558 309.446 384.842 Q308.794 384.125 307.712 384.125 Q306.486 384.125 305.746 384.818 Q305.014 385.51 304.903 386.767 L310.123 386.759 Z\" fill=\"#000000\" fill-rule=\"evenodd\" fill-opacity=\"1\" /><path clip-path=\"url(#clip850)\" d=\"M 0 0 M318.287 384.468 Q318.04 384.324 317.746 384.261 Q317.459 384.189 317.109 384.189 Q315.868 384.189 315.199 385.001 Q314.539 385.804 314.539 387.316 L314.539 392.011 L313.067 392.011 L313.067 383.099 L314.539 383.099 L314.539 384.484 Q315 383.672 315.74 383.282 Q316.48 382.884 317.539 382.884 Q317.69 382.884 317.873 382.908 Q318.056 382.924 318.279 382.964 L318.287 384.468 Z\" fill=\"#000000\" fill-rule=\"evenodd\" fill-opacity=\"1\" /><path clip-path=\"url(#clip850)\" d=\"M 0 0 M323.873 387.531 Q322.098 387.531 321.414 387.937 Q320.729 388.343 320.729 389.321 Q320.729 390.101 321.239 390.563 Q321.756 391.016 322.639 391.016 Q323.857 391.016 324.589 390.157 Q325.329 389.29 325.329 387.857 L325.329 387.531 L323.873 387.531 M326.793 386.926 L326.793 392.011 L325.329 392.011 L325.329 390.658 Q324.827 391.47 324.079 391.86 Q323.331 392.242 322.249 392.242 Q320.881 392.242 320.069 391.478 Q319.265 390.706 319.265 389.417 Q319.265 387.913 320.268 387.149 Q321.278 386.385 323.276 386.385 L325.329 386.385 L325.329 386.242 Q325.329 385.231 324.66 384.682 Q324 384.125 322.798 384.125 Q322.034 384.125 321.31 384.308 Q320.586 384.491 319.918 384.857 L319.918 383.505 Q320.721 383.194 321.477 383.043 Q322.233 382.884 322.949 382.884 Q324.883 382.884 325.838 383.887 Q326.793 384.889 326.793 386.926 Z\" fill=\"#000000\" fill-rule=\"evenodd\" fill-opacity=\"1\" /><path clip-path=\"url(#clip850)\" d=\"M 0 0 M329.777 380.569 L329.777 383.099 L332.792 383.099 L332.792 384.237 L329.777 384.237 L329.777 389.075 Q329.777 390.165 330.071 390.475 Q330.373 390.786 331.289 390.786 L332.792 390.786 L332.792 392.011 L331.289 392.011 Q329.594 392.011 328.949 391.382 Q328.305 390.746 328.305 389.075 L328.305 384.237 L327.23 384.237 L327.23 383.099 L328.305 383.099 L328.305 380.569 L329.777 380.569 Z\" fill=\"#000000\" fill-rule=\"evenodd\" fill-opacity=\"1\" /><path clip-path=\"url(#clip850)\" d=\"M 0 0 M334.328 383.099 L335.792 383.099 L335.792 392.011 L334.328 392.011 L334.328 383.099 M334.328 379.63 L335.792 379.63 L335.792 381.484 L334.328 381.484 L334.328 379.63 Z\" fill=\"#000000\" fill-rule=\"evenodd\" fill-opacity=\"1\" /><path clip-path=\"url(#clip850)\" d=\"M 0 0 M340.781 384.125 Q339.604 384.125 338.919 385.048 Q338.235 385.964 338.235 387.563 Q338.235 389.162 338.911 390.085 Q339.596 391 340.781 391 Q341.951 391 342.635 390.077 Q343.32 389.154 343.32 387.563 Q343.32 385.979 342.635 385.056 Q341.951 384.125 340.781 384.125 M340.781 382.884 Q342.691 382.884 343.781 384.125 Q344.871 385.367 344.871 387.563 Q344.871 389.751 343.781 391 Q342.691 392.242 340.781 392.242 Q338.864 392.242 337.774 391 Q336.691 389.751 336.691 387.563 Q336.691 385.367 337.774 384.125 Q338.864 382.884 340.781 382.884 Z\" fill=\"#000000\" fill-rule=\"evenodd\" fill-opacity=\"1\" /><path clip-path=\"url(#clip850)\" d=\"M 0 0 M353.815 386.632 L353.815 392.011 L352.351 392.011 L352.351 386.68 Q352.351 385.414 351.858 384.786 Q351.364 384.157 350.378 384.157 Q349.192 384.157 348.508 384.913 Q347.823 385.669 347.823 386.974 L347.823 392.011 L346.351 392.011 L346.351 383.099 L347.823 383.099 L347.823 384.484 Q348.349 383.68 349.057 383.282 Q349.773 382.884 350.704 382.884 Q352.24 382.884 353.027 383.839 Q353.815 384.786 353.815 386.632 Z\" fill=\"#000000\" fill-rule=\"evenodd\" fill-opacity=\"1\" /><path clip-path=\"url(#clip850)\" d=\"M 0 0 M361.032 383.362 L361.032 384.746 Q360.412 384.428 359.743 384.269 Q359.075 384.11 358.359 384.11 Q357.269 384.11 356.72 384.444 Q356.178 384.778 356.178 385.446 Q356.178 385.956 356.568 386.25 Q356.958 386.536 358.136 386.799 L358.637 386.91 Q360.197 387.245 360.849 387.857 Q361.51 388.462 361.51 389.552 Q361.51 390.794 360.523 391.518 Q359.544 392.242 357.826 392.242 Q357.109 392.242 356.33 392.098 Q355.558 391.963 354.698 391.685 L354.698 390.173 Q355.51 390.595 356.298 390.809 Q357.086 391.016 357.857 391.016 Q358.892 391.016 359.449 390.666 Q360.006 390.308 360.006 389.664 Q360.006 389.067 359.6 388.749 Q359.202 388.43 357.842 388.136 L357.332 388.016 Q355.972 387.73 355.367 387.141 Q354.762 386.544 354.762 385.51 Q354.762 384.253 355.653 383.568 Q356.544 382.884 358.184 382.884 Q358.995 382.884 359.711 383.003 Q360.428 383.123 361.032 383.362 Z\" fill=\"#000000\" fill-rule=\"evenodd\" fill-opacity=\"1\" /><polyline clip-path=\"url(#clip852)\" style=\"stroke:#000000; stroke-width:0.5; stroke-opacity:0.1; fill:none\" points=\"\n",
       "  68.285,288.066 588.189,288.066 \n",
       "  \"/>\n",
       "<polyline clip-path=\"url(#clip852)\" style=\"stroke:#000000; stroke-width:0.5; stroke-opacity:0.1; fill:none\" points=\"\n",
       "  68.285,207.134 588.189,207.134 \n",
       "  \"/>\n",
       "<polyline clip-path=\"url(#clip852)\" style=\"stroke:#000000; stroke-width:0.5; stroke-opacity:0.1; fill:none\" points=\"\n",
       "  68.285,126.202 588.189,126.202 \n",
       "  \"/>\n",
       "<polyline clip-path=\"url(#clip852)\" style=\"stroke:#000000; stroke-width:0.5; stroke-opacity:0.1; fill:none\" points=\"\n",
       "  68.285,45.2703 588.189,45.2703 \n",
       "  \"/>\n",
       "<polyline clip-path=\"url(#clip850)\" style=\"stroke:#000000; stroke-width:1; stroke-opacity:1; fill:none\" points=\"\n",
       "  68.285,355.795 68.285,11.811 \n",
       "  \"/>\n",
       "<polyline clip-path=\"url(#clip850)\" style=\"stroke:#000000; stroke-width:1; stroke-opacity:1; fill:none\" points=\"\n",
       "  68.285,288.066 74.5238,288.066 \n",
       "  \"/>\n",
       "<polyline clip-path=\"url(#clip850)\" style=\"stroke:#000000; stroke-width:1; stroke-opacity:1; fill:none\" points=\"\n",
       "  68.285,207.134 74.5238,207.134 \n",
       "  \"/>\n",
       "<polyline clip-path=\"url(#clip850)\" style=\"stroke:#000000; stroke-width:1; stroke-opacity:1; fill:none\" points=\"\n",
       "  68.285,126.202 74.5238,126.202 \n",
       "  \"/>\n",
       "<polyline clip-path=\"url(#clip850)\" style=\"stroke:#000000; stroke-width:1; stroke-opacity:1; fill:none\" points=\"\n",
       "  68.285,45.2703 74.5238,45.2703 \n",
       "  \"/>\n",
       "<path clip-path=\"url(#clip850)\" d=\"M 0 0 M28.9821 293.014 L30.8918 293.014 L30.8918 286.422 L28.8142 286.839 L28.8142 285.774 L30.8802 285.357 L32.0492 285.357 L32.0492 293.014 L33.9589 293.014 L33.9589 293.997 L28.9821 293.997 L28.9821 293.014 Z\" fill=\"#000000\" fill-rule=\"evenodd\" fill-opacity=\"1\" /><path clip-path=\"url(#clip850)\" d=\"M 0 0 M37.7262 286.127 Q36.8235 286.127 36.3663 287.018 Q35.9149 287.904 35.9149 289.686 Q35.9149 291.463 36.3663 292.354 Q36.8235 293.239 37.7262 293.239 Q38.6348 293.239 39.0862 292.354 Q39.5434 291.463 39.5434 289.686 Q39.5434 287.904 39.0862 287.018 Q38.6348 286.127 37.7262 286.127 M37.7262 285.201 Q39.1788 285.201 39.9427 286.353 Q40.7123 287.499 40.7123 289.686 Q40.7123 291.868 39.9427 293.019 Q39.1788 294.165 37.7262 294.165 Q36.2737 294.165 35.504 293.019 Q34.7401 291.868 34.7401 289.686 Q34.7401 287.499 35.504 286.353 Q36.2737 285.201 37.7262 285.201 Z\" fill=\"#000000\" fill-rule=\"evenodd\" fill-opacity=\"1\" /><path clip-path=\"url(#clip850)\" d=\"M 0 0 M40.7123 283.726 L46.7402 283.726 L46.7402 284.526 L40.7123 284.526 L40.7123 283.726 Z\" fill=\"#000000\" fill-rule=\"evenodd\" fill-opacity=\"1\" /><path clip-path=\"url(#clip850)\" d=\"M 0 0 M47.9345 286.345 L49.4862 286.345 L49.4862 280.99 L47.7982 281.329 L47.7982 280.463 L49.4767 280.125 L50.4265 280.125 L50.4265 286.345 L51.9782 286.345 L51.9782 287.145 L47.9345 287.145 L47.9345 286.345 Z\" fill=\"#000000\" fill-rule=\"evenodd\" fill-opacity=\"1\" /><path clip-path=\"url(#clip850)\" d=\"M 0 0 M53.0079 285.951 L54 285.951 L54 287.145 L53.0079 287.145 L53.0079 285.951 Z\" fill=\"#000000\" fill-rule=\"evenodd\" fill-opacity=\"1\" /><path clip-path=\"url(#clip850)\" d=\"M 0 0 M55.0391 280.125 L58.7678 280.125 L58.7678 280.924 L55.909 280.924 L55.909 282.645 Q56.1159 282.575 56.3228 282.542 Q56.5297 282.504 56.7365 282.504 Q57.912 282.504 58.5985 283.148 Q59.285 283.792 59.285 284.893 Q59.285 286.026 58.5797 286.656 Q57.8744 287.281 56.5908 287.281 Q56.1488 287.281 55.688 287.206 Q55.2319 287.131 54.7429 286.98 L54.7429 286.026 Q55.1661 286.256 55.6175 286.369 Q56.0689 286.482 56.572 286.482 Q57.3854 286.482 57.8603 286.054 Q58.3352 285.626 58.3352 284.893 Q58.3352 284.159 57.8603 283.731 Q57.3854 283.303 56.572 283.303 Q56.1911 283.303 55.8103 283.388 Q55.4341 283.473 55.0391 283.651 L55.0391 280.125 Z\" fill=\"#000000\" fill-rule=\"evenodd\" fill-opacity=\"1\" /><path clip-path=\"url(#clip850)\" d=\"M 0 0 M28.7799 212.082 L30.6896 212.082 L30.6896 205.49 L28.6121 205.907 L28.6121 204.842 L30.678 204.426 L31.847 204.426 L31.847 212.082 L33.7567 212.082 L33.7567 213.066 L28.7799 213.066 L28.7799 212.082 Z\" fill=\"#000000\" fill-rule=\"evenodd\" fill-opacity=\"1\" /><path clip-path=\"url(#clip850)\" d=\"M 0 0 M37.524 205.195 Q36.6213 205.195 36.1641 206.087 Q35.7127 206.972 35.7127 208.754 Q35.7127 210.531 36.1641 211.422 Q36.6213 212.308 37.524 212.308 Q38.4326 212.308 38.884 211.422 Q39.3412 210.531 39.3412 208.754 Q39.3412 206.972 38.884 206.087 Q38.4326 205.195 37.524 205.195 M37.524 204.269 Q38.9766 204.269 39.7405 205.421 Q40.5101 206.567 40.5101 208.754 Q40.5101 210.936 39.7405 212.088 Q38.9766 213.234 37.524 213.234 Q36.0715 213.234 35.3018 212.088 Q34.538 210.936 34.538 208.754 Q34.538 206.567 35.3018 205.421 Q36.0715 204.269 37.524 204.269 Z\" fill=\"#000000\" fill-rule=\"evenodd\" fill-opacity=\"1\" /><path clip-path=\"url(#clip850)\" d=\"M 0 0 M40.5101 202.795 L46.538 202.795 L46.538 203.594 L40.5101 203.594 L40.5101 202.795 Z\" fill=\"#000000\" fill-rule=\"evenodd\" fill-opacity=\"1\" /><path clip-path=\"url(#clip850)\" d=\"M 0 0 M47.7323 205.414 L49.284 205.414 L49.284 200.058 L47.596 200.397 L47.596 199.532 L49.2746 199.193 L50.2244 199.193 L50.2244 205.414 L51.776 205.414 L51.776 206.213 L47.7323 206.213 L47.7323 205.414 Z\" fill=\"#000000\" fill-rule=\"evenodd\" fill-opacity=\"1\" /><path clip-path=\"url(#clip850)\" d=\"M 0 0 M52.8057 205.019 L53.7978 205.019 L53.7978 206.213 L52.8057 206.213 L52.8057 205.019 Z\" fill=\"#000000\" fill-rule=\"evenodd\" fill-opacity=\"1\" /><path clip-path=\"url(#clip850)\" d=\"M 0 0 M56.8588 199.818 Q56.1253 199.818 55.7538 200.543 Q55.3871 201.262 55.3871 202.71 Q55.3871 204.154 55.7538 204.878 Q56.1253 205.597 56.8588 205.597 Q57.597 205.597 57.9638 204.878 Q58.3352 204.154 58.3352 202.71 Q58.3352 201.262 57.9638 200.543 Q57.597 199.818 56.8588 199.818 M56.8588 199.066 Q58.039 199.066 58.6596 200.002 Q59.285 200.933 59.285 202.71 Q59.285 204.483 58.6596 205.418 Q58.039 206.349 56.8588 206.349 Q55.6786 206.349 55.0533 205.418 Q54.4326 204.483 54.4326 202.71 Q54.4326 200.933 55.0533 200.002 Q55.6786 199.066 56.8588 199.066 Z\" fill=\"#000000\" fill-rule=\"evenodd\" fill-opacity=\"1\" /><path clip-path=\"url(#clip850)\" d=\"M 0 0 M28.7329 131.15 L30.6426 131.15 L30.6426 124.559 L28.565 124.975 L28.565 123.911 L30.631 123.494 L31.8 123.494 L31.8 131.15 L33.7097 131.15 L33.7097 132.134 L28.7329 132.134 L28.7329 131.15 Z\" fill=\"#000000\" fill-rule=\"evenodd\" fill-opacity=\"1\" /><path clip-path=\"url(#clip850)\" d=\"M 0 0 M37.477 124.264 Q36.5743 124.264 36.1171 125.155 Q35.6657 126.04 35.6657 127.823 Q35.6657 129.599 36.1171 130.49 Q36.5743 131.376 37.477 131.376 Q38.3856 131.376 38.837 130.49 Q39.2941 129.599 39.2941 127.823 Q39.2941 126.04 38.837 125.155 Q38.3856 124.264 37.477 124.264 M37.477 123.338 Q38.9296 123.338 39.6935 124.489 Q40.4631 125.635 40.4631 127.823 Q40.4631 130.004 39.6935 131.156 Q38.9296 132.302 37.477 132.302 Q36.0245 132.302 35.2548 131.156 Q34.4909 130.004 34.4909 127.823 Q34.4909 125.635 35.2548 124.489 Q36.0245 123.338 37.477 123.338 Z\" fill=\"#000000\" fill-rule=\"evenodd\" fill-opacity=\"1\" /><path clip-path=\"url(#clip850)\" d=\"M 0 0 M40.4631 121.863 L46.491 121.863 L46.491 122.662 L40.4631 122.662 L40.4631 121.863 Z\" fill=\"#000000\" fill-rule=\"evenodd\" fill-opacity=\"1\" /><path clip-path=\"url(#clip850)\" d=\"M 0 0 M49.552 118.887 Q48.8185 118.887 48.447 119.611 Q48.0803 120.33 48.0803 121.778 Q48.0803 123.222 48.447 123.946 Q48.8185 124.665 49.552 124.665 Q50.2902 124.665 50.6569 123.946 Q51.0284 123.222 51.0284 121.778 Q51.0284 120.33 50.6569 119.611 Q50.2902 118.887 49.552 118.887 M49.552 118.134 Q50.7322 118.134 51.3528 119.07 Q51.9782 120.001 51.9782 121.778 Q51.9782 123.551 51.3528 124.487 Q50.7322 125.418 49.552 125.418 Q48.3718 125.418 47.7464 124.487 Q47.1258 123.551 47.1258 121.778 Q47.1258 120.001 47.7464 119.07 Q48.3718 118.134 49.552 118.134 Z\" fill=\"#000000\" fill-rule=\"evenodd\" fill-opacity=\"1\" /><path clip-path=\"url(#clip850)\" d=\"M 0 0 M53.0079 124.087 L54 124.087 L54 125.281 L53.0079 125.281 L53.0079 124.087 Z\" fill=\"#000000\" fill-rule=\"evenodd\" fill-opacity=\"1\" /><path clip-path=\"url(#clip850)\" d=\"M 0 0 M55.0391 118.261 L58.7678 118.261 L58.7678 119.061 L55.909 119.061 L55.909 120.782 Q56.1159 120.711 56.3228 120.678 Q56.5297 120.641 56.7365 120.641 Q57.912 120.641 58.5985 121.285 Q59.285 121.929 59.285 123.029 Q59.285 124.162 58.5797 124.792 Q57.8744 125.418 56.5908 125.418 Q56.1488 125.418 55.688 125.342 Q55.2319 125.267 54.7429 125.117 L54.7429 124.162 Q55.1661 124.393 55.6175 124.506 Q56.0689 124.618 56.572 124.618 Q57.3854 124.618 57.8603 124.191 Q58.3352 123.763 58.3352 123.029 Q58.3352 122.296 57.8603 121.868 Q57.3854 121.44 56.572 121.44 Q56.1911 121.44 55.8103 121.525 Q55.4341 121.609 55.0391 121.788 L55.0391 118.261 Z\" fill=\"#000000\" fill-rule=\"evenodd\" fill-opacity=\"1\" /><path clip-path=\"url(#clip850)\" d=\"M 0 0 M35.1933 50.2184 L37.103 50.2184 L37.103 43.627 L35.0255 44.0437 L35.0255 42.9789 L37.0915 42.5622 L38.2604 42.5622 L38.2604 50.2184 L40.1702 50.2184 L40.1702 51.2022 L35.1933 51.2022 L35.1933 50.2184 Z\" fill=\"#000000\" fill-rule=\"evenodd\" fill-opacity=\"1\" /><path clip-path=\"url(#clip850)\" d=\"M 0 0 M43.9375 43.3319 Q43.0347 43.3319 42.5776 44.2231 Q42.1262 45.1085 42.1262 46.8909 Q42.1262 48.6675 42.5776 49.5587 Q43.0347 50.4441 43.9375 50.4441 Q44.8461 50.4441 45.2974 49.5587 Q45.7546 48.6675 45.7546 46.8909 Q45.7546 45.1085 45.2974 44.2231 Q44.8461 43.3319 43.9375 43.3319 M43.9375 42.406 Q45.39 42.406 46.1539 43.5576 Q46.9236 44.7034 46.9236 46.8909 Q46.9236 49.0726 46.1539 50.2242 Q45.39 51.3701 43.9375 51.3701 Q42.485 51.3701 41.7153 50.2242 Q40.9514 49.0726 40.9514 46.8909 Q40.9514 44.7034 41.7153 43.5576 Q42.485 42.406 43.9375 42.406 Z\" fill=\"#000000\" fill-rule=\"evenodd\" fill-opacity=\"1\" /><path clip-path=\"url(#clip850)\" d=\"M 0 0 M49.3498 37.955 Q48.6163 37.955 48.2448 38.6791 Q47.8781 39.3985 47.8781 40.8467 Q47.8781 42.2902 48.2448 43.0143 Q48.6163 43.7337 49.3498 43.7337 Q50.088 43.7337 50.4548 43.0143 Q50.8262 42.2902 50.8262 40.8467 Q50.8262 39.3985 50.4548 38.6791 Q50.088 37.955 49.3498 37.955 M49.3498 37.2027 Q50.53 37.2027 51.1506 38.1384 Q51.776 39.0694 51.776 40.8467 Q51.776 42.6193 51.1506 43.555 Q50.53 44.486 49.3498 44.486 Q48.1696 44.486 47.5442 43.555 Q46.9236 42.6193 46.9236 40.8467 Q46.9236 39.0694 47.5442 38.1384 Q48.1696 37.2027 49.3498 37.2027 Z\" fill=\"#000000\" fill-rule=\"evenodd\" fill-opacity=\"1\" /><path clip-path=\"url(#clip850)\" d=\"M 0 0 M52.8057 43.1553 L53.7978 43.1553 L53.7978 44.3496 L52.8057 44.3496 L52.8057 43.1553 Z\" fill=\"#000000\" fill-rule=\"evenodd\" fill-opacity=\"1\" /><path clip-path=\"url(#clip850)\" d=\"M 0 0 M56.8588 37.955 Q56.1253 37.955 55.7538 38.6791 Q55.3871 39.3985 55.3871 40.8467 Q55.3871 42.2902 55.7538 43.0143 Q56.1253 43.7337 56.8588 43.7337 Q57.597 43.7337 57.9638 43.0143 Q58.3352 42.2902 58.3352 40.8467 Q58.3352 39.3985 57.9638 38.6791 Q57.597 37.955 56.8588 37.955 M56.8588 37.2027 Q58.039 37.2027 58.6596 38.1384 Q59.285 39.0694 59.285 40.8467 Q59.285 42.6193 58.6596 43.555 Q58.039 44.486 56.8588 44.486 Q55.6786 44.486 55.0533 43.555 Q54.4326 42.6193 54.4326 40.8467 Q54.4326 39.0694 55.0533 38.1384 Q55.6786 37.2027 56.8588 37.2027 Z\" fill=\"#000000\" fill-rule=\"evenodd\" fill-opacity=\"1\" /><path clip-path=\"url(#clip850)\" d=\"M 0 0 M7.43121 191.665 L8.79983 191.665 Q8.45768 192.285 8.29058 192.914 Q8.11552 193.535 8.11552 194.171 Q8.11552 195.595 9.02263 196.383 Q9.92179 197.171 11.553 197.171 Q13.1842 197.171 14.0913 196.383 Q14.9905 195.595 14.9905 194.171 Q14.9905 193.535 14.8234 192.914 Q14.6483 192.285 14.3062 191.665 L15.6589 191.665 Q15.9453 192.277 16.0886 192.938 Q16.2318 193.59 16.2318 194.33 Q16.2318 196.343 14.9666 197.529 Q13.7014 198.715 11.553 198.715 Q9.37275 198.715 8.12348 197.521 Q6.87421 196.32 6.87421 194.235 Q6.87421 193.558 7.01744 192.914 Q7.15271 192.269 7.43121 191.665 Z\" fill=\"#000000\" fill-rule=\"evenodd\" fill-opacity=\"1\" /><path clip-path=\"url(#clip850)\" d=\"M 0 0 M8.11552 186.676 Q8.11552 187.853 9.03855 188.537 Q9.95362 189.222 11.553 189.222 Q13.1524 189.222 14.0754 188.545 Q14.9905 187.861 14.9905 186.676 Q14.9905 185.506 14.0675 184.822 Q13.1444 184.137 11.553 184.137 Q9.96953 184.137 9.0465 184.822 Q8.11552 185.506 8.11552 186.676 M6.87421 186.676 Q6.87421 184.766 8.11552 183.676 Q9.35683 182.586 11.553 182.586 Q13.7412 182.586 14.9905 183.676 Q16.2318 184.766 16.2318 186.676 Q16.2318 188.593 14.9905 189.683 Q13.7412 190.765 11.553 190.765 Q9.35683 190.765 8.11552 189.683 Q6.87421 188.593 6.87421 186.676 Z\" fill=\"#000000\" fill-rule=\"evenodd\" fill-opacity=\"1\" /><path clip-path=\"url(#clip850)\" d=\"M 0 0 M7.35164 175.368 L8.73618 175.368 Q8.41789 175.989 8.25875 176.657 Q8.09961 177.326 8.09961 178.042 Q8.09961 179.132 8.43381 179.681 Q8.76801 180.222 9.4364 180.222 Q9.94566 180.222 10.2401 179.832 Q10.5265 179.442 10.7891 178.265 L10.9005 177.764 Q11.2347 176.204 11.8474 175.551 Q12.4522 174.891 13.5423 174.891 Q14.7836 174.891 15.5077 175.878 Q16.2318 176.856 16.2318 178.575 Q16.2318 179.291 16.0886 180.071 Q15.9533 180.843 15.6748 181.702 L14.1629 181.702 Q14.5847 180.891 14.7995 180.103 Q15.0064 179.315 15.0064 178.543 Q15.0064 177.509 14.6563 176.952 Q14.2982 176.395 13.6537 176.395 Q13.0569 176.395 12.7386 176.801 Q12.4203 177.199 12.1259 178.559 L12.0066 179.068 Q11.7201 180.429 11.1313 181.034 Q10.5345 181.639 9.50006 181.639 Q8.24283 181.639 7.55852 180.747 Q6.87421 179.856 6.87421 178.217 Q6.87421 177.405 6.99356 176.689 Q7.11292 175.973 7.35164 175.368 Z\" fill=\"#000000\" fill-rule=\"evenodd\" fill-opacity=\"1\" /><path clip-path=\"url(#clip850)\" d=\"M 0 0 M4.55868 171.907 L7.08905 171.907 L7.08905 168.891 L8.22692 168.891 L8.22692 171.907 L13.0649 171.907 Q14.155 171.907 14.4653 171.613 Q14.7756 171.31 14.7756 170.395 L14.7756 168.891 L16.001 168.891 L16.001 170.395 Q16.001 172.09 15.3724 172.735 Q14.7359 173.379 13.0649 173.379 L8.22692 173.379 L8.22692 174.453 L7.08905 174.453 L7.08905 173.379 L4.55868 173.379 L4.55868 171.907 Z\" fill=\"#000000\" fill-rule=\"evenodd\" fill-opacity=\"1\" /><polyline clip-path=\"url(#clip852)\" style=\"stroke:#009af9; stroke-width:1; stroke-opacity:1; fill:none\" points=\"\n",
       "  82.9993,21.5464 94.4057,53.4792 105.812,303.286 117.218,308.836 128.625,311.63 140.031,313.544 151.438,315.019 162.844,316.239 174.251,317.296 185.657,318.244 \n",
       "  197.063,319.114 208.47,319.929 219.876,320.704 231.283,321.451 242.689,322.177 254.095,322.891 265.502,323.6 276.908,324.311 288.315,325.027 299.721,325.757 \n",
       "  311.127,326.504 322.534,327.274 333.94,328.069 345.347,328.892 356.753,329.741 368.159,330.613 379.566,331.502 390.972,332.399 402.379,333.294 413.785,334.179 \n",
       "  425.191,335.046 436.598,335.895 448.004,336.728 459.411,337.556 470.817,338.391 482.223,339.251 493.63,340.156 505.036,341.12 516.443,342.145 527.849,343.199 \n",
       "  539.255,344.204 550.662,345.055 562.068,345.675 573.475,346.06 \n",
       "  \"/>\n",
       "</svg>\n"
      ]
     },
     "execution_count": 70,
     "metadata": {},
     "output_type": "execute_result"
    }
   ],
   "source": [
    "using Plots\n",
    "stats = Altro.stats(solver)\n",
    "plot(stats.iteration, stats.cost, yscale=:log10, xlabel=\"iterations\", ylabel=\"cost\", label=\"\")"
   ]
  },
  {
   "cell_type": "markdown",
   "id": "b710f172-e2bd-4fab-9bae-b2ace0047272",
   "metadata": {},
   "source": [
    "## 8. Benchmarking\n",
    "We often want to get reliable timing information on our solve times, in order to get good comparisons between solves. Altro.jl provides a useful method for benchmarking the solve. Like before, we must reset the initial guess prior to calling this method. This uses BenchmarkkTools.jl to run the solve many times, and automatically resets the guess between solves."
   ]
  },
  {
   "cell_type": "code",
   "execution_count": 71,
   "id": "bdfd7e8e-ba0a-4eef-8053-3ca47a99d0c1",
   "metadata": {},
   "outputs": [
    {
     "data": {
      "text/plain": [
       "BenchmarkTools.Trial: \n",
       "  memory estimate:  5.64 MiB\n",
       "  allocs estimate:  49500\n",
       "  --------------\n",
       "  minimum time:     2.181 ms (0.00% GC)\n",
       "  median time:      2.779 ms (22.87% GC)\n",
       "  mean time:        2.662 ms (14.40% GC)\n",
       "  maximum time:     3.165 ms (20.67% GC)\n",
       "  --------------\n",
       "  samples:          10\n",
       "  evals/sample:     10"
      ]
     },
     "execution_count": 71,
     "metadata": {},
     "output_type": "execute_result"
    }
   ],
   "source": [
    "# reset initial guess\n",
    "initial_controls!(solver, U0)\n",
    "\n",
    "# run the benchmark solve\n",
    "benchmark = benchmark_solve!(solver)"
   ]
  },
  {
   "cell_type": "markdown",
   "id": "b5932cf6-689d-482f-8725-c0d41583ce02",
   "metadata": {},
   "source": [
    "## 9. Improving Performance with Static Vectors\n",
    "One of the easiest ways to get more performance is to use `StaticArrays.jl`. Let's redefine our model, cost function and problem to use static vectors and see how our performance changes:"
   ]
  },
  {
   "cell_type": "code",
   "execution_count": 91,
   "id": "ef24547e-6851-4297-b650-0a4de6c26a10",
   "metadata": {},
   "outputs": [],
   "source": [
    "using StaticArrays\n",
    "\n",
    "# Define a new model\n",
    "struct PendulumStatic <: AbstractModel\n",
    "    mass::Float64\n",
    "    length::Float64\n",
    "    b::Float64\n",
    "    lc::Float64\n",
    "    I::Float64\n",
    "    g::Float64\n",
    "end\n",
    "function PendulumStatic(; mass=1.0, length=0.5, b=0.1, lc=0.5, I=0.25, g=9.81)\n",
    "    PendulumStatic(mass, length, b, lc, I, g)  # call default \"inner\" constructor\n",
    "end\n",
    "\n",
    "RobotDynamics.state_dim(::PendulumStatic) = 2\n",
    "RobotDynamics.control_dim(::PendulumStatic) = 1\n",
    "\n",
    "function RobotDynamics.dynamics(p::PendulumStatic, x, u)\n",
    "    m = p.mass * p.lc * p.lc\n",
    "    # NOTE the SA prefeix here, which creates a static array\n",
    "    SA[x[2], u[1]/m - p.g*sin(x[1])/p.lc - p.b*x[2]/m]\n",
    "end\n",
    "\n",
    "# Define the Cost Function\n",
    "# NOTE the use of @SVector to create static vectors\n",
    "Q = 1e-3*Diagonal(@SVector ones(n))\n",
    "R = 1e-3*Diagonal(@SVector ones(m))\n",
    "Qf = 1e-0*Diagonal(@SVector ones(n))\n",
    "\n",
    "# NOTE these don't actually have to be static vectors, since the problem will convert them automatically\n",
    "x0_static = @SVector zeros(n)\n",
    "xf_static = @SVector [pi, 0.0]  # i.e. swing up\n",
    "obj_static = LQRObjective(Q,R,Qf,xf,N)\n",
    "\n",
    "# Define the problem and solver\n",
    "model_static = PendulumStatic()\n",
    "prob_static = Problem(model_static, obj_static, xf_static, tf, x0=x0_static);\n",
    "solver_static = ALTROSolver(prob_static);"
   ]
  },
  {
   "cell_type": "markdown",
   "id": "f6b34b98-ebfb-40b5-bc9e-26fcbd4b3470",
   "metadata": {},
   "source": [
    "Now let's solve it and compare the results:"
   ]
  },
  {
   "cell_type": "code",
   "execution_count": 92,
   "id": "a0257a30-67ae-4b3e-967a-7d2a41a80422",
   "metadata": {},
   "outputs": [
    {
     "data": {
      "text/plain": [
       "BenchmarkTools.Trial: \n",
       "  memory estimate:  0 bytes\n",
       "  allocs estimate:  0\n",
       "  --------------\n",
       "  minimum time:     779.870 μs (0.00% GC)\n",
       "  median time:      780.358 μs (0.00% GC)\n",
       "  mean time:        780.658 μs (0.00% GC)\n",
       "  maximum time:     783.317 μs (0.00% GC)\n",
       "  --------------\n",
       "  samples:          10\n",
       "  evals/sample:     10"
      ]
     },
     "execution_count": 92,
     "metadata": {},
     "output_type": "execute_result"
    }
   ],
   "source": [
    "initial_controls!(solver_static, U0);\n",
    "benchmark_static = benchmark_solve!(solver_static)"
   ]
  },
  {
   "cell_type": "code",
   "execution_count": 87,
   "id": "6ad60302-ad92-4e4e-ac06-461e0d1ce8ab",
   "metadata": {},
   "outputs": [
    {
     "data": {
      "text/plain": [
       "BenchmarkTools.TrialJudgement: \n",
       "  time:   -71.82% => \u001b[32mimprovement\u001b[39m (5.00% tolerance)\n",
       "  memory: -100.00% => \u001b[32mimprovement\u001b[39m (1.00% tolerance)\n"
      ]
     },
     "execution_count": 87,
     "metadata": {},
     "output_type": "execute_result"
    }
   ],
   "source": [
    "using BenchmarkTools\n",
    "judge(median(benchmark_static), median(benchmark))"
   ]
  }
 ],
 "metadata": {
  "kernelspec": {
   "display_name": "Julia 1.6.1",
   "language": "julia",
   "name": "julia-1.6"
  },
  "language_info": {
   "file_extension": ".jl",
   "mimetype": "application/julia",
   "name": "julia",
   "version": "1.6.1"
  }
 },
 "nbformat": 4,
 "nbformat_minor": 5
}
