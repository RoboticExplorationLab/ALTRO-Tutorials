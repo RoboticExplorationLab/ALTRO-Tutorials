{
 "cells": [
  {
   "cell_type": "markdown",
   "id": "7d7c8dfa",
   "metadata": {},
   "source": [
    "# Pendulum: Getting Started"
   ]
  },
  {
   "cell_type": "code",
   "execution_count": 1,
   "id": "c960e8da",
   "metadata": {},
   "outputs": [
    {
     "name": "stderr",
     "output_type": "stream",
     "text": [
      "\u001b[32m\u001b[1m  Activating\u001b[22m\u001b[39m environment at `~/.julia/dev/AltroTutorials/Project.toml`\n"
     ]
    }
   ],
   "source": [
    "import Pkg; Pkg.activate(joinpath(@__DIR__, \"..\")); Pkg.instantiate();\n",
    "using Altro\n",
    "using TrajectoryOptimization\n",
    "using RobotDynamics"
   ]
  },
  {
   "cell_type": "markdown",
   "id": "d268fef2",
   "metadata": {},
   "source": [
    "## 1. Defining the Dynamics Model\n",
    "The first step of setting up and solving a trajectory optimization problem is usually defining the dynamics model you want to use. All dynamics models used by TrajectoryOptimization and Altro are defined using RobotDynamics. Here we set up a dynamics model for the simple pendulum.\n",
    "\n",
    "The first step is to create a new `struct` that is a sub-type of `RobotDynamics.AbstractModel`. In Julia, sub-typing is similar to inheritance, in that any methods that work on parent types work on the child types. Additionally, Julia will automatically find the method that matches the most specific method for the argument type(s), similar to virtual methods in C++. Therefore, by defining our new type to be a sub-type of `RobotDynamics.AbstractModel` we allow it to be used anywhere an `AbstractModel` is expected. Additionally, we're expected to define a few methods for our type to flush out the interface (similar to defining a pure virtual function in C++).\n",
    "\n",
    "We can add any model parameters to the new `struct` we have created, such as the mass, length, friction coefficient, etc. Remember to annotate the types on all member variables."
   ]
  },
  {
   "cell_type": "code",
   "execution_count": 2,
   "id": "e5cf2d31",
   "metadata": {},
   "outputs": [],
   "source": [
    "struct Pendulum <: AbstractModel\n",
    "    mass::Float64\n",
    "    length::Float64\n",
    "    b::Float64\n",
    "    lc::Float64\n",
    "    I::Float64\n",
    "    g::Float64\n",
    "end"
   ]
  },
  {
   "cell_type": "markdown",
   "id": "db8781f8",
   "metadata": {},
   "source": [
    "Often we want to define a default constructor for our model that supplies default values. We'll define an *outer* constructor taking keyword arguments corresponding to our data fields. It then calls the default *inner* constructor, which expects the positional arguments for all the fields, in the order they are declared in the struct. Note that the leading semi-colon in the argument list specifies that all the following arguments are keyword arguments. Unlike Python, these *must* be supplied as keyword arguments, e.g. `Pendulum(b=0.2)`. We'll demonstrate an easier way to define default values in the next example."
   ]
  },
  {
   "cell_type": "code",
   "execution_count": 3,
   "id": "fb0d9f4e",
   "metadata": {},
   "outputs": [
    {
     "data": {
      "text/plain": [
       "Pendulum"
      ]
     },
     "execution_count": 3,
     "metadata": {},
     "output_type": "execute_result"
    }
   ],
   "source": [
    "# default constructor with default keyword arguments\n",
    "function Pendulum(; mass=1.0, length=0.5, b=0.1, lc=0.5, I=0.25, g=9.81)\n",
    "    Pendulum(mass, length, b, lc, I, g)  # call default \"inner\" constructor\n",
    "end"
   ]
  },
  {
   "cell_type": "markdown",
   "id": "fb1ed632",
   "metadata": {},
   "source": [
    "Now we need to flush out the interface, which expects us to \"overload\" the following methods on our type:\n",
    "* `RobotDynamics.state_dim(::NewModel)`\n",
    "* `RobotDynamics.control_dim(::NewModel)`\n",
    "* `RobotDynamics.dynamics(::NewModel, x, u, [t])`\n",
    "\n",
    "where the `t` argument for the dynamics is optional, and can be used for time-varying dynamics. When we define these methods, we have to tell Julia that we're overloading the methods in RobotDynamics. We can do this by either 1) explicitly specifying the module (`RobotDynamics`) when defining the method, or 2) importing the method via `import RobotDynamics.MethodToOverride`. We'll show both approaches below:"
   ]
  },
  {
   "cell_type": "code",
   "execution_count": 4,
   "id": "82fb03e4",
   "metadata": {},
   "outputs": [
    {
     "data": {
      "text/plain": [
       "dynamics (generic function with 18 methods)"
      ]
     },
     "execution_count": 4,
     "metadata": {},
     "output_type": "execute_result"
    }
   ],
   "source": [
    "import RobotDynamics.dynamics\n",
    "# import RobotDynamics: dynamics, state_dim, control_dim (alternative with multiple imports)\n",
    "\n",
    "# Explicitly define the module to override (recommended)\n",
    "RobotDynamics.state_dim(::Pendulum) = 2\n",
    "RobotDynamics.control_dim(::Pendulum) = 1\n",
    "\n",
    "# Use the imported function (not recommended, since it isn't as clear that you're overriding an existing method)\n",
    "function dynamics(p::Pendulum, x, u)\n",
    "    m = p.mass * p.lc * p.lc\n",
    "    xdot = [x[2], u[1]/m - p.g*sin(x[1])/p.lc - p.b*x[2]/m]\n",
    "    return xdot  # this line is optional, since Julia returns the last expression, by default\n",
    "end"
   ]
  },
  {
   "cell_type": "markdown",
   "id": "5b349066",
   "metadata": {},
   "source": [
    "And with that, we've defined our dynamics model!"
   ]
  },
  {
   "cell_type": "markdown",
   "id": "47c9d0ee",
   "metadata": {},
   "source": [
    "## 2. Defining our Cost Function\n",
    "We'll now define our cost function, which will be a basic quadratic cost penalizing the distance to the goal:\n",
    "$$ \\frac{1}{2} (x_N - \\bar{x}_N)^T Q_N (x_N - \\bar{x}_N) + \\frac{1}{2}\\sum_{k=1}^{N-1} (x_k - \\bar{x}_N)^T Q (x_k - \\bar{x}_N) + u_k^T R u_k $$\n",
    "where $\\bar{x}_N$ is the goal state.\n",
    "\n",
    "We start be first creating an instance of our model, since it tells us our state and control dimensions. We also need to define the length of our trajectory, both in time (seconds) and the number of knot points (sample points)."
   ]
  },
  {
   "cell_type": "code",
   "execution_count": 5,
   "id": "75d5c161",
   "metadata": {},
   "outputs": [
    {
     "data": {
      "text/plain": [
       "3.0"
      ]
     },
     "execution_count": 5,
     "metadata": {},
     "output_type": "execute_result"
    }
   ],
   "source": [
    "# Create a pendulum model\n",
    "model = Pendulum()\n",
    "\n",
    "# Get the model sizes\n",
    "n = state_dim(model)\n",
    "m = control_dim(model)\n",
    "\n",
    "# Define the discretization\n",
    "N = 51\n",
    "tf = 3.0"
   ]
  },
  {
   "cell_type": "markdown",
   "id": "97c3a121",
   "metadata": {},
   "source": [
    "We can now define our cost matrices, $Q_N$, $Q$, and $R$, as well our final state $\\bar{x}_N$. These are almost always diagonal, positive-definite matrices. To leverage this structure, we define them using the `Diagonal` matrix type in the `LinearAlgebra` package in the Julia standard library."
   ]
  },
  {
   "cell_type": "code",
   "execution_count": 6,
   "id": "9cd6fb27",
   "metadata": {},
   "outputs": [],
   "source": [
    "using LinearAlgebra\n",
    "\n",
    "Q = 1e-3*Diagonal(ones(n))\n",
    "R = 1e-3*Diagonal(ones(m))\n",
    "Qf = 1e-0*Diagonal(ones(n))\n",
    "xf = [pi, 0.0];  # i.e. swing up"
   ]
  },
  {
   "cell_type": "markdown",
   "id": "4db447f7",
   "metadata": {},
   "source": [
    "With those defined, we now have all we need to define our cost function. We'll use the conventient [`LQRObjective`](http://roboticexplorationlab.org/TrajectoryOptimization.jl/dev/cost_api.html#TrajectoryOptimization.LQRObjective) constructor in TrajectoryOptimization.jl (see docs for more details)."
   ]
  },
  {
   "cell_type": "code",
   "execution_count": 7,
   "id": "5bf21ecb",
   "metadata": {},
   "outputs": [],
   "source": [
    "obj = LQRObjective(Q,R,Qf,xf,N);"
   ]
  },
  {
   "cell_type": "markdown",
   "id": "604e5ac2",
   "metadata": {},
   "source": [
    "The `Objective` object we just created holds an individual `CostFunction` for each knot point. We can extract those simply by indexing into the object, i.e. `obj[k]`. It defines methods for evaluating the cost and it's first and second-order derivatives."
   ]
  },
  {
   "cell_type": "markdown",
   "id": "0e3da18a",
   "metadata": {},
   "source": [
    "## 3. Defining the Problem\n",
    "With our dynamics and cost function, we're now ready to set up and solve our first trajectory optimization problem! We do this using the aptly-named `TrajectoryOptimization.Problem` type. The constructor for this objective is quite friendly and offers several different convenient forms, but you'll almost always call it as follows:"
   ]
  },
  {
   "cell_type": "code",
   "execution_count": 8,
   "id": "ef8ecf8a",
   "metadata": {},
   "outputs": [],
   "source": [
    "# Initial state\n",
    "x0 = [0.0, 0.0]\n",
    "\n",
    "# Define the problem\n",
    "prob_pendulum = Problem(model, obj, xf, tf, x0=x0);"
   ]
  },
  {
   "cell_type": "markdown",
   "id": "c1ecf5eb",
   "metadata": {},
   "source": [
    "## 4. Setting the initial guess\n",
    "As with all gradient-based nonlinear optimization, the initial guess is extremely important. By default, Altro (which uses iLQR for unconstrained problems like this), only accepts initial guesses for the control trajectory. We'll provide a simple guess that applies a small torque in one direction for the duration of the trajectory."
   ]
  },
  {
   "cell_type": "code",
   "execution_count": 9,
   "id": "1359c70b",
   "metadata": {},
   "outputs": [],
   "source": [
    "# Define the initial guess\n",
    "U0 = [fill(0.1, m) for k = 1:N-1]\n",
    "\n",
    "# Set the initial guess for the problem\n",
    "initial_controls!(prob_pendulum, U0)"
   ]
  },
  {
   "cell_type": "markdown",
   "id": "cb192107",
   "metadata": {},
   "source": [
    "**A Note on Trajectory Representation**: Note that by default all trajectories in TrajectoryOptimization.jl are defined as vectors of (static) vectors. Don't worry about the static vectors for now, since we'll cover that in shortly. Instead of storing the trajectory as a 2D array, we avoid the overhead of slicing at runtime every time we need a state or control at a time step by defining them as separate vectors. Several methods in the API accept either vectors of vectors or 2D arrays, and `initial_controls!` is one of those. We demonstrate that below, along with an example of how to easily convert back and forth between these representations."
   ]
  },
  {
   "cell_type": "code",
   "execution_count": 10,
   "id": "6eee4b9e",
   "metadata": {},
   "outputs": [],
   "source": [
    "# convert from vector of vectors to 2D array\n",
    "U0_mat = hcat(U0...)  # uses splatting\n",
    "\n",
    "# pass to problem\n",
    "initial_controls!(prob_pendulum, U0_mat)\n",
    "\n",
    "# convert back to a vector of vectors\n",
    "U0_vecvec = [u for u in eachcol(U0_mat)];  # uses list comprehension"
   ]
  },
  {
   "cell_type": "markdown",
   "id": "00213a54",
   "metadata": {},
   "source": [
    "**A note on methods that end with a bang!** Methods that end with a bang symbol (!) aren't more exciting than other methods, it's just Julia convention for *mutuating* functions. For example, if you want to sort a list of numbers, you can use either `sort` which returns a new array, or you can sort in place using `sort!`:"
   ]
  },
  {
   "cell_type": "code",
   "execution_count": 11,
   "id": "bcffc041",
   "metadata": {},
   "outputs": [
    {
     "name": "stdout",
     "output_type": "stream",
     "text": [
      "Use `sort`\n",
      "list_sorted = [1, 2, 4, 5]\n",
      "list = [1, 5, 2, 4]\n",
      "list_sorted === list = false\n",
      "\n",
      "Use `sort!`\n",
      "list_sort!ed = [1, 2, 4, 5]\n",
      "list = [1, 2, 4, 5]\n",
      "list_sort!ed === list = true\n"
     ]
    }
   ],
   "source": [
    "list = [1,5,2,4]\n",
    "list_sorted = sort(list)\n",
    "println(\"Use `sort`\")\n",
    "@show list_sorted\n",
    "@show list\n",
    "@show list_sorted === list;  # test if they point to the same place in memory\n",
    "println(\"\\nUse `sort!`\")\n",
    "list_sort!ed = sort!(list)\n",
    "@show list_sort!ed\n",
    "@show list\n",
    "@show list_sort!ed === list; # test if they point to the same place in memory"
   ]
  },
  {
   "cell_type": "markdown",
   "id": "321b2112",
   "metadata": {},
   "source": [
    "## 5. Creating the Solver\n",
    "Now that we have a problem, complete with an initial guess, let's create our solver. It might take a few seconds the first time.\n",
    "\n",
    "When we create the solver, it allocates a bunch of storage for all the expansions, costs, dynamics, etc. The solver object acts similarly to a `Problem` object, in that we can extract the state and contorl trajectories, query the cost, provide an initial guess, change the initial state, etc. We'll cover more of these methods as we go through later examples."
   ]
  },
  {
   "cell_type": "code",
   "execution_count": 12,
   "id": "4c68df53",
   "metadata": {},
   "outputs": [],
   "source": [
    "# Create an Altro solver for our problem\n",
    "solver = ALTROSolver(prob_pendulum);"
   ]
  },
  {
   "cell_type": "markdown",
   "id": "77f6649d",
   "metadata": {},
   "source": [
    "## 6. Solve the problem\n",
    "We're now ready to solve our problem, and it's as easy as calling the `solve!` method. Again, it might take a few seconds the first time."
   ]
  },
  {
   "cell_type": "code",
   "execution_count": 13,
   "id": "97a08717",
   "metadata": {},
   "outputs": [
    {
     "name": "stdout",
     "output_type": "stream",
     "text": [
      "\u001b[32;1m\n",
      "SOLVE COMPLETED\n",
      "\u001b[0m solved using the \u001b[0m\u001b[36;1mALTRO\u001b[0m Solver,\n",
      " part of the Altro.jl package developed by the REx Lab at Stanford and Carnegie Mellon Universities\n",
      "\u001b[34;1m\n",
      "  Solve Statistics\n",
      "\u001b[0m    Total Iterations: 44\n",
      "\u001b[0m    Solve Time: 2.153292 (ms)\n",
      "\u001b[34;1m\n",
      "  Covergence\n",
      "\u001b[0m    Terminal Cost: 0.013858301324225965\n",
      "\u001b[0m    Terminal dJ: \u001b[32m7.610875539241016e-5\n",
      "\u001b[0m    Terminal gradient: \u001b[32m0.014192639231066964\n",
      "\u001b[0m    Solve Status: \u001b[1m\u001b[32mSOLVE_SUCCEEDED\n",
      "\u001b[0m"
     ]
    }
   ],
   "source": [
    "solve!(solver);"
   ]
  },
  {
   "cell_type": "markdown",
   "id": "a7682f13",
   "metadata": {},
   "source": [
    "Note that the `solve!` method ends with a bang symbol (!). This means that it modifies its trajectory in place. If we extract out the control vector we'll see that it's no longer the guess we provided:"
   ]
  },
  {
   "cell_type": "code",
   "execution_count": 14,
   "id": "886070ea",
   "metadata": {},
   "outputs": [
    {
     "data": {
      "text/plain": [
       "1×50 adjoint(::Vector{StaticArrays.SVector{1, Float64}}) with eltype Adjoint{Float64, StaticArrays.SVector{1, Float64}}:\n",
       " [2.33418]  [2.86693]  [3.40326]  [3.91253]  …  [-0.0112322]  [-0.0188922]"
      ]
     },
     "execution_count": 14,
     "metadata": {},
     "output_type": "execute_result"
    }
   ],
   "source": [
    "controls(solver)'"
   ]
  },
  {
   "cell_type": "markdown",
   "id": "b9c9d60a",
   "metadata": {},
   "source": [
    "So if we call the `solve!` method again, it will be using the answer as the initial guess, it now only takes 1 iteration:"
   ]
  },
  {
   "cell_type": "code",
   "execution_count": 15,
   "id": "2c8dd7e7",
   "metadata": {},
   "outputs": [
    {
     "name": "stdout",
     "output_type": "stream",
     "text": [
      "\u001b[32;1m\n",
      "SOLVE COMPLETED\n",
      "\u001b[0m solved using the \u001b[0m\u001b[36;1mALTRO\u001b[0m Solver,\n",
      " part of the Altro.jl package developed by the REx Lab at Stanford and Carnegie Mellon Universities\n",
      "\u001b[34;1m\n",
      "  Solve Statistics\n",
      "\u001b[0m    Total Iterations: 1\n",
      "\u001b[0m    Solve Time: 0.10310899999999999 (ms)\n",
      "\u001b[34;1m\n",
      "  Covergence\n",
      "\u001b[0m    Terminal Cost: 0.013817374452423623\n",
      "\u001b[0m    Terminal dJ: \u001b[32m4.092687180234228e-5\n",
      "\u001b[0m    Terminal gradient: \u001b[32m0.010103739286465803\n",
      "\u001b[0m    Solve Status: \u001b[1m\u001b[32mSOLVE_SUCCEEDED\n",
      "\u001b[0m"
     ]
    }
   ],
   "source": [
    "solve!(solver);"
   ]
  },
  {
   "cell_type": "markdown",
   "id": "e13c6cdc",
   "metadata": {},
   "source": [
    "If you want to re-run the initial solve, you'll have to reset the initial guess:"
   ]
  },
  {
   "cell_type": "code",
   "execution_count": 16,
   "id": "52559e1a",
   "metadata": {},
   "outputs": [
    {
     "name": "stdout",
     "output_type": "stream",
     "text": [
      "\u001b[32;1m\n",
      "SOLVE COMPLETED\n",
      "\u001b[0m solved using the \u001b[0m\u001b[36;1mALTRO\u001b[0m Solver,\n",
      " part of the Altro.jl package developed by the REx Lab at Stanford and Carnegie Mellon Universities\n",
      "\u001b[34;1m\n",
      "  Solve Statistics\n",
      "\u001b[0m    Total Iterations: 44\n",
      "\u001b[0m    Solve Time: 2.284271 (ms)\n",
      "\u001b[34;1m\n",
      "  Covergence\n",
      "\u001b[0m    Terminal Cost: 0.013858301324225965\n",
      "\u001b[0m    Terminal dJ: \u001b[32m7.610875539241016e-5\n",
      "\u001b[0m    Terminal gradient: \u001b[32m0.014192639231066964\n",
      "\u001b[0m    Solve Status: \u001b[1m\u001b[32mSOLVE_SUCCEEDED\n",
      "\u001b[0m"
     ]
    }
   ],
   "source": [
    "initial_controls!(solver, U0)\n",
    "solve!(solver);"
   ]
  },
  {
   "cell_type": "markdown",
   "id": "4737b802",
   "metadata": {},
   "source": [
    "## 7. Post-processing\n",
    "Now that we've solved our problem, let's extract out some information. The code block below demonstrates several different useful methods:"
   ]
  },
  {
   "cell_type": "code",
   "execution_count": 17,
   "id": "507b9407",
   "metadata": {},
   "outputs": [
    {
     "name": "stdout",
     "output_type": "stream",
     "text": [
      "\u001b[32;1m\n",
      "SOLVE COMPLETED\n",
      "\u001b[0m solved using the \u001b[0m\u001b[36;1mALTRO\u001b[0m Solver,\n",
      " part of the Altro.jl package developed by the REx Lab at Stanford and Carnegie Mellon Universities\n",
      "\u001b[34;1m\n",
      "  Solve Statistics\n",
      "\u001b[0m    Total Iterations: 44\n",
      "\u001b[0m    Solve Time: 2.284271 (ms)\n",
      "\u001b[34;1m\n",
      "  Covergence\n",
      "\u001b[0m    Terminal Cost: 0.013858301324225965\n",
      "\u001b[0m    Terminal dJ: \u001b[32m7.610875539241016e-5\n",
      "\u001b[0m    Terminal gradient: \u001b[32m0.014192639231066964\n",
      "\u001b[0m    Solve Status: \u001b[1m\u001b[32mSOLVE_SUCCEEDED\n",
      "\u001b[0m"
     ]
    }
   ],
   "source": [
    "# get the solver iterations\n",
    "iters = iterations(solver)\n",
    "\n",
    "# get the state trajectory\n",
    "X_sol = states(solver)\n",
    "\n",
    "# get the control trajectory\n",
    "U_sol = controls(solver)\n",
    "\n",
    "# get the final cost\n",
    "J_final = cost(solver)\n",
    "\n",
    "# print the summary\n",
    "Altro.print_summary(solver)"
   ]
  },
  {
   "cell_type": "markdown",
   "id": "14e222f1",
   "metadata": {},
   "source": [
    "If you want to extract out intermediate values, you can extract out the `SolverStats` type which containts a bunch of info logged during the solve:"
   ]
  },
  {
   "cell_type": "code",
   "execution_count": 18,
   "id": "ec1cc2e7",
   "metadata": {},
   "outputs": [
    {
     "data": {
      "image/svg+xml": [
       "<?xml version=\"1.0\" encoding=\"utf-8\"?>\n",
       "<svg xmlns=\"http://www.w3.org/2000/svg\" xmlns:xlink=\"http://www.w3.org/1999/xlink\" width=\"600\" height=\"400\" viewBox=\"0 0 2400 1600\">\n",
       "<defs>\n",
       "  <clipPath id=\"clip290\">\n",
       "    <rect x=\"0\" y=\"0\" width=\"2400\" height=\"1600\"/>\n",
       "  </clipPath>\n",
       "</defs>\n",
       "<path clip-path=\"url(#clip290)\" d=\"\n",
       "M0 1600 L2400 1600 L2400 0 L0 0  Z\n",
       "  \" fill=\"#ffffff\" fill-rule=\"evenodd\" fill-opacity=\"1\"/>\n",
       "<defs>\n",
       "  <clipPath id=\"clip291\">\n",
       "    <rect x=\"480\" y=\"0\" width=\"1681\" height=\"1600\"/>\n",
       "  </clipPath>\n",
       "</defs>\n",
       "<path clip-path=\"url(#clip290)\" d=\"\n",
       "M251.372 1423.18 L2352.76 1423.18 L2352.76 47.2441 L251.372 47.2441  Z\n",
       "  \" fill=\"#ffffff\" fill-rule=\"evenodd\" fill-opacity=\"1\"/>\n",
       "<defs>\n",
       "  <clipPath id=\"clip292\">\n",
       "    <rect x=\"251\" y=\"47\" width=\"2102\" height=\"1377\"/>\n",
       "  </clipPath>\n",
       "</defs>\n",
       "<polyline clip-path=\"url(#clip292)\" style=\"stroke:#000000; stroke-linecap:butt; stroke-linejoin:round; stroke-width:2; stroke-opacity:0.1; fill:none\" points=\"\n",
       "  264.742,1423.18 264.742,47.2441 \n",
       "  \"/>\n",
       "<polyline clip-path=\"url(#clip292)\" style=\"stroke:#000000; stroke-linecap:butt; stroke-linejoin:round; stroke-width:2; stroke-opacity:0.1; fill:none\" points=\"\n",
       "  725.774,1423.18 725.774,47.2441 \n",
       "  \"/>\n",
       "<polyline clip-path=\"url(#clip292)\" style=\"stroke:#000000; stroke-linecap:butt; stroke-linejoin:round; stroke-width:2; stroke-opacity:0.1; fill:none\" points=\"\n",
       "  1186.81,1423.18 1186.81,47.2441 \n",
       "  \"/>\n",
       "<polyline clip-path=\"url(#clip292)\" style=\"stroke:#000000; stroke-linecap:butt; stroke-linejoin:round; stroke-width:2; stroke-opacity:0.1; fill:none\" points=\"\n",
       "  1647.84,1423.18 1647.84,47.2441 \n",
       "  \"/>\n",
       "<polyline clip-path=\"url(#clip292)\" style=\"stroke:#000000; stroke-linecap:butt; stroke-linejoin:round; stroke-width:2; stroke-opacity:0.1; fill:none\" points=\"\n",
       "  2108.87,1423.18 2108.87,47.2441 \n",
       "  \"/>\n",
       "<polyline clip-path=\"url(#clip290)\" style=\"stroke:#000000; stroke-linecap:butt; stroke-linejoin:round; stroke-width:4; stroke-opacity:1; fill:none\" points=\"\n",
       "  251.372,1423.18 2352.76,1423.18 \n",
       "  \"/>\n",
       "<polyline clip-path=\"url(#clip290)\" style=\"stroke:#000000; stroke-linecap:butt; stroke-linejoin:round; stroke-width:4; stroke-opacity:1; fill:none\" points=\"\n",
       "  264.742,1423.18 264.742,1406.67 \n",
       "  \"/>\n",
       "<polyline clip-path=\"url(#clip290)\" style=\"stroke:#000000; stroke-linecap:butt; stroke-linejoin:round; stroke-width:4; stroke-opacity:1; fill:none\" points=\"\n",
       "  725.774,1423.18 725.774,1406.67 \n",
       "  \"/>\n",
       "<polyline clip-path=\"url(#clip290)\" style=\"stroke:#000000; stroke-linecap:butt; stroke-linejoin:round; stroke-width:4; stroke-opacity:1; fill:none\" points=\"\n",
       "  1186.81,1423.18 1186.81,1406.67 \n",
       "  \"/>\n",
       "<polyline clip-path=\"url(#clip290)\" style=\"stroke:#000000; stroke-linecap:butt; stroke-linejoin:round; stroke-width:4; stroke-opacity:1; fill:none\" points=\"\n",
       "  1647.84,1423.18 1647.84,1406.67 \n",
       "  \"/>\n",
       "<polyline clip-path=\"url(#clip290)\" style=\"stroke:#000000; stroke-linecap:butt; stroke-linejoin:round; stroke-width:4; stroke-opacity:1; fill:none\" points=\"\n",
       "  2108.87,1423.18 2108.87,1406.67 \n",
       "  \"/>\n",
       "<path clip-path=\"url(#clip290)\" d=\"M264.742 1452.37 Q261.131 1452.37 259.302 1455.94 Q257.497 1459.48 257.497 1466.61 Q257.497 1473.71 259.302 1477.28 Q261.131 1480.82 264.742 1480.82 Q268.376 1480.82 270.182 1477.28 Q272.011 1473.71 272.011 1466.61 Q272.011 1459.48 270.182 1455.94 Q268.376 1452.37 264.742 1452.37 M264.742 1448.67 Q270.552 1448.67 273.608 1453.27 Q276.686 1457.86 276.686 1466.61 Q276.686 1475.33 273.608 1479.94 Q270.552 1484.52 264.742 1484.52 Q258.932 1484.52 255.853 1479.94 Q252.798 1475.33 252.798 1466.61 Q252.798 1457.86 255.853 1453.27 Q258.932 1448.67 264.742 1448.67 Z\" fill=\"#000000\" fill-rule=\"evenodd\" fill-opacity=\"1\" /><path clip-path=\"url(#clip290)\" d=\"M700.462 1479.92 L708.101 1479.92 L708.101 1453.55 L699.79 1455.22 L699.79 1450.96 L708.054 1449.29 L712.73 1449.29 L712.73 1479.92 L720.369 1479.92 L720.369 1483.85 L700.462 1483.85 L700.462 1479.92 Z\" fill=\"#000000\" fill-rule=\"evenodd\" fill-opacity=\"1\" /><path clip-path=\"url(#clip290)\" d=\"M739.813 1452.37 Q736.202 1452.37 734.374 1455.94 Q732.568 1459.48 732.568 1466.61 Q732.568 1473.71 734.374 1477.28 Q736.202 1480.82 739.813 1480.82 Q743.448 1480.82 745.253 1477.28 Q747.082 1473.71 747.082 1466.61 Q747.082 1459.48 745.253 1455.94 Q743.448 1452.37 739.813 1452.37 M739.813 1448.67 Q745.624 1448.67 748.679 1453.27 Q751.758 1457.86 751.758 1466.61 Q751.758 1475.33 748.679 1479.94 Q745.624 1484.52 739.813 1484.52 Q734.003 1484.52 730.925 1479.94 Q727.869 1475.33 727.869 1466.61 Q727.869 1457.86 730.925 1453.27 Q734.003 1448.67 739.813 1448.67 Z\" fill=\"#000000\" fill-rule=\"evenodd\" fill-opacity=\"1\" /><path clip-path=\"url(#clip290)\" d=\"M1165.58 1479.92 L1181.9 1479.92 L1181.9 1483.85 L1159.95 1483.85 L1159.95 1479.92 Q1162.62 1477.16 1167.2 1472.53 Q1171.81 1467.88 1172.99 1466.54 Q1175.23 1464.01 1176.11 1462.28 Q1177.01 1460.52 1177.01 1458.83 Q1177.01 1456.07 1175.07 1454.34 Q1173.15 1452.6 1170.05 1452.6 Q1167.85 1452.6 1165.39 1453.37 Q1162.96 1454.13 1160.19 1455.68 L1160.19 1450.96 Q1163.01 1449.82 1165.46 1449.25 Q1167.92 1448.67 1169.95 1448.67 Q1175.32 1448.67 1178.52 1451.35 Q1181.71 1454.04 1181.71 1458.53 Q1181.71 1460.66 1180.9 1462.58 Q1180.12 1464.48 1178.01 1467.07 Q1177.43 1467.74 1174.33 1470.96 Q1171.23 1474.15 1165.58 1479.92 Z\" fill=\"#000000\" fill-rule=\"evenodd\" fill-opacity=\"1\" /><path clip-path=\"url(#clip290)\" d=\"M1201.71 1452.37 Q1198.1 1452.37 1196.27 1455.94 Q1194.47 1459.48 1194.47 1466.61 Q1194.47 1473.71 1196.27 1477.28 Q1198.1 1480.82 1201.71 1480.82 Q1205.35 1480.82 1207.15 1477.28 Q1208.98 1473.71 1208.98 1466.61 Q1208.98 1459.48 1207.15 1455.94 Q1205.35 1452.37 1201.71 1452.37 M1201.71 1448.67 Q1207.52 1448.67 1210.58 1453.27 Q1213.66 1457.86 1213.66 1466.61 Q1213.66 1475.33 1210.58 1479.94 Q1207.52 1484.52 1201.71 1484.52 Q1195.9 1484.52 1192.82 1479.94 Q1189.77 1475.33 1189.77 1466.61 Q1189.77 1457.86 1192.82 1453.27 Q1195.9 1448.67 1201.71 1448.67 Z\" fill=\"#000000\" fill-rule=\"evenodd\" fill-opacity=\"1\" /><path clip-path=\"url(#clip290)\" d=\"M1636.68 1465.22 Q1640.04 1465.94 1641.91 1468.2 Q1643.81 1470.47 1643.81 1473.81 Q1643.81 1478.92 1640.29 1481.72 Q1636.77 1484.52 1630.29 1484.52 Q1628.12 1484.52 1625.8 1484.08 Q1623.51 1483.67 1621.06 1482.81 L1621.06 1478.3 Q1623 1479.43 1625.31 1480.01 Q1627.63 1480.59 1630.15 1480.59 Q1634.55 1480.59 1636.84 1478.85 Q1639.16 1477.12 1639.16 1473.81 Q1639.16 1470.75 1637 1469.04 Q1634.88 1467.3 1631.06 1467.3 L1627.03 1467.3 L1627.03 1463.46 L1631.24 1463.46 Q1634.69 1463.46 1636.52 1462.09 Q1638.35 1460.7 1638.35 1458.11 Q1638.35 1455.45 1636.45 1454.04 Q1634.57 1452.6 1631.06 1452.6 Q1629.13 1452.6 1626.94 1453.02 Q1624.74 1453.44 1622.1 1454.31 L1622.1 1450.15 Q1624.76 1449.41 1627.07 1449.04 Q1629.41 1448.67 1631.47 1448.67 Q1636.8 1448.67 1639.9 1451.1 Q1643 1453.5 1643 1457.63 Q1643 1460.5 1641.36 1462.49 Q1639.71 1464.45 1636.68 1465.22 Z\" fill=\"#000000\" fill-rule=\"evenodd\" fill-opacity=\"1\" /><path clip-path=\"url(#clip290)\" d=\"M1662.68 1452.37 Q1659.06 1452.37 1657.24 1455.94 Q1655.43 1459.48 1655.43 1466.61 Q1655.43 1473.71 1657.24 1477.28 Q1659.06 1480.82 1662.68 1480.82 Q1666.31 1480.82 1668.12 1477.28 Q1669.94 1473.71 1669.94 1466.61 Q1669.94 1459.48 1668.12 1455.94 Q1666.31 1452.37 1662.68 1452.37 M1662.68 1448.67 Q1668.49 1448.67 1671.54 1453.27 Q1674.62 1457.86 1674.62 1466.61 Q1674.62 1475.33 1671.54 1479.94 Q1668.49 1484.52 1662.68 1484.52 Q1656.87 1484.52 1653.79 1479.94 Q1650.73 1475.33 1650.73 1466.61 Q1650.73 1457.86 1653.79 1453.27 Q1656.87 1448.67 1662.68 1448.67 Z\" fill=\"#000000\" fill-rule=\"evenodd\" fill-opacity=\"1\" /><path clip-path=\"url(#clip290)\" d=\"M2097.04 1453.37 L2085.24 1471.81 L2097.04 1471.81 L2097.04 1453.37 M2095.81 1449.29 L2101.69 1449.29 L2101.69 1471.81 L2106.62 1471.81 L2106.62 1475.7 L2101.69 1475.7 L2101.69 1483.85 L2097.04 1483.85 L2097.04 1475.7 L2081.44 1475.7 L2081.44 1471.19 L2095.81 1449.29 Z\" fill=\"#000000\" fill-rule=\"evenodd\" fill-opacity=\"1\" /><path clip-path=\"url(#clip290)\" d=\"M2124.36 1452.37 Q2120.74 1452.37 2118.92 1455.94 Q2117.11 1459.48 2117.11 1466.61 Q2117.11 1473.71 2118.92 1477.28 Q2120.74 1480.82 2124.36 1480.82 Q2127.99 1480.82 2129.8 1477.28 Q2131.62 1473.71 2131.62 1466.61 Q2131.62 1459.48 2129.8 1455.94 Q2127.99 1452.37 2124.36 1452.37 M2124.36 1448.67 Q2130.17 1448.67 2133.22 1453.27 Q2136.3 1457.86 2136.3 1466.61 Q2136.3 1475.33 2133.22 1479.94 Q2130.17 1484.52 2124.36 1484.52 Q2118.55 1484.52 2115.47 1479.94 Q2112.41 1475.33 2112.41 1466.61 Q2112.41 1457.86 2115.47 1453.27 Q2118.55 1448.67 2124.36 1448.67 Z\" fill=\"#000000\" fill-rule=\"evenodd\" fill-opacity=\"1\" /><path clip-path=\"url(#clip290)\" d=\"M1152.06 1532.4 L1157.91 1532.4 L1157.91 1568.04 L1152.06 1568.04 L1152.06 1532.4 M1152.06 1518.52 L1157.91 1518.52 L1157.91 1525.93 L1152.06 1525.93 L1152.06 1518.52 Z\" fill=\"#000000\" fill-rule=\"evenodd\" fill-opacity=\"1\" /><path clip-path=\"url(#clip290)\" d=\"M1175.96 1522.27 L1175.96 1532.4 L1188.02 1532.4 L1188.02 1536.95 L1175.96 1536.95 L1175.96 1556.3 Q1175.96 1560.66 1177.14 1561.9 Q1178.35 1563.14 1182.01 1563.14 L1188.02 1563.14 L1188.02 1568.04 L1182.01 1568.04 Q1175.23 1568.04 1172.65 1565.53 Q1170.07 1562.98 1170.07 1556.3 L1170.07 1536.95 L1165.77 1536.95 L1165.77 1532.4 L1170.07 1532.4 L1170.07 1522.27 L1175.96 1522.27 Z\" fill=\"#000000\" fill-rule=\"evenodd\" fill-opacity=\"1\" /><path clip-path=\"url(#clip290)\" d=\"M1226.22 1548.76 L1226.22 1551.62 L1199.29 1551.62 Q1199.67 1557.67 1202.92 1560.85 Q1206.2 1564 1212.02 1564 Q1215.39 1564 1218.55 1563.17 Q1221.73 1562.35 1224.85 1560.69 L1224.85 1566.23 Q1221.7 1567.57 1218.39 1568.27 Q1215.08 1568.97 1211.67 1568.97 Q1203.14 1568.97 1198.14 1564 Q1193.18 1559.04 1193.18 1550.57 Q1193.18 1541.82 1197.89 1536.69 Q1202.63 1531.54 1210.65 1531.54 Q1217.85 1531.54 1222.02 1536.18 Q1226.22 1540.8 1226.22 1548.76 M1220.36 1547.04 Q1220.3 1542.23 1217.65 1539.37 Q1215.04 1536.5 1210.72 1536.5 Q1205.81 1536.5 1202.85 1539.27 Q1199.93 1542.04 1199.48 1547.07 L1220.36 1547.04 Z\" fill=\"#000000\" fill-rule=\"evenodd\" fill-opacity=\"1\" /><path clip-path=\"url(#clip290)\" d=\"M1256.49 1537.87 Q1255.5 1537.3 1254.32 1537.04 Q1253.18 1536.76 1251.77 1536.76 Q1246.81 1536.76 1244.14 1540 Q1241.49 1543.22 1241.49 1549.27 L1241.49 1568.04 L1235.61 1568.04 L1235.61 1532.4 L1241.49 1532.4 L1241.49 1537.93 Q1243.34 1534.69 1246.3 1533.13 Q1249.26 1531.54 1253.49 1531.54 Q1254.1 1531.54 1254.83 1531.63 Q1255.56 1531.7 1256.45 1531.85 L1256.49 1537.87 Z\" fill=\"#000000\" fill-rule=\"evenodd\" fill-opacity=\"1\" /><path clip-path=\"url(#clip290)\" d=\"M1278.83 1550.12 Q1271.73 1550.12 1268.99 1551.75 Q1266.26 1553.37 1266.26 1557.29 Q1266.26 1560.4 1268.29 1562.25 Q1270.36 1564.07 1273.9 1564.07 Q1278.77 1564.07 1281.69 1560.63 Q1284.65 1557.16 1284.65 1551.43 L1284.65 1550.12 L1278.83 1550.12 M1290.51 1547.71 L1290.51 1568.04 L1284.65 1568.04 L1284.65 1562.63 Q1282.65 1565.88 1279.66 1567.44 Q1276.66 1568.97 1272.34 1568.97 Q1266.86 1568.97 1263.62 1565.91 Q1260.4 1562.82 1260.4 1557.67 Q1260.4 1551.65 1264.41 1548.6 Q1268.45 1545.54 1276.44 1545.54 L1284.65 1545.54 L1284.65 1544.97 Q1284.65 1540.93 1281.98 1538.73 Q1279.34 1536.5 1274.53 1536.5 Q1271.48 1536.5 1268.58 1537.23 Q1265.68 1537.97 1263.01 1539.43 L1263.01 1534.02 Q1266.23 1532.78 1269.25 1532.17 Q1272.27 1531.54 1275.14 1531.54 Q1282.87 1531.54 1286.69 1535.55 Q1290.51 1539.56 1290.51 1547.71 Z\" fill=\"#000000\" fill-rule=\"evenodd\" fill-opacity=\"1\" /><path clip-path=\"url(#clip290)\" d=\"M1308.37 1522.27 L1308.37 1532.4 L1320.43 1532.4 L1320.43 1536.95 L1308.37 1536.95 L1308.37 1556.3 Q1308.37 1560.66 1309.54 1561.9 Q1310.75 1563.14 1314.41 1563.14 L1320.43 1563.14 L1320.43 1568.04 L1314.41 1568.04 Q1307.63 1568.04 1305.06 1565.53 Q1302.48 1562.98 1302.48 1556.3 L1302.48 1536.95 L1298.18 1536.95 L1298.18 1532.4 L1302.48 1532.4 L1302.48 1522.27 L1308.37 1522.27 Z\" fill=\"#000000\" fill-rule=\"evenodd\" fill-opacity=\"1\" /><path clip-path=\"url(#clip290)\" d=\"M1328.13 1532.4 L1333.99 1532.4 L1333.99 1568.04 L1328.13 1568.04 L1328.13 1532.4 M1328.13 1518.52 L1333.99 1518.52 L1333.99 1525.93 L1328.13 1525.93 L1328.13 1518.52 Z\" fill=\"#000000\" fill-rule=\"evenodd\" fill-opacity=\"1\" /><path clip-path=\"url(#clip290)\" d=\"M1360.06 1536.5 Q1355.35 1536.5 1352.61 1540.19 Q1349.87 1543.85 1349.87 1550.25 Q1349.87 1556.65 1352.58 1560.34 Q1355.31 1564 1360.06 1564 Q1364.73 1564 1367.47 1560.31 Q1370.21 1556.62 1370.21 1550.25 Q1370.21 1543.92 1367.47 1540.23 Q1364.73 1536.5 1360.06 1536.5 M1360.06 1531.54 Q1367.69 1531.54 1372.05 1536.5 Q1376.42 1541.47 1376.42 1550.25 Q1376.42 1559 1372.05 1564 Q1367.69 1568.97 1360.06 1568.97 Q1352.38 1568.97 1348.02 1564 Q1343.7 1559 1343.7 1550.25 Q1343.7 1541.47 1348.02 1536.5 Q1352.38 1531.54 1360.06 1531.54 Z\" fill=\"#000000\" fill-rule=\"evenodd\" fill-opacity=\"1\" /><path clip-path=\"url(#clip290)\" d=\"M1415.76 1546.53 L1415.76 1568.04 L1409.9 1568.04 L1409.9 1546.72 Q1409.9 1541.66 1407.93 1539.14 Q1405.95 1536.63 1402.01 1536.63 Q1397.26 1536.63 1394.53 1539.65 Q1391.79 1542.68 1391.79 1547.9 L1391.79 1568.04 L1385.9 1568.04 L1385.9 1532.4 L1391.79 1532.4 L1391.79 1537.93 Q1393.89 1534.72 1396.72 1533.13 Q1399.59 1531.54 1403.31 1531.54 Q1409.45 1531.54 1412.6 1535.36 Q1415.76 1539.14 1415.76 1546.53 Z\" fill=\"#000000\" fill-rule=\"evenodd\" fill-opacity=\"1\" /><path clip-path=\"url(#clip290)\" d=\"M1450.16 1533.45 L1450.16 1538.98 Q1447.68 1537.71 1445.01 1537.07 Q1442.33 1536.44 1439.47 1536.44 Q1435.11 1536.44 1432.91 1537.77 Q1430.75 1539.11 1430.75 1541.79 Q1430.75 1543.82 1432.31 1545 Q1433.87 1546.15 1438.58 1547.2 L1440.58 1547.64 Q1446.82 1548.98 1449.43 1551.43 Q1452.07 1553.85 1452.07 1558.21 Q1452.07 1563.17 1448.13 1566.07 Q1444.21 1568.97 1437.34 1568.97 Q1434.47 1568.97 1431.35 1568.39 Q1428.26 1567.85 1424.83 1566.74 L1424.83 1560.69 Q1428.07 1562.38 1431.22 1563.24 Q1434.38 1564.07 1437.46 1564.07 Q1441.6 1564.07 1443.83 1562.66 Q1446.06 1561.23 1446.06 1558.65 Q1446.06 1556.27 1444.43 1554.99 Q1442.84 1553.72 1437.4 1552.54 L1435.36 1552.07 Q1429.92 1550.92 1427.5 1548.56 Q1425.08 1546.18 1425.08 1542.04 Q1425.08 1537.01 1428.65 1534.27 Q1432.21 1531.54 1438.77 1531.54 Q1442.01 1531.54 1444.88 1532.01 Q1447.74 1532.49 1450.16 1533.45 Z\" fill=\"#000000\" fill-rule=\"evenodd\" fill-opacity=\"1\" /><polyline clip-path=\"url(#clip292)\" style=\"stroke:#000000; stroke-linecap:butt; stroke-linejoin:round; stroke-width:2; stroke-opacity:0.1; fill:none\" points=\"\n",
       "  251.372,828.535 2352.76,828.535 \n",
       "  \"/>\n",
       "<polyline clip-path=\"url(#clip292)\" style=\"stroke:#000000; stroke-linecap:butt; stroke-linejoin:round; stroke-width:2; stroke-opacity:0.1; fill:none\" points=\"\n",
       "  251.372,181.081 2352.76,181.081 \n",
       "  \"/>\n",
       "<polyline clip-path=\"url(#clip290)\" style=\"stroke:#000000; stroke-linecap:butt; stroke-linejoin:round; stroke-width:4; stroke-opacity:1; fill:none\" points=\"\n",
       "  251.372,1423.18 251.372,47.2441 \n",
       "  \"/>\n",
       "<polyline clip-path=\"url(#clip290)\" style=\"stroke:#000000; stroke-linecap:butt; stroke-linejoin:round; stroke-width:4; stroke-opacity:1; fill:none\" points=\"\n",
       "  251.372,828.535 276.589,828.535 \n",
       "  \"/>\n",
       "<polyline clip-path=\"url(#clip290)\" style=\"stroke:#000000; stroke-linecap:butt; stroke-linejoin:round; stroke-width:4; stroke-opacity:1; fill:none\" points=\"\n",
       "  251.372,181.081 276.589,181.081 \n",
       "  \"/>\n",
       "<path clip-path=\"url(#clip290)\" d=\"M114.931 848.328 L122.57 848.328 L122.57 821.962 L114.26 823.629 L114.26 819.369 L122.524 817.703 L127.2 817.703 L127.2 848.328 L134.839 848.328 L134.839 852.263 L114.931 852.263 L114.931 848.328 Z\" fill=\"#000000\" fill-rule=\"evenodd\" fill-opacity=\"1\" /><path clip-path=\"url(#clip290)\" d=\"M154.283 820.781 Q150.672 820.781 148.843 824.346 Q147.038 827.888 147.038 835.017 Q147.038 842.124 148.843 845.689 Q150.672 849.23 154.283 849.23 Q157.917 849.23 159.723 845.689 Q161.552 842.124 161.552 835.017 Q161.552 827.888 159.723 824.346 Q157.917 820.781 154.283 820.781 M154.283 817.078 Q160.093 817.078 163.149 821.684 Q166.227 826.268 166.227 835.017 Q166.227 843.744 163.149 848.351 Q160.093 852.934 154.283 852.934 Q148.473 852.934 145.394 848.351 Q142.339 843.744 142.339 835.017 Q142.339 826.268 145.394 821.684 Q148.473 817.078 154.283 817.078 Z\" fill=\"#000000\" fill-rule=\"evenodd\" fill-opacity=\"1\" /><path clip-path=\"url(#clip290)\" d=\"M166.227 811.179 L190.339 811.179 L190.339 814.376 L166.227 814.376 L166.227 811.179 Z\" fill=\"#000000\" fill-rule=\"evenodd\" fill-opacity=\"1\" /><path clip-path=\"url(#clip290)\" d=\"M199.197 821.655 L205.404 821.655 L205.404 800.233 L198.652 801.587 L198.652 798.127 L205.366 796.772 L209.166 796.772 L209.166 821.655 L215.372 821.655 L215.372 824.852 L199.197 824.852 L199.197 821.655 Z\" fill=\"#000000\" fill-rule=\"evenodd\" fill-opacity=\"1\" /><path clip-path=\"url(#clip290)\" d=\"M144.667 200.874 L152.305 200.874 L152.305 174.508 L143.995 176.175 L143.995 171.916 L152.259 170.249 L156.935 170.249 L156.935 200.874 L164.574 200.874 L164.574 204.809 L144.667 204.809 L144.667 200.874 Z\" fill=\"#000000\" fill-rule=\"evenodd\" fill-opacity=\"1\" /><path clip-path=\"url(#clip290)\" d=\"M184.018 173.328 Q180.407 173.328 178.578 176.892 Q176.773 180.434 176.773 187.564 Q176.773 194.67 178.578 198.235 Q180.407 201.777 184.018 201.777 Q187.652 201.777 189.458 198.235 Q191.287 194.67 191.287 187.564 Q191.287 180.434 189.458 176.892 Q187.652 173.328 184.018 173.328 M184.018 169.624 Q189.828 169.624 192.884 174.23 Q195.963 178.814 195.963 187.564 Q195.963 196.29 192.884 200.897 Q189.828 205.48 184.018 205.48 Q178.208 205.48 175.129 200.897 Q172.074 196.29 172.074 187.564 Q172.074 178.814 175.129 174.23 Q178.208 169.624 184.018 169.624 Z\" fill=\"#000000\" fill-rule=\"evenodd\" fill-opacity=\"1\" /><path clip-path=\"url(#clip290)\" d=\"M205.667 151.82 Q202.733 151.82 201.248 154.716 Q199.781 157.594 199.781 163.387 Q199.781 169.161 201.248 172.057 Q202.733 174.935 205.667 174.935 Q208.62 174.935 210.087 172.057 Q211.573 169.161 211.573 163.387 Q211.573 157.594 210.087 154.716 Q208.62 151.82 205.667 151.82 M205.667 148.811 Q210.388 148.811 212.871 152.553 Q215.372 156.277 215.372 163.387 Q215.372 170.477 212.871 174.22 Q210.388 177.944 205.667 177.944 Q200.947 177.944 198.445 174.22 Q195.963 170.477 195.963 163.387 Q195.963 156.277 198.445 152.553 Q200.947 148.811 205.667 148.811 Z\" fill=\"#000000\" fill-rule=\"evenodd\" fill-opacity=\"1\" /><path clip-path=\"url(#clip290)\" d=\"M29.7248 772.053 L35.1993 772.053 Q33.8307 774.536 33.1623 777.051 Q32.4621 779.533 32.4621 782.079 Q32.4621 787.777 36.0905 790.928 Q39.6872 794.079 46.212 794.079 Q52.7369 794.079 56.3653 790.928 Q59.9619 787.777 59.9619 782.079 Q59.9619 779.533 59.2935 777.051 Q58.5933 774.536 57.2247 772.053 L62.6355 772.053 Q63.7814 774.504 64.3543 777.146 Q64.9272 779.756 64.9272 782.716 Q64.9272 790.769 59.8664 795.511 Q54.8057 800.254 46.212 800.254 Q37.491 800.254 32.4939 795.479 Q27.4968 790.673 27.4968 782.334 Q27.4968 779.629 28.0697 777.051 Q28.6108 774.472 29.7248 772.053 Z\" fill=\"#000000\" fill-rule=\"evenodd\" fill-opacity=\"1\" /><path clip-path=\"url(#clip290)\" d=\"M32.4621 748.055 Q32.4621 752.765 36.1542 755.503 Q39.8145 758.24 46.212 758.24 Q52.6095 758.24 56.3017 755.534 Q59.9619 752.797 59.9619 748.055 Q59.9619 743.376 56.2698 740.639 Q52.5777 737.901 46.212 737.901 Q39.8781 737.901 36.186 740.639 Q32.4621 743.376 32.4621 748.055 M27.4968 748.055 Q27.4968 740.416 32.4621 736.055 Q37.4273 731.695 46.212 731.695 Q54.9649 731.695 59.9619 736.055 Q64.9272 740.416 64.9272 748.055 Q64.9272 755.725 59.9619 760.086 Q54.9649 764.415 46.212 764.415 Q37.4273 764.415 32.4621 760.086 Q27.4968 755.725 27.4968 748.055 Z\" fill=\"#000000\" fill-rule=\"evenodd\" fill-opacity=\"1\" /><path clip-path=\"url(#clip290)\" d=\"M29.4065 699.262 L34.9447 699.262 Q33.6716 701.744 33.035 704.418 Q32.3984 707.091 32.3984 709.956 Q32.3984 714.317 33.7352 716.513 Q35.072 718.677 37.7456 718.677 Q39.7826 718.677 40.9603 717.117 Q42.1061 715.558 43.1565 710.847 L43.6021 708.842 Q44.9389 702.604 47.3897 699.994 Q49.8086 697.352 54.1691 697.352 Q59.1344 697.352 62.0308 701.299 Q64.9272 705.214 64.9272 712.089 Q64.9272 714.953 64.3543 718.072 Q63.8132 721.16 62.6992 724.597 L56.6518 724.597 Q58.3387 721.351 59.198 718.2 Q60.0256 715.049 60.0256 711.961 Q60.0256 707.824 58.6251 705.596 Q57.1929 703.368 54.6147 703.368 Q52.2276 703.368 50.9545 704.991 Q49.6813 706.582 48.5037 712.025 L48.0262 714.062 Q46.8804 719.505 44.5251 721.924 Q42.138 724.343 38.0002 724.343 Q32.9713 724.343 30.2341 720.778 Q27.4968 717.213 27.4968 710.656 Q27.4968 707.41 27.9743 704.545 Q28.4517 701.681 29.4065 699.262 Z\" fill=\"#000000\" fill-rule=\"evenodd\" fill-opacity=\"1\" /><path clip-path=\"url(#clip290)\" d=\"M18.2347 682.233 L28.3562 682.233 L28.3562 670.17 L32.9077 670.17 L32.9077 682.233 L52.2594 682.233 Q56.6199 682.233 57.8613 681.056 Q59.1026 679.846 59.1026 676.186 L59.1026 670.17 L64.0042 670.17 L64.0042 676.186 Q64.0042 682.965 61.4897 685.544 Q58.9434 688.122 52.2594 688.122 L32.9077 688.122 L32.9077 692.419 L28.3562 692.419 L28.3562 688.122 L18.2347 688.122 L18.2347 682.233 Z\" fill=\"#000000\" fill-rule=\"evenodd\" fill-opacity=\"1\" /><polyline clip-path=\"url(#clip292)\" style=\"stroke:#009af9; stroke-linecap:butt; stroke-linejoin:round; stroke-width:4; stroke-opacity:1; fill:none\" points=\"\n",
       "  310.845,86.1857 356.948,213.917 403.052,1213.14 449.155,1235.35 495.258,1246.52 541.361,1254.18 587.464,1260.08 633.568,1264.95 679.671,1269.18 725.774,1272.97 \n",
       "  771.877,1276.46 817.98,1279.72 864.084,1282.82 910.187,1285.8 956.29,1288.71 1002.39,1291.57 1048.5,1294.4 1094.6,1297.24 1140.7,1300.11 1186.81,1303.03 \n",
       "  1232.91,1306.02 1279.01,1309.09 1325.12,1312.28 1371.22,1315.57 1417.32,1318.96 1463.43,1322.45 1509.53,1326.01 1555.63,1329.6 1601.73,1333.18 1647.84,1336.71 \n",
       "  1693.94,1340.18 1740.04,1343.58 1786.15,1346.91 1832.25,1350.22 1878.35,1353.56 1924.46,1357 1970.56,1360.62 2016.66,1364.48 2062.77,1368.58 2108.87,1372.79 \n",
       "  2154.97,1376.82 2201.08,1380.22 2247.18,1382.7 2293.28,1384.24 \n",
       "  \"/>\n",
       "</svg>\n"
      ]
     },
     "execution_count": 18,
     "metadata": {},
     "output_type": "execute_result"
    }
   ],
   "source": [
    "using Plots\n",
    "stats = Altro.stats(solver)\n",
    "plot(stats.iteration, stats.cost, yscale=:log10, xlabel=\"iterations\", ylabel=\"cost\", label=\"\")"
   ]
  },
  {
   "cell_type": "markdown",
   "id": "f01aeaf9",
   "metadata": {},
   "source": [
    "## 8. Benchmarking\n",
    "We often want to get reliable timing information on our solve times, in order to get good comparisons between solves. Altro.jl provides a useful method for benchmarking the solve. Like before, we must reset the initial guess prior to calling this method. This uses BenchmarkkTools.jl to run the solve many times, and automatically resets the guess between solves."
   ]
  },
  {
   "cell_type": "code",
   "execution_count": 19,
   "id": "09aa1427",
   "metadata": {},
   "outputs": [
    {
     "data": {
      "text/plain": [
       "BenchmarkTools.Trial: \n",
       "  memory estimate:  5.64 MiB\n",
       "  allocs estimate:  49500\n",
       "  --------------\n",
       "  minimum time:     2.347 ms (0.00% GC)\n",
       "  median time:      3.167 ms (23.24% GC)\n",
       "  mean time:        3.020 ms (17.43% GC)\n",
       "  maximum time:     3.754 ms (26.14% GC)\n",
       "  --------------\n",
       "  samples:          10\n",
       "  evals/sample:     10"
      ]
     },
     "execution_count": 19,
     "metadata": {},
     "output_type": "execute_result"
    }
   ],
   "source": [
    "# reset initial guess\n",
    "initial_controls!(solver, U0)\n",
    "\n",
    "# run the benchmark solve\n",
    "benchmark = benchmark_solve!(solver)"
   ]
  },
  {
   "cell_type": "markdown",
   "id": "a7117c78",
   "metadata": {},
   "source": [
    "## 9. Improving Performance with Static Vectors\n",
    "One of the easiest ways to get more performance is to use `StaticArrays.jl`. Let's redefine our model, cost function and problem to use static vectors and see how our performance changes:"
   ]
  },
  {
   "cell_type": "code",
   "execution_count": 20,
   "id": "47895204",
   "metadata": {},
   "outputs": [],
   "source": [
    "using StaticArrays\n",
    "\n",
    "# Define a new model\n",
    "struct PendulumStatic <: AbstractModel\n",
    "    mass::Float64\n",
    "    length::Float64\n",
    "    b::Float64\n",
    "    lc::Float64\n",
    "    I::Float64\n",
    "    g::Float64\n",
    "end\n",
    "function PendulumStatic(; mass=1.0, length=0.5, b=0.1, lc=0.5, I=0.25, g=9.81)\n",
    "    PendulumStatic(mass, length, b, lc, I, g)  # call default \"inner\" constructor\n",
    "end\n",
    "\n",
    "RobotDynamics.state_dim(::PendulumStatic) = 2\n",
    "RobotDynamics.control_dim(::PendulumStatic) = 1\n",
    "\n",
    "function RobotDynamics.dynamics(p::PendulumStatic, x, u)\n",
    "    m = p.mass * p.lc * p.lc\n",
    "    # NOTE the SA prefeix here, which creates a static array\n",
    "    SA[x[2], u[1]/m - p.g*sin(x[1])/p.lc - p.b*x[2]/m]\n",
    "end\n",
    "\n",
    "# Define the Cost Function\n",
    "# NOTE the use of @SVector to create static vectors\n",
    "Q = 1e-3*Diagonal(@SVector ones(n))\n",
    "R = 1e-3*Diagonal(@SVector ones(m))\n",
    "Qf = 1e-0*Diagonal(@SVector ones(n))\n",
    "\n",
    "# NOTE these don't actually have to be static vectors, since the problem will convert them automatically\n",
    "x0_static = @SVector zeros(n)\n",
    "xf_static = @SVector [pi, 0.0]  # i.e. swing up\n",
    "obj_static = LQRObjective(Q,R,Qf,xf,N)\n",
    "\n",
    "# Define the problem and solver\n",
    "model_static = PendulumStatic()\n",
    "prob_static = Problem(model_static, obj_static, xf_static, tf, x0=x0_static);\n",
    "solver_static = ALTROSolver(prob_static);"
   ]
  },
  {
   "cell_type": "markdown",
   "id": "0c183304",
   "metadata": {},
   "source": [
    "Now let's solve it and compare the results:"
   ]
  },
  {
   "cell_type": "code",
   "execution_count": 21,
   "id": "4bbbd2d3",
   "metadata": {},
   "outputs": [
    {
     "data": {
      "text/plain": [
       "BenchmarkTools.Trial: \n",
       "  memory estimate:  0 bytes\n",
       "  allocs estimate:  0\n",
       "  --------------\n",
       "  minimum time:     697.976 μs (0.00% GC)\n",
       "  median time:      733.073 μs (0.00% GC)\n",
       "  mean time:        732.317 μs (0.00% GC)\n",
       "  maximum time:     767.797 μs (0.00% GC)\n",
       "  --------------\n",
       "  samples:          10\n",
       "  evals/sample:     10"
      ]
     },
     "execution_count": 21,
     "metadata": {},
     "output_type": "execute_result"
    }
   ],
   "source": [
    "initial_controls!(solver_static, U0);\n",
    "benchmark_static = benchmark_solve!(solver_static)"
   ]
  },
  {
   "cell_type": "code",
   "execution_count": 22,
   "id": "3e3d0968",
   "metadata": {},
   "outputs": [
    {
     "data": {
      "text/plain": [
       "BenchmarkTools.TrialJudgement: \n",
       "  time:   -76.86% => \u001b[32mimprovement\u001b[39m (5.00% tolerance)\n",
       "  memory: -100.00% => \u001b[32mimprovement\u001b[39m (1.00% tolerance)\n"
      ]
     },
     "execution_count": 22,
     "metadata": {},
     "output_type": "execute_result"
    }
   ],
   "source": [
    "using BenchmarkTools\n",
    "judge(median(benchmark_static), median(benchmark))"
   ]
  },
  {
   "cell_type": "code",
   "execution_count": null,
   "id": "4306b7c9",
   "metadata": {},
   "outputs": [],
   "source": []
  }
 ],
 "metadata": {
  "kernelspec": {
   "display_name": "Julia 1.6.0",
   "language": "julia",
   "name": "julia-1.6"
  },
  "language_info": {
   "file_extension": ".jl",
   "mimetype": "application/julia",
   "name": "julia",
   "version": "1.6.0"
  }
 },
 "nbformat": 4,
 "nbformat_minor": 5
}
