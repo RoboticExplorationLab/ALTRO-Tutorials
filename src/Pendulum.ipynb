{
 "cells": [
  {
   "cell_type": "markdown",
   "id": "cd06ba52",
   "metadata": {},
   "source": [
    "# Pendulum: Getting Started"
   ]
  },
  {
   "cell_type": "code",
   "execution_count": 1,
   "id": "3b8f7f43",
   "metadata": {},
   "outputs": [
    {
     "name": "stderr",
     "output_type": "stream",
     "text": [
      "\u001b[32m\u001b[1m  Activating\u001b[22m\u001b[39m environment at `~/.julia/dev/AltroTutorials/Project.toml`\n"
     ]
    }
   ],
   "source": [
    "import Pkg; Pkg.activate(joinpath(@__DIR__, \"..\")); Pkg.instantiate();\n",
    "using Altro\n",
    "using TrajectoryOptimization\n",
    "using RobotDynamics"
   ]
  },
  {
   "cell_type": "markdown",
   "id": "a6e8dde6",
   "metadata": {},
   "source": [
    "## 1. Defining the Dynamics Model\n",
    "The first step of setting up and solving a trajectory optimization problem is usually defining the dynamics model you want to use. All dynamics models used by TrajectoryOptimization and Altro are defined using RobotDynamics. Here we set up a dynamics model for the simple pendulum.\n",
    "\n",
    "The first step is to create a new `struct` that is a sub-type of `RobotDynamics.AbstractModel`. In Julia, sub-typing is similar to inheritance, in that any methods that work on parent types work on the child types. Additionally, Julia will automatically find the method that matches the most specific method for the argument type(s), similar to virtual methods in C++. Therefore, by defining our new type to be a sub-type of `RobotDynamics.AbstractModel` we allow it to be used anywhere an `AbstractModel` is expected. Additionally, we're expected to define a few methods for our type to flush out the interface (similar to defining a pure virtual function in C++).\n",
    "\n",
    "We can add any model parameters to the new `struct` we have created, such as the mass, length, friction coefficient, etc. Remember to annotate the types on all member variables."
   ]
  },
  {
   "cell_type": "code",
   "execution_count": 3,
   "id": "69dd6f8d",
   "metadata": {},
   "outputs": [],
   "source": [
    "struct Pendulum <: AbstractModel\n",
    "    mass::Float64\n",
    "    length::Float64\n",
    "    b::Float64\n",
    "    lc::Float64\n",
    "    I::Float64\n",
    "    g::Float64\n",
    "end"
   ]
  },
  {
   "cell_type": "markdown",
   "id": "5ca1c15b",
   "metadata": {},
   "source": [
    "Often we want to define a default constructor for our model that supplies default values. We'll define an *outer* constructor taking keyword arguments corresponding to our data fields. It then calls the default *inner* constructor, which expects the positional arguments for all the fields, in the order they are declared in the struct. Note that the leading semi-colon in the argument list specifies that all the following arguments are keyword arguments. Unlike Python, these *must* be supplied as keyword arguments, e.g. `Pendulum(b=0.2)`. We'll demonstrate an easier way to define default values in the next example."
   ]
  },
  {
   "cell_type": "code",
   "execution_count": 4,
   "id": "6db73163",
   "metadata": {},
   "outputs": [
    {
     "data": {
      "text/plain": [
       "Pendulum"
      ]
     },
     "execution_count": 4,
     "metadata": {},
     "output_type": "execute_result"
    }
   ],
   "source": [
    "# default constructor with default keyword arguments\n",
    "function Pendulum(; mass=1.0, length=0.5, b=0.1, lc=0.5, I=0.25, g=9.81)\n",
    "    Pendulum(mass, length, b, lc, I, g)  # call default \"inner\" constructor\n",
    "end"
   ]
  },
  {
   "cell_type": "markdown",
   "id": "dc3dd809",
   "metadata": {},
   "source": [
    "Now we need to flush out the interface, which expects us to \"overload\" the following methods on our type:\n",
    "* `RobotDynamics.state_dim(::NewModel)`\n",
    "* `RobotDynamics.control_dim(::NewModel)`\n",
    "* `RobotDynamics.dynamics(::NewModel, x, u, [t])`\n",
    "\n",
    "where the `t` argument for the dynamics is optional, and can be used for time-varying dynamics. When we define these methods, we have to tell Julia that we're overloading the methods in RobotDynamics. We can do this by either 1) explicitly specifying the module (`RobotDynamics`) when defining the method, or 2) importing the method via `import RobotDynamics.MethodToOverride`. We'll show both approaches below:"
   ]
  },
  {
   "cell_type": "code",
   "execution_count": 5,
   "id": "ac6a5bb6",
   "metadata": {},
   "outputs": [
    {
     "data": {
      "text/plain": [
       "dynamics (generic function with 21 methods)"
      ]
     },
     "execution_count": 5,
     "metadata": {},
     "output_type": "execute_result"
    }
   ],
   "source": [
    "import RobotDynamics.dynamics\n",
    "# import RobotDynamics: dynamics, state_dim, control_dim (alternative with multiple imports)\n",
    "\n",
    "# Explicitly define the module to override (recommended)\n",
    "RobotDynamics.state_dim(::Pendulum) = 2\n",
    "RobotDynamics.control_dim(::Pendulum) = 1\n",
    "\n",
    "# Use the imported function (not recommended, since it isn't as clear that you're overriding an existing method)\n",
    "function dynamics(p::Pendulum, x, u)\n",
    "    m = p.mass * p.lc * p.lc\n",
    "    xdot = [x[2], u[1]/m - p.g*sin(x[1])/p.lc - p.b*x[2]/m]\n",
    "    return xdot  # this line is optional, since Julia returns the last expression, by default\n",
    "end"
   ]
  },
  {
   "cell_type": "markdown",
   "id": "fdab6064",
   "metadata": {},
   "source": [
    "And with that, we've defined our dynamics model!"
   ]
  },
  {
   "cell_type": "markdown",
   "id": "8eef81ff",
   "metadata": {},
   "source": [
    "## 2. Defining our Cost Function\n",
    "We'll now define our cost function, which will be a basic quadratic cost penalizing the distance to the goal:\n",
    "$$ \\frac{1}{2} (x_N - \\bar{x}_N)^T Q_N (x_N - \\bar{x}_N) + \\frac{1}{2}\\sum_{k=1}^{N-1} (x_k - \\bar{x}_N)^T Q (x_k - \\bar{x}_N) + u_k^T R u_k $$\n",
    "where $\\bar{x}_N$ is the goal state.\n",
    "\n",
    "We start be first creating an instance of our model, since it tells us our state and control dimensions. We also need to define the length of our trajectory, both in time (seconds) and the number of knot points (sample points)."
   ]
  },
  {
   "cell_type": "code",
   "execution_count": 6,
   "id": "074e36dc",
   "metadata": {},
   "outputs": [
    {
     "data": {
      "text/plain": [
       "3.0"
      ]
     },
     "execution_count": 6,
     "metadata": {},
     "output_type": "execute_result"
    }
   ],
   "source": [
    "# Create a pendulum model\n",
    "model = Pendulum()\n",
    "\n",
    "# Get the model sizes\n",
    "n = state_dim(model)\n",
    "m = control_dim(model)\n",
    "\n",
    "# Define the discretization\n",
    "N = 51\n",
    "tf = 3.0"
   ]
  },
  {
   "cell_type": "markdown",
   "id": "cd2ea033",
   "metadata": {},
   "source": [
    "We can now define our cost matrices, $Q_N$, $Q$, and $R$, as well our final state $\\bar{x}_N$. These are almost always diagonal, positive-definite matrices. To leverage this structure, we define them using the `Diagonal` matrix type in the `LinearAlgebra` package in the Julia standard library."
   ]
  },
  {
   "cell_type": "code",
   "execution_count": 7,
   "id": "b0855a4a",
   "metadata": {},
   "outputs": [],
   "source": [
    "using LinearAlgebra\n",
    "\n",
    "Q = 1e-3*Diagonal(ones(n))\n",
    "R = 1e-3*Diagonal(ones(m))\n",
    "Qf = 1e-0*Diagonal(ones(n))\n",
    "xf = [pi, 0.0];  # i.e. swing up"
   ]
  },
  {
   "cell_type": "markdown",
   "id": "09213822",
   "metadata": {},
   "source": [
    "With those defined, we now have all we need to define our cost function. We'll use the conventient [`LQRObjective`](http://roboticexplorationlab.org/TrajectoryOptimization.jl/dev/cost_api.html#TrajectoryOptimization.LQRObjective) constructor in TrajectoryOptimization.jl (see docs for more details)."
   ]
  },
  {
   "cell_type": "code",
   "execution_count": 10,
   "id": "182c097b",
   "metadata": {},
   "outputs": [],
   "source": [
    "obj = LQRObjective(Q,R,Qf,xf,N);"
   ]
  },
  {
   "cell_type": "markdown",
   "id": "cd786983",
   "metadata": {},
   "source": [
    "The `Objective` object we just created holds an individual `CostFunction` for each knot point. We can extract those simply by indexing into the object, i.e. `obj[k]`. It defines methods for evaluating the cost and it's first and second-order derivatives."
   ]
  },
  {
   "cell_type": "markdown",
   "id": "9f8316cf",
   "metadata": {},
   "source": [
    "## 3. Defining the Problem\n",
    "With our dynamics and cost function, we're now ready to set up and solve our first trajectory optimization problem! We do this using the aptly-named `TrajectoryOptimization.Problem` type. The constructor for this objective is quite friendly and offers several different convenient forms, but you'll almost always call it as follows:"
   ]
  },
  {
   "cell_type": "code",
   "execution_count": 11,
   "id": "449076b5",
   "metadata": {},
   "outputs": [],
   "source": [
    "# Initial state\n",
    "x0 = [0.0, 0.0]\n",
    "\n",
    "# Define the problem\n",
    "prob_pendulum = Problem(model, obj, xf, tf, x0=x0);"
   ]
  },
  {
   "cell_type": "markdown",
   "id": "c000d9bb",
   "metadata": {},
   "source": [
    "## 4. Setting the initial guess\n",
    "As with all gradient-based nonlinear optimization, the initial guess is extremely important. By default, Altro (which uses iLQR for unconstrained problems like this), only accepts initial guesses for the control trajectory. We'll provide a simple guess that applies a small torque in one direction for the duration of the trajectory."
   ]
  },
  {
   "cell_type": "code",
   "execution_count": 12,
   "id": "e584bdbe",
   "metadata": {},
   "outputs": [],
   "source": [
    "# Define the initial guess\n",
    "U0 = [fill(0.1, m) for k = 1:N-1]\n",
    "\n",
    "# Set the initial guess for the problem\n",
    "initial_controls!(prob_pendulum, U0)"
   ]
  },
  {
   "cell_type": "markdown",
   "id": "92bccfa8",
   "metadata": {},
   "source": [
    "**A Note on Trajectory Representation**: Note that by default all trajectories in TrajectoryOptimization.jl are defined as vectors of (static) vectors. Don't worry about the static vectors for now, since we'll cover that in shortly. Instead of storing the trajectory as a 2D array, we avoid the overhead of slicing at runtime every time we need a state or control at a time step by defining them as separate vectors. Several methods in the API accept either vectors of vectors or 2D arrays, and `initial_controls!` is one of those. We demonstrate that below, along with an example of how to easily convert back and forth between these representations."
   ]
  },
  {
   "cell_type": "code",
   "execution_count": 13,
   "id": "116a5b2f",
   "metadata": {},
   "outputs": [],
   "source": [
    "# convert from vector of vectors to 2D array\n",
    "U0_mat = hcat(U0...)  # uses splatting\n",
    "\n",
    "# pass to problem\n",
    "initial_controls!(prob_pendulum, U0_mat)\n",
    "\n",
    "# convert back to a vector of vectors\n",
    "U0_vecvec = [u for u in eachcol(U0_mat)];  # uses list comprehension"
   ]
  },
  {
   "cell_type": "markdown",
   "id": "8f4ace95",
   "metadata": {},
   "source": [
    "**A note on methods that end with a bang!** Methods that end with a bang symbol (!) aren't more exciting than other methods, it's just Julia convention for *mutuating* functions. For example, if you want to sort a list of numbers, you can use either `sort` which returns a new array, or you can sort in place using `sort!`:"
   ]
  },
  {
   "cell_type": "code",
   "execution_count": 11,
   "id": "fa206c82",
   "metadata": {},
   "outputs": [
    {
     "name": "stdout",
     "output_type": "stream",
     "text": [
      "Use `sort`\n",
      "list_sorted = [1, 2, 4, 5]\n",
      "list = [1, 5, 2, 4]\n",
      "list_sorted === list = false\n",
      "\n",
      "Use `sort!`\n",
      "list_sort!ed = [1, 2, 4, 5]\n",
      "list = [1, 2, 4, 5]\n",
      "list_sort!ed === list = true\n"
     ]
    }
   ],
   "source": [
    "list = [1,5,2,4]\n",
    "list_sorted = sort(list)\n",
    "println(\"Use `sort`\")\n",
    "@show list_sorted\n",
    "@show list\n",
    "@show list_sorted === list;  # test if they point to the same place in memory\n",
    "println(\"\\nUse `sort!`\")\n",
    "list_sort!ed = sort!(list)\n",
    "@show list_sort!ed\n",
    "@show list\n",
    "@show list_sort!ed === list; # test if they point to the same place in memory"
   ]
  },
  {
   "cell_type": "markdown",
   "id": "2cc81389",
   "metadata": {},
   "source": [
    "## 5. Creating the Solver\n",
    "Now that we have a problem, complete with an initial guess, let's create our solver. It might take a few seconds the first time.\n",
    "\n",
    "When we create the solver, it allocates a bunch of storage for all the expansions, costs, dynamics, etc. The solver object acts similarly to a `Problem` object, in that we can extract the state and contorl trajectories, query the cost, provide an initial guess, change the initial state, etc. We'll cover more of these methods as we go through later examples."
   ]
  },
  {
   "cell_type": "code",
   "execution_count": 16,
   "id": "820f8acc",
   "metadata": {},
   "outputs": [],
   "source": [
    "# Create an Altro solver for our problem\n",
    "solver = ALTROSolver(prob_pendulum);"
   ]
  },
  {
   "cell_type": "markdown",
   "id": "f5df70e9",
   "metadata": {},
   "source": [
    "## 6. Solve the problem\n",
    "We're now ready to solve our problem, and it's as easy as calling the `solve!` method. Again, it might take a few seconds the first time."
   ]
  },
  {
   "cell_type": "code",
   "execution_count": 17,
   "id": "ea45cf1a",
   "metadata": {},
   "outputs": [
    {
     "name": "stdout",
     "output_type": "stream",
     "text": [
      "\u001b[32;1m\n",
      "SOLVE COMPLETED\n",
      "\u001b[0m solved using the \u001b[0m\u001b[36;1mALTRO\u001b[0m Solver,\n",
      " part of the Altro.jl package developed by the REx Lab at Stanford and Carnegie Mellon Universities\n",
      "\u001b[34;1m\n",
      "  Solve Statistics\n",
      "\u001b[0m    Total Iterations: 1\n",
      "\u001b[0m    Solve Time: 0.140704 (ms)\n",
      "\u001b[34;1m\n",
      "  Covergence\n",
      "\u001b[0m    Terminal Cost: 0.013817374452423623\n",
      "\u001b[0m    Terminal dJ: \u001b[32m4.092687180234228e-5\n",
      "\u001b[0m    Terminal gradient: \u001b[32m0.010103739286465803\n",
      "\u001b[0m    Solve Status: \u001b[1m\u001b[32mSOLVE_SUCCEEDED\n",
      "\u001b[0m"
     ]
    }
   ],
   "source": [
    "solve!(solver);"
   ]
  },
  {
   "cell_type": "markdown",
   "id": "2bb8f806",
   "metadata": {},
   "source": [
    "Note that the `solve!` method ends with a bang symbol (!). This means that it modifies its trajectory in place. If we extract out the control vector we'll see that it's no longer the guess we provided:"
   ]
  },
  {
   "cell_type": "code",
   "execution_count": 14,
   "id": "e844517b",
   "metadata": {},
   "outputs": [
    {
     "data": {
      "text/plain": [
       "1×50 adjoint(::Vector{StaticArrays.SVector{1, Float64}}) with eltype Adjoint{Float64, StaticArrays.SVector{1, Float64}}:\n",
       " [2.33418]  [2.86693]  [3.40326]  [3.91253]  …  [-0.0112322]  [-0.0188922]"
      ]
     },
     "execution_count": 14,
     "metadata": {},
     "output_type": "execute_result"
    }
   ],
   "source": [
    "states(solver)\n",
    "controls(solver)'"
   ]
  },
  {
   "cell_type": "markdown",
   "id": "dde538d3",
   "metadata": {},
   "source": [
    "So if we call the `solve!` method again, it will be using the answer as the initial guess, it now only takes 1 iteration:"
   ]
  },
  {
   "cell_type": "code",
   "execution_count": 18,
   "id": "c6b64d1a",
   "metadata": {},
   "outputs": [
    {
     "name": "stdout",
     "output_type": "stream",
     "text": [
      "\u001b[32;1m\n",
      "SOLVE COMPLETED\n",
      "\u001b[0m solved using the \u001b[0m\u001b[36;1mALTRO\u001b[0m Solver,\n",
      " part of the Altro.jl package developed by the REx Lab at Stanford and Carnegie Mellon Universities\n",
      "\u001b[34;1m\n",
      "  Solve Statistics\n",
      "\u001b[0m    Total Iterations: 1\n",
      "\u001b[0m    Solve Time: 0.113381 (ms)\n",
      "\u001b[34;1m\n",
      "  Covergence\n",
      "\u001b[0m    Terminal Cost: 0.013797611180320848\n",
      "\u001b[0m    Terminal dJ: \u001b[32m1.9763272102775106e-5\n",
      "\u001b[0m    Terminal gradient: \u001b[32m0.0069066371585198615\n",
      "\u001b[0m    Solve Status: \u001b[1m\u001b[32mSOLVE_SUCCEEDED\n",
      "\u001b[0m"
     ]
    }
   ],
   "source": [
    "solve!(solver);"
   ]
  },
  {
   "cell_type": "markdown",
   "id": "54a3be75",
   "metadata": {},
   "source": [
    "If you want to re-run the initial solve, you'll have to reset the initial guess:"
   ]
  },
  {
   "cell_type": "code",
   "execution_count": 19,
   "id": "51b327b1",
   "metadata": {},
   "outputs": [
    {
     "name": "stdout",
     "output_type": "stream",
     "text": [
      "\u001b[32;1m\n",
      "SOLVE COMPLETED\n",
      "\u001b[0m solved using the \u001b[0m\u001b[36;1mALTRO\u001b[0m Solver,\n",
      " part of the Altro.jl package developed by the REx Lab at Stanford and Carnegie Mellon Universities\n",
      "\u001b[34;1m\n",
      "  Solve Statistics\n",
      "\u001b[0m    Total Iterations: 44\n",
      "\u001b[0m    Solve Time: 2.294596 (ms)\n",
      "\u001b[34;1m\n",
      "  Covergence\n",
      "\u001b[0m    Terminal Cost: 0.013858301324225965\n",
      "\u001b[0m    Terminal dJ: \u001b[32m7.610875539241016e-5\n",
      "\u001b[0m    Terminal gradient: \u001b[32m0.014192639231066964\n",
      "\u001b[0m    Solve Status: \u001b[1m\u001b[32mSOLVE_SUCCEEDED\n",
      "\u001b[0m"
     ]
    }
   ],
   "source": [
    "initial_controls!(solver, U0)\n",
    "solve!(solver);"
   ]
  },
  {
   "cell_type": "markdown",
   "id": "947ed4dc",
   "metadata": {},
   "source": [
    "## 7. Post-processing\n",
    "Now that we've solved our problem, let's extract out some information. The code block below demonstrates several different useful methods:"
   ]
  },
  {
   "cell_type": "code",
   "execution_count": 17,
   "id": "1be22aea",
   "metadata": {},
   "outputs": [
    {
     "name": "stdout",
     "output_type": "stream",
     "text": [
      "\u001b[32;1m\n",
      "SOLVE COMPLETED\n",
      "\u001b[0m solved using the \u001b[0m\u001b[36;1mALTRO\u001b[0m Solver,\n",
      " part of the Altro.jl package developed by the REx Lab at Stanford and Carnegie Mellon Universities\n",
      "\u001b[34;1m\n",
      "  Solve Statistics\n",
      "\u001b[0m    Total Iterations: 44\n",
      "\u001b[0m    Solve Time: 2.284271 (ms)\n",
      "\u001b[34;1m\n",
      "  Covergence\n",
      "\u001b[0m    Terminal Cost: 0.013858301324225965\n",
      "\u001b[0m    Terminal dJ: \u001b[32m7.610875539241016e-5\n",
      "\u001b[0m    Terminal gradient: \u001b[32m0.014192639231066964\n",
      "\u001b[0m    Solve Status: \u001b[1m\u001b[32mSOLVE_SUCCEEDED\n",
      "\u001b[0m"
     ]
    }
   ],
   "source": [
    "# get the solver iterations\n",
    "iters = iterations(solver)\n",
    "\n",
    "# get the state trajectory\n",
    "X_sol = states(solver)\n",
    "\n",
    "# get the control trajectory\n",
    "U_sol = controls(solver)\n",
    "\n",
    "# get the final cost\n",
    "J_final = cost(solver)\n",
    "\n",
    "# print the summary\n",
    "Altro.print_summary(solver)"
   ]
  },
  {
   "cell_type": "markdown",
   "id": "0811d07c",
   "metadata": {},
   "source": [
    "If you want to extract out intermediate values, you can extract out the `SolverStats` type which containts a bunch of info logged during the solve:"
   ]
  },
  {
   "cell_type": "code",
   "execution_count": 20,
   "id": "c09b6585",
   "metadata": {},
   "outputs": [
    {
     "data": {
      "image/png": "[encoded data removed]"
     },
     "execution_count": 20,
     "metadata": {},
     "output_type": "execute_result"
    }
   ],
   "source": [
    "using Plots\n",
    "pyplot()\n",
    "stats = Altro.stats(solver)\n",
    "plot(stats.iteration, stats.cost, yscale=:log10, xlabel=\"iterations\", ylabel=\"cost\", label=\"\")"
   ]
  },
  {
   "cell_type": "markdown",
   "id": "acfb7d49",
   "metadata": {},
   "source": [
    "## 8. Benchmarking\n",
    "We often want to get reliable timing information on our solve times, in order to get good comparisons between solves. Altro.jl provides a useful method for benchmarking the solve. Like before, we must reset the initial guess prior to calling this method. This uses BenchmarkkTools.jl to run the solve many times, and automatically resets the guess between solves."
   ]
  },
  {
   "cell_type": "code",
   "execution_count": 21,
   "id": "d6b4a787",
   "metadata": {},
   "outputs": [
    {
     "data": {
      "text/plain": [
       "BenchmarkTools.Trial: \n",
       "  memory estimate:  5.64 MiB\n",
       "  allocs estimate:  49500\n",
       "  --------------\n",
       "  minimum time:     1.921 ms (0.00% GC)\n",
       "  median time:      2.691 ms (28.08% GC)\n",
       "  mean time:        2.499 ms (18.45% GC)\n",
       "  maximum time:     3.044 ms (25.83% GC)\n",
       "  --------------\n",
       "  samples:          10\n",
       "  evals/sample:     10"
      ]
     },
     "execution_count": 21,
     "metadata": {},
     "output_type": "execute_result"
    }
   ],
   "source": [
    "# reset initial guess\n",
    "initial_controls!(solver, U0)\n",
    "\n",
    "# run the benchmark solve\n",
    "benchmark = benchmark_solve!(solver)"
   ]
  },
  {
   "cell_type": "markdown",
   "id": "40afd773",
   "metadata": {},
   "source": [
    "## 9. Improving Performance with Static Vectors\n",
    "One of the easiest ways to get more performance is to use `StaticArrays.jl`. Let's redefine our model, cost function and problem to use static vectors and see how our performance changes:"
   ]
  },
  {
   "cell_type": "code",
   "execution_count": 23,
   "id": "1da0500e",
   "metadata": {},
   "outputs": [],
   "source": [
    "using StaticArrays\n",
    "\n",
    "# Define a new model\n",
    "struct PendulumStatic <: AbstractModel\n",
    "    mass::Float64\n",
    "    length::Float64\n",
    "    b::Float64\n",
    "    lc::Float64\n",
    "    I::Float64\n",
    "    g::Float64\n",
    "end\n",
    "function PendulumStatic(; mass=1.0, length=0.5, b=0.1, lc=0.5, I=0.25, g=9.81)\n",
    "    PendulumStatic(mass, length, b, lc, I, g)  # call default \"inner\" constructor\n",
    "end\n",
    "\n",
    "RobotDynamics.state_dim(::PendulumStatic) = 2\n",
    "RobotDynamics.control_dim(::PendulumStatic) = 1\n",
    "\n",
    "function RobotDynamics.dynamics(p::PendulumStatic, x, u)\n",
    "    m = p.mass * p.lc * p.lc\n",
    "    # NOTE the SA prefeix here, which creates a static array\n",
    "    SA[x[2], u[1]/m - p.g*sin(x[1])/p.lc - p.b*x[2]/m]\n",
    "end\n",
    "\n",
    "# Define the Cost Function\n",
    "# NOTE the use of @SVector to create static vectors\n",
    "Q = 1e-3*Diagonal(@SVector ones(n))\n",
    "R = 1e-3*Diagonal(@SVector ones(m))\n",
    "Qf = 1e-0*Diagonal(@SVector ones(n))\n",
    "\n",
    "# NOTE these don't actually have to be static vectors, since the problem will convert them automatically\n",
    "x0_static = @SVector zeros(n)\n",
    "xf_static = @SVector [pi, 0.0]  # i.e. swing up\n",
    "obj_static = LQRObjective(Q,R,Qf,xf,N)\n",
    "\n",
    "# Define the problem and solver\n",
    "model_static = PendulumStatic()\n",
    "prob_static = Problem(model_static, obj_static, xf_static, tf, x0=x0_static);\n",
    "solver_static = ALTROSolver(prob_static);"
   ]
  },
  {
   "cell_type": "markdown",
   "id": "26629912",
   "metadata": {},
   "source": [
    "Now let's solve it and compare the results:"
   ]
  },
  {
   "cell_type": "code",
   "execution_count": 24,
   "id": "c5928b1f",
   "metadata": {},
   "outputs": [
    {
     "data": {
      "text/plain": [
       "BenchmarkTools.Trial: \n",
       "  memory estimate:  0 bytes\n",
       "  allocs estimate:  0\n",
       "  --------------\n",
       "  minimum time:     554.278 μs (0.00% GC)\n",
       "  median time:      573.989 μs (0.00% GC)\n",
       "  mean time:        584.076 μs (0.00% GC)\n",
       "  maximum time:     674.751 μs (0.00% GC)\n",
       "  --------------\n",
       "  samples:          10\n",
       "  evals/sample:     10"
      ]
     },
     "execution_count": 24,
     "metadata": {},
     "output_type": "execute_result"
    }
   ],
   "source": [
    "initial_controls!(solver_static, U0);\n",
    "benchmark_static = benchmark_solve!(solver_static)"
   ]
  },
  {
   "cell_type": "code",
   "execution_count": 25,
   "id": "0aaf3f50",
   "metadata": {},
   "outputs": [
    {
     "data": {
      "text/plain": [
       "BenchmarkTools.TrialJudgement: \n",
       "  time:   -78.67% => \u001b[32mimprovement\u001b[39m (5.00% tolerance)\n",
       "  memory: -100.00% => \u001b[32mimprovement\u001b[39m (1.00% tolerance)\n"
      ]
     },
     "execution_count": 25,
     "metadata": {},
     "output_type": "execute_result"
    }
   ],
   "source": [
    "using BenchmarkTools\n",
    "judge(median(benchmark_static), median(benchmark))"
   ]
  },
  {
   "cell_type": "code",
   "execution_count": null,
   "id": "f2b007ae",
   "metadata": {},
   "outputs": [],
   "source": []
  }
 ],
 "metadata": {
  "kernelspec": {
   "display_name": "Julia 1.6.0",
   "language": "julia",
   "name": "julia-1.6"
  },
  "language_info": {
   "file_extension": ".jl",
   "mimetype": "application/julia",
   "name": "julia",
   "version": "1.6.0"
  }
 },
 "nbformat": 4,
 "nbformat_minor": 5
}
