{
 "cells": [
  {
   "cell_type": "code",
   "execution_count": 1,
   "id": "25f615f7",
   "metadata": {},
   "outputs": [
    {
     "name": "stderr",
     "output_type": "stream",
     "text": [
      "\u001b[32m\u001b[1m  Activating\u001b[22m\u001b[39m environment at `~/.julia/dev/AltroTutorials/Project.toml`\n",
      "┌ Info: Precompiling Altro [5dcf52e5-e2fb-48e0-b826-96f46d2e3e73]\n",
      "└ @ Base loading.jl:1317\n"
     ]
    },
    {
     "data": {
      "text/plain": [
       "TrajectoryOptimization"
      ]
     },
     "execution_count": 1,
     "metadata": {},
     "output_type": "execute_result"
    }
   ],
   "source": [
    "import Pkg; Pkg.activate(joinpath(@__DIR__, \"..\")); Pkg.instantiate();\n",
    "using Altro\n",
    "using TrajectoryOptimization\n",
    "using RobotDynamics\n",
    "using StaticArrays\n",
    "using LinearAlgebra\n",
    "using Rotations\n",
    "const TO = TrajectoryOptimization"
   ]
  },
  {
   "cell_type": "markdown",
   "id": "53161350",
   "metadata": {},
   "source": [
    "# Rocket MPC\n",
    "In this problem we'll walk through how to set up a simple rocket model, including second-order cone constraints, generate a reference trajectory, and then track that reference trajectory with Conic MPC to solve the soft-landing problem. We will also cover how to define your own constraints.\n",
    "\n",
    "\n",
    "## 1. Defining the Model\n",
    "For this problem we'll use a simple linear model of a rocket flying vertically. This simplified model is a decent approximation when the roll angle is small.\n",
    "This exposes part of the API for linear models defined by RobotDynamics.jl. The call to `LinearizedModel` can be used with any model, including nonlinear ones, to generate a discrete linear or linear-affine model."
   ]
  },
  {
   "cell_type": "code",
   "execution_count": 2,
   "id": "4bcb1210",
   "metadata": {},
   "outputs": [],
   "source": [
    "function RocketModel(mass, grav, dt, ωPlanet = [0.0; 0.0; 0.0];\n",
    "        integration=RobotDynamics.Exponential)\n",
    "    \n",
    "    # Define the dynamics matrices (including the affine term)\n",
    "    A = [\n",
    "        zeros(3,3)      I(3);\n",
    "        -Rotations.skew(ωPlanet)^2   -2*Rotations.skew(ωPlanet);\n",
    "    ]\n",
    "    B = [\n",
    "        zeros(3,3);\n",
    "        1/mass * I(3)\n",
    "    ]\n",
    "    d = [\n",
    "        zeros(3);\n",
    "        grav\n",
    "    ]\n",
    "\n",
    "    # Continuous Linear-Affine Model\n",
    "    cmodel =  LinearModel(A,B,d)\n",
    "\n",
    "    # Discrete Model\n",
    "    model = LinearizedModel(cmodel, dt=dt, is_affine=true, integration=integration)\n",
    "end\n",
    "\n",
    "# Generate the model\n",
    "mass = 10.0             # kg\n",
    "ωPlanet = [0, 0, 0]     # rad/s\n",
    "gravity = [0, 0, -9.81]  # m/s/s\n",
    "N = 301                 # number of knot points\n",
    "dt = 0.05               # sec\n",
    "tf = (N-1)*dt           # sec\n",
    "model = RocketModel(mass, gravity, dt, ωPlanet);\n",
    "n,m = size(model)\n",
    "\n",
    "# TIP: Get the A,B matrices for the discrete model\n",
    "RobotDynamics.get_A(model)\n",
    "RobotDynamics.get_B(model);"
   ]
  },
  {
   "cell_type": "markdown",
   "id": "500a0559",
   "metadata": {},
   "source": [
    "## 2. Define the Objective"
   ]
  },
  {
   "cell_type": "code",
   "execution_count": 3,
   "id": "b40d051c",
   "metadata": {},
   "outputs": [],
   "source": [
    "Q = Diagonal(@SVector fill(1e-2, n))\n",
    "R = Diagonal(@SVector fill(1e-0, m))\n",
    "Qf = Diagonal(@SVector fill(1e4, n))\n",
    "xf = @SVector zeros(n)\n",
    "x0 = SA_F64[4.0, 2.0, 20.0, -3.0, 2.0, -5.0]  # km\n",
    "obj = LQRObjective(Q, R, Qf, xf, N);"
   ]
  },
  {
   "cell_type": "markdown",
   "id": "dfba3983",
   "metadata": {},
   "source": [
    "## 3. Define the Constraints\n",
    "For the constraints, we'll start off with the ones that we can define using the constraints [already defined in TrajectoryOptimization.jl](http://roboticexplorationlab.org/TrajectoryOptimization.jl/dev/constraint_api.html#Implemented-Constraints)."
   ]
  },
  {
   "cell_type": "code",
   "execution_count": 4,
   "id": "5c78ad93",
   "metadata": {},
   "outputs": [],
   "source": [
    "cons = ConstraintList(n, m, N)\n",
    "\n",
    "# Goal Constraint\n",
    "TO.add_constraint!(cons, GoalConstraint(xf), N)\n",
    "\n",
    "# Maximum Thrust\n",
    "# ||u||₂ <= u_bnd\n",
    "perWeightMax = 2.0  \n",
    "u_bnd = mass * abs(gravity[3]) * perWeightMax\n",
    "maxThrust = NormConstraint(n, m, u_bnd, TO.SecondOrderCone(), :control)\n",
    "TO.add_constraint!(cons, maxThrust, 1:N-1)"
   ]
  },
  {
   "cell_type": "markdown",
   "id": "2be13ab9",
   "metadata": {},
   "source": [
    "### Defining a Custom Constraint\n",
    "For the next constraints, we need a custom constraint that can handle a more general SOCP constraint. We'll define a constraint of the form:\n",
    "$$ || A z ||_2 \\leq c^T z $$\n",
    "where $z$ is the concatenated vector of the states and controls.\n",
    "\n",
    "For a second-order cone constaint of the form $||v||_2 \\leq c$, we define the output of the constraint to be $\\begin{bmatrix} v^T & c \\end{bmatrix}^T$. The Jacobian of the constraint is then just the Jacobian of this vector with respect to the inputs.\n",
    "\n",
    "When defining our constraint below, we specify that it is a subclass of `StageConstraint`, meaning it is a function of the states and controls of a single knot point. Most other constraints will either be `StateConstraint` or `ControlConstraint`. This just tells the solver how wide the non-zero block in the constraint Jacobian is. Additionally, we need to provide methods for querying the state, control, and constraint output dimensions. Then, obviously, we need to define the constraint function via the `evaluate` method, which can be of any of the following forms:\n",
    "* `evaluate(con, z::KnotPoint)` - Stage, state, and control constraints\n",
    "* `evaluate(con, x::StaticVector, u::StaticVector)` - Stage constraints\n",
    "* `evaluate(con, x::StaticVector)` - State constraints\n",
    "* `evaluate(con, u::ControlVector)` - Control constraints\n",
    "\n",
    "Since it's convenient to index out of the concatentated state and control vector stored in the `KnotPoint` type, we use the first method. \n",
    "\n",
    "We also need to define the Jacobian via the `jacobian!` method. Jacobians are only automatically defined using [ForwardDiff.jl](https://github.com/JuliaDiff/ForwardDiff.jlhttps://github.com/JuliaDiff/ForwardDiff.jl) for state and control constraints."
   ]
  },
  {
   "cell_type": "code",
   "execution_count": 5,
   "id": "b3001126",
   "metadata": {},
   "outputs": [],
   "source": [
    "# Is a sub-class of StageConstraint since it is a function of both the states and controls\n",
    "struct LinearNormConstraint{N,D,ND} <: TO.StageConstraint\n",
    "    n::Int  # state dimension\n",
    "    m::Int  # control dimension\n",
    "    A::SMatrix{D, N, Float64, ND}\n",
    "    c::SVector{N, Float64}\n",
    "    inds::SVector{N, Int}  # extracts out a portion of the z vector\n",
    "    function LinearNormConstraint{N,D}(n::Int, m::Int, A::AbstractMatrix, c::AbstractVector, inds=SVector{n+m}(1:n+m)) where {N,D}\n",
    "        if inds == :state\n",
    "            inds = SVector{n}(1:n)\n",
    "        elseif inds == :control\n",
    "            inds = SVector{m}(n .+ (1:m))\n",
    "        end\n",
    "        new{N,D,N*D}(n, m, SMatrix{D,N}(A), SVector{N}(c), inds)\n",
    "    end\n",
    "end\n",
    "TO.state_dim(con::LinearNormConstraint) = con.n\n",
    "TO.control_dim(con::LinearNormConstraint) = con.m\n",
    "TO.sense(::LinearNormConstraint) = TO.SecondOrderCone()\n",
    "TO.Base.length(::LinearNormConstraint{<:Any,D}) where D = D + 1\n",
    "\n",
    "function TO.evaluate(con::LinearNormConstraint, z::KnotPoint)\n",
    "    x = z.z[con.inds]\n",
    "    v = con.A*x\n",
    "    s = con.c'x\n",
    "    return push(v, s)  # stack the vector and scalar parts\n",
    "end\n",
    "\n",
    "function TO.jacobian!(∇c, con::LinearNormConstraint{N,D}, z::KnotPoint) where {N,D}\n",
    "    ∇c[1:D,con.inds] .= con.A\n",
    "    ∇c[D+1,con.inds] .= con.c\n",
    "    return true  # must return a boolean. `true` if the Jacobian is constant, `false` otherwise\n",
    "end"
   ]
  },
  {
   "cell_type": "code",
   "execution_count": 6,
   "id": "a2d57c1d",
   "metadata": {},
   "outputs": [],
   "source": [
    "# Max Angle angle\n",
    "# || [u_x, u_y] || ≤ tan(θ) u_z\n",
    "θ_thrust_max = 5.0 # deg\n",
    "α_max = tand(θ_thrust_max)\n",
    "\n",
    "AThrust = SA_F64[\n",
    "    1 0 0;\n",
    "    0 1 0;\n",
    "    0 0 0\n",
    "]\n",
    "cThrust = SA_F64[0, 0, α_max]\n",
    "maxAngle = LinearNormConstraint{3,3}(n, m, AThrust, cThrust, :control)\n",
    "TO.add_constraint!(cons, maxAngle, 1:N-1)\n",
    "\n",
    "# Glideslope Constraint\n",
    "# Keeps the rocket within a conic airspace, with the tip at the landing site\n",
    "# Keeps the rocket from flying low to the ground if it's not near the landing site\n",
    "θ_glideslope = 45 # deg\n",
    "α_glide = tand(θ_glideslope)\n",
    "AGlide = SA_F64[\n",
    "    1 0 0;\n",
    "    0 1 0;\n",
    "    0 0 0;\n",
    "]\n",
    "cGlide = SA_F64[0, 0, α_glide]\n",
    "glideSlope = LinearNormConstraint{3,3}(n, m, AGlide, cGlide, SA[1,2,3])\n",
    "TO.add_constraint!(cons, glideSlope, 1:N-1)"
   ]
  },
  {
   "cell_type": "markdown",
   "id": "6e83dc68",
   "metadata": {},
   "source": [
    "## 3. Define the problem\n",
    "We can now define our problem. Since our dynamics are already discretized, we want to disable the automatic integration by setting the integration method to `RobotDynamics.PassThrough`."
   ]
  },
  {
   "cell_type": "code",
   "execution_count": 7,
   "id": "92acdec9",
   "metadata": {},
   "outputs": [],
   "source": [
    "prob = Problem(model, obj, xf, tf, x0=x0, constraints=cons, integration=RobotDynamics.PassThrough);\n",
    "U0 = [-mass * gravity for k = 1:N-1]\n",
    "initial_controls!(prob, U0)\n",
    "rollout!(prob)"
   ]
  },
  {
   "cell_type": "markdown",
   "id": "2ee5c30f",
   "metadata": {},
   "source": [
    "## 4. Solve for the Reference Trajectory\n",
    "We now use Altro.jl to solve for our 15-second reference trajectory. Generally, this step is done offline and uses nonlinear dynamics to get a high-quality reference for use when tracking it with MPC."
   ]
  },
  {
   "cell_type": "code",
   "execution_count": 11,
   "id": "a6f0755f",
   "metadata": {},
   "outputs": [],
   "source": [
    "opts = SolverOptions(\n",
    "    cost_tolerance_intermediate=1e-4,\n",
    "    penalty_scaling=500.,\n",
    "    penalty_initial=1e-2,\n",
    "#     verbose = 1,\n",
    "    projected_newton = false,\n",
    "    constraint_tolerance = 1.0e-5,\n",
    "    iterations = 5000,\n",
    "    iterations_inner = 100,\n",
    "    iterations_linesearch = 100,\n",
    "    iterations_outer = 500,\n",
    ")\n",
    "solver = ALTROSolver(prob, opts);\n"
   ]
  },
  {
   "cell_type": "code",
   "execution_count": 12,
   "id": "9a89aed3",
   "metadata": {},
   "outputs": [
    {
     "name": "stdout",
     "output_type": "stream",
     "text": [
      "\u001b[32;1m\n",
      "SOLVE COMPLETED\n",
      "\u001b[0m solved using the \u001b[0m\u001b[36;1mALTRO\u001b[0m Solver,\n",
      " part of the Altro.jl package developed by the REx Lab at Stanford and Carnegie Mellon Universities\n",
      "\u001b[34;1m\n",
      "  Solve Statistics\n",
      "\u001b[0m    Total Iterations: 24\n",
      "\u001b[0m    Solve Time: 22.920275 (ms)\n",
      "\u001b[34;1m\n",
      "  Covergence\n",
      "\u001b[0m    Terminal Cost: 77424.12653663858\n",
      "\u001b[0m    Terminal dJ: \u001b[32m2.1827872842550278e-10\n",
      "\u001b[0m    Terminal gradient: \u001b[32m0.0016115446952415723\n",
      "\u001b[0m    Terminal constraint violation: \u001b[32m1.3759199739560302e-6\n",
      "\u001b[0m    Solve Status: \u001b[1m\u001b[32mSOLVE_SUCCEEDED\n",
      "\u001b[0m"
     ]
    }
   ],
   "source": [
    "initial_controls!(solver, U0)\n",
    "solve!(solver);"
   ]
  },
  {
   "cell_type": "code",
   "execution_count": 13,
   "id": "55b18681",
   "metadata": {},
   "outputs": [],
   "source": [
    "Z_reference = get_trajectory(solver);"
   ]
  },
  {
   "cell_type": "markdown",
   "id": "56c30c90",
   "metadata": {},
   "source": [
    "## 5. Generate the MPC Problem\n",
    "We now generate our MPC problem. This is nearly the same as the problem set up before, but we are now penalizing deviations from the reference trajectory, and remove the goal constraint. The function provided below performs this step. Note the use of `TO.TrackingObjective`, which conveniently creates an objective to track the reference trajectory."
   ]
  },
  {
   "cell_type": "code",
   "execution_count": 16,
   "id": "bd4ca42c",
   "metadata": {},
   "outputs": [],
   "source": [
    "\"\"\"\n",
    "Create a Trajectory Optimization problem that tracks the trajectory in `prob`,\n",
    "using the same constraints, minus the goal constraint. Tracks the first `N`\n",
    "time steps.\n",
    "\"\"\"\n",
    "function gen_tracking_problem(prob::TO.Problem, N;\n",
    "        Qk = 10.0,\n",
    "        Rk = 0.1,\n",
    "        Qfk = Qk,\n",
    "    )\n",
    "    n,m = size(prob)\n",
    "    dt = prob.Z[1].dt\n",
    "    tf = (N-1)*dt\n",
    "\n",
    "    # Get sub-trajectory\n",
    "    Z = Traj(prob.Z[1:N])\n",
    "    x0 = state(Z[1])\n",
    "    xf = state(Z[N])  # this actually doesn't effect anything\n",
    "\n",
    "    # Generate a cost that tracks the trajectory\n",
    "    Q = Diagonal(@SVector fill(Qk, n))\n",
    "    R = Diagonal(@SVector fill(Rk, m))\n",
    "    Qf = Diagonal(@SVector fill(Qfk, n))\n",
    "    obj = TO.TrackingObjective(Q, R, Z, Qf=Qf)\n",
    "\n",
    "    # Use the same constraints, except the Goal constraint\n",
    "    cons = ConstraintList(n,m,N)\n",
    "    for (inds, con) in zip(prob.constraints)\n",
    "        if !(con isa GoalConstraint)\n",
    "            if inds.stop > N\n",
    "                inds = inds.start:N-(prob.N - inds.stop)\n",
    "            end\n",
    "            length(inds) > 0 && TO.add_constraint!(cons, con, inds)\n",
    "        end\n",
    "    end\n",
    "\n",
    "    prob = TO.Problem(prob.model, obj, xf, tf, x0=x0, constraints=cons,\n",
    "        integration=TO.integration(prob)\n",
    "    )\n",
    "    initial_trajectory!(prob, Z)\n",
    "    return prob\n",
    "end"
   ]
  },
  {
   "cell_type": "markdown",
   "id": "fd2a075b",
   "metadata": {},
   "source": [
    "Now we're ready to run our MPC problem. Our approach here is simplistic, but gets across the key ideas. First, we set up our solver and solve the first iteration. Then, online, we take the first control from the previous solve, integrate our dynamics forward with some noise to simulate the movement of our \"real\" system (generally you'd want to use a high-fidelity model for this step), and then update our MPC optimization problem by shifting the portion of the reference trajectory we're tracking and updating our initial state (which generally will be provided by a state estimator running on the real system). For slightly better performance, we also shift our initial guesses for both the state/control trajectory and the dual variables by one time step. The problem is solved and the process is repeated until the last time step of our MPC problem reaches the end of the reference trajectory. In general you would run this to obtain some steady-state behavior past the end of the reference trajectory."
   ]
  },
  {
   "cell_type": "code",
   "execution_count": 20,
   "id": "a925d546",
   "metadata": {},
   "outputs": [
    {
     "data": {
      "text/plain": [
       "run_MPC (generic function with 2 methods)"
      ]
     },
     "execution_count": 20,
     "metadata": {},
     "output_type": "execute_result"
    }
   ],
   "source": [
    "function run_MPC(prob_mpc, opts_mpc, Z_track,\n",
    "                 num_iters = length(Z_track) - prob_mpc.N)\n",
    "    # Instantiate the solver\n",
    "    altro = ALTROSolver(prob_mpc, opts_mpc)\n",
    "\n",
    "    # Solve initial iteration\n",
    "    Altro.solve!(altro)\n",
    "\n",
    "    # Pre-allocate some storage\n",
    "    iters = zeros(Int, num_iters)\n",
    "    times = zeros(num_iters)\n",
    "\n",
    "    # Get the problem state size and control size\n",
    "    n,m = size(prob_mpc)\n",
    "\n",
    "    # Some setup prior to the MPC loop\n",
    "    t0 = 0\n",
    "    k_mpc = 1\n",
    "    x0 = SVector(prob_mpc.x0)\n",
    "    X_traj = [copy(x0) for k = 1:num_iters+1]\n",
    "\n",
    "    # Begin the MPC LOOP\n",
    "    for i = 1:num_iters\n",
    "        # Update initial time\n",
    "        t0 += dt\n",
    "        k_mpc += 1\n",
    "        TO.set_initial_time!(prob_mpc, t0)\n",
    "\n",
    "        # Update initial state by using 1st control, and adding some noise\n",
    "        x0 = discrete_dynamics(TO.integration(prob_mpc),\n",
    "                                    prob_mpc.model, prob_mpc.Z[1])\n",
    "\n",
    "        noise_pos = @SVector randn(3)\n",
    "        noise_vel = @SVector randn(3)\n",
    "        pos_norm = norm(x0[1:3], Inf) / 100 # 1% noise\n",
    "        vel_norm = norm(x0[4:6], Inf) / 1e6 # 1ppm noise\n",
    "\n",
    "        x0 += [noise_pos * pos_norm; noise_vel * vel_norm]\n",
    "        TO.set_initial_state!(prob_mpc, x0)\n",
    "        \n",
    "        # Log the current state\n",
    "        X_traj[i+1] = x0\n",
    "\n",
    "        # Update tracking cost\n",
    "        TO.update_trajectory!(prob_mpc.obj, Z_track, k_mpc)\n",
    "\n",
    "        # Shift the initial trajectory\n",
    "        RobotDynamics.shift_fill!(prob_mpc.Z)\n",
    "\n",
    "        # Shift the multipliers and penalties\n",
    "        Altro.shift_fill!(TO.get_constraints(altro))\n",
    "\n",
    "        # Solve the updated problem\n",
    "        Altro.solve!(altro)\n",
    "\n",
    "        # Log the results and performance\n",
    "        iters[i,1] = iterations(altro)\n",
    "        times[i] = altro.stats.tsolve\n",
    "\n",
    "    end\n",
    "\n",
    "    return X_traj, Dict(:time=>times, :iter=>iters)\n",
    "end"
   ]
  },
  {
   "cell_type": "code",
   "execution_count": 22,
   "id": "da5c3ea6",
   "metadata": {},
   "outputs": [],
   "source": [
    "# Specify the options for the MPC solve\n",
    "opts_mpc = SolverOptions(\n",
    "    cost_tolerance=1e-4,\n",
    "    cost_tolerance_intermediate=1e-4,\n",
    "    constraint_tolerance=1e-4,\n",
    "    reset_duals=false,       # often important since you don't want to re-solve for them each time\n",
    "    penalty_initial=1000.0,  # a high initial penalty on these types of problems is often advantageous\n",
    "    penalty_scaling=10.0,\n",
    "    projected_newton=false,\n",
    "    show_summary = false,    # remember to turn this off so that it doesn't print out every solve\n",
    ")\n",
    "\n",
    "# Set up the MPC problem and solve\n",
    "N_mpc = 21\n",
    "prob_mpc = gen_tracking_problem(prob, N_mpc);\n",
    "X_traj, stats = run_MPC(prob_mpc, opts_mpc, Z_reference);"
   ]
  },
  {
   "cell_type": "code",
   "execution_count": 28,
   "id": "0df31aea",
   "metadata": {},
   "outputs": [
    {
     "name": "stdout",
     "output_type": "stream",
     "text": [
      "mean(stats[:iter]) = 5.239285714285714\n",
      "mean(stats[:time]) = 0.28504210714285705\n"
     ]
    }
   ],
   "source": [
    "# Print some statistics\n",
    "using Statistics # has `mean`, among many other things\n",
    "@show mean(stats[:iter]);\n",
    "@show mean(stats[:time]);  # ms"
   ]
  }
 ],
 "metadata": {
  "kernelspec": {
   "display_name": "Julia 1.6.0",
   "language": "julia",
   "name": "julia-1.6"
  },
  "language_info": {
   "file_extension": ".jl",
   "mimetype": "application/julia",
   "name": "julia",
   "version": "1.6.0"
  }
 },
 "nbformat": 4,
 "nbformat_minor": 5
}
