{
 "cells": [
  {
   "cell_type": "code",
   "execution_count": 2,
   "id": "19f8c53d",
   "metadata": {},
   "outputs": [
    {
     "name": "stderr",
     "output_type": "stream",
     "text": [
      "\u001b[32m\u001b[1m  Activating\u001b[22m\u001b[39m environment at `~/.julia/dev/AltroTutorials/Project.toml`\n",
      "\u001b[32m\u001b[1mPrecompiling\u001b[22m\u001b[39m project...\n",
      "\u001b[32m  ✓ \u001b[39mAltro\n",
      "\u001b[32m  ✓ \u001b[39mAltroTutorials\n",
      "2 dependencies successfully precompiled in 6 seconds (184 already precompiled)\n"
     ]
    }
   ],
   "source": [
    "import Pkg; Pkg.activate(joinpath(@__DIR__, \"..\")); Pkg.instantiate();\n",
    "using Altro\n",
    "using TrajectoryOptimization\n",
    "using RobotDynamics\n",
    "using StaticArrays\n",
    "using LinearAlgebra"
   ]
  },
  {
   "cell_type": "markdown",
   "id": "9ad80e18",
   "metadata": {},
   "source": [
    "# Quadrotor: Rigid Bodies\n",
    "Altro.jl, TrajectoryOptimization.jl, and RobotDynamics.jl are especially well-suited to solving problems for single rigid bodies subject to arbitrary forces and torques. These system are unique in that their state is parameterized by non-Euclidean 3D rotation, whose unique group structure requires special consideration during the optimization process. The TrajectoryOptimization.jl ecosystem provides a convenient API for working with these systems, and powerful and efficient methods for correctly optimizing the state and control trajectories for them. \n",
    "\n",
    "In this example we'll work on setting up simple zig-zag trajectory for a quadrotor."
   ]
  },
  {
   "cell_type": "markdown",
   "id": "bd80c743",
   "metadata": {},
   "source": [
    "## 1. Defining the Dynamics\n",
    "Defining the dynamics for a single rigid body is slightly different than the generic case we've seen so far, since RobotDynamics.jl already defines the dynamics, so all we need to do is define the forces and torques that act on the body as a function of the state and control. Let's do this for the quadrotor. We start by defining our model struct:"
   ]
  },
  {
   "cell_type": "code",
   "execution_count": 3,
   "id": "71be8ee3",
   "metadata": {},
   "outputs": [],
   "source": [
    "struct Quadrotor{R} <: RobotDynamics.RigidBody{R}\n",
    "    mass::Float64\n",
    "    J::Diagonal{Float64,SVector{3,Float64}}\n",
    "    Jinv::Diagonal{Float64,SVector{3,Float64}}\n",
    "    gravity::SVector{3,Float64}\n",
    "    motor_dist::Float64\n",
    "    kf::Float64\n",
    "    km::Float64\n",
    "    bodyframe::Bool  # velocity in body frame?\n",
    "    ned::Bool\n",
    "end\n",
    "\n",
    "# NOTE: no need to define the state dimension since that's already defined by RigidBody!\n",
    "#       Do NOT override the state dimension since it's dependent on the rotation representation used\n",
    "RobotDynamics.control_dim(::Quadrotor) = 4"
   ]
  },
  {
   "cell_type": "markdown",
   "id": "0cd20100",
   "metadata": {},
   "source": [
    "This is almost the same as before, but now we're inheriting from `RobotDynamics.RigidBody`, which has a type parameter `R`, which tells us what rotation representation is being used. There are many ways of parameterizing 3D rotations, including rotation matrices, unit quaternions, Euler angles, or Rodrigues parameters, to name a few. Many of these representations are implemented in [Rotations.jl](https://github.com/JuliaGeometry/Rotations.jl). `RigidBody` expects this type to be a sub-type of `Rotations.Rotation{3,T}`. For those coming from C++ and familiar with templates, you can think of a parameterized type in a very similar way. The type parameter complicates defining the constructor a little, but the following form should always work well:"
   ]
  },
  {
   "cell_type": "code",
   "execution_count": 4,
   "id": "49910d95",
   "metadata": {},
   "outputs": [],
   "source": [
    "using Rotations\n",
    "\n",
    "function Quadrotor{R}(;\n",
    "        mass=0.5,\n",
    "        J=Diagonal(@SVector [0.0023, 0.0023, 0.004]),\n",
    "        gravity=SVector(0,0,-9.81),\n",
    "        motor_dist=0.1750,\n",
    "        kf=1.0,\n",
    "        km=0.0245,\n",
    "        bodyframe=false,\n",
    "        ned=false,\n",
    "    ) where R\n",
    "    Quadrotor{R}(mass,J,inv(J),gravity,motor_dist,kf,km,bodyframe,ned)\n",
    "end\n",
    "\n",
    "# Define the default to `UnitQuaternion`\n",
    "(::Type{Quadrotor})(;kwargs...) = Quadrotor{UnitQuaternion}(;kwargs...)"
   ]
  },
  {
   "cell_type": "markdown",
   "id": "7ea94004",
   "metadata": {},
   "source": [
    "The first defines all our default values, and is called as `Quadrotor{UnitQuaterion}(...)`. Note that it's usually best to leave the scalar type parameter out of the rotation, since it allows for more generic conversions. The second constructor defines calls of the form `Quadrotor(...)` with no type parameter, so we call the first with our default type parameter, `UnitQuaternion`.\n",
    "\n",
    "With our constructors defined, we're now ready to define the forces and moments acting on our quadrotor. These are defined in the following frames:\n",
    "* Forces = **global** frame\n",
    "* Moments = **local** (or body) frame\n",
    "\n",
    "For convenience, we also define the function `trim_controls` to define the forces that maintain steady, level flight."
   ]
  },
  {
   "cell_type": "code",
   "execution_count": 5,
   "id": "4c59a81b",
   "metadata": {},
   "outputs": [],
   "source": [
    "# Forces in the world frame: a sum of the motor forces along the z-axis of the quadrotor, along with gravity\n",
    "function RobotDynamics.forces(model::Quadrotor, x, u)\n",
    "    q = orientation(model, x)\n",
    "    kf = model.kf\n",
    "    g = model.gravity\n",
    "    m = model.mass\n",
    "\n",
    "    w1 = u[1]\n",
    "    w2 = u[2]\n",
    "    w3 = u[3]\n",
    "    w4 = u[4]\n",
    "\n",
    "    F1 = max(0,kf*w1);\n",
    "    F2 = max(0,kf*w2);\n",
    "    F3 = max(0,kf*w3);\n",
    "    F4 = max(0,kf*w4);\n",
    "    F = @SVector [0., 0., F1+F2+F3+F4] #total rotor force in body frame\n",
    "\n",
    "    f = m*g + q*F # forces in world frame\n",
    "    return f\n",
    "end\n",
    "\n",
    "# Moments in the body frame: account for moment arms and torque from spinning the props.\n",
    "function RobotDynamics.moments(model::Quadrotor, x, u)\n",
    "\n",
    "    kf, km = model.kf, model.km\n",
    "    L = model.motor_dist\n",
    "\n",
    "    w1 = u[1]\n",
    "    w2 = u[2]\n",
    "    w3 = u[3]\n",
    "    w4 = u[4]\n",
    "\n",
    "    F1 = max(0,kf*w1);\n",
    "    F2 = max(0,kf*w2);\n",
    "    F3 = max(0,kf*w3);\n",
    "    F4 = max(0,kf*w4);\n",
    "\n",
    "    M1 = km*w1;\n",
    "    M2 = km*w2;\n",
    "    M3 = km*w3;\n",
    "    M4 = km*w4;\n",
    "    tau = @SVector [L*(F2-F4), L*(F3-F1), (M1-M2+M3-M4)] #total rotor torque in body frame\n",
    "    return tau\n",
    "end\n",
    "\n",
    "function trim_controls(model::Quadrotor)\n",
    "    @SVector fill(-model.gravity[3]*model.mass/4.0, size(model)[2])\n",
    "end\n",
    "\n",
    "RobotDynamics.mass(model::Quadrotor) = model.mass\n",
    "RobotDynamics.inertia(model::Quadrotor) = model.J"
   ]
  },
  {
   "cell_type": "markdown",
   "id": "a1c934a1",
   "metadata": {},
   "source": [
    "Now let's test our dynamics to make sure they work. Let's plug in trim conditions to make sure we get a time-derivative of zero. We'll use the overloaded `zeros` function on `RigidBody` to generate the \"zero\" or \"identity\" state vector for our model.\n",
    "\n",
    "**NOTE**: We can also use `rand` to generate a random state and control vector. For rotations, this is correctly sampled from a uniform distribution over the space of rotations."
   ]
  },
  {
   "cell_type": "code",
   "execution_count": 6,
   "id": "5b4ea1ef",
   "metadata": {},
   "outputs": [
    {
     "data": {
      "text/plain": [
       "13-element SVector{13, Float64} with indices SOneTo(13):\n",
       " 0.0\n",
       " 0.0\n",
       " 0.0\n",
       " 0.0\n",
       " 0.0\n",
       " 0.0\n",
       " 0.0\n",
       " 0.0\n",
       " 0.0\n",
       " 0.0\n",
       " 0.0\n",
       " 0.0\n",
       " 0.0"
      ]
     },
     "execution_count": 6,
     "metadata": {},
     "output_type": "execute_result"
    }
   ],
   "source": [
    "model = Quadrotor()\n",
    "\n",
    "# Get a vector of zeros, and an identity rotation. The index pulls out the state, since it returns both a zero state and control\n",
    "x = zeros(model)[1]\n",
    "\n",
    "# Get the controls to hold level flight\n",
    "u = trim_controls(model)\n",
    "\n",
    "# Test with level flight. Time derivative should be zeros\n",
    "dynamics(model, x, u)"
   ]
  },
  {
   "cell_type": "markdown",
   "id": "9046a19d",
   "metadata": {},
   "source": [
    "## 2. Define the Cost Function\n",
    "In this problem we'll get a little more creative with our cost function. Since we want it to do a zig-zag pattern, we'll use a \"waypoint\" style cost function that has a nominal cost for most of the trajectory, with a couple \"waypoint\" costs at specific knot points with high cost for being far from a particular position. \n",
    "\n",
    "Since it's often useful to specify the costs on the position, orientation, and linear and angular velocities separate, RobotDynamics provides a few methods for building vectors from these 4 components, as long as you're working with a sub-type of `RigidBody`. As before, we start off with defining our discretizing and extracting our state and control dimensions out of our model."
   ]
  },
  {
   "cell_type": "code",
   "execution_count": 7,
   "id": "156655c0",
   "metadata": {},
   "outputs": [
    {
     "data": {
      "text/plain": [
       "0.05"
      ]
     },
     "execution_count": 7,
     "metadata": {},
     "output_type": "execute_result"
    }
   ],
   "source": [
    "# discretization\n",
    "n,m = size(model)\n",
    "N = 101 # number of knot points\n",
    "tf = 5.0\n",
    "dt = tf/(N-1) # total time"
   ]
  },
  {
   "cell_type": "markdown",
   "id": "16a4c8b4",
   "metadata": {},
   "source": [
    "Next we define our \"nominal\" cost, which penalizes deviations from our nominal state. Note that we place a very lost cost on position and orientation, so we're really just encouraging it to have low linear and angular velocities. Also note that we use [`TrajectoryOptimization.QuatLQRCost`](http://roboticexplorationlab.org/TrajectoryOptimization.jl/dev/rotations.html#TrajectoryOptimization.QuatLQRCost) instead of `LQRCost`. This cost is very similar, but for sub-types of `RigidBody` it uses a more correct method for penalizing the distance between two rotations, using the geodesic distance. See the [documentation](http://roboticexplorationlab.org/TrajectoryOptimization.jl/dev/rotations.html#TrajectoryOptimization.QuatLQRCost) for more information."
   ]
  },
  {
   "cell_type": "code",
   "execution_count": 8,
   "id": "15d1fdf3",
   "metadata": {},
   "outputs": [],
   "source": [
    "Q_diag = RobotDynamics.fill_state(model, 1e-5, 0.0, 1e-3, 1e-3)  # build a vector from 4 scalars, one for position, orientation, and linear and angular velocities\n",
    "Q = Diagonal(Q_diag)\n",
    "R = Diagonal(@SVector fill(1e-4,m))\n",
    "q_nom = UnitQuaternion(I)  # shortcut for identity rotation\n",
    "v_nom, ω_nom = zeros(3), zeros(3)  # nominal linear and angular velocities\n",
    "x_nom = RobotDynamics.build_state(model, zeros(3), q_nom, v_nom, ω_nom)  # build the nominal state vector\n",
    "\n",
    "cost_nom = TrajectoryOptimization.QuatLQRCost(Q, R, x_nom, w=0.0);"
   ]
  },
  {
   "cell_type": "markdown",
   "id": "de6ce727",
   "metadata": {},
   "source": [
    "Now we define our waypoint costs. We first define the waypoint locations and which time steps they correpond to. Then we define separate cost weights for the intermediate and terminal waypoints. These are then used to create a vector of cost functions."
   ]
  },
  {
   "cell_type": "code",
   "execution_count": 9,
   "id": "266069f0",
   "metadata": {},
   "outputs": [],
   "source": [
    "wpts = [(@SVector [10,0,1.]),\n",
    "                (@SVector [-10,0,1.]),\n",
    "                (@SVector [0,10,1.])]\n",
    "times = [33, 66, 101]\n",
    "Qw_diag = RobotDynamics.fill_state(model, 1e3, 0, 1, 1)\n",
    "Qf_diag = RobotDynamics.fill_state(model, 10., 0, 10, 10)\n",
    "\n",
    "costs = map(1:length(wpts)) do i\n",
    "    r = wpts[i]\n",
    "    if times[i] == N\n",
    "        Q = Diagonal(Qf_diag)\n",
    "        w = 40.0\n",
    "    else\n",
    "        Q = Diagonal(1e-3*Qw_diag)\n",
    "        w = 0.1\n",
    "    end\n",
    "    xg = RobotDynamics.build_state(model, r, q_nom, v_nom, ω_nom)\n",
    "    TrajectoryOptimization.QuatLQRCost(Q, R, xg, w=w)\n",
    "end;"
   ]
  },
  {
   "cell_type": "markdown",
   "id": "a37dfeb2",
   "metadata": {},
   "source": [
    "With those cost functions all defined, we now define our objective by putting them all together:"
   ]
  },
  {
   "cell_type": "code",
   "execution_count": 10,
   "id": "f442bc5d",
   "metadata": {},
   "outputs": [
    {
     "data": {
      "text/plain": [
       "Objective"
      ]
     },
     "execution_count": 10,
     "metadata": {},
     "output_type": "execute_result"
    }
   ],
   "source": [
    "costs_all = map(1:N) do k\n",
    "    if k ∈ times  # test if it's a waypoint time step\n",
    "        i = findfirst(x->(x ≥ k), times)\n",
    "        costs[i]\n",
    "    else          # use nominal cost otherwise\n",
    "        cost_nom\n",
    "    end\n",
    "end\n",
    "\n",
    "obj = Objective(costs_all)"
   ]
  },
  {
   "cell_type": "markdown",
   "id": "59a131fe",
   "metadata": {},
   "source": [
    "## 3. Add Constraints\n",
    "We'll add a simple bound to the control values to keep them positive and below a maximum thrust value"
   ]
  },
  {
   "cell_type": "code",
   "execution_count": 11,
   "id": "359c1424",
   "metadata": {},
   "outputs": [],
   "source": [
    "conSet = ConstraintList(n,m,N)\n",
    "bnd = BoundConstraint(n,m, u_min=0.0, u_max=12.0)\n",
    "add_constraint!(conSet, bnd, 1:N-1)"
   ]
  },
  {
   "cell_type": "markdown",
   "id": "d57c6f58",
   "metadata": {},
   "source": [
    "## 4. Setting up and Solving the Problem\n",
    "From here, we set up and solve the problem following the same procedure we used before. Remember to provide a good initial guess, which in this case will be a hover trajectory."
   ]
  },
  {
   "cell_type": "code",
   "execution_count": 12,
   "id": "f9b8cdf3",
   "metadata": {},
   "outputs": [],
   "source": [
    "# Initialization\n",
    "u0 = @SVector fill(0.5*9.81/4, m)\n",
    "U_hover = [copy(u0) for k = 1:N-1] # initial hovering control trajectory\n",
    "\n",
    "# Initial and Final Condition\n",
    "x0_pos = @SVector [0., -10., 1.]\n",
    "x0 = RobotDynamics.build_state(model, x0_pos, UnitQuaternion(I), zeros(3), zeros(3))\n",
    "xf = RobotDynamics.build_state(model, wpts[end], UnitQuaternion(I), zeros(3), zeros(3))\n",
    "\n",
    "# Problem\n",
    "prob = Problem(model, obj, xf, tf, x0=x0, constraints=conSet)\n",
    "initial_controls!(prob, U_hover)\n",
    "\n",
    "# Solver\n",
    "opts = SolverOptions(\n",
    "    penalty_scaling=100.,\n",
    "    penalty_initial=0.1,\n",
    ")\n",
    "solver = ALTROSolver(prob, opts);"
   ]
  },
  {
   "cell_type": "code",
   "execution_count": 13,
   "id": "e299ec86",
   "metadata": {},
   "outputs": [
    {
     "name": "stdout",
     "output_type": "stream",
     "text": [
      "\u001b[32;1m\n",
      "SOLVE COMPLETED\n",
      "\u001b[0m solved using the \u001b[0m\u001b[36;1mALTRO\u001b[0m Solver,\n",
      " part of the Altro.jl package developed by the REx Lab at Stanford and Carnegie Mellon Universities\n",
      "\u001b[34;1m\n",
      "  Solve Statistics\n",
      "\u001b[0m    Total Iterations: 25\n",
      "\u001b[0m    Solve Time: 17402.618517 (ms)\n",
      "\u001b[34;1m\n",
      "  Covergence\n",
      "\u001b[0m    Terminal Cost: 0.5532311678473902\n",
      "\u001b[0m    Terminal dJ: \u001b[32m-0.01108654763608763\n",
      "\u001b[0m    Terminal gradient: \u001b[32m0.035933302473246366\n",
      "\u001b[0m    Terminal constraint violation: \u001b[32m2.152515168329927e-7\n",
      "\u001b[0m    Solve Status: \u001b[1m\u001b[32mSOLVE_SUCCEEDED\n",
      "\u001b[0m"
     ]
    }
   ],
   "source": [
    "solve!(solver);"
   ]
  },
  {
   "cell_type": "markdown",
   "id": "ce5a479c",
   "metadata": {},
   "source": [
    "## 5. Visualization\n",
    "We'll now show how to visualize the results in a 3D environment. We'll use `TrajOptPlots`, one of the packages in the TrajectoryOptimization.jl ecosystem, along with MeshCat.jl. To avoid having to define our own visualization method here, we'll use the Quadrotor model from RobotZoo (which we could have also used to solve our problem instead of defining our own model). Details on importing your own meshes are given in the last section of this notebook."
   ]
  },
  {
   "cell_type": "code",
   "execution_count": 14,
   "id": "89b8ea31",
   "metadata": {},
   "outputs": [],
   "source": [
    "using TrajOptPlots\n",
    "using MeshCat\n",
    "using RobotZoo"
   ]
  },
  {
   "cell_type": "code",
   "execution_count": 15,
   "id": "f35d2167",
   "metadata": {},
   "outputs": [
    {
     "name": "stderr",
     "output_type": "stream",
     "text": [
      "┌ Info: MeshCat server started. You can open the visualizer by visiting the following URL in your browser:\n",
      "│ http://127.0.0.1:8700\n",
      "└ @ MeshCat /home/brian/.julia/packages/MeshCat/GlCMx/src/visualizer.jl:73\n"
     ]
    },
    {
     "data": {
      "text/html": [
       "    <div style=\"height: 500px; width: 100%; overflow-x: auto; overflow-y: hidden; resize: both\">\n",
       "    <iframe src=\"http://127.0.0.1:8700\" style=\"width: 100%; height: 100%; border: none\"></iframe>\n",
       "    </div>\n"
      ],
      "text/plain": [
       "MeshCat.DisplayedVisualizer(MeshCat.CoreVisualizer(MeshCat.SceneTrees.SceneNode(nothing, nothing, Dict{String, Vector{UInt8}}(), nothing, Dict{String, MeshCat.SceneTrees.SceneNode}(\"meshcat\" => MeshCat.SceneTrees.SceneNode(nothing, nothing, Dict{String, Vector{UInt8}}(), nothing, Dict{String, MeshCat.SceneTrees.SceneNode}(\"robot\" => MeshCat.SceneTrees.SceneNode(nothing, nothing, Dict{String, Vector{UInt8}}(), nothing, Dict{String, MeshCat.SceneTrees.SceneNode}(\"geom\" => MeshCat.SceneTrees.SceneNode(UInt8[0x83, 0xa6, 0x6f, 0x62, 0x6a, 0x65, 0x63, 0x74, 0x84, 0xaa  …  0x72, 0x6f, 0x62, 0x6f, 0x74, 0x2f, 0x67, 0x65, 0x6f, 0x6d], nothing, Dict{String, Vector{UInt8}}(), nothing, Dict{String, MeshCat.SceneTrees.SceneNode}()))))))), Set{Any}(), ip\"127.0.0.1\", 8700))"
      ]
     },
     "execution_count": 15,
     "metadata": {},
     "output_type": "execute_result"
    }
   ],
   "source": [
    "vis = Visualizer()\n",
    "TrajOptPlots.set_mesh!(vis, RobotZoo.Quadrotor())\n",
    "render(vis)"
   ]
  },
  {
   "cell_type": "code",
   "execution_count": 16,
   "id": "74c2e3e6",
   "metadata": {},
   "outputs": [],
   "source": [
    "visualize!(vis, solver)"
   ]
  },
  {
   "cell_type": "markdown",
   "id": "44561d46",
   "metadata": {},
   "source": [
    "**TIP**: You can use the controls in the top-right corner of the visualizer to replay the animation, slow it down, pause it etc. You can even record it and save the captured frames to an mp4 using `MeshCat.convert_frames_to_video`. *Easter Egg*: In the animations panel, if you click in any variable box (like the time scale) and drag, it will change the number like a slider."
   ]
  },
  {
   "cell_type": "markdown",
   "id": "92aa0c79",
   "metadata": {},
   "source": [
    "## 6. Tracking the Reference Trajectory\n",
    "We often want to track the optimized trajectory to make it robust to model disturbances. Since ALTRO computes a locally-optimal feedback controller about the current trajectory, we can use these gains to track our trajectory. First, however, we'll create a new model that adds some random disturbances to our model."
   ]
  },
  {
   "cell_type": "markdown",
   "id": "6f1f4f13",
   "metadata": {},
   "source": [
    "### Adding Disturbances to our Model\n",
    "To add disturbances, we just create a new model that contains our nominal model and then modify the dynamics as needed. We'll do this for a single rigid body:"
   ]
  },
  {
   "cell_type": "code",
   "execution_count": 17,
   "id": "7aa0a989",
   "metadata": {},
   "outputs": [],
   "source": [
    "struct RandomWrenches{L,R} <: RobotDynamics.RigidBody{R}\n",
    "    model::L\n",
    "    f_mag::Float64\n",
    "    f_std::Float64\n",
    "    t_mag::Float64\n",
    "    t_std::Float64\n",
    "    \n",
    "    # Define an \"inner\" constructor to enforce that `model` has to be a RigidBody{R}\n",
    "    function RandomWrenches(model::L, f_mag::Real=1, f_std::Real=0.1, t_mag::Real=0.1, t_std::Real=0.01) where {L<:RobotDynamics.RigidBody}\n",
    "        R = RobotDynamics.rotation_type(model)  # get the rotation type out of the model\n",
    "        new{L,R}(model, f_mag, f_std, t_mag, t_std)\n",
    "    end\n",
    "end\n",
    "\n",
    "RobotDynamics.control_dim(model::RandomWrenches) = control_dim(model.model)\n",
    "\n",
    "function RobotDynamics.forces(model::RandomWrenches, x, u)\n",
    "    # Get the original forces from the model\n",
    "    F = RobotDynamics.forces(model.model, x, u)\n",
    "    \n",
    "    # Add the random disturbance\n",
    "    return F + (model.f_mag .+ (model.f_std * @SVector randn(3)))\n",
    "end\n",
    "\n",
    "function RobotDynamics.moments(model::RandomWrenches, x, u)\n",
    "    # Get the original moments from the model\n",
    "    tau = RobotDynamics.moments(model.model, x, u)\n",
    "    \n",
    "    # Add the random disturbance\n",
    "    return tau + (model.t_mag .+ (model.t_std * @SVector randn(3)))\n",
    "end\n",
    "\n",
    "# Use the same inertial parameters as the original model\n",
    "RobotDynamics.mass(model::RandomWrenches) = RobotDynamics.mass(model.model)\n",
    "RobotDynamics.inertia(model::RandomWrenches) = RobotDynamics.inertia(model.model)"
   ]
  },
  {
   "cell_type": "code",
   "execution_count": 18,
   "id": "a9a7389a",
   "metadata": {},
   "outputs": [],
   "source": [
    "model_disturbed = RandomWrenches(model, 0.1,0.01, 0, 0);  # use small disturbances, only on the forces (can change this later after adding feedback)"
   ]
  },
  {
   "cell_type": "markdown",
   "id": "2287de8f",
   "metadata": {},
   "source": [
    "### Simulate Open Loop\n",
    "We now want to see what happens when we simulate our system forward now that we have some disturbances. We first extract out the trajectory from the solver, copy it, and then use the `rollout!` method in RobotDynamics to simulate it forward using a 4th order Runge-Kutta method. This will start at the initial state of the provided trajectory and then just apply the controls, overwriting the states in the process."
   ]
  },
  {
   "cell_type": "code",
   "execution_count": 19,
   "id": "dc05613a",
   "metadata": {},
   "outputs": [],
   "source": [
    "Z_openloop = copy(get_trajectory(solver))\n",
    "RobotDynamics.rollout!(RK4, model_disturbed, Z_openloop)"
   ]
  },
  {
   "cell_type": "markdown",
   "id": "01d7304a",
   "metadata": {},
   "source": [
    "Now that we have our trajectory, let's visualize it. We first use `traj2!` to view a planar version of the trajectory (top-down)."
   ]
  },
  {
   "cell_type": "code",
   "execution_count": 20,
   "id": "f9fdda76",
   "metadata": {},
   "outputs": [
    {
     "data": {
      "image/png": "[encoded data removed]"
     },
     "execution_count": 20,
     "metadata": {},
     "output_type": "execute_result"
    }
   ],
   "source": [
    "using Plots\n",
    "pyplot()\n",
    "traj2(states(solver), label=\"original\")\n",
    "traj2!(states(Z_openloop), label=\"disturbed\", c=:red)"
   ]
  },
  {
   "cell_type": "markdown",
   "id": "68951d5f",
   "metadata": {},
   "source": [
    "Now let's use MeshCat and TrajOptPlots to visualize and compare the 2 trajectories. Here we use a handy feature from TrajOptPlots that allows us to pass multiple trajectories to `visualize!` and it will visualize each one. We also use the [Colors.jl](https://github.com/JuliaGraphics/Colors.jl) package to specify the color of the disturbed quadrotor."
   ]
  },
  {
   "cell_type": "code",
   "execution_count": 21,
   "id": "faa9eee1",
   "metadata": {},
   "outputs": [
    {
     "name": "stderr",
     "output_type": "stream",
     "text": [
      "┌ Info: MeshCat server started. You can open the visualizer by visiting the following URL in your browser:\n",
      "│ http://127.0.0.1:8701\n",
      "└ @ MeshCat /home/brian/.julia/packages/MeshCat/GlCMx/src/visualizer.jl:73\n"
     ]
    },
    {
     "data": {
      "text/html": [
       "    <div style=\"height: 500px; width: 100%; overflow-x: auto; overflow-y: hidden; resize: both\">\n",
       "    <iframe src=\"http://127.0.0.1:8701\" style=\"width: 100%; height: 100%; border: none\"></iframe>\n",
       "    </div>\n"
      ],
      "text/plain": [
       "MeshCat.DisplayedVisualizer(MeshCat.CoreVisualizer(MeshCat.SceneTrees.SceneNode(nothing, nothing, Dict{String, Vector{UInt8}}(), nothing, Dict{String, MeshCat.SceneTrees.SceneNode}(\"meshcat\" => MeshCat.SceneTrees.SceneNode(nothing, nothing, Dict{String, Vector{UInt8}}(), nothing, Dict{String, MeshCat.SceneTrees.SceneNode}(\"robot\" => MeshCat.SceneTrees.SceneNode(nothing, nothing, Dict{String, Vector{UInt8}}(), nothing, Dict{String, MeshCat.SceneTrees.SceneNode}(\"geom\" => MeshCat.SceneTrees.SceneNode(UInt8[0x83, 0xa6, 0x6f, 0x62, 0x6a, 0x65, 0x63, 0x74, 0x84, 0xaa  …  0x72, 0x6f, 0x62, 0x6f, 0x74, 0x2f, 0x67, 0x65, 0x6f, 0x6d], nothing, Dict{String, Vector{UInt8}}(), nothing, Dict{String, MeshCat.SceneTrees.SceneNode}()))))))), Set{Any}(), ip\"127.0.0.1\", 8701))"
      ]
     },
     "execution_count": 21,
     "metadata": {},
     "output_type": "execute_result"
    }
   ],
   "source": [
    "vis = Visualizer()\n",
    "TrajOptPlots.set_mesh!(vis, RobotZoo.Quadrotor())\n",
    "render(vis)"
   ]
  },
  {
   "cell_type": "code",
   "execution_count": 22,
   "id": "d4a1a33f",
   "metadata": {},
   "outputs": [],
   "source": [
    "using Colors\n",
    "visualize!(vis, RobotZoo.Quadrotor(), get_trajectory(solver), Z_openloop, colors=[:default, colorant\"red\"])"
   ]
  },
  {
   "cell_type": "markdown",
   "id": "45ce4fb2",
   "metadata": {},
   "source": [
    "### Simulating Closed Loop\n",
    "Now that we see that the open-loop behavior is pretty far off, even with small disturbances, let's wrap it in the LQR controller provided by ALTRO. This is a pretty basic version, but it should get the idea across and show you how to extract the relevant information from the solver."
   ]
  },
  {
   "cell_type": "code",
   "execution_count": 23,
   "id": "94b8e4e2",
   "metadata": {},
   "outputs": [],
   "source": [
    "function sim_closed_loop(model, solver)\n",
    "    # Get the gains out of the solver\n",
    "    K = Altro.get_ilqr(solver).K\n",
    "    d = Altro.get_ilqr(solver).d\n",
    "    \n",
    "    # Copy the trajectories\n",
    "    Z = get_trajectory(solver)\n",
    "    Xref = deepcopy(states(Z))\n",
    "    Uref = deepcopy(controls(Z))\n",
    "    \n",
    "    # Initialize the new trajectories\n",
    "    X = zero.(Xref)\n",
    "    U = zero.(Uref)\n",
    "    \n",
    "    # Set the initial state\n",
    "    X[1] = Xref[1]\n",
    "    \n",
    "    # Simulate the system forward\n",
    "    for k = 1:length(Uref)\n",
    "        dx = RobotDynamics.state_diff(model, X[k], Xref[k])\n",
    "        X[k+1] = discrete_dynamics(RK4, model, X[k], Uref[k] + K[k]*dx + d[k], Z[k].t, Z[k].dt)\n",
    "    end\n",
    "    \n",
    "    # Create a new trajectory with the new states and controls\n",
    "    Znew = copy(Z)\n",
    "    set_states!(Znew, X)\n",
    "    set_controls!(Znew, U)\n",
    "    return Znew\n",
    "end\n",
    "Z_cl = sim_closed_loop(model_disturbed, solver);"
   ]
  },
  {
   "cell_type": "code",
   "execution_count": 24,
   "id": "867cca21",
   "metadata": {},
   "outputs": [
    {
     "data": {
      "text/html": [
       "    <div style=\"height: 500px; width: 100%; overflow-x: auto; overflow-y: hidden; resize: both\">\n",
       "    <iframe src=\"http://127.0.0.1:8701\" style=\"width: 100%; height: 100%; border: none\"></iframe>\n",
       "    </div>\n"
      ],
      "text/plain": [
       "MeshCat.DisplayedVisualizer(MeshCat.CoreVisualizer(MeshCat.SceneTrees.SceneNode(nothing, nothing, Dict{String, Vector{UInt8}}(), UInt8[0x83, 0xa7, 0x6f, 0x70, 0x74, 0x69, 0x6f, 0x6e, 0x73, 0x82  …  0x5f, 0x61, 0x6e, 0x69, 0x6d, 0x61, 0x74, 0x69, 0x6f, 0x6e], Dict{String, MeshCat.SceneTrees.SceneNode}(\"meshcat\" => MeshCat.SceneTrees.SceneNode(nothing, nothing, Dict{String, Vector{UInt8}}(), nothing, Dict{String, MeshCat.SceneTrees.SceneNode}(\"robot_copies\" => MeshCat.SceneTrees.SceneNode(nothing, nothing, Dict{String, Vector{UInt8}}(), nothing, Dict{String, MeshCat.SceneTrees.SceneNode}(\"robot2\" => MeshCat.SceneTrees.SceneNode(nothing, nothing, Dict{String, Vector{UInt8}}(), nothing, Dict{String, MeshCat.SceneTrees.SceneNode}(\"robot\" => MeshCat.SceneTrees.SceneNode(nothing, nothing, Dict{String, Vector{UInt8}}(), nothing, Dict{String, MeshCat.SceneTrees.SceneNode}(\"geom\" => MeshCat.SceneTrees.SceneNode(UInt8[0x83, 0xa6, 0x6f, 0x62, 0x6a, 0x65, 0x63, 0x74, 0x84, 0xaa  …  0x72, 0x6f, 0x62, 0x6f, 0x74, 0x2f, 0x67, 0x65, 0x6f, 0x6d], nothing, Dict{String, Vector{UInt8}}(), nothing, Dict{String, MeshCat.SceneTrees.SceneNode}()))))))), \"robot\" => MeshCat.SceneTrees.SceneNode(nothing, nothing, Dict{String, Vector{UInt8}}(), nothing, Dict{String, MeshCat.SceneTrees.SceneNode}(\"geom\" => MeshCat.SceneTrees.SceneNode(UInt8[0x83, 0xa6, 0x6f, 0x62, 0x6a, 0x65, 0x63, 0x74, 0x84, 0xaa  …  0x72, 0x6f, 0x62, 0x6f, 0x74, 0x2f, 0x67, 0x65, 0x6f, 0x6d], nothing, Dict{String, Vector{UInt8}}(), nothing, Dict{String, MeshCat.SceneTrees.SceneNode}()))))))), Set(Any[WebSocket(server, \u001b[32mCONNECTED\u001b[39m)]), ip\"127.0.0.1\", 8701))"
      ]
     },
     "execution_count": 24,
     "metadata": {},
     "output_type": "execute_result"
    }
   ],
   "source": [
    "delete!(vis)\n",
    "TrajOptPlots.set_mesh!(vis, RobotZoo.Quadrotor())\n",
    "visualize!(vis, RobotZoo.Quadrotor(), get_trajectory(solver), Z_cl, colors=[:default, colorant\"red\"])\n",
    "render(vis)"
   ]
  },
  {
   "cell_type": "markdown",
   "id": "7f82ae41",
   "metadata": {},
   "source": [
    "You should see dramatically better tracking performance! TrajOptPlots also allows us to visualize 3D lines, so let's plot the positions of each quadrotor in the visualize to compare them:"
   ]
  },
  {
   "cell_type": "code",
   "execution_count": 25,
   "id": "15726d7b",
   "metadata": {},
   "outputs": [
    {
     "data": {
      "text/plain": [
       "MeshCat Visualizer with path /meshcat/disturbed/traj at http://127.0.0.1:8701"
      ]
     },
     "execution_count": 25,
     "metadata": {},
     "output_type": "execute_result"
    }
   ],
   "source": [
    "TrajOptPlots.traj3!(vis[\"original\"], states(solver))\n",
    "TrajOptPlots.traj3!(vis[\"disturbed\"], states(Z_cl), color=colorant\"red\")"
   ]
  },
  {
   "cell_type": "markdown",
   "id": "4909c862",
   "metadata": {},
   "source": [
    "## **(EXTRA)** Adding a Visualization method\n",
    "To visualize our model we need to define some visualization methods. For a single rigid body, TrajOptPlots makes it pretty easy. We can easily scale objects in MeshCat by applying a simple scaling transformation using [CoordinateTransformations.jl](https://github.com/JuliaGeometry/CoordinateTransformations.jl)."
   ]
  },
  {
   "cell_type": "code",
   "execution_count": 60,
   "id": "e1a592a5",
   "metadata": {},
   "outputs": [],
   "source": [
    "using CoordinateTransformations\n",
    "function TrajOptPlots._set_mesh!(vis, model::Quadrotor;\n",
    "        scaling=1.0, color=colorant\"black\"\n",
    "    )\n",
    "    # path to mesh folder in TrajOptPlots\n",
    "    urdf_folder = joinpath(dirname(pathof(TrajOptPlots)),\"..\",\"data\",\"meshes\")\n",
    "    obj = joinpath(urdf_folder, \"quadrotor_scaled.obj\")\n",
    "    \n",
    "    # Load Mesh File\n",
    "    robot_obj = MeshFileGeometry(obj)\n",
    "    mat = MeshPhongMaterial(color=color)\n",
    "    setobject!(vis[\"geom\"], robot_obj, mat)\n",
    "    settransform!(vis[\"geom\"], LinearMap(I(3) * scaling))\n",
    "end"
   ]
  },
  {
   "cell_type": "code",
   "execution_count": 61,
   "id": "d2dd1936",
   "metadata": {},
   "outputs": [
    {
     "name": "stderr",
     "output_type": "stream",
     "text": [
      "┌ Info: MeshCat server started. You can open the visualizer by visiting the following URL in your browser:\n",
      "│ http://127.0.0.1:8707\n",
      "└ @ MeshCat /home/brian/.julia/packages/MeshCat/GlCMx/src/visualizer.jl:73\n"
     ]
    },
    {
     "data": {
      "text/html": [
       "    <div style=\"height: 500px; width: 100%; overflow-x: auto; overflow-y: hidden; resize: both\">\n",
       "    <iframe src=\"http://127.0.0.1:8707\" style=\"width: 100%; height: 100%; border: none\"></iframe>\n",
       "    </div>\n"
      ],
      "text/plain": [
       "MeshCat.DisplayedVisualizer(MeshCat.CoreVisualizer(MeshCat.SceneTrees.SceneNode(nothing, nothing, Dict{String, Vector{UInt8}}(), nothing, Dict{String, MeshCat.SceneTrees.SceneNode}(\"meshcat\" => MeshCat.SceneTrees.SceneNode(nothing, nothing, Dict{String, Vector{UInt8}}(), nothing, Dict{String, MeshCat.SceneTrees.SceneNode}(\"robot\" => MeshCat.SceneTrees.SceneNode(nothing, nothing, Dict{String, Vector{UInt8}}(), nothing, Dict{String, MeshCat.SceneTrees.SceneNode}(\"geom\" => MeshCat.SceneTrees.SceneNode(UInt8[0x83, 0xa6, 0x6f, 0x62, 0x6a, 0x65, 0x63, 0x74, 0x84, 0xaa  …  0x72, 0x6f, 0x62, 0x6f, 0x74, 0x2f, 0x67, 0x65, 0x6f, 0x6d], UInt8[0x83, 0xa6, 0x6d, 0x61, 0x74, 0x72, 0x69, 0x78, 0xc7, 0x40  …  0x72, 0x6f, 0x62, 0x6f, 0x74, 0x2f, 0x67, 0x65, 0x6f, 0x6d], Dict{String, Vector{UInt8}}(), nothing, Dict{String, MeshCat.SceneTrees.SceneNode}()))))))), Set{Any}(), ip\"127.0.0.1\", 8707))"
      ]
     },
     "execution_count": 61,
     "metadata": {},
     "output_type": "execute_result"
    }
   ],
   "source": [
    "# now we can call `set_mesh!` directly on our version of the Quadrotor\n",
    "vis = Visualizer()\n",
    "TrajOptPlots.set_mesh!(vis, model, scaling=1.0)\n",
    "render(vis)"
   ]
  },
  {
   "cell_type": "code",
   "execution_count": 62,
   "id": "6b3ac5cf",
   "metadata": {},
   "outputs": [],
   "source": [
    "visualize!(vis, solver)"
   ]
  }
 ],
 "metadata": {
  "kernelspec": {
   "display_name": "Julia 1.6.0",
   "language": "julia",
   "name": "julia-1.6"
  },
  "language_info": {
   "file_extension": ".jl",
   "mimetype": "application/julia",
   "name": "julia",
   "version": "1.6.0"
  }
 },
 "nbformat": 4,
 "nbformat_minor": 5
}
