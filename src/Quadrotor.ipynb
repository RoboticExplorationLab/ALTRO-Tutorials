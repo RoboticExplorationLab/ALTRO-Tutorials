{
 "cells": [
  {
   "cell_type": "code",
   "execution_count": 1,
   "id": "292449e8-0802-4724-810e-fdf8e16f69c7",
   "metadata": {},
   "outputs": [],
   "source": [
    "import Pkg; Pkg.activate(joinpath(@__DIR__, \"..\")); Pkg.instantiate();\n",
    "using Altro\n",
    "using TrajectoryOptimization\n",
    "using RobotDynamics\n",
    "using StaticArrays\n",
    "using LinearAlgebra"
   ]
  },
  {
   "cell_type": "markdown",
   "id": "2039d8de-5cb3-44ae-802c-9f06551bfbe8",
   "metadata": {},
   "source": [
    "# Quadrotor - Rigid Bodies\n",
    "Altro.jl, TrajectoryOptimization.jl, and RobotDynamics.jl are especially well-suited to solving problems for single rigid bodies subject to arbitrary forces and torques. These system are unique in that their state is parameterized by non-Euclidean 3D rotation, whose unique group structure requires special consideration during the optimization process. The TrajectoryOptimization.jl ecosystem provides a convenient API for working with these systems, and powerful and efficient methods for correctly optimizing the state and control trajectories for them. \n",
    "\n",
    "In this example we'll work on setting up simple zig-zag trajectory for a quadrotor."
   ]
  },
  {
   "cell_type": "markdown",
   "id": "640af91a-7e81-4a79-a903-d9261f9e0a81",
   "metadata": {},
   "source": [
    "## 1. Defining the Dynamics\n",
    "Defining the dynamics for a single rigid body is slightly different than the generic case we've seen so far, since RobotDynamics.jl already defines the dynamics, so all we need to do is define the forces and torques that act on the body as a function of the state and control. Let's do this for the quadrotor. We start by defining our model struct:"
   ]
  },
  {
   "cell_type": "code",
   "execution_count": 2,
   "id": "b1d4ed83-5cbd-47c4-8dc9-686cc19d09d5",
   "metadata": {},
   "outputs": [],
   "source": [
    "struct Quadrotor{R} <: RobotDynamics.RigidBody{R}\n",
    "    mass::Float64\n",
    "    J::Diagonal{Float64,SVector{3,Float64}}\n",
    "    Jinv::Diagonal{Float64,SVector{3,Float64}}\n",
    "    gravity::SVector{3,Float64}\n",
    "    motor_dist::Float64\n",
    "    kf::Float64\n",
    "    km::Float64\n",
    "    bodyframe::Bool  # velocity in body frame?\n",
    "    ned::Bool\n",
    "end\n",
    "\n",
    "# NOTE: no need to define the state dimension since that's already defined by RigidBody!\n",
    "#       Do NOT override the state dimension since it's dependent on the rotation representation used\n",
    "RobotDynamics.control_dim(::Quadrotor) = 4"
   ]
  },
  {
   "cell_type": "markdown",
   "id": "8e0ee811-1ea2-4814-80a3-9ffb9853c84d",
   "metadata": {},
   "source": [
    "This is almost the same as before, but now we're inheriting from `RobotDynamics.RigidBody`, which has a type parameter `R`, which tells us what rotation representation is being used. There are many ways of parameterizing 3D rotations, including rotation matrices, unit quaternions, Euler angles, or Rodrigues parameters, to name a few. Many of these representations are implemented in [Rotations.jl](https://github.com/JuliaGeometry/Rotations.jl). `RigidBody` expects this type to be a sub-type of `Rotations.Rotation{3,T}`. For those coming from C++ and familiar with templates, you can think of a parameterized type in a very similar way. The type parameter complicates defining the constructor a little, but the following form should always work well:"
   ]
  },
  {
   "cell_type": "code",
   "execution_count": 3,
   "id": "328aaa66-dc25-42ae-8252-2d26881f1e4a",
   "metadata": {},
   "outputs": [],
   "source": [
    "using Rotations\n",
    "\n",
    "function Quadrotor{R}(;\n",
    "        mass=0.5,\n",
    "        J=Diagonal(@SVector [0.0023, 0.0023, 0.004]),\n",
    "        gravity=SVector(0,0,-9.81),\n",
    "        motor_dist=0.1750,\n",
    "        kf=1.0,\n",
    "        km=0.0245,\n",
    "        bodyframe=false,\n",
    "        ned=false,\n",
    "    ) where R\n",
    "    Quadrotor{R}(mass,J,inv(J),gravity,motor_dist,kf,km,bodyframe,ned)\n",
    "end\n",
    "\n",
    "# Define the default to `UnitQuaternion`\n",
    "(::Type{Quadrotor})(;kwargs...) = Quadrotor{UnitQuaternion}(;kwargs...)"
   ]
  },
  {
   "cell_type": "markdown",
   "id": "d0bf1375-89ba-4eed-b46e-3c37bdb3ebca",
   "metadata": {},
   "source": [
    "The first defines all our default values, and is called as `Quadrotor{UnitQuaterion}(...)`. Note that it's usually best to leave the scalar type parameter out of the rotation, since it allows for more generic conversions. The second constructor defines calls of the form `Quadrotor(...)` with no type parameter, so we call the first with our default type parameter, `UnitQuaternion`.\n",
    "\n",
    "With our constructors defined, we're now ready to define the forces and moments acting on our quadrotor. These are defined in the following frames:\n",
    "* Forces = **global** frame\n",
    "* Moments = **local** (or body) frame\n",
    "\n",
    "For convenience, we also define the function `trim_controls` to define the forces that maintain steady, level flight."
   ]
  },
  {
   "cell_type": "code",
   "execution_count": 4,
   "id": "6eea64be-0f57-4d4c-b817-c9f310bdd774",
   "metadata": {},
   "outputs": [],
   "source": [
    "# Forces in the world frame: a sum of the motor forces along the z-axis of the quadrotor, along with gravity\n",
    "function RobotDynamics.forces(model::Quadrotor, x, u)\n",
    "    q = orientation(model, x)\n",
    "    kf = model.kf\n",
    "    g = model.gravity\n",
    "    m = model.mass\n",
    "\n",
    "    w1 = u[1]\n",
    "    w2 = u[2]\n",
    "    w3 = u[3]\n",
    "    w4 = u[4]\n",
    "\n",
    "    F1 = max(0,kf*w1);\n",
    "    F2 = max(0,kf*w2);\n",
    "    F3 = max(0,kf*w3);\n",
    "    F4 = max(0,kf*w4);\n",
    "    F = @SVector [0., 0., F1+F2+F3+F4] #total rotor force in body frame\n",
    "\n",
    "    f = m*g + q*F # forces in world frame\n",
    "    return f\n",
    "end\n",
    "\n",
    "# Moments in the body frame: account for moment arms and torque from spinning the props.\n",
    "function RobotDynamics.moments(model::Quadrotor, x, u)\n",
    "\n",
    "    kf, km = model.kf, model.km\n",
    "    L = model.motor_dist\n",
    "\n",
    "    w1 = u[1]\n",
    "    w2 = u[2]\n",
    "    w3 = u[3]\n",
    "    w4 = u[4]\n",
    "\n",
    "    F1 = max(0,kf*w1);\n",
    "    F2 = max(0,kf*w2);\n",
    "    F3 = max(0,kf*w3);\n",
    "    F4 = max(0,kf*w4);\n",
    "\n",
    "    M1 = km*w1;\n",
    "    M2 = km*w2;\n",
    "    M3 = km*w3;\n",
    "    M4 = km*w4;\n",
    "    tau = @SVector [L*(F2-F4), L*(F3-F1), (M1-M2+M3-M4)] #total rotor torque in body frame\n",
    "    return tau\n",
    "end\n",
    "\n",
    "function trim_controls(model::Quadrotor)\n",
    "    @SVector fill(-model.gravity[3]*model.mass/4.0, size(model)[2])\n",
    "end\n",
    "\n",
    "RobotDynamics.mass(model::Quadrotor) = model.mass\n",
    "RobotDynamics.inertia(model::Quadrotor) = model.J"
   ]
  },
  {
   "cell_type": "markdown",
   "id": "dd6bb2b4-155a-42b4-a928-3326ccefcf55",
   "metadata": {},
   "source": [
    "Now let's test our dynamics to make sure they work. Let's plug in trim conditions to make sure we get a time-derivative of zero. We'll use the overloaded `zeros` function on `RigidBody` to generate the \"zero\" or \"identity\" state vector for our model.\n",
    "\n",
    "**NOTE**: We can also use `rand` to generate a random state and control vector. For rotations, this is correctly sampled from a uniform distribution over the space of rotations."
   ]
  },
  {
   "cell_type": "code",
   "execution_count": 5,
   "id": "12b821ca-7b5a-45cb-b61d-dd8e1b41fbb9",
   "metadata": {},
   "outputs": [
    {
     "data": {
      "text/plain": [
       "13-element SVector{13, Float64} with indices SOneTo(13):\n",
       " 0.0\n",
       " 0.0\n",
       " 0.0\n",
       " 0.0\n",
       " 0.0\n",
       " 0.0\n",
       " 0.0\n",
       " 0.0\n",
       " 0.0\n",
       " 0.0\n",
       " 0.0\n",
       " 0.0\n",
       " 0.0"
      ]
     },
     "execution_count": 5,
     "metadata": {},
     "output_type": "execute_result"
    }
   ],
   "source": [
    "model = Quadrotor()\n",
    "\n",
    "# Get a vector of zeros, and an identity rotation. The index pulls out the state, since it returns both a zero state and control\n",
    "x = zeros(model)[1]\n",
    "\n",
    "# Get the controls to hold level flight\n",
    "u = trim_controls(model)\n",
    "\n",
    "# Test with level flight. Time derivative should be zeros\n",
    "dynamics(model, x, u)"
   ]
  },
  {
   "cell_type": "markdown",
   "id": "83787c23-8431-4412-9b2d-85351e039cfb",
   "metadata": {},
   "source": [
    "## 2. Define the Cost Function\n",
    "In this problem we'll get a little more creative with our cost function. Since we want it to do a zig-zag pattern, we'll use a \"waypoint\" style cost function that has a nominal cost for most of the trajectory, with a couple \"waypoint\" costs at specific knot points with high cost for being far from a particular position. \n",
    "\n",
    "Since it's often useful to specify the costs on the position, orientation, and linear and angular velocities separate, RobotDynamics provides a few methods for building vectors from these 4 components, as long as you're working with a sub-type of `RigidBody`. As before, we start off with defining our discretizing and extracting our state and control dimensions out of our model."
   ]
  },
  {
   "cell_type": "code",
   "execution_count": 6,
   "id": "7d8cbc43-bce5-4908-841c-3832c2308509",
   "metadata": {},
   "outputs": [
    {
     "data": {
      "text/plain": [
       "0.05"
      ]
     },
     "execution_count": 6,
     "metadata": {},
     "output_type": "execute_result"
    }
   ],
   "source": [
    "# discretization\n",
    "n,m = size(model)\n",
    "N = 101 # number of knot points\n",
    "tf = 5.0\n",
    "dt = tf/(N-1) # total time"
   ]
  },
  {
   "cell_type": "markdown",
   "id": "12461519-2cad-4b27-aa13-667db8842de6",
   "metadata": {},
   "source": [
    "Next we define our \"nominal\" cost, which penalizes deviations from our nominal state. Note that we place a very lost cost on position and orientation, so we're really just encouraging it to have low linear and angular velocities. Also note that we use [`TrajectoryOptimization.QuatLQRCost`](http://roboticexplorationlab.org/TrajectoryOptimization.jl/dev/rotations.html#TrajectoryOptimization.QuatLQRCost) instead of `LQRCost`. This cost is very similar, but for sub-types of `RigidBody` it uses a more correct method for penalizing the distance between two rotations, using the geodesic distance. See the [documentation](http://roboticexplorationlab.org/TrajectoryOptimization.jl/dev/rotations.html#TrajectoryOptimization.QuatLQRCost) for more information."
   ]
  },
  {
   "cell_type": "code",
   "execution_count": 7,
   "id": "5758b725-33d1-4a85-829c-870ecd4351c0",
   "metadata": {},
   "outputs": [],
   "source": [
    "Q_diag = RobotDynamics.fill_state(model, 1e-5, 0.0, 1e-3, 1e-3)  # build a vector from 4 scalars, one for position, orientation, and linear and angular velocities\n",
    "Q = Diagonal(Q_diag)\n",
    "R = Diagonal(@SVector fill(1e-4,m))\n",
    "q_nom = UnitQuaternion(I)  # shortcut for identity rotation\n",
    "v_nom, ω_nom = zeros(3), zeros(3)  # nominal linear and angular velocities\n",
    "x_nom = RobotDynamics.build_state(model, zeros(3), q_nom, v_nom, ω_nom)  # build the nominal state vector\n",
    "\n",
    "cost_nom = TrajectoryOptimization.QuatLQRCost(Q, R, x_nom, w=0.0);"
   ]
  },
  {
   "cell_type": "markdown",
   "id": "cb70fbfd-03b7-4001-a06b-828a94004f23",
   "metadata": {},
   "source": [
    "Now we define our waypoint costs. We first define the waypoint locations and which time steps they correpond to. Then we define separate cost weights for the intermediate and terminal waypoints. These are then used to create a vector of cost functions."
   ]
  },
  {
   "cell_type": "code",
   "execution_count": 8,
   "id": "485db020-1c6a-4d6c-87ea-9caa6b7c9dc2",
   "metadata": {},
   "outputs": [],
   "source": [
    "wpts = [(@SVector [10,0,1.]),\n",
    "                (@SVector [-10,0,1.]),\n",
    "                (@SVector [0,10,1.])]\n",
    "times = [33, 66, 101]\n",
    "Qw_diag = RobotDynamics.fill_state(model, 1e3, 0, 1, 1)\n",
    "Qf_diag = RobotDynamics.fill_state(model, 10., 0, 10, 10)\n",
    "\n",
    "costs = map(1:length(wpts)) do i\n",
    "    r = wpts[i]\n",
    "    if times[i] == N\n",
    "        Q = Diagonal(Qf_diag)\n",
    "        w = 40.0\n",
    "    else\n",
    "        Q = Diagonal(1e-3*Qw_diag)\n",
    "        w = 0.1\n",
    "    end\n",
    "    xg = RobotDynamics.build_state(model, r, q_nom, v_nom, ω_nom)\n",
    "    TrajectoryOptimization.QuatLQRCost(Q, R, xg, w=w)\n",
    "end;"
   ]
  },
  {
   "cell_type": "markdown",
   "id": "1f27c1e5-3ecb-4734-bd4d-37536bdf4e13",
   "metadata": {},
   "source": [
    "With those cost functions all defined, we now define our objective by putting them all together:"
   ]
  },
  {
   "cell_type": "code",
   "execution_count": 9,
   "id": "08886a22-9ff3-4e2b-bc45-ebad5dc86abd",
   "metadata": {},
   "outputs": [
    {
     "data": {
      "text/plain": [
       "Objective"
      ]
     },
     "execution_count": 9,
     "metadata": {},
     "output_type": "execute_result"
    }
   ],
   "source": [
    "costs_all = map(1:N) do k\n",
    "    if k ∈ times  # test if it's a waypoint time step\n",
    "        i = findfirst(x->(x ≥ k), times)\n",
    "        costs[i]\n",
    "    else          # use nominal cost otherwise\n",
    "        cost_nom\n",
    "    end\n",
    "end\n",
    "\n",
    "obj = Objective(costs_all)"
   ]
  },
  {
   "cell_type": "markdown",
   "id": "eeaac10d-c600-4bf3-8a43-26d78ca0d559",
   "metadata": {},
   "source": [
    "## 3. Add Constraints\n",
    "We'll add a simple bound to the control values to keep them positive and below a maximum thrust value"
   ]
  },
  {
   "cell_type": "code",
   "execution_count": 10,
   "id": "cacd9fd2-ad6f-4ed7-8855-572ba16c1d97",
   "metadata": {},
   "outputs": [],
   "source": [
    "conSet = ConstraintList(n,m,N)\n",
    "bnd = BoundConstraint(n,m, u_min=0.0, u_max=12.0)\n",
    "add_constraint!(conSet, bnd, 1:N-1)"
   ]
  },
  {
   "cell_type": "markdown",
   "id": "1199d409-1ee8-4ada-abcb-0e111c847654",
   "metadata": {},
   "source": [
    "## 4. Setting up and Solving the Problem\n",
    "From here, we set up and solve the problem following the same procedure we used before. Remember to provide a good initial guess, which in this case will be a hover trajectory."
   ]
  },
  {
   "cell_type": "code",
   "execution_count": 11,
   "id": "d0d39159-0ea9-4000-9034-124850b6f154",
   "metadata": {},
   "outputs": [],
   "source": [
    "# Initialization\n",
    "u0 = @SVector fill(0.5*9.81/4, m)\n",
    "U_hover = [copy(u0) for k = 1:N-1] # initial hovering control trajectory\n",
    "\n",
    "# Initial and Final Condition\n",
    "x0_pos = @SVector [0., -10., 1.]\n",
    "x0 = RobotDynamics.build_state(model, x0_pos, UnitQuaternion(I), zeros(3), zeros(3))\n",
    "xf = RobotDynamics.build_state(model, wpts[end], UnitQuaternion(I), zeros(3), zeros(3))\n",
    "\n",
    "# Problem\n",
    "prob = Problem(model, obj, xf, tf, x0=x0, constraints=conSet)\n",
    "initial_controls!(prob, U_hover)\n",
    "\n",
    "# Solver\n",
    "opts = SolverOptions(\n",
    "    penalty_scaling=100.,\n",
    "    penalty_initial=0.1,\n",
    ")\n",
    "solver = ALTROSolver(prob, opts);"
   ]
  },
  {
   "cell_type": "code",
   "execution_count": 12,
   "id": "2f138a30-9104-4703-8cee-7cc7d131d840",
   "metadata": {},
   "outputs": [
    {
     "name": "stdout",
     "output_type": "stream",
     "text": [
      "\u001b[32;1m\n",
      "SOLVE COMPLETED\n",
      "\u001b[0m solved using the \u001b[0m\u001b[36;1mALTRO\u001b[0m Solver,\n",
      " part of the Altro.jl package developed by the REx Lab at Stanford and Carnegie Mellon Universities\n",
      "\u001b[34;1m\n",
      "  Solve Statistics\n",
      "\u001b[0m    Total Iterations: 25\n",
      "\u001b[0m    Solve Time: 13663.282266999999 (ms)\n",
      "\u001b[34;1m\n",
      "  Covergence\n",
      "\u001b[0m    Terminal Cost: 0.5532311678473902\n",
      "\u001b[0m    Terminal dJ: \u001b[32m-0.01108654763608763\n",
      "\u001b[0m    Terminal gradient: \u001b[32m0.035933302473246366\n",
      "\u001b[0m    Terminal constraint violation: \u001b[32m2.152515168329927e-7\n",
      "\u001b[0m    Solve Status: \u001b[1m\u001b[32mSOLVE_SUCCEEDED\n",
      "\u001b[0m"
     ]
    }
   ],
   "source": [
    "solve!(solver);"
   ]
  },
  {
   "cell_type": "markdown",
   "id": "ae158bf7-b6d9-4b2d-ad15-b957ccc5d42f",
   "metadata": {},
   "source": [
    "## 5. Visualization\n",
    "We'll now show how to visualize the results in a 3D environment. We'll use `TrajOptPlots`, one of the packages in the TrajectoryOptimization.jl ecosystem, along with MeshCat.jl. To avoid having to define our own visualization method here, we'll use the Quadrotor model from RobotZoo (which we could have also used to solve our problem instead of defining our own model)."
   ]
  },
  {
   "cell_type": "code",
   "execution_count": 13,
   "id": "3206c9d6-9174-4108-80c6-931fa3976bc9",
   "metadata": {},
   "outputs": [],
   "source": [
    "using TrajOptPlots\n",
    "using MeshCat\n",
    "using RobotZoo"
   ]
  },
  {
   "cell_type": "code",
   "execution_count": 14,
   "id": "9beb7a7d-9192-4d3e-963f-9b6b07ef0258",
   "metadata": {},
   "outputs": [
    {
     "name": "stderr",
     "output_type": "stream",
     "text": [
      "┌ Info: MeshCat server started. You can open the visualizer by visiting the following URL in your browser:\n",
      "│ http://127.0.0.1:8700\n",
      "└ @ MeshCat /home/brian/.julia/packages/MeshCat/GlCMx/src/visualizer.jl:73\n"
     ]
    },
    {
     "data": {
      "text/html": [
       "    <div style=\"height: 500px; width: 100%; overflow-x: auto; overflow-y: hidden; resize: both\">\n",
       "    <iframe src=\"http://127.0.0.1:8700\" style=\"width: 100%; height: 100%; border: none\"></iframe>\n",
       "    </div>\n"
      ],
      "text/plain": [
       "MeshCat.DisplayedVisualizer(MeshCat.CoreVisualizer(MeshCat.SceneTrees.SceneNode(nothing, nothing, Dict{String, Vector{UInt8}}(), nothing, Dict{String, MeshCat.SceneTrees.SceneNode}(\"meshcat\" => MeshCat.SceneTrees.SceneNode(nothing, nothing, Dict{String, Vector{UInt8}}(), nothing, Dict{String, MeshCat.SceneTrees.SceneNode}(\"robot\" => MeshCat.SceneTrees.SceneNode(nothing, nothing, Dict{String, Vector{UInt8}}(), nothing, Dict{String, MeshCat.SceneTrees.SceneNode}(\"geom\" => MeshCat.SceneTrees.SceneNode(UInt8[0x83, 0xa6, 0x6f, 0x62, 0x6a, 0x65, 0x63, 0x74, 0x84, 0xaa  …  0x72, 0x6f, 0x62, 0x6f, 0x74, 0x2f, 0x67, 0x65, 0x6f, 0x6d], nothing, Dict{String, Vector{UInt8}}(), nothing, Dict{String, MeshCat.SceneTrees.SceneNode}()))))))), Set{Any}(), ip\"127.0.0.1\", 8700))"
      ]
     },
     "execution_count": 14,
     "metadata": {},
     "output_type": "execute_result"
    }
   ],
   "source": [
    "vis = Visualizer()\n",
    "TrajOptPlots.set_mesh!(vis, RobotZoo.Quadrotor())\n",
    "render(vis)"
   ]
  },
  {
   "cell_type": "code",
   "execution_count": 64,
   "id": "9ecd858a-5fa4-4ff8-85ff-7a631a5d69b9",
   "metadata": {},
   "outputs": [],
   "source": [
    "visualize!(vis, solver)"
   ]
  },
  {
   "cell_type": "markdown",
   "id": "688a0f81-a0ac-4625-83a8-d563382f250c",
   "metadata": {},
   "source": [
    "**TIP**: You can use the controls in the top-right corner of the visualizer to replay the animation, slow it down, pause it etc. You can even record it and save the captured frames to an mp4 using `MeshCat.convert_frames_to_video`. *Easter Egg*: In the animations panel, if you click in any variable box (like the tim and drag, it will change the number like a slider."
   ]
  },
  {
   "cell_type": "markdown",
   "id": "d66980bd-bebe-4a6e-b8b2-c47a5ebf0e1b",
   "metadata": {},
   "source": [
    "## 6. Tracking the Reference Trajectory\n",
    "We often want to track the optimized trajectory to make it robust to model disturbances. Since ALTRO computes a locally-optimal feedback controller about the current trajectory, we can use these gains to track our trajectory. First, however, we'll create a new model that adds some random disturbances to our model."
   ]
  },
  {
   "cell_type": "markdown",
   "id": "5897a03b-a5ec-460b-b3eb-1f9133ef2f6b",
   "metadata": {},
   "source": [
    "### Adding Disturbances to our Model\n",
    "To add disturbances, we just create a new model that contains our nominal model and then modify the dynamics as needed. We'll do this for a single rigid body:"
   ]
  },
  {
   "cell_type": "code",
   "execution_count": 63,
   "id": "0c5f63a5-4911-4c99-83fd-5497ec42fa3a",
   "metadata": {},
   "outputs": [],
   "source": [
    "struct RandomWrenches{L,R} <: RobotDynamics.RigidBody{R}\n",
    "    model::L\n",
    "    f_mag::Float64\n",
    "    f_std::Float64\n",
    "    t_mag::Float64\n",
    "    t_std::Float64\n",
    "    \n",
    "    # Define an \"inner\" constructor to enforce that `model` has to be a RigidBody{R}\n",
    "    function RandomWrenches(model::L, f_mag::Real=1, f_std::Real=0.1, t_mag::Real=0.1, t_std::Real=0.01) where {L<:RobotDynamics.RigidBody}\n",
    "        R = RobotDynamics.rotation_type(model)  # get the rotation type out of the model\n",
    "        new{L,R}(model, f_mag, f_std, t_mag, t_std)\n",
    "    end\n",
    "end\n",
    "\n",
    "RobotDynamics.control_dim(model::RandomWrenches) = control_dim(model.model)\n",
    "\n",
    "function RobotDynamics.forces(model::RandomWrenches, x, u)\n",
    "    # Get the original forces from the model\n",
    "    F = RobotDynamics.forces(model.model, x, u)\n",
    "    \n",
    "    # Add the random disturbance\n",
    "    return F + (model.f_mag .+ (model.f_std * @SVector randn(3)))\n",
    "end\n",
    "\n",
    "function RobotDynamics.moments(model::RandomWrenches, x, u)\n",
    "    # Get the original moments from the model\n",
    "    tau = RobotDynamics.moments(model.model, x, u)\n",
    "    \n",
    "    # Add the random disturbance\n",
    "    return tau + (model.t_mag .+ (model.t_std * @SVector randn(3)))\n",
    "end\n",
    "\n",
    "# Use the same inertial parameters as the original model\n",
    "RobotDynamics.mass(model::RandomWrenches) = RobotDynamics.mass(model.model)\n",
    "RobotDynamics.inertia(model::RandomWrenches) = RobotDynamics.inertia(model.model)"
   ]
  },
  {
   "cell_type": "code",
   "execution_count": 45,
   "id": "96ba1121-afc4-412d-88a5-cdff563c6ecf",
   "metadata": {},
   "outputs": [],
   "source": [
    "model_disturbed = RandomWrenches(model, 0.1,0.01, 0, 0);  # use small disturbances, only on the forces (can change this later after adding feedback)"
   ]
  },
  {
   "cell_type": "markdown",
   "id": "3305170a-9fe2-4dbf-a8ac-35eeb943a352",
   "metadata": {},
   "source": [
    "### Simulate Open Loop\n",
    "We now want to see what happens when we simulate our system forward now that we have some disturbances. We first extract out the trajectory from the solver, copy it, and then use the `rollout!` method in RobotDynamics to simulate it forward using a 4th order Runge-Kutta method. This will start at the initial state of the provided trajectory and then just apply the controls, overwriting the states in the process."
   ]
  },
  {
   "cell_type": "code",
   "execution_count": 18,
   "id": "6f9b295b-bdb0-4a19-86fe-852f4a7d72ea",
   "metadata": {},
   "outputs": [],
   "source": [
    "Z_openloop = copy(get_trajectory(solver))\n",
    "RobotDynamics.rollout!(RK4, model_disturbed, Z_openloop)"
   ]
  },
  {
   "cell_type": "markdown",
   "id": "f35d6a35-50fc-4cad-bcb6-4ebf2a9138de",
   "metadata": {},
   "source": [
    "Now that we have our trajectory, let's visualize it. We first use `traj2!` to view a planar version of the trajectory (top-down)."
   ]
  },
  {
   "cell_type": "code",
   "execution_count": 47,
   "id": "28785a43-95fc-4feb-933f-52fe8f43fe2c",
   "metadata": {},
   "outputs": [
    {
     "data": {
      "image/png": "[encoded data removed]"
     },
     "execution_count": 47,
     "metadata": {},
     "output_type": "execute_result"
    }
   ],
   "source": [
    "using Plots\n",
    "pyplot()\n",
    "traj2(states(solver), label=\"original\")\n",
    "traj2!(states(Z_openloop), label=\"disturbed\", c=:red)"
   ]
  },
  {
   "cell_type": "markdown",
   "id": "21d29e1b-0165-41f3-bd0a-ea64f7a665eb",
   "metadata": {},
   "source": [
    "Now let's use MeshCat and TrajOptPlots to visualize and compare the 2 trajectories. Here we use a handy feature from TrajOptPlots that allows us to pass multiple trajectories to `visualize!` and it will visualize each one. We also use the [Colors.jl](https://github.com/JuliaGraphics/Colors.jl) package to specify the color of the disturbed quadrotor."
   ]
  },
  {
   "cell_type": "code",
   "execution_count": 48,
   "id": "527fb182-51b7-43fd-8a95-4954a15cc25c",
   "metadata": {},
   "outputs": [
    {
     "name": "stderr",
     "output_type": "stream",
     "text": [
      "┌ Info: MeshCat server started. You can open the visualizer by visiting the following URL in your browser:\n",
      "│ http://127.0.0.1:8702\n",
      "└ @ MeshCat /home/brian/.julia/packages/MeshCat/GlCMx/src/visualizer.jl:73\n"
     ]
    },
    {
     "data": {
      "text/html": [
       "    <div style=\"height: 500px; width: 100%; overflow-x: auto; overflow-y: hidden; resize: both\">\n",
       "    <iframe src=\"http://127.0.0.1:8702\" style=\"width: 100%; height: 100%; border: none\"></iframe>\n",
       "    </div>\n"
      ],
      "text/plain": [
       "MeshCat.DisplayedVisualizer(MeshCat.CoreVisualizer(MeshCat.SceneTrees.SceneNode(nothing, nothing, Dict{String, Vector{UInt8}}(), nothing, Dict{String, MeshCat.SceneTrees.SceneNode}(\"meshcat\" => MeshCat.SceneTrees.SceneNode(nothing, nothing, Dict{String, Vector{UInt8}}(), nothing, Dict{String, MeshCat.SceneTrees.SceneNode}(\"robot\" => MeshCat.SceneTrees.SceneNode(nothing, nothing, Dict{String, Vector{UInt8}}(), nothing, Dict{String, MeshCat.SceneTrees.SceneNode}(\"geom\" => MeshCat.SceneTrees.SceneNode(UInt8[0x83, 0xa6, 0x6f, 0x62, 0x6a, 0x65, 0x63, 0x74, 0x84, 0xaa  …  0x72, 0x6f, 0x62, 0x6f, 0x74, 0x2f, 0x67, 0x65, 0x6f, 0x6d], nothing, Dict{String, Vector{UInt8}}(), nothing, Dict{String, MeshCat.SceneTrees.SceneNode}()))))))), Set{Any}(), ip\"127.0.0.1\", 8702))"
      ]
     },
     "execution_count": 48,
     "metadata": {},
     "output_type": "execute_result"
    }
   ],
   "source": [
    "vis = Visualizer()\n",
    "TrajOptPlots.set_mesh!(vis, RobotZoo.Quadrotor())\n",
    "render(vis)"
   ]
  },
  {
   "cell_type": "code",
   "execution_count": 50,
   "id": "f6b2eb6b-cb78-4b24-9f93-fb255a0de756",
   "metadata": {},
   "outputs": [],
   "source": [
    "using Colors\n",
    "visualize!(vis, RobotZoo.Quadrotor(), get_trajectory(solver), Z_openloop, colors=[:default, colorant\"red\"])"
   ]
  },
  {
   "cell_type": "markdown",
   "id": "95294c90-9fa1-4ee4-9a46-2007e72b509e",
   "metadata": {},
   "source": [
    "### Simulating Closed Loop\n",
    "Now that we see that the open-loop behavior is pretty far off, even with small disturbances, let's wrap it in the LQR controller provided by ALTRO. This is a pretty basic version, but it should get the idea across and show you how to extract the relevant information from the solver."
   ]
  },
  {
   "cell_type": "code",
   "execution_count": 52,
   "id": "3f0cd8bb-3388-4202-8814-ccbe4dc0037d",
   "metadata": {},
   "outputs": [],
   "source": [
    "function sim_closed_loop(model, solver)\n",
    "    # Get the gains out of the solver\n",
    "    K = Altro.get_ilqr(solver).K\n",
    "    d = Altro.get_ilqr(solver).d\n",
    "    \n",
    "    # Copy the trajectories\n",
    "    Z = get_trajectory(solver)\n",
    "    Xref = deepcopy(states(Z))\n",
    "    Uref = deepcopy(controls(Z))\n",
    "    \n",
    "    # Initialize the new trajectories\n",
    "    X = zero.(Xref)\n",
    "    U = zero.(Uref)\n",
    "    \n",
    "    # Set the initial state\n",
    "    X[1] = Xref[1]\n",
    "    \n",
    "    # Simulate the system forward\n",
    "    for k = 1:length(Uref)\n",
    "        dx = RobotDynamics.state_diff(model, X[k], Xref[k])\n",
    "        X[k+1] = discrete_dynamics(RK4, model, X[k], Uref[k] + K[k]*dx + d[k], Z[k].t, Z[k].dt)\n",
    "    end\n",
    "    \n",
    "    # Create a new trajectory with the new states and controls\n",
    "    Znew = copy(Z)\n",
    "    set_states!(Znew, X)\n",
    "    set_controls!(Znew, U)\n",
    "    return Znew\n",
    "end\n",
    "Z_cl = sim_closed_loop(model_disturbed, solver);"
   ]
  },
  {
   "cell_type": "code",
   "execution_count": 53,
   "id": "7b9de451-51a7-4276-8a33-282a217d6a37",
   "metadata": {},
   "outputs": [
    {
     "data": {
      "text/html": [
       "    <div style=\"height: 500px; width: 100%; overflow-x: auto; overflow-y: hidden; resize: both\">\n",
       "    <iframe src=\"http://127.0.0.1:8702\" style=\"width: 100%; height: 100%; border: none\"></iframe>\n",
       "    </div>\n"
      ],
      "text/plain": [
       "MeshCat.DisplayedVisualizer(MeshCat.CoreVisualizer(MeshCat.SceneTrees.SceneNode(nothing, nothing, Dict{String, Vector{UInt8}}(), UInt8[0x83, 0xa7, 0x6f, 0x70, 0x74, 0x69, 0x6f, 0x6e, 0x73, 0x82  …  0x5f, 0x61, 0x6e, 0x69, 0x6d, 0x61, 0x74, 0x69, 0x6f, 0x6e], Dict{String, MeshCat.SceneTrees.SceneNode}(\"meshcat\" => MeshCat.SceneTrees.SceneNode(nothing, nothing, Dict{String, Vector{UInt8}}(), nothing, Dict{String, MeshCat.SceneTrees.SceneNode}(\"robot_copies\" => MeshCat.SceneTrees.SceneNode(nothing, nothing, Dict{String, Vector{UInt8}}(), nothing, Dict{String, MeshCat.SceneTrees.SceneNode}(\"robot2\" => MeshCat.SceneTrees.SceneNode(nothing, nothing, Dict{String, Vector{UInt8}}(), nothing, Dict{String, MeshCat.SceneTrees.SceneNode}(\"robot\" => MeshCat.SceneTrees.SceneNode(nothing, nothing, Dict{String, Vector{UInt8}}(), nothing, Dict{String, MeshCat.SceneTrees.SceneNode}(\"geom\" => MeshCat.SceneTrees.SceneNode(UInt8[0x83, 0xa6, 0x6f, 0x62, 0x6a, 0x65, 0x63, 0x74, 0x84, 0xaa  …  0x72, 0x6f, 0x62, 0x6f, 0x74, 0x2f, 0x67, 0x65, 0x6f, 0x6d], nothing, Dict{String, Vector{UInt8}}(), nothing, Dict{String, MeshCat.SceneTrees.SceneNode}()))))))), \"robot\" => MeshCat.SceneTrees.SceneNode(nothing, nothing, Dict{String, Vector{UInt8}}(), nothing, Dict{String, MeshCat.SceneTrees.SceneNode}(\"geom\" => MeshCat.SceneTrees.SceneNode(UInt8[0x83, 0xa6, 0x6f, 0x62, 0x6a, 0x65, 0x63, 0x74, 0x84, 0xaa  …  0x72, 0x6f, 0x62, 0x6f, 0x74, 0x2f, 0x67, 0x65, 0x6f, 0x6d], nothing, Dict{String, Vector{UInt8}}(), nothing, Dict{String, MeshCat.SceneTrees.SceneNode}()))))))), Set(Any[WebSocket(server, \u001b[32mCONNECTED\u001b[39m)]), ip\"127.0.0.1\", 8702))"
      ]
     },
     "execution_count": 53,
     "metadata": {},
     "output_type": "execute_result"
    }
   ],
   "source": [
    "delete!(vis)\n",
    "TrajOptPlots.set_mesh!(vis, RobotZoo.Quadrotor())\n",
    "visualize!(vis, RobotZoo.Quadrotor(), get_trajectory(solver), Z_cl, colors=[:default, colorant\"red\"])\n",
    "render(vis)"
   ]
  },
  {
   "cell_type": "markdown",
   "id": "02bcb60d-edf4-4c61-8bda-9cfbdd9703b7",
   "metadata": {},
   "source": [
    "You should see dramatically better tracking performance! TrajOptPlots also allows us to visualize 3D lines, so let's plot the positions of each quadrotor in the visualize to compare them:"
   ]
  },
  {
   "cell_type": "code",
   "execution_count": 54,
   "id": "7cefc284-cb23-4fa7-ba41-5a001323e992",
   "metadata": {},
   "outputs": [
    {
     "data": {
      "text/plain": [
       "MeshCat Visualizer with path /meshcat/disturbed/traj at http://127.0.0.1:8702"
      ]
     },
     "execution_count": 54,
     "metadata": {},
     "output_type": "execute_result"
    }
   ],
   "source": [
    "TrajOptPlots.traj3!(vis[\"original\"], states(solver))\n",
    "TrajOptPlots.traj3!(vis[\"disturbed\"], states(Z_cl), color=colorant\"red\")"
   ]
  },
  {
   "cell_type": "markdown",
   "id": "9bf03e51-e969-4284-9f36-600b47dbbf8a",
   "metadata": {},
   "source": [
    "## **(EXTRA)** Adding a Visualization method\n",
    "To visualize our model we need to define some visualization methods. For a single rigid body, TrajOptPlots makes it pretty easy. We can easily scale objects in MeshCat by applying a simple scaling transformation using [CoordinateTransformations.jl](https://github.com/JuliaGeometry/CoordinateTransformations.jl)."
   ]
  },
  {
   "cell_type": "code",
   "execution_count": 60,
   "id": "9eed32b2-ebbe-4443-baea-73afc06d64fa",
   "metadata": {},
   "outputs": [],
   "source": [
    "using CoordinateTransformations\n",
    "function TrajOptPlots._set_mesh!(vis, model::Quadrotor;\n",
    "        scaling=1.0, color=colorant\"black\"\n",
    "    )\n",
    "    # path to mesh folder in TrajOptPlots\n",
    "    urdf_folder = joinpath(dirname(pathof(TrajOptPlots)),\"..\",\"data\",\"meshes\")\n",
    "    obj = joinpath(urdf_folder, \"quadrotor_scaled.obj\")\n",
    "    \n",
    "    # Load Mesh File\n",
    "    robot_obj = MeshFileGeometry(obj)\n",
    "    mat = MeshPhongMaterial(color=color)\n",
    "    setobject!(vis[\"geom\"], robot_obj, mat)\n",
    "    settransform!(vis[\"geom\"], LinearMap(I(3) * scaling))\n",
    "end"
   ]
  },
  {
   "cell_type": "code",
   "execution_count": 61,
   "id": "2b5c8767-5323-4721-aac0-40053f317fc9",
   "metadata": {},
   "outputs": [
    {
     "name": "stderr",
     "output_type": "stream",
     "text": [
      "┌ Info: MeshCat server started. You can open the visualizer by visiting the following URL in your browser:\n",
      "│ http://127.0.0.1:8707\n",
      "└ @ MeshCat /home/brian/.julia/packages/MeshCat/GlCMx/src/visualizer.jl:73\n"
     ]
    },
    {
     "data": {
      "text/html": [
       "    <div style=\"height: 500px; width: 100%; overflow-x: auto; overflow-y: hidden; resize: both\">\n",
       "    <iframe src=\"http://127.0.0.1:8707\" style=\"width: 100%; height: 100%; border: none\"></iframe>\n",
       "    </div>\n"
      ],
      "text/plain": [
       "MeshCat.DisplayedVisualizer(MeshCat.CoreVisualizer(MeshCat.SceneTrees.SceneNode(nothing, nothing, Dict{String, Vector{UInt8}}(), nothing, Dict{String, MeshCat.SceneTrees.SceneNode}(\"meshcat\" => MeshCat.SceneTrees.SceneNode(nothing, nothing, Dict{String, Vector{UInt8}}(), nothing, Dict{String, MeshCat.SceneTrees.SceneNode}(\"robot\" => MeshCat.SceneTrees.SceneNode(nothing, nothing, Dict{String, Vector{UInt8}}(), nothing, Dict{String, MeshCat.SceneTrees.SceneNode}(\"geom\" => MeshCat.SceneTrees.SceneNode(UInt8[0x83, 0xa6, 0x6f, 0x62, 0x6a, 0x65, 0x63, 0x74, 0x84, 0xaa  …  0x72, 0x6f, 0x62, 0x6f, 0x74, 0x2f, 0x67, 0x65, 0x6f, 0x6d], UInt8[0x83, 0xa6, 0x6d, 0x61, 0x74, 0x72, 0x69, 0x78, 0xc7, 0x40  …  0x72, 0x6f, 0x62, 0x6f, 0x74, 0x2f, 0x67, 0x65, 0x6f, 0x6d], Dict{String, Vector{UInt8}}(), nothing, Dict{String, MeshCat.SceneTrees.SceneNode}()))))))), Set{Any}(), ip\"127.0.0.1\", 8707))"
      ]
     },
     "execution_count": 61,
     "metadata": {},
     "output_type": "execute_result"
    }
   ],
   "source": [
    "# now we can call `set_mesh!` directly on our version of the Quadrotor\n",
    "vis = Visualizer()\n",
    "TrajOptPlots.set_mesh!(vis, model, scaling=1.0)\n",
    "render(vis)"
   ]
  },
  {
   "cell_type": "code",
   "execution_count": 62,
   "id": "c58641dc-1e44-42a6-aaf5-4a4c96e06451",
   "metadata": {},
   "outputs": [],
   "source": [
    "visualize!(vis, solver)"
   ]
  }
 ],
 "metadata": {
  "kernelspec": {
   "display_name": "Julia 1.6.1",
   "language": "julia",
   "name": "julia-1.6"
  },
  "language_info": {
   "file_extension": ".jl",
   "mimetype": "application/julia",
   "name": "julia",
   "version": "1.6.1"
  }
 },
 "nbformat": 4,
 "nbformat_minor": 5
}
