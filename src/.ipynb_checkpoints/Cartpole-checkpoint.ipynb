{
 "cells": [
  {
   "cell_type": "code",
   "execution_count": 1,
   "id": "c015e4d0-0395-442d-958b-1fbac06751bd",
   "metadata": {},
   "outputs": [],
   "source": [
    "import Pkg; Pkg.activate(joinpath(@__DIR__, \"..\")); Pkg.instantiate();\n",
    "using Altro\n",
    "using TrajectoryOptimization\n",
    "using RobotDynamics\n",
    "using StaticArrays\n",
    "using LinearAlgebra"
   ]
  },
  {
   "cell_type": "markdown",
   "id": "a37ce00b-afa8-4b60-9225-7b7ed42924da",
   "metadata": {},
   "source": [
    "# Cartpole - Adding Constraints\n",
    "Now that you're familiar with the basics of defining a dynamics model, creating a quadratic cost function, and solving the problem, let's starting adding constraints. In this example we'll be working with the canonical cartpole system, and adding constraints on the torque and lateral movement."
   ]
  },
  {
   "cell_type": "markdown",
   "id": "d6589049-659e-40da-9c8e-55cc02d97106",
   "metadata": {},
   "source": [
    "## 1. Defining the Dynamics Model\n",
    "The setup for the dynamics here is nearly identical to the setup we used previously on the pendulum. Just a few things to note:\n",
    "* We used `Base.@kwdef` in front of `struct` to allow us to provide default values for the model parameters directly in the struct. This is often much more convenient than defining your own custom constructors.\n",
    "* In the dynamics we made extensive use of StaticArrays to eliminate memory allocations and make it fast."
   ]
  },
  {
   "cell_type": "code",
   "execution_count": 2,
   "id": "7d953f1f-eba0-40ca-8e0f-7d8afc1cd8f5",
   "metadata": {},
   "outputs": [],
   "source": [
    "Base.@kwdef struct Cartpole{T} <: AbstractModel\n",
    "    mc::T = 1.0\n",
    "    mp::T = 0.2\n",
    "    l::T = 0.5\n",
    "    g::T = 9.81\n",
    "end\n",
    "\n",
    "function RobotDynamics.dynamics(model::Cartpole, x, u)\n",
    "    mc = model.mc   # mass of the cart in kg (10)\n",
    "    mp = model.mp   # mass of the pole (point mass at the end) in kg\n",
    "    l = model.l     # length of the pole in m\n",
    "    g = model.g     # gravity m/s^2\n",
    "\n",
    "    q = x[ @SVector [1,2] ]  # must indepx with a static index vector to get a static array out\n",
    "    qd = x[ @SVector [3,4] ]\n",
    "\n",
    "    s = sin(q[2])\n",
    "    c = cos(q[2])\n",
    "\n",
    "    H = @SMatrix [mc+mp mp*l*c; mp*l*c mp*l^2]\n",
    "    C = @SMatrix [0 -mp*qd[2]*l*s; 0 0]\n",
    "    G = @SVector [0, mp*g*l*s]\n",
    "    B = @SVector [1, 0]\n",
    "\n",
    "    qdd = -H\\(C*qd + G - B*u[1])\n",
    "    return [qd; qdd]\n",
    "end\n",
    "\n",
    "RobotDynamics.state_dim(::Cartpole) = 4\n",
    "RobotDynamics.control_dim(::Cartpole) = 1"
   ]
  },
  {
   "cell_type": "markdown",
   "id": "ce9b57d6-76ec-42ee-87e3-e271e9b21257",
   "metadata": {},
   "source": [
    "## 2. Defining the Cost Function\n",
    "For this problem we'll use the same LQR-style quadratic cost, penalizing distance from the goal state."
   ]
  },
  {
   "cell_type": "code",
   "execution_count": 7,
   "id": "869a790e-a408-48b4-9f2f-187ccea978d2",
   "metadata": {},
   "outputs": [],
   "source": [
    "# Get the model sizes\n",
    "model = Cartpole()\n",
    "n,m = size(model)\n",
    "\n",
    "# Set model discretization\n",
    "N = 101\n",
    "tf = 5.0\n",
    "dt = tf/(N-1);"
   ]
  },
  {
   "cell_type": "code",
   "execution_count": 8,
   "id": "c1de0eb6-7b7c-4cc4-bb29-0a0671f11c83",
   "metadata": {},
   "outputs": [],
   "source": [
    "# Define the Cost matrices\n",
    "Q = 1e-2*Diagonal(@SVector ones(n))\n",
    "Qf = 1e2*Diagonal(@SVector ones(n))\n",
    "R = 1e-1*Diagonal(@SVector ones(m))\n",
    "\n",
    "# Define the initial and final states\n",
    "x0 = @SVector zeros(n)\n",
    "xf = @SVector [0, pi, 0, 0]\n",
    "\n",
    "# Define the objective\n",
    "obj = LQRObjective(Q,R,Qf,xf,N);"
   ]
  },
  {
   "cell_type": "markdown",
   "id": "84baf947-c4ed-4205-a0e8-e7af86e19af5",
   "metadata": {},
   "source": [
    "## 3. Adding Constraints\n",
    "Okay, now that we're through the stuff you should already know after going through the pendulum example, let's move on to the new stuff. We want to add constraints to this system. As a first step, let's add a goal constraint to make sure we hit the goal exactly (at least to the precision of our solve), and add torque limits.\n",
    "\n",
    "The first step to adding constraints is creating a [`ConstraintList`](http://roboticexplorationlab.org/TrajectoryOptimization.jl/dev/constraint_api.html#TrajectoryOptimization.ConstraintList). This is a fairly basic type that holds a vector of constraints and specifies which knot points each constraint applies to. In TrajectoryOptimization.jl, each constraint is allowed to apply to a set of knot points, all of which must be adjacent. For example, I can apply a constraint to knot points `[1,2,3,4]` or `[5,6]`, or even just `[11]`, but not `[1,3,5]`.\n",
    "\n",
    "Adding constraints usually happens in three steps:\n",
    "1. Create the `ConstraintList`\n",
    "2. Define the constraint function objects\n",
    "3. Add the constraints to `ConstraintList`\n",
    "\n",
    "We'll break this down in code below."
   ]
  },
  {
   "cell_type": "code",
   "execution_count": 9,
   "id": "2d59f4cc-3f62-4a68-a0b0-3a39d896ac44",
   "metadata": {},
   "outputs": [
    {
     "data": {
      "text/plain": [
       "ConstraintList(4, 1, TrajectoryOptimization.AbstractConstraint[], UnitRange{Int64}[], [0, 0, 0, 0, 0, 0, 0, 0, 0, 0  …  0, 0, 0, 0, 0, 0, 0, 0, 0, 0])"
      ]
     },
     "execution_count": 9,
     "metadata": {},
     "output_type": "execute_result"
    }
   ],
   "source": [
    "# 1. Create the ConstraintList\n",
    "conSet = ConstraintList(n,m,N)"
   ]
  },
  {
   "cell_type": "markdown",
   "id": "7876e6c4-5ab4-4731-bb2c-1f98147b0151",
   "metadata": {},
   "source": [
    "Easy enough. We have to provide the problem sizes so that the list can make sure the constraints we add are all compatible with those sizes."
   ]
  },
  {
   "cell_type": "code",
   "execution_count": 11,
   "id": "8dea1dd2-63eb-4ba1-8969-e1832ae925bc",
   "metadata": {},
   "outputs": [
    {
     "data": {
      "text/plain": [
       "GoalConstraint{4, Float64}(4, [0.0, 3.141592653589793, 0.0, 0.0], [1, 2, 3, 4])"
      ]
     },
     "execution_count": 11,
     "metadata": {},
     "output_type": "execute_result"
    }
   ],
   "source": [
    "# 2. Define the constraint function objects\n",
    "u_bnd = 3.0\n",
    "bnd = BoundConstraint(n,m, u_min=-u_bnd, u_max=u_bnd)\n",
    "goal = GoalConstraint(xf)"
   ]
  },
  {
   "cell_type": "markdown",
   "id": "09fe7a2e-b74b-40ea-aedc-dadb23147a32",
   "metadata": {},
   "source": [
    "Here we created 2 new objects, a [`BoundConstraint`](http://roboticexplorationlab.org/TrajectoryOptimization.jl/dev/constraint_api.html#TrajectoryOptimization.BoundConstraint) and a [`GoalConstraint`](http://roboticexplorationlab.org/TrajectoryOptimization.jl/dev/constraint_api.html#TrajectoryOptimization.GoalConstraint). These are both sub-types of [`TrajectoryOptimization.AbstractConstraint`](http://roboticexplorationlab.org/TrajectoryOptimization.jl/dev/constraint_interface.html#TrajectoryOptimization.AbstractConstraint) (more on that later). These are both defined in TrajectoryOptimization.jl, and provide the methods necessary to evaluate the function and it's Jacobian. We'll cover defining your own constraints in a later example. For now you just need to know that these types implement the methods the solver will need to satisfy the constraints. "
   ]
  },
  {
   "cell_type": "code",
   "execution_count": 12,
   "id": "e2f93eb3-84c7-412f-9eb2-e27853608235",
   "metadata": {},
   "outputs": [],
   "source": [
    "# 3. Add the constraints to ConstraintList\n",
    "add_constraint!(conSet, bnd, 1:N-1)\n",
    "add_constraint!(conSet, goal, N)"
   ]
  },
  {
   "cell_type": "markdown",
   "id": "891fba31-c1a5-4ba7-945c-428f644320ae",
   "metadata": {},
   "source": [
    "Here we used the `add_constraint!` method (note that it's a mutating function since it's modifying `conSet`) to add the constraints, specifying the knot point indices to which the constraint applies. Note that for the terminal constraint, we passed in a single index, but could have also passed in the range `N:N`.\n",
    "\n",
    "**NOTE**: Be very careful when applying constraints to the entire trajectory. Altro assumes the constraints are independent and can emit strange error messages and failure modes when this is not the case (typically these happen in the projected Newton solution-polishing phase and say something about bad indexing). For example, if I had a bound on the states and applied those to the terminal state in addition to a goal constraint, the bound constraint would be redundant (and possibly infeasible). This will usually cause the solve to fail. Right now Altro.jl does not have a method for detecting this redundancy, so it is left to you, the user, the think carefully about your constraints. "
   ]
  },
  {
   "cell_type": "markdown",
   "id": "fa3c9bcd-1289-4f4b-ad62-652459a86c3a",
   "metadata": {},
   "source": [
    "## 4. Defining the Problem\n",
    "We now proceed back to familiar territory, and create a `Problem` object, but this time passing in our `ConstraintList`. Remember to provide an initial guess!"
   ]
  },
  {
   "cell_type": "code",
   "execution_count": 19,
   "id": "36f5bd09-4984-4ab5-a75e-3e2ab00f87c2",
   "metadata": {},
   "outputs": [],
   "source": [
    "prob = Problem(model, obj, xf, tf, x0=x0, constraints=conSet);\n",
    "\n",
    "# initial condition\n",
    "U0 = [fill(0.01, m) for k = 1:N-1]\n",
    "initial_controls!(prob, U0)"
   ]
  },
  {
   "cell_type": "markdown",
   "id": "05703141-445c-44e7-9e39-a4a32fa971f1",
   "metadata": {},
   "source": [
    "## 5. Create the solver and solve\n",
    "Again, everything is the same here now that we've defined our problem. Under the hood, a few different things are happening since we're solving a constrained problem instead of an unconstrained one, but the interface is the same."
   ]
  },
  {
   "cell_type": "code",
   "execution_count": 20,
   "id": "057774e3-0949-4c75-b04d-fa098eeef395",
   "metadata": {},
   "outputs": [
    {
     "name": "stdout",
     "output_type": "stream",
     "text": [
      "\u001b[32;1m\n",
      "SOLVE COMPLETED\n",
      "\u001b[0m solved using the \u001b[0m\u001b[36;1mALTRO\u001b[0m Solver,\n",
      " part of the Altro.jl package developed by the REx Lab at Stanford and Carnegie Mellon Universities\n",
      "\u001b[34;1m\n",
      "  Solve Statistics\n",
      "\u001b[0m    Total Iterations: 88\n",
      "\u001b[0m    Solve Time: 11.594619999999999 (ms)\n",
      "\u001b[34;1m\n",
      "  Covergence\n",
      "\u001b[0m    Terminal Cost: 1.4973195087213034\n",
      "\u001b[0m    Terminal dJ: \u001b[32m-3.934382825487859e-5\n",
      "\u001b[0m    Terminal gradient: \u001b[32m0.0006495892428091425\n",
      "\u001b[0m    Terminal constraint violation: \u001b[32m2.007421056049452e-7\n",
      "\u001b[0m    Solve Status: \u001b[1m\u001b[32mSOLVE_SUCCEEDED\n",
      "\u001b[0m"
     ]
    }
   ],
   "source": [
    "solver = ALTROSolver(prob);\n",
    "solve!(solver);"
   ]
  },
  {
   "cell_type": "markdown",
   "id": "9eb8f4d7-73cd-4bbe-a9e3-b32a0db1f621",
   "metadata": {},
   "source": [
    "## 6. Plotting the results\n",
    "Let's look at some graphs to visualize the result. RobotDynamics provides a few plotting \"recipes\" for plotting trajectories, which we'll use with `Plots.jl` to easily generate plots of our state and control trajectories. Note that it'll take a while to generate the first plot (the infamous TTFP, or time to first plot, problem in Julia).\n",
    "\n",
    "When plotting the states, we use the keyword `inds` and pass in a range to extract out the first 2 states, which are the position of the cart and the angle of the pole."
   ]
  },
  {
   "cell_type": "code",
   "execution_count": 26,
   "id": "4a9bcbf7-f66e-4011-8c81-d10dba4b3abe",
   "metadata": {},
   "outputs": [
    {
     "data": {
      "text/plain": [
       "Plots.GRBackend()"
      ]
     },
     "execution_count": 26,
     "metadata": {},
     "output_type": "execute_result"
    }
   ],
   "source": [
    "using Plots"
   ]
  },
  {
   "cell_type": "code",
   "execution_count": 30,
   "id": "1e76c7ce-153e-44f6-baf8-0255babddd6d",
   "metadata": {},
   "outputs": [
    {
     "data": {
      "image/svg+xml": [
       "<?xml version=\"1.0\" encoding=\"utf-8\"?>\n",
       "<svg xmlns=\"http://www.w3.org/2000/svg\" xmlns:xlink=\"http://www.w3.org/1999/xlink\" width=\"125\" height=\"125\" viewBox=\"0 0 500 500\">\n",
       "<defs>\n",
       "  <clipPath id=\"clip020\">\n",
       "    <rect x=\"0\" y=\"0\" width=\"500\" height=\"500\"/>\n",
       "  </clipPath>\n",
       "</defs>\n",
       "<path clip-path=\"url(#clip020)\" d=\"\n",
       "M0 500 L500 500 L500 0 L0 0  Z\n",
       "  \" fill=\"#ffffff\" fill-rule=\"evenodd\" fill-opacity=\"1\"/>\n",
       "<defs>\n",
       "  <clipPath id=\"clip021\">\n",
       "    <rect x=\"100\" y=\"50\" width=\"351\" height=\"351\"/>\n",
       "  </clipPath>\n",
       "</defs>\n",
       "<path clip-path=\"url(#clip020)\" d=\"\n",
       "M56.3707 444.535 L488.189 444.535 L488.189 11.811 L56.3707 11.811  Z\n",
       "  \" fill=\"#ffffff\" fill-rule=\"evenodd\" fill-opacity=\"1\"/>\n",
       "<defs>\n",
       "  <clipPath id=\"clip022\">\n",
       "    <rect x=\"56\" y=\"11\" width=\"433\" height=\"434\"/>\n",
       "  </clipPath>\n",
       "</defs>\n",
       "<polyline clip-path=\"url(#clip022)\" style=\"stroke:#000000; stroke-width:0.5; stroke-opacity:0.1; fill:none\" points=\"\n",
       "  68.592,444.535 68.592,11.811 \n",
       "  \"/>\n",
       "<polyline clip-path=\"url(#clip022)\" style=\"stroke:#000000; stroke-width:0.5; stroke-opacity:0.1; fill:none\" points=\"\n",
       "  150.067,444.535 150.067,11.811 \n",
       "  \"/>\n",
       "<polyline clip-path=\"url(#clip022)\" style=\"stroke:#000000; stroke-width:0.5; stroke-opacity:0.1; fill:none\" points=\"\n",
       "  231.542,444.535 231.542,11.811 \n",
       "  \"/>\n",
       "<polyline clip-path=\"url(#clip022)\" style=\"stroke:#000000; stroke-width:0.5; stroke-opacity:0.1; fill:none\" points=\"\n",
       "  313.017,444.535 313.017,11.811 \n",
       "  \"/>\n",
       "<polyline clip-path=\"url(#clip022)\" style=\"stroke:#000000; stroke-width:0.5; stroke-opacity:0.1; fill:none\" points=\"\n",
       "  394.493,444.535 394.493,11.811 \n",
       "  \"/>\n",
       "<polyline clip-path=\"url(#clip022)\" style=\"stroke:#000000; stroke-width:0.5; stroke-opacity:0.1; fill:none\" points=\"\n",
       "  475.968,444.535 475.968,11.811 \n",
       "  \"/>\n",
       "<polyline clip-path=\"url(#clip020)\" style=\"stroke:#000000; stroke-width:1; stroke-opacity:1; fill:none\" points=\"\n",
       "  56.3707,444.535 488.189,444.535 \n",
       "  \"/>\n",
       "<polyline clip-path=\"url(#clip020)\" style=\"stroke:#000000; stroke-width:1; stroke-opacity:1; fill:none\" points=\"\n",
       "  68.592,444.535 68.592,439.342 \n",
       "  \"/>\n",
       "<polyline clip-path=\"url(#clip020)\" style=\"stroke:#000000; stroke-width:1; stroke-opacity:1; fill:none\" points=\"\n",
       "  150.067,444.535 150.067,439.342 \n",
       "  \"/>\n",
       "<polyline clip-path=\"url(#clip020)\" style=\"stroke:#000000; stroke-width:1; stroke-opacity:1; fill:none\" points=\"\n",
       "  231.542,444.535 231.542,439.342 \n",
       "  \"/>\n",
       "<polyline clip-path=\"url(#clip020)\" style=\"stroke:#000000; stroke-width:1; stroke-opacity:1; fill:none\" points=\"\n",
       "  313.017,444.535 313.017,439.342 \n",
       "  \"/>\n",
       "<polyline clip-path=\"url(#clip020)\" style=\"stroke:#000000; stroke-width:1; stroke-opacity:1; fill:none\" points=\"\n",
       "  394.493,444.535 394.493,439.342 \n",
       "  \"/>\n",
       "<polyline clip-path=\"url(#clip020)\" style=\"stroke:#000000; stroke-width:1; stroke-opacity:1; fill:none\" points=\"\n",
       "  475.968,444.535 475.968,439.342 \n",
       "  \"/>\n",
       "<path clip-path=\"url(#clip020)\" d=\"M 0 0 M68.592 451.033 Q67.6892 451.033 67.232 451.924 Q66.7806 452.809 66.7806 454.592 Q66.7806 456.368 67.232 457.259 Q67.6892 458.145 68.592 458.145 Q69.5005 458.145 69.9519 457.259 Q70.4091 456.368 70.4091 454.592 Q70.4091 452.809 69.9519 451.924 Q69.5005 451.033 68.592 451.033 M68.592 450.107 Q70.0445 450.107 70.8084 451.258 Q71.5781 452.404 71.5781 454.592 Q71.5781 456.773 70.8084 457.925 Q70.0445 459.071 68.592 459.071 Q67.1394 459.071 66.3698 457.925 Q65.6059 456.773 65.6059 454.592 Q65.6059 452.404 66.3698 451.258 Q67.1394 450.107 68.592 450.107 Z\" fill=\"#000000\" fill-rule=\"evenodd\" fill-opacity=\"1\" /><path clip-path=\"url(#clip020)\" d=\"M 0 0 M147.663 457.919 L149.572 457.919 L149.572 451.328 L147.495 451.744 L147.495 450.68 L149.561 450.263 L150.73 450.263 L150.73 457.919 L152.639 457.919 L152.639 458.903 L147.663 458.903 L147.663 457.919 Z\" fill=\"#000000\" fill-rule=\"evenodd\" fill-opacity=\"1\" /><path clip-path=\"url(#clip020)\" d=\"M 0 0 M230.205 457.919 L234.285 457.919 L234.285 458.903 L228.799 458.903 L228.799 457.919 Q229.465 457.231 230.611 456.073 Q231.762 454.91 232.057 454.574 Q232.619 453.943 232.839 453.509 Q233.064 453.07 233.064 452.647 Q233.064 451.959 232.578 451.525 Q232.098 451.091 231.322 451.091 Q230.773 451.091 230.159 451.281 Q229.552 451.472 228.857 451.86 L228.857 450.68 Q229.563 450.396 230.177 450.251 Q230.79 450.107 231.299 450.107 Q232.642 450.107 233.44 450.778 Q234.239 451.449 234.239 452.572 Q234.239 453.104 234.036 453.585 Q233.84 454.059 233.313 454.707 Q233.168 454.875 232.393 455.68 Q231.617 456.478 230.205 457.919 Z\" fill=\"#000000\" fill-rule=\"evenodd\" fill-opacity=\"1\" /><path clip-path=\"url(#clip020)\" d=\"M 0 0 M314.079 454.244 Q314.918 454.424 315.387 454.991 Q315.862 455.558 315.862 456.391 Q315.862 457.67 314.982 458.371 Q314.102 459.071 312.482 459.071 Q311.938 459.071 311.359 458.961 Q310.787 458.857 310.173 458.643 L310.173 457.514 Q310.659 457.798 311.238 457.942 Q311.817 458.087 312.447 458.087 Q313.547 458.087 314.12 457.653 Q314.699 457.219 314.699 456.391 Q314.699 455.628 314.16 455.199 Q313.628 454.765 312.673 454.765 L311.666 454.765 L311.666 453.805 L312.719 453.805 Q313.582 453.805 314.039 453.463 Q314.496 453.116 314.496 452.468 Q314.496 451.802 314.021 451.449 Q313.553 451.091 312.673 451.091 Q312.193 451.091 311.643 451.195 Q311.093 451.299 310.434 451.519 L310.434 450.477 Q311.099 450.292 311.678 450.199 Q312.262 450.107 312.777 450.107 Q314.108 450.107 314.884 450.714 Q315.659 451.316 315.659 452.346 Q315.659 453.064 315.248 453.562 Q314.837 454.053 314.079 454.244 Z\" fill=\"#000000\" fill-rule=\"evenodd\" fill-opacity=\"1\" /><path clip-path=\"url(#clip020)\" d=\"M 0 0 M395.245 451.281 L392.293 455.894 L395.245 455.894 L395.245 451.281 M394.938 450.263 L396.408 450.263 L396.408 455.894 L397.641 455.894 L397.641 456.866 L396.408 456.866 L396.408 458.903 L395.245 458.903 L395.245 456.866 L391.344 456.866 L391.344 455.737 L394.938 450.263 Z\" fill=\"#000000\" fill-rule=\"evenodd\" fill-opacity=\"1\" /><path clip-path=\"url(#clip020)\" d=\"M 0 0 M473.537 450.263 L478.126 450.263 L478.126 451.247 L474.608 451.247 L474.608 453.365 Q474.862 453.278 475.117 453.237 Q475.372 453.191 475.626 453.191 Q477.073 453.191 477.918 453.984 Q478.763 454.777 478.763 456.131 Q478.763 457.526 477.895 458.301 Q477.027 459.071 475.447 459.071 Q474.903 459.071 474.336 458.978 Q473.774 458.886 473.173 458.7 L473.173 457.526 Q473.693 457.809 474.249 457.948 Q474.805 458.087 475.424 458.087 Q476.425 458.087 477.009 457.56 Q477.594 457.034 477.594 456.131 Q477.594 455.228 477.009 454.702 Q476.425 454.175 475.424 454.175 Q474.955 454.175 474.486 454.279 Q474.023 454.383 473.537 454.603 L473.537 450.263 Z\" fill=\"#000000\" fill-rule=\"evenodd\" fill-opacity=\"1\" /><path clip-path=\"url(#clip020)\" d=\"M 0 0 M247.279 467.809 L247.279 470.339 L250.294 470.339 L250.294 471.477 L247.279 471.477 L247.279 476.315 Q247.279 477.405 247.573 477.715 Q247.875 478.026 248.79 478.026 L250.294 478.026 L250.294 479.251 L248.79 479.251 Q247.096 479.251 246.451 478.622 Q245.806 477.986 245.806 476.315 L245.806 471.477 L244.732 471.477 L244.732 470.339 L245.806 470.339 L245.806 467.809 L247.279 467.809 Z\" fill=\"#000000\" fill-rule=\"evenodd\" fill-opacity=\"1\" /><path clip-path=\"url(#clip020)\" d=\"M 0 0 M251.83 470.339 L253.294 470.339 L253.294 479.251 L251.83 479.251 L251.83 470.339 M251.83 466.87 L253.294 466.87 L253.294 468.724 L251.83 468.724 L251.83 466.87 Z\" fill=\"#000000\" fill-rule=\"evenodd\" fill-opacity=\"1\" /><path clip-path=\"url(#clip020)\" d=\"M 0 0 M261.768 472.05 Q262.318 471.063 263.081 470.594 Q263.845 470.124 264.88 470.124 Q266.272 470.124 267.028 471.103 Q267.784 472.074 267.784 473.872 L267.784 479.251 L266.312 479.251 L266.312 473.92 Q266.312 472.639 265.858 472.018 Q265.405 471.397 264.474 471.397 Q263.336 471.397 262.676 472.153 Q262.015 472.909 262.015 474.214 L262.015 479.251 L260.543 479.251 L260.543 473.92 Q260.543 472.631 260.09 472.018 Q259.636 471.397 258.689 471.397 Q257.567 471.397 256.907 472.161 Q256.246 472.917 256.246 474.214 L256.246 479.251 L254.774 479.251 L254.774 470.339 L256.246 470.339 L256.246 471.724 Q256.748 470.904 257.448 470.514 Q258.148 470.124 259.111 470.124 Q260.082 470.124 260.758 470.617 Q261.442 471.111 261.768 472.05 Z\" fill=\"#000000\" fill-rule=\"evenodd\" fill-opacity=\"1\" /><path clip-path=\"url(#clip020)\" d=\"M 0 0 M276.943 474.429 L276.943 475.145 L270.211 475.145 Q270.306 476.657 271.118 477.453 Q271.938 478.24 273.394 478.24 Q274.237 478.24 275.025 478.034 Q275.821 477.827 276.601 477.413 L276.601 478.797 Q275.813 479.132 274.985 479.307 Q274.158 479.482 273.306 479.482 Q271.174 479.482 269.925 478.24 Q268.683 476.999 268.683 474.882 Q268.683 472.694 269.861 471.413 Q271.046 470.124 273.052 470.124 Q274.85 470.124 275.892 471.286 Q276.943 472.44 276.943 474.429 M275.479 473.999 Q275.463 472.798 274.802 472.082 Q274.15 471.365 273.068 471.365 Q271.842 471.365 271.102 472.058 Q270.37 472.75 270.259 474.007 L275.479 473.999 Z\" fill=\"#000000\" fill-rule=\"evenodd\" fill-opacity=\"1\" /><path clip-path=\"url(#clip020)\" d=\"M 0 0 M287.176 466.886 Q286.109 468.716 285.592 470.506 Q285.075 472.296 285.075 474.135 Q285.075 475.973 285.592 477.779 Q286.117 479.577 287.176 481.399 L285.902 481.399 Q284.709 479.529 284.112 477.723 Q283.523 475.917 283.523 474.135 Q283.523 472.36 284.112 470.562 Q284.701 468.763 285.902 466.886 L287.176 466.886 Z\" fill=\"#000000\" fill-rule=\"evenodd\" fill-opacity=\"1\" /><path clip-path=\"url(#clip020)\" d=\"M 0 0 M294.393 470.602 L294.393 471.986 Q293.772 471.668 293.104 471.509 Q292.435 471.35 291.719 471.35 Q290.629 471.35 290.08 471.684 Q289.539 472.018 289.539 472.686 Q289.539 473.196 289.929 473.49 Q290.319 473.776 291.496 474.039 L291.998 474.15 Q293.557 474.485 294.21 475.097 Q294.87 475.702 294.87 476.792 Q294.87 478.034 293.883 478.758 Q292.905 479.482 291.186 479.482 Q290.47 479.482 289.69 479.338 Q288.918 479.203 288.059 478.925 L288.059 477.413 Q288.87 477.835 289.658 478.049 Q290.446 478.256 291.218 478.256 Q292.252 478.256 292.809 477.906 Q293.366 477.548 293.366 476.904 Q293.366 476.307 292.96 475.989 Q292.563 475.67 291.202 475.376 L290.693 475.256 Q289.332 474.97 288.727 474.381 Q288.122 473.784 288.122 472.75 Q288.122 471.493 289.014 470.808 Q289.905 470.124 291.544 470.124 Q292.356 470.124 293.072 470.243 Q293.788 470.363 294.393 470.602 Z\" fill=\"#000000\" fill-rule=\"evenodd\" fill-opacity=\"1\" /><path clip-path=\"url(#clip020)\" d=\"M 0 0 M296.175 466.886 L297.448 466.886 Q298.642 468.763 299.231 470.562 Q299.827 472.36 299.827 474.135 Q299.827 475.917 299.231 477.723 Q298.642 479.529 297.448 481.399 L296.175 481.399 Q297.233 479.577 297.751 477.779 Q298.276 475.973 298.276 474.135 Q298.276 472.296 297.751 470.506 Q297.233 468.716 296.175 466.886 Z\" fill=\"#000000\" fill-rule=\"evenodd\" fill-opacity=\"1\" /><polyline clip-path=\"url(#clip022)\" style=\"stroke:#000000; stroke-width:0.5; stroke-opacity:0.1; fill:none\" points=\"\n",
       "  56.3707,432.406 488.189,432.406 \n",
       "  \"/>\n",
       "<polyline clip-path=\"url(#clip022)\" style=\"stroke:#000000; stroke-width:0.5; stroke-opacity:0.1; fill:none\" points=\"\n",
       "  56.3707,352.986 488.189,352.986 \n",
       "  \"/>\n",
       "<polyline clip-path=\"url(#clip022)\" style=\"stroke:#000000; stroke-width:0.5; stroke-opacity:0.1; fill:none\" points=\"\n",
       "  56.3707,273.565 488.189,273.565 \n",
       "  \"/>\n",
       "<polyline clip-path=\"url(#clip022)\" style=\"stroke:#000000; stroke-width:0.5; stroke-opacity:0.1; fill:none\" points=\"\n",
       "  56.3707,194.145 488.189,194.145 \n",
       "  \"/>\n",
       "<polyline clip-path=\"url(#clip022)\" style=\"stroke:#000000; stroke-width:0.5; stroke-opacity:0.1; fill:none\" points=\"\n",
       "  56.3707,114.724 488.189,114.724 \n",
       "  \"/>\n",
       "<polyline clip-path=\"url(#clip022)\" style=\"stroke:#000000; stroke-width:0.5; stroke-opacity:0.1; fill:none\" points=\"\n",
       "  56.3707,35.3033 488.189,35.3033 \n",
       "  \"/>\n",
       "<polyline clip-path=\"url(#clip020)\" style=\"stroke:#000000; stroke-width:1; stroke-opacity:1; fill:none\" points=\"\n",
       "  56.3707,444.535 56.3707,11.811 \n",
       "  \"/>\n",
       "<polyline clip-path=\"url(#clip020)\" style=\"stroke:#000000; stroke-width:1; stroke-opacity:1; fill:none\" points=\"\n",
       "  56.3707,432.406 61.5525,432.406 \n",
       "  \"/>\n",
       "<polyline clip-path=\"url(#clip020)\" style=\"stroke:#000000; stroke-width:1; stroke-opacity:1; fill:none\" points=\"\n",
       "  56.3707,352.986 61.5525,352.986 \n",
       "  \"/>\n",
       "<polyline clip-path=\"url(#clip020)\" style=\"stroke:#000000; stroke-width:1; stroke-opacity:1; fill:none\" points=\"\n",
       "  56.3707,273.565 61.5525,273.565 \n",
       "  \"/>\n",
       "<polyline clip-path=\"url(#clip020)\" style=\"stroke:#000000; stroke-width:1; stroke-opacity:1; fill:none\" points=\"\n",
       "  56.3707,194.145 61.5525,194.145 \n",
       "  \"/>\n",
       "<polyline clip-path=\"url(#clip020)\" style=\"stroke:#000000; stroke-width:1; stroke-opacity:1; fill:none\" points=\"\n",
       "  56.3707,114.724 61.5525,114.724 \n",
       "  \"/>\n",
       "<polyline clip-path=\"url(#clip020)\" style=\"stroke:#000000; stroke-width:1; stroke-opacity:1; fill:none\" points=\"\n",
       "  56.3707,35.3033 61.5525,35.3033 \n",
       "  \"/>\n",
       "<path clip-path=\"url(#clip020)\" d=\"M 0 0 M35.0976 432.519 L42.5166 432.519 L42.5166 433.503 L35.0976 433.503 L35.0976 432.519 Z\" fill=\"#000000\" fill-rule=\"evenodd\" fill-opacity=\"1\" /><path clip-path=\"url(#clip020)\" d=\"M 0 0 M44.7909 435.743 L48.8707 435.743 L48.8707 436.726 L43.3846 436.726 L43.3846 435.743 Q44.0501 435.054 45.196 433.897 Q46.3476 432.733 46.6427 432.398 Q47.204 431.767 47.424 431.333 Q47.6496 430.893 47.6496 430.471 Q47.6496 429.782 47.1635 429.348 Q46.6832 428.914 45.9078 428.914 Q45.358 428.914 44.7446 429.105 Q44.1369 429.296 43.4425 429.684 L43.4425 428.503 Q44.1485 428.22 44.7619 428.075 Q45.3754 427.93 45.8846 427.93 Q47.2272 427.93 48.0258 428.601 Q48.8244 429.273 48.8244 430.395 Q48.8244 430.928 48.6219 431.408 Q48.4251 431.883 47.8985 432.531 Q47.7538 432.699 46.9784 433.503 Q46.2029 434.302 44.7909 435.743 Z\" fill=\"#000000\" fill-rule=\"evenodd\" fill-opacity=\"1\" /><path clip-path=\"url(#clip020)\" d=\"M 0 0 M35.005 353.099 L42.424 353.099 L42.424 354.082 L35.005 354.082 L35.005 353.099 Z\" fill=\"#000000\" fill-rule=\"evenodd\" fill-opacity=\"1\" /><path clip-path=\"url(#clip020)\" d=\"M 0 0 M43.8939 356.322 L45.8036 356.322 L45.8036 349.731 L43.7261 350.147 L43.7261 349.082 L45.792 348.666 L46.961 348.666 L46.961 356.322 L48.8707 356.322 L48.8707 357.306 L43.8939 357.306 L43.8939 356.322 Z\" fill=\"#000000\" fill-rule=\"evenodd\" fill-opacity=\"1\" /><path clip-path=\"url(#clip020)\" d=\"M 0 0 M45.8846 270.015 Q44.9818 270.015 44.5247 270.906 Q44.0733 271.791 44.0733 273.574 Q44.0733 275.35 44.5247 276.242 Q44.9818 277.127 45.8846 277.127 Q46.7932 277.127 47.2446 276.242 Q47.7017 275.35 47.7017 273.574 Q47.7017 271.791 47.2446 270.906 Q46.7932 270.015 45.8846 270.015 M45.8846 269.089 Q47.3371 269.089 48.101 270.241 Q48.8707 271.386 48.8707 273.574 Q48.8707 275.756 48.101 276.907 Q47.3371 278.053 45.8846 278.053 Q44.4321 278.053 43.6624 276.907 Q42.8985 275.756 42.8985 273.574 Q42.8985 271.386 43.6624 270.241 Q44.4321 269.089 45.8846 269.089 Z\" fill=\"#000000\" fill-rule=\"evenodd\" fill-opacity=\"1\" /><path clip-path=\"url(#clip020)\" d=\"M 0 0 M43.8939 197.481 L45.8036 197.481 L45.8036 190.889 L43.7261 191.306 L43.7261 190.241 L45.792 189.825 L46.961 189.825 L46.961 197.481 L48.8707 197.481 L48.8707 198.465 L43.8939 198.465 L43.8939 197.481 Z\" fill=\"#000000\" fill-rule=\"evenodd\" fill-opacity=\"1\" /><path clip-path=\"url(#clip020)\" d=\"M 0 0 M44.7909 118.06 L48.8707 118.06 L48.8707 119.044 L43.3846 119.044 L43.3846 118.06 Q44.0501 117.371 45.196 116.214 Q46.3476 115.051 46.6427 114.715 Q47.204 114.084 47.424 113.65 Q47.6496 113.211 47.6496 112.788 Q47.6496 112.1 47.1635 111.665 Q46.6832 111.231 45.9078 111.231 Q45.358 111.231 44.7446 111.422 Q44.1369 111.613 43.4425 112.001 L43.4425 110.821 Q44.1485 110.537 44.7619 110.392 Q45.3754 110.248 45.8846 110.248 Q47.2272 110.248 48.0258 110.919 Q48.8244 111.59 48.8244 112.713 Q48.8244 113.245 48.6219 113.726 Q48.4251 114.2 47.8985 114.848 Q47.7538 115.016 46.9784 115.821 Q46.2029 116.619 44.7909 118.06 Z\" fill=\"#000000\" fill-rule=\"evenodd\" fill-opacity=\"1\" /><path clip-path=\"url(#clip020)\" d=\"M 0 0 M47.0883 34.9648 Q47.9274 35.1442 48.3962 35.7113 Q48.8707 36.2784 48.8707 37.1117 Q48.8707 38.3907 47.9911 39.0909 Q47.1115 39.7911 45.4911 39.7911 Q44.9471 39.7911 44.3684 39.6812 Q43.7955 39.577 43.1821 39.3629 L43.1821 38.2344 Q43.6682 38.518 44.2469 38.6627 Q44.8256 38.8073 45.4564 38.8073 Q46.5559 38.8073 47.1288 38.3733 Q47.7075 37.9393 47.7075 37.1117 Q47.7075 36.3479 47.1693 35.9196 Q46.6369 35.4856 45.6821 35.4856 L44.6751 35.4856 L44.6751 34.525 L45.7284 34.525 Q46.5906 34.525 47.0478 34.1835 Q47.505 33.8363 47.505 33.1882 Q47.505 32.5226 47.0304 32.1696 Q46.5617 31.8108 45.6821 31.8108 Q45.2017 31.8108 44.652 31.915 Q44.1022 32.0192 43.4425 32.2391 L43.4425 31.1974 Q44.108 31.0122 44.6867 30.9196 Q45.2712 30.8271 45.7862 30.8271 Q47.1172 30.8271 47.8927 31.4347 Q48.6682 32.0365 48.6682 33.0666 Q48.6682 33.7842 48.2573 34.2819 Q47.8464 34.7738 47.0883 34.9648 Z\" fill=\"#000000\" fill-rule=\"evenodd\" fill-opacity=\"1\" /><path clip-path=\"url(#clip020)\" d=\"M 0 0 M15.2916 243.924 L16.6762 243.924 Q16.3579 244.545 16.1987 245.213 Q16.0396 245.882 16.0396 246.598 Q16.0396 247.688 16.3738 248.237 Q16.708 248.778 17.3764 248.778 Q17.8857 248.778 18.1801 248.388 Q18.4665 247.998 18.7291 246.821 L18.8405 246.319 Q19.1747 244.76 19.7874 244.107 Q20.3922 243.447 21.4823 243.447 Q22.7236 243.447 23.4477 244.433 Q24.1718 245.412 24.1718 247.131 Q24.1718 247.847 24.0286 248.627 Q23.8933 249.399 23.6148 250.258 L22.1029 250.258 Q22.5247 249.446 22.7395 248.659 Q22.9464 247.871 22.9464 247.099 Q22.9464 246.065 22.5963 245.508 Q22.2382 244.951 21.5937 244.951 Q20.9969 244.951 20.6786 245.356 Q20.3603 245.754 20.0659 247.115 L19.9466 247.624 Q19.6601 248.985 19.0713 249.59 Q18.4745 250.194 17.4401 250.194 Q16.1828 250.194 15.4985 249.303 Q14.8142 248.412 14.8142 246.773 Q14.8142 245.961 14.9336 245.245 Q15.0529 244.529 15.2916 243.924 Z\" fill=\"#000000\" fill-rule=\"evenodd\" fill-opacity=\"1\" /><path clip-path=\"url(#clip020)\" d=\"M 0 0 M12.4987 240.463 L15.0291 240.463 L15.0291 237.447 L16.1669 237.447 L16.1669 240.463 L21.0049 240.463 Q22.095 240.463 22.4053 240.168 Q22.7156 239.866 22.7156 238.951 L22.7156 237.447 L23.941 237.447 L23.941 238.951 Q23.941 240.646 23.3124 241.29 Q22.6759 241.935 21.0049 241.935 L16.1669 241.935 L16.1669 243.009 L15.0291 243.009 L15.0291 241.935 L12.4987 241.935 L12.4987 240.463 Z\" fill=\"#000000\" fill-rule=\"evenodd\" fill-opacity=\"1\" /><path clip-path=\"url(#clip020)\" d=\"M 0 0 M19.4612 231.861 Q19.4612 233.636 19.867 234.32 Q20.2728 235.004 21.2515 235.004 Q22.0313 235.004 22.4928 234.495 Q22.9464 233.978 22.9464 233.094 Q22.9464 231.877 22.087 231.145 Q21.2197 230.405 19.7874 230.405 L19.4612 230.405 L19.4612 231.861 M18.8564 228.941 L23.941 228.941 L23.941 230.405 L22.5883 230.405 Q23.4 230.906 23.7899 231.654 Q24.1718 232.402 24.1718 233.484 Q24.1718 234.853 23.4079 235.665 Q22.6361 236.468 21.347 236.468 Q19.8431 236.468 19.0792 235.466 Q18.3153 234.455 18.3153 232.458 L18.3153 230.405 L18.1721 230.405 Q17.1616 230.405 16.6125 231.073 Q16.0555 231.734 16.0555 232.935 Q16.0555 233.699 16.2385 234.423 Q16.4215 235.147 16.7876 235.816 L15.4349 235.816 Q15.1245 235.012 14.9734 234.256 Q14.8142 233.5 14.8142 232.784 Q14.8142 230.851 15.8168 229.896 Q16.8194 228.941 18.8564 228.941 Z\" fill=\"#000000\" fill-rule=\"evenodd\" fill-opacity=\"1\" /><path clip-path=\"url(#clip020)\" d=\"M 0 0 M12.4987 225.957 L15.0291 225.957 L15.0291 222.941 L16.1669 222.941 L16.1669 225.957 L21.0049 225.957 Q22.095 225.957 22.4053 225.663 Q22.7156 225.36 22.7156 224.445 L22.7156 222.941 L23.941 222.941 L23.941 224.445 Q23.941 226.14 23.3124 226.784 Q22.6759 227.429 21.0049 227.429 L16.1669 227.429 L16.1669 228.503 L15.0291 228.503 L15.0291 227.429 L12.4987 227.429 L12.4987 225.957 Z\" fill=\"#000000\" fill-rule=\"evenodd\" fill-opacity=\"1\" /><path clip-path=\"url(#clip020)\" d=\"M 0 0 M19.119 213.783 L19.8352 213.783 L19.8352 220.514 Q21.347 220.419 22.1427 219.607 Q22.9305 218.788 22.9305 217.331 Q22.9305 216.488 22.7236 215.7 Q22.5167 214.904 22.1029 214.125 L23.4875 214.125 Q23.8217 214.912 23.9967 215.74 Q24.1718 216.568 24.1718 217.419 Q24.1718 219.551 22.9305 220.801 Q21.6892 222.042 19.5726 222.042 Q17.3844 222.042 16.1033 220.864 Q14.8142 219.679 14.8142 217.674 Q14.8142 215.875 15.9759 214.833 Q17.1297 213.783 19.119 213.783 M18.6893 215.247 Q17.4878 215.263 16.7717 215.923 Q16.0555 216.575 16.0555 217.658 Q16.0555 218.883 16.7478 219.623 Q17.4401 220.355 18.6973 220.467 L18.6893 215.247 Z\" fill=\"#000000\" fill-rule=\"evenodd\" fill-opacity=\"1\" /><path clip-path=\"url(#clip020)\" d=\"M 0 0 M15.2916 206.565 L16.6762 206.565 Q16.3579 207.186 16.1987 207.854 Q16.0396 208.523 16.0396 209.239 Q16.0396 210.329 16.3738 210.878 Q16.708 211.419 17.3764 211.419 Q17.8857 211.419 18.1801 211.029 Q18.4665 210.639 18.7291 209.462 L18.8405 208.96 Q19.1747 207.401 19.7874 206.748 Q20.3922 206.088 21.4823 206.088 Q22.7236 206.088 23.4477 207.075 Q24.1718 208.053 24.1718 209.772 Q24.1718 210.488 24.0286 211.268 Q23.8933 212.04 23.6148 212.899 L22.1029 212.899 Q22.5247 212.088 22.7395 211.3 Q22.9464 210.512 22.9464 209.74 Q22.9464 208.706 22.5963 208.149 Q22.2382 207.592 21.5937 207.592 Q20.9969 207.592 20.6786 207.998 Q20.3603 208.396 20.0659 209.756 L19.9466 210.265 Q19.6601 211.626 19.0713 212.231 Q18.4745 212.836 17.4401 212.836 Q16.1828 212.836 15.4985 211.944 Q14.8142 211.053 14.8142 209.414 Q14.8142 208.602 14.9336 207.886 Q15.0529 207.17 15.2916 206.565 Z\" fill=\"#000000\" fill-rule=\"evenodd\" fill-opacity=\"1\" /><polyline clip-path=\"url(#clip022)\" style=\"stroke:#009af9; stroke-width:1; stroke-opacity:1; fill:none\" points=\"\n",
       "  68.592,273.565 72.6657,273.378 76.7395,272.784 80.8132,271.739 84.887,270.234 88.9608,268.302 93.0345,266.008 97.1083,263.451 101.182,260.751 105.256,258.041 \n",
       "  109.33,255.455 113.403,253.128 117.477,251.185 121.551,249.74 125.625,248.888 129.698,248.663 133.772,249.03 137.846,249.932 141.92,251.306 145.993,253.068 \n",
       "  150.067,255.098 154.141,257.274 158.215,259.487 162.288,261.64 166.362,263.633 170.436,265.357 174.51,266.686 178.583,267.485 182.657,267.633 186.731,267.084 \n",
       "  190.805,265.913 194.878,264.275 198.952,262.342 203.026,260.291 207.1,258.25 211.173,256.288 215.247,254.438 219.321,252.729 223.395,251.205 227.469,249.951 \n",
       "  231.542,249.102 235.616,248.843 239.69,249.393 243.764,250.852 247.837,253.104 251.911,255.879 255.985,258.882 260.059,261.929 264.132,264.904 268.206,267.744 \n",
       "  272.28,270.468 276.354,273.121 280.427,275.746 284.501,278.355 288.575,280.916 292.649,283.331 296.722,285.421 300.796,286.924 304.87,287.504 308.944,286.969 \n",
       "  313.017,285.466 317.091,283.431 321.165,281.352 325.239,279.46 329.312,277.843 333.386,276.535 337.46,275.465 341.534,274.529 345.607,273.619 349.681,272.638 \n",
       "  353.755,271.507 357.829,270.187 361.903,268.69 365.976,267.11 370.05,265.645 374.124,264.613 378.198,264.458 382.271,265.563 386.345,267.952 390.419,271.129 \n",
       "  394.493,274.335 398.566,277.123 402.64,279.36 406.714,281.001 410.788,282.081 414.861,282.682 418.935,282.89 423.009,282.783 427.083,282.427 431.156,281.877 \n",
       "  435.23,281.176 439.304,280.363 443.378,279.47 447.451,278.527 451.525,277.562 455.599,276.608 459.673,275.7 463.746,274.881 467.82,274.205 471.894,273.737 \n",
       "  475.968,273.565 \n",
       "  \"/>\n",
       "<polyline clip-path=\"url(#clip022)\" style=\"stroke:#e26f46; stroke-width:1; stroke-opacity:1; fill:none\" points=\"\n",
       "  68.592,273.565 72.6657,273.94 76.7395,275.106 80.8132,277.096 84.887,279.827 88.9608,283.101 93.0345,286.624 97.1083,290.028 101.182,292.911 105.256,294.878 \n",
       "  109.33,295.576 113.403,294.717 117.477,292.097 121.551,287.613 125.625,281.284 129.698,273.34 133.772,264.229 137.846,254.518 141.92,244.817 145.993,235.768 \n",
       "  150.067,228.02 154.141,222.133 158.215,218.528 162.288,217.497 166.362,219.227 170.436,223.83 174.51,231.348 178.583,241.745 182.657,254.847 186.731,270.2 \n",
       "  190.805,286.944 194.878,303.951 198.952,320.056 203.026,334.224 207.1,345.698 211.173,354.016 215.247,358.918 219.321,360.269 223.395,357.997 227.469,352.063 \n",
       "  231.542,342.436 235.616,329.079 239.69,311.989 243.764,291.504 247.837,268.635 251.911,244.976 255.985,222.249 260.059,201.774 264.132,184.422 268.206,170.679 \n",
       "  272.28,160.739 276.354,154.669 280.427,152.486 284.501,154.195 288.575,159.797 292.649,169.298 296.722,182.732 300.796,200.201 304.87,221.888 308.944,247.67 \n",
       "  313.017,276.481 317.091,306.189 321.165,334.457 325.239,359.79 329.312,381.461 333.386,399.214 337.46,413.08 341.534,423.166 345.607,429.557 349.681,432.288 \n",
       "  353.755,431.346 357.829,426.683 361.903,418.243 365.976,405.985 370.05,389.865 374.124,369.767 378.198,345.388 382.271,316.415 386.345,283.314 390.419,248.233 \n",
       "  394.493,214.276 398.566,183.513 402.64,156.688 406.714,133.827 410.788,114.575 414.861,98.4629 418.935,85.0306 423.009,73.8579 427.083,64.5749 431.156,56.8612 \n",
       "  435.23,50.4426 439.304,45.0868 443.378,40.6001 447.451,36.824 451.525,33.633 455.599,30.934 459.673,28.6661 463.746,26.8039 467.82,25.3622 471.894,24.405 \n",
       "  475.968,24.0579 \n",
       "  \"/>\n",
       "<path clip-path=\"url(#clip020)\" d=\"\n",
       "M413.061 71.5952 L473.795 71.5952 L473.795 26.2352 L413.061 26.2352  Z\n",
       "  \" fill=\"#ffffff\" fill-rule=\"evenodd\" fill-opacity=\"1\"/>\n",
       "<polyline clip-path=\"url(#clip020)\" style=\"stroke:#000000; stroke-width:1; stroke-opacity:1; fill:none\" points=\"\n",
       "  413.061,71.5952 473.795,71.5952 473.795,26.2352 413.061,26.2352 413.061,71.5952 \n",
       "  \"/>\n",
       "<polyline clip-path=\"url(#clip020)\" style=\"stroke:#009af9; stroke-width:1; stroke-opacity:1; fill:none\" points=\"\n",
       "  417.859,41.3552 446.647,41.3552 \n",
       "  \"/>\n",
       "<path clip-path=\"url(#clip020)\" d=\"M 0 0 M454.905 46.277 Q454.454 47.4344 454.026 47.7874 Q453.597 48.1404 452.88 48.1404 L452.029 48.1404 L452.029 47.2492 L452.654 47.2492 Q453.094 47.2492 453.337 47.0409 Q453.58 46.8326 453.875 46.0571 L454.066 45.571 L451.445 39.1937 L452.573 39.1937 L454.598 44.2631 L456.624 39.1937 L457.752 39.1937 L454.905 46.277 Z\" fill=\"#000000\" fill-rule=\"evenodd\" fill-opacity=\"1\" /><path clip-path=\"url(#clip020)\" d=\"M 0 0 M459.222 44.6914 L461.132 44.6914 L461.132 38.1 L459.054 38.5166 L459.054 37.4518 L461.12 37.0352 L462.289 37.0352 L462.289 44.6914 L464.199 44.6914 L464.199 45.6752 L459.222 45.6752 L459.222 44.6914 Z\" fill=\"#000000\" fill-rule=\"evenodd\" fill-opacity=\"1\" /><polyline clip-path=\"url(#clip020)\" style=\"stroke:#e26f46; stroke-width:1; stroke-opacity:1; fill:none\" points=\"\n",
       "  417.859,56.4752 446.647,56.4752 \n",
       "  \"/>\n",
       "<path clip-path=\"url(#clip020)\" d=\"M 0 0 M454.905 61.397 Q454.454 62.5544 454.026 62.9074 Q453.597 63.2604 452.88 63.2604 L452.029 63.2604 L452.029 62.3692 L452.654 62.3692 Q453.094 62.3692 453.337 62.1609 Q453.58 61.9526 453.875 61.1771 L454.066 60.691 L451.445 54.3137 L452.573 54.3137 L454.598 59.3831 L456.624 54.3137 L457.752 54.3137 L454.905 61.397 Z\" fill=\"#000000\" fill-rule=\"evenodd\" fill-opacity=\"1\" /><path clip-path=\"url(#clip020)\" d=\"M 0 0 M460.027 59.8114 L464.106 59.8114 L464.106 60.7952 L458.62 60.7952 L458.62 59.8114 Q459.286 59.1227 460.432 57.9653 Q461.583 56.8021 461.878 56.4665 Q462.44 55.8357 462.66 55.4017 Q462.885 54.9619 462.885 54.5394 Q462.885 53.8507 462.399 53.4167 Q461.919 52.9827 461.144 52.9827 Q460.594 52.9827 459.98 53.1737 Q459.373 53.3646 458.678 53.7524 L458.678 52.5718 Q459.384 52.2883 459.998 52.1436 Q460.611 51.9989 461.12 51.9989 Q462.463 51.9989 463.262 52.6702 Q464.06 53.3415 464.06 54.4642 Q464.06 54.9966 463.858 55.4769 Q463.661 55.9514 463.134 56.5996 Q462.99 56.7674 462.214 57.5718 Q461.439 58.3704 460.027 59.8114 Z\" fill=\"#000000\" fill-rule=\"evenodd\" fill-opacity=\"1\" /></svg>\n"
      ]
     },
     "execution_count": 30,
     "metadata": {},
     "output_type": "execute_result"
    }
   ],
   "source": [
    "plot(get_times(solver), states(solver), inds=1:2, xlabel=\"time (s)\", ylabel=\"states\")"
   ]
  },
  {
   "cell_type": "code",
   "execution_count": 29,
   "id": "d3102838-d962-40d5-809b-eb846845246f",
   "metadata": {},
   "outputs": [
    {
     "data": {
      "image/svg+xml": [
       "<?xml version=\"1.0\" encoding=\"utf-8\"?>\n",
       "<svg xmlns=\"http://www.w3.org/2000/svg\" xmlns:xlink=\"http://www.w3.org/1999/xlink\" width=\"125\" height=\"125\" viewBox=\"0 0 500 500\">\n",
       "<defs>\n",
       "  <clipPath id=\"clip980\">\n",
       "    <rect x=\"0\" y=\"0\" width=\"500\" height=\"500\"/>\n",
       "  </clipPath>\n",
       "</defs>\n",
       "<path clip-path=\"url(#clip980)\" d=\"\n",
       "M0 500 L500 500 L500 0 L0 0  Z\n",
       "  \" fill=\"#ffffff\" fill-rule=\"evenodd\" fill-opacity=\"1\"/>\n",
       "<defs>\n",
       "  <clipPath id=\"clip981\">\n",
       "    <rect x=\"100\" y=\"50\" width=\"351\" height=\"351\"/>\n",
       "  </clipPath>\n",
       "</defs>\n",
       "<path clip-path=\"url(#clip980)\" d=\"\n",
       "M56.5154 444.535 L488.189 444.535 L488.189 11.811 L56.5154 11.811  Z\n",
       "  \" fill=\"#ffffff\" fill-rule=\"evenodd\" fill-opacity=\"1\"/>\n",
       "<defs>\n",
       "  <clipPath id=\"clip982\">\n",
       "    <rect x=\"56\" y=\"11\" width=\"433\" height=\"434\"/>\n",
       "  </clipPath>\n",
       "</defs>\n",
       "<polyline clip-path=\"url(#clip982)\" style=\"stroke:#000000; stroke-width:0.5; stroke-opacity:0.1; fill:none\" points=\"\n",
       "  68.7326,444.535 68.7326,11.811 \n",
       "  \"/>\n",
       "<polyline clip-path=\"url(#clip982)\" style=\"stroke:#000000; stroke-width:0.5; stroke-opacity:0.1; fill:none\" points=\"\n",
       "  151.003,444.535 151.003,11.811 \n",
       "  \"/>\n",
       "<polyline clip-path=\"url(#clip982)\" style=\"stroke:#000000; stroke-width:0.5; stroke-opacity:0.1; fill:none\" points=\"\n",
       "  233.274,444.535 233.274,11.811 \n",
       "  \"/>\n",
       "<polyline clip-path=\"url(#clip982)\" style=\"stroke:#000000; stroke-width:0.5; stroke-opacity:0.1; fill:none\" points=\"\n",
       "  315.544,444.535 315.544,11.811 \n",
       "  \"/>\n",
       "<polyline clip-path=\"url(#clip982)\" style=\"stroke:#000000; stroke-width:0.5; stroke-opacity:0.1; fill:none\" points=\"\n",
       "  397.815,444.535 397.815,11.811 \n",
       "  \"/>\n",
       "<polyline clip-path=\"url(#clip982)\" style=\"stroke:#000000; stroke-width:0.5; stroke-opacity:0.1; fill:none\" points=\"\n",
       "  480.085,444.535 480.085,11.811 \n",
       "  \"/>\n",
       "<polyline clip-path=\"url(#clip980)\" style=\"stroke:#000000; stroke-width:1; stroke-opacity:1; fill:none\" points=\"\n",
       "  56.5154,444.535 488.189,444.535 \n",
       "  \"/>\n",
       "<polyline clip-path=\"url(#clip980)\" style=\"stroke:#000000; stroke-width:1; stroke-opacity:1; fill:none\" points=\"\n",
       "  68.7326,444.535 68.7326,439.342 \n",
       "  \"/>\n",
       "<polyline clip-path=\"url(#clip980)\" style=\"stroke:#000000; stroke-width:1; stroke-opacity:1; fill:none\" points=\"\n",
       "  151.003,444.535 151.003,439.342 \n",
       "  \"/>\n",
       "<polyline clip-path=\"url(#clip980)\" style=\"stroke:#000000; stroke-width:1; stroke-opacity:1; fill:none\" points=\"\n",
       "  233.274,444.535 233.274,439.342 \n",
       "  \"/>\n",
       "<polyline clip-path=\"url(#clip980)\" style=\"stroke:#000000; stroke-width:1; stroke-opacity:1; fill:none\" points=\"\n",
       "  315.544,444.535 315.544,439.342 \n",
       "  \"/>\n",
       "<polyline clip-path=\"url(#clip980)\" style=\"stroke:#000000; stroke-width:1; stroke-opacity:1; fill:none\" points=\"\n",
       "  397.815,444.535 397.815,439.342 \n",
       "  \"/>\n",
       "<polyline clip-path=\"url(#clip980)\" style=\"stroke:#000000; stroke-width:1; stroke-opacity:1; fill:none\" points=\"\n",
       "  480.085,444.535 480.085,439.342 \n",
       "  \"/>\n",
       "<path clip-path=\"url(#clip980)\" d=\"M 0 0 M68.7326 451.033 Q67.8298 451.033 67.3726 451.924 Q66.9212 452.809 66.9212 454.592 Q66.9212 456.368 67.3726 457.259 Q67.8298 458.145 68.7326 458.145 Q69.6411 458.145 70.0925 457.259 Q70.5497 456.368 70.5497 454.592 Q70.5497 452.809 70.0925 451.924 Q69.6411 451.033 68.7326 451.033 M68.7326 450.107 Q70.1851 450.107 70.949 451.258 Q71.7187 452.404 71.7187 454.592 Q71.7187 456.773 70.949 457.925 Q70.1851 459.071 68.7326 459.071 Q67.28 459.071 66.5103 457.925 Q65.7465 456.773 65.7465 454.592 Q65.7465 452.404 66.5103 451.258 Q67.28 450.107 68.7326 450.107 Z\" fill=\"#000000\" fill-rule=\"evenodd\" fill-opacity=\"1\" /><path clip-path=\"url(#clip980)\" d=\"M 0 0 M148.599 457.919 L150.508 457.919 L150.508 451.328 L148.431 451.744 L148.431 450.68 L150.497 450.263 L151.666 450.263 L151.666 457.919 L153.575 457.919 L153.575 458.903 L148.599 458.903 L148.599 457.919 Z\" fill=\"#000000\" fill-rule=\"evenodd\" fill-opacity=\"1\" /><path clip-path=\"url(#clip980)\" d=\"M 0 0 M231.937 457.919 L236.017 457.919 L236.017 458.903 L230.531 458.903 L230.531 457.919 Q231.196 457.231 232.342 456.073 Q233.494 454.91 233.789 454.574 Q234.35 453.943 234.57 453.509 Q234.796 453.07 234.796 452.647 Q234.796 451.959 234.31 451.525 Q233.829 451.091 233.054 451.091 Q232.504 451.091 231.891 451.281 Q231.283 451.472 230.588 451.86 L230.588 450.68 Q231.295 450.396 231.908 450.251 Q232.521 450.107 233.031 450.107 Q234.373 450.107 235.172 450.778 Q235.97 451.449 235.97 452.572 Q235.97 453.104 235.768 453.585 Q235.571 454.059 235.044 454.707 Q234.9 454.875 234.124 455.68 Q233.349 456.478 231.937 457.919 Z\" fill=\"#000000\" fill-rule=\"evenodd\" fill-opacity=\"1\" /><path clip-path=\"url(#clip980)\" d=\"M 0 0 M316.606 454.244 Q317.445 454.424 317.914 454.991 Q318.389 455.558 318.389 456.391 Q318.389 457.67 317.509 458.371 Q316.629 459.071 315.009 459.071 Q314.465 459.071 313.886 458.961 Q313.313 458.857 312.7 458.643 L312.7 457.514 Q313.186 457.798 313.765 457.942 Q314.343 458.087 314.974 458.087 Q316.074 458.087 316.647 457.653 Q317.225 457.219 317.225 456.391 Q317.225 455.628 316.687 455.199 Q316.155 454.765 315.2 454.765 L314.193 454.765 L314.193 453.805 L315.246 453.805 Q316.108 453.805 316.566 453.463 Q317.023 453.116 317.023 452.468 Q317.023 451.802 316.548 451.449 Q316.08 451.091 315.2 451.091 Q314.72 451.091 314.17 451.195 Q313.62 451.299 312.96 451.519 L312.96 450.477 Q313.626 450.292 314.205 450.199 Q314.789 450.107 315.304 450.107 Q316.635 450.107 317.411 450.714 Q318.186 451.316 318.186 452.346 Q318.186 453.064 317.775 453.562 Q317.364 454.053 316.606 454.244 Z\" fill=\"#000000\" fill-rule=\"evenodd\" fill-opacity=\"1\" /><path clip-path=\"url(#clip980)\" d=\"M 0 0 M398.567 451.281 L395.616 455.894 L398.567 455.894 L398.567 451.281 M398.26 450.263 L399.73 450.263 L399.73 455.894 L400.963 455.894 L400.963 456.866 L399.73 456.866 L399.73 458.903 L398.567 458.903 L398.567 456.866 L394.667 456.866 L394.667 455.737 L398.26 450.263 Z\" fill=\"#000000\" fill-rule=\"evenodd\" fill-opacity=\"1\" /><path clip-path=\"url(#clip980)\" d=\"M 0 0 M477.655 450.263 L482.244 450.263 L482.244 451.247 L478.725 451.247 L478.725 453.365 Q478.98 453.278 479.235 453.237 Q479.489 453.191 479.744 453.191 Q481.191 453.191 482.036 453.984 Q482.88 454.777 482.88 456.131 Q482.88 457.526 482.012 458.301 Q481.144 459.071 479.564 459.071 Q479.021 459.071 478.453 458.978 Q477.892 458.886 477.29 458.7 L477.29 457.526 Q477.811 457.809 478.367 457.948 Q478.922 458.087 479.541 458.087 Q480.543 458.087 481.127 457.56 Q481.711 457.034 481.711 456.131 Q481.711 455.228 481.127 454.702 Q480.543 454.175 479.541 454.175 Q479.073 454.175 478.604 454.279 Q478.141 454.383 477.655 454.603 L477.655 450.263 Z\" fill=\"#000000\" fill-rule=\"evenodd\" fill-opacity=\"1\" /><path clip-path=\"url(#clip980)\" d=\"M 0 0 M247.351 467.809 L247.351 470.339 L250.367 470.339 L250.367 471.477 L247.351 471.477 L247.351 476.315 Q247.351 477.405 247.645 477.715 Q247.948 478.026 248.863 478.026 L250.367 478.026 L250.367 479.251 L248.863 479.251 Q247.168 479.251 246.523 478.622 Q245.879 477.986 245.879 476.315 L245.879 471.477 L244.805 471.477 L244.805 470.339 L245.879 470.339 L245.879 467.809 L247.351 467.809 Z\" fill=\"#000000\" fill-rule=\"evenodd\" fill-opacity=\"1\" /><path clip-path=\"url(#clip980)\" d=\"M 0 0 M251.902 470.339 L253.366 470.339 L253.366 479.251 L251.902 479.251 L251.902 470.339 M251.902 466.87 L253.366 466.87 L253.366 468.724 L251.902 468.724 L251.902 466.87 Z\" fill=\"#000000\" fill-rule=\"evenodd\" fill-opacity=\"1\" /><path clip-path=\"url(#clip980)\" d=\"M 0 0 M261.841 472.05 Q262.39 471.063 263.154 470.594 Q263.918 470.124 264.952 470.124 Q266.345 470.124 267.1 471.103 Q267.856 472.074 267.856 473.872 L267.856 479.251 L266.384 479.251 L266.384 473.92 Q266.384 472.639 265.931 472.018 Q265.477 471.397 264.546 471.397 Q263.408 471.397 262.748 472.153 Q262.087 472.909 262.087 474.214 L262.087 479.251 L260.615 479.251 L260.615 473.92 Q260.615 472.631 260.162 472.018 Q259.708 471.397 258.761 471.397 Q257.639 471.397 256.979 472.161 Q256.319 472.917 256.319 474.214 L256.319 479.251 L254.846 479.251 L254.846 470.339 L256.319 470.339 L256.319 471.724 Q256.82 470.904 257.52 470.514 Q258.22 470.124 259.183 470.124 Q260.154 470.124 260.83 470.617 Q261.515 471.111 261.841 472.05 Z\" fill=\"#000000\" fill-rule=\"evenodd\" fill-opacity=\"1\" /><path clip-path=\"url(#clip980)\" d=\"M 0 0 M277.015 474.429 L277.015 475.145 L270.283 475.145 Q270.379 476.657 271.19 477.453 Q272.01 478.24 273.466 478.24 Q274.31 478.24 275.097 478.034 Q275.893 477.827 276.673 477.413 L276.673 478.797 Q275.885 479.132 275.058 479.307 Q274.23 479.482 273.379 479.482 Q271.246 479.482 269.997 478.24 Q268.756 476.999 268.756 474.882 Q268.756 472.694 269.933 471.413 Q271.119 470.124 273.124 470.124 Q274.922 470.124 275.965 471.286 Q277.015 472.44 277.015 474.429 M275.551 473.999 Q275.535 472.798 274.875 472.082 Q274.222 471.365 273.14 471.365 Q271.915 471.365 271.175 472.058 Q270.442 472.75 270.331 474.007 L275.551 473.999 Z\" fill=\"#000000\" fill-rule=\"evenodd\" fill-opacity=\"1\" /><path clip-path=\"url(#clip980)\" d=\"M 0 0 M287.248 466.886 Q286.182 468.716 285.664 470.506 Q285.147 472.296 285.147 474.135 Q285.147 475.973 285.664 477.779 Q286.19 479.577 287.248 481.399 L285.975 481.399 Q284.781 479.529 284.184 477.723 Q283.596 475.917 283.596 474.135 Q283.596 472.36 284.184 470.562 Q284.773 468.763 285.975 466.886 L287.248 466.886 Z\" fill=\"#000000\" fill-rule=\"evenodd\" fill-opacity=\"1\" /><path clip-path=\"url(#clip980)\" d=\"M 0 0 M294.465 470.602 L294.465 471.986 Q293.844 471.668 293.176 471.509 Q292.508 471.35 291.791 471.35 Q290.701 471.35 290.152 471.684 Q289.611 472.018 289.611 472.686 Q289.611 473.196 290.001 473.49 Q290.391 473.776 291.569 474.039 L292.07 474.15 Q293.63 474.485 294.282 475.097 Q294.942 475.702 294.942 476.792 Q294.942 478.034 293.956 478.758 Q292.977 479.482 291.258 479.482 Q290.542 479.482 289.762 479.338 Q288.991 479.203 288.131 478.925 L288.131 477.413 Q288.943 477.835 289.731 478.049 Q290.518 478.256 291.29 478.256 Q292.325 478.256 292.882 477.906 Q293.439 477.548 293.439 476.904 Q293.439 476.307 293.033 475.989 Q292.635 475.67 291.274 475.376 L290.765 475.256 Q289.404 474.97 288.8 474.381 Q288.195 473.784 288.195 472.75 Q288.195 471.493 289.086 470.808 Q289.977 470.124 291.616 470.124 Q292.428 470.124 293.144 470.243 Q293.86 470.363 294.465 470.602 Z\" fill=\"#000000\" fill-rule=\"evenodd\" fill-opacity=\"1\" /><path clip-path=\"url(#clip980)\" d=\"M 0 0 M296.247 466.886 L297.521 466.886 Q298.714 468.763 299.303 470.562 Q299.9 472.36 299.9 474.135 Q299.9 475.917 299.303 477.723 Q298.714 479.529 297.521 481.399 L296.247 481.399 Q297.306 479.577 297.823 477.779 Q298.348 475.973 298.348 474.135 Q298.348 472.296 297.823 470.506 Q297.306 468.716 296.247 466.886 Z\" fill=\"#000000\" fill-rule=\"evenodd\" fill-opacity=\"1\" /><polyline clip-path=\"url(#clip982)\" style=\"stroke:#000000; stroke-width:0.5; stroke-opacity:0.1; fill:none\" points=\"\n",
       "  56.5154,432.288 488.189,432.288 \n",
       "  \"/>\n",
       "<polyline clip-path=\"url(#clip982)\" style=\"stroke:#000000; stroke-width:0.5; stroke-opacity:0.1; fill:none\" points=\"\n",
       "  56.5154,364.25 488.189,364.25 \n",
       "  \"/>\n",
       "<polyline clip-path=\"url(#clip982)\" style=\"stroke:#000000; stroke-width:0.5; stroke-opacity:0.1; fill:none\" points=\"\n",
       "  56.5154,296.211 488.189,296.211 \n",
       "  \"/>\n",
       "<polyline clip-path=\"url(#clip982)\" style=\"stroke:#000000; stroke-width:0.5; stroke-opacity:0.1; fill:none\" points=\"\n",
       "  56.5154,228.173 488.189,228.173 \n",
       "  \"/>\n",
       "<polyline clip-path=\"url(#clip982)\" style=\"stroke:#000000; stroke-width:0.5; stroke-opacity:0.1; fill:none\" points=\"\n",
       "  56.5154,160.135 488.189,160.135 \n",
       "  \"/>\n",
       "<polyline clip-path=\"url(#clip982)\" style=\"stroke:#000000; stroke-width:0.5; stroke-opacity:0.1; fill:none\" points=\"\n",
       "  56.5154,92.0963 488.189,92.0963 \n",
       "  \"/>\n",
       "<polyline clip-path=\"url(#clip982)\" style=\"stroke:#000000; stroke-width:0.5; stroke-opacity:0.1; fill:none\" points=\"\n",
       "  56.5154,24.0579 488.189,24.0579 \n",
       "  \"/>\n",
       "<polyline clip-path=\"url(#clip980)\" style=\"stroke:#000000; stroke-width:1; stroke-opacity:1; fill:none\" points=\"\n",
       "  56.5154,444.535 56.5154,11.811 \n",
       "  \"/>\n",
       "<polyline clip-path=\"url(#clip980)\" style=\"stroke:#000000; stroke-width:1; stroke-opacity:1; fill:none\" points=\"\n",
       "  56.5154,432.288 61.6955,432.288 \n",
       "  \"/>\n",
       "<polyline clip-path=\"url(#clip980)\" style=\"stroke:#000000; stroke-width:1; stroke-opacity:1; fill:none\" points=\"\n",
       "  56.5154,364.25 61.6955,364.25 \n",
       "  \"/>\n",
       "<polyline clip-path=\"url(#clip980)\" style=\"stroke:#000000; stroke-width:1; stroke-opacity:1; fill:none\" points=\"\n",
       "  56.5154,296.211 61.6955,296.211 \n",
       "  \"/>\n",
       "<polyline clip-path=\"url(#clip980)\" style=\"stroke:#000000; stroke-width:1; stroke-opacity:1; fill:none\" points=\"\n",
       "  56.5154,228.173 61.6955,228.173 \n",
       "  \"/>\n",
       "<polyline clip-path=\"url(#clip980)\" style=\"stroke:#000000; stroke-width:1; stroke-opacity:1; fill:none\" points=\"\n",
       "  56.5154,160.135 61.6955,160.135 \n",
       "  \"/>\n",
       "<polyline clip-path=\"url(#clip980)\" style=\"stroke:#000000; stroke-width:1; stroke-opacity:1; fill:none\" points=\"\n",
       "  56.5154,92.0963 61.6955,92.0963 \n",
       "  \"/>\n",
       "<polyline clip-path=\"url(#clip980)\" style=\"stroke:#000000; stroke-width:1; stroke-opacity:1; fill:none\" points=\"\n",
       "  56.5154,24.0579 61.6955,24.0579 \n",
       "  \"/>\n",
       "<path clip-path=\"url(#clip980)\" d=\"M 0 0 M35.005 432.401 L42.424 432.401 L42.424 433.385 L35.005 433.385 L35.005 432.401 Z\" fill=\"#000000\" fill-rule=\"evenodd\" fill-opacity=\"1\" /><path clip-path=\"url(#clip980)\" d=\"M 0 0 M47.233 431.95 Q48.0721 432.129 48.5408 432.696 Q49.0154 433.263 49.0154 434.096 Q49.0154 435.375 48.1358 436.076 Q47.2561 436.776 45.6358 436.776 Q45.0918 436.776 44.5131 436.666 Q43.9402 436.562 43.3268 436.348 L43.3268 435.219 Q43.8129 435.503 44.3916 435.647 Q44.9703 435.792 45.601 435.792 Q46.7006 435.792 47.2735 435.358 Q47.8522 434.924 47.8522 434.096 Q47.8522 433.333 47.314 432.904 Q46.7816 432.47 45.8267 432.47 L44.8198 432.47 L44.8198 431.51 L45.873 431.51 Q46.7353 431.51 47.1925 431.168 Q47.6496 430.821 47.6496 430.173 Q47.6496 429.507 47.1751 429.154 Q46.7064 428.796 45.8267 428.796 Q45.3464 428.796 44.7967 428.9 Q44.2469 429.004 43.5872 429.224 L43.5872 428.182 Q44.2527 427.997 44.8314 427.904 Q45.4159 427.812 45.9309 427.812 Q47.2619 427.812 48.0374 428.419 Q48.8128 429.021 48.8128 430.051 Q48.8128 430.769 48.402 431.267 Q47.9911 431.759 47.233 431.95 Z\" fill=\"#000000\" fill-rule=\"evenodd\" fill-opacity=\"1\" /><path clip-path=\"url(#clip980)\" d=\"M 0 0 M35.2423 364.363 L42.6612 364.363 L42.6612 365.346 L35.2423 365.346 L35.2423 364.363 Z\" fill=\"#000000\" fill-rule=\"evenodd\" fill-opacity=\"1\" /><path clip-path=\"url(#clip980)\" d=\"M 0 0 M44.9355 367.586 L49.0154 367.586 L49.0154 368.57 L43.5293 368.57 L43.5293 367.586 Q44.1948 366.897 45.3406 365.74 Q46.4922 364.577 46.7874 364.241 Q47.3487 363.61 47.5686 363.176 Q47.7943 362.736 47.7943 362.314 Q47.7943 361.625 47.3082 361.191 Q46.8279 360.757 46.0524 360.757 Q45.5027 360.757 44.8892 360.948 Q44.2816 361.139 43.5872 361.527 L43.5872 360.346 Q44.2932 360.063 44.9066 359.918 Q45.52 359.773 46.0293 359.773 Q47.3719 359.773 48.1705 360.445 Q48.9691 361.116 48.9691 362.239 Q48.9691 362.771 48.7665 363.251 Q48.5698 363.726 48.0432 364.374 Q47.8985 364.542 47.123 365.346 Q46.3476 366.145 44.9355 367.586 Z\" fill=\"#000000\" fill-rule=\"evenodd\" fill-opacity=\"1\" /><path clip-path=\"url(#clip980)\" d=\"M 0 0 M35.1497 296.324 L42.5687 296.324 L42.5687 297.308 L35.1497 297.308 L35.1497 296.324 Z\" fill=\"#000000\" fill-rule=\"evenodd\" fill-opacity=\"1\" /><path clip-path=\"url(#clip980)\" d=\"M 0 0 M44.0386 299.548 L45.9483 299.548 L45.9483 292.956 L43.8707 293.373 L43.8707 292.308 L45.9367 291.891 L47.1057 291.891 L47.1057 299.548 L49.0154 299.548 L49.0154 300.531 L44.0386 300.531 L44.0386 299.548 Z\" fill=\"#000000\" fill-rule=\"evenodd\" fill-opacity=\"1\" /><path clip-path=\"url(#clip980)\" d=\"M 0 0 M46.0293 224.623 Q45.1265 224.623 44.6693 225.514 Q44.218 226.399 44.218 228.182 Q44.218 229.958 44.6693 230.849 Q45.1265 231.735 46.0293 231.735 Q46.9378 231.735 47.3892 230.849 Q47.8464 229.958 47.8464 228.182 Q47.8464 226.399 47.3892 225.514 Q46.9378 224.623 46.0293 224.623 M46.0293 223.697 Q47.4818 223.697 48.2457 224.848 Q49.0154 225.994 49.0154 228.182 Q49.0154 230.363 48.2457 231.515 Q47.4818 232.661 46.0293 232.661 Q44.5767 232.661 43.8071 231.515 Q43.0432 230.363 43.0432 228.182 Q43.0432 225.994 43.8071 224.848 Q44.5767 223.697 46.0293 223.697 Z\" fill=\"#000000\" fill-rule=\"evenodd\" fill-opacity=\"1\" /><path clip-path=\"url(#clip980)\" d=\"M 0 0 M44.0386 163.471 L45.9483 163.471 L45.9483 156.879 L43.8707 157.296 L43.8707 156.231 L45.9367 155.815 L47.1057 155.815 L47.1057 163.471 L49.0154 163.471 L49.0154 164.455 L44.0386 164.455 L44.0386 163.471 Z\" fill=\"#000000\" fill-rule=\"evenodd\" fill-opacity=\"1\" /><path clip-path=\"url(#clip980)\" d=\"M 0 0 M44.9355 95.4325 L49.0154 95.4325 L49.0154 96.4163 L43.5293 96.4163 L43.5293 95.4325 Q44.1948 94.7438 45.3406 93.5864 Q46.4922 92.4232 46.7874 92.0876 Q47.3487 91.4568 47.5686 91.0228 Q47.7943 90.583 47.7943 90.1605 Q47.7943 89.4719 47.3082 89.0378 Q46.8279 88.6038 46.0524 88.6038 Q45.5027 88.6038 44.8892 88.7948 Q44.2816 88.9858 43.5872 89.3735 L43.5872 88.1929 Q44.2932 87.9094 44.9066 87.7647 Q45.52 87.62 46.0293 87.62 Q47.3719 87.62 48.1705 88.2913 Q48.9691 88.9626 48.9691 90.0853 Q48.9691 90.6177 48.7665 91.098 Q48.5698 91.5726 48.0432 92.2207 Q47.8985 92.3885 47.123 93.1929 Q46.3476 93.9915 44.9355 95.4325 Z\" fill=\"#000000\" fill-rule=\"evenodd\" fill-opacity=\"1\" /><path clip-path=\"url(#clip980)\" d=\"M 0 0 M47.233 23.7194 Q48.0721 23.8988 48.5408 24.4659 Q49.0154 25.033 49.0154 25.8664 Q49.0154 27.1453 48.1358 27.8455 Q47.2561 28.5458 45.6358 28.5458 Q45.0918 28.5458 44.5131 28.4358 Q43.9402 28.3316 43.3268 28.1175 L43.3268 26.989 Q43.8129 27.2726 44.3916 27.4173 Q44.9703 27.562 45.601 27.562 Q46.7006 27.562 47.2735 27.1279 Q47.8522 26.6939 47.8522 25.8664 Q47.8522 25.1025 47.314 24.6742 Q46.7816 24.2402 45.8267 24.2402 L44.8198 24.2402 L44.8198 23.2796 L45.873 23.2796 Q46.7353 23.2796 47.1925 22.9381 Q47.6496 22.5909 47.6496 21.9428 Q47.6496 21.2773 47.1751 20.9243 Q46.7064 20.5655 45.8267 20.5655 Q45.3464 20.5655 44.7967 20.6696 Q44.2469 20.7738 43.5872 20.9937 L43.5872 19.952 Q44.2527 19.7669 44.8314 19.6743 Q45.4159 19.5817 45.9309 19.5817 Q47.2619 19.5817 48.0374 20.1893 Q48.8128 20.7912 48.8128 21.8212 Q48.8128 22.5388 48.402 23.0365 Q47.9911 23.5284 47.233 23.7194 Z\" fill=\"#000000\" fill-rule=\"evenodd\" fill-opacity=\"1\" /><path clip-path=\"url(#clip980)\" d=\"M 0 0 M15.3712 245.87 L16.7398 245.87 Q16.3977 246.49 16.2306 247.119 Q16.0555 247.74 16.0555 248.376 Q16.0555 249.8 16.9626 250.588 Q17.8618 251.376 19.493 251.376 Q21.1242 251.376 22.0313 250.588 Q22.9305 249.8 22.9305 248.376 Q22.9305 247.74 22.7634 247.119 Q22.5883 246.49 22.2462 245.87 L23.5989 245.87 Q23.8853 246.482 24.0286 247.143 Q24.1718 247.795 24.1718 248.535 Q24.1718 250.548 22.9066 251.734 Q21.6414 252.92 19.493 252.92 Q17.3127 252.92 16.0635 251.726 Q14.8142 250.525 14.8142 248.44 Q14.8142 247.763 14.9574 247.119 Q15.0927 246.474 15.3712 245.87 Z\" fill=\"#000000\" fill-rule=\"evenodd\" fill-opacity=\"1\" /><path clip-path=\"url(#clip980)\" d=\"M 0 0 M16.0555 240.881 Q16.0555 242.058 16.9785 242.743 Q17.8936 243.427 19.493 243.427 Q21.0924 243.427 22.0154 242.75 Q22.9305 242.066 22.9305 240.881 Q22.9305 239.711 22.0075 239.027 Q21.0844 238.342 19.493 238.342 Q17.9095 238.342 16.9865 239.027 Q16.0555 239.711 16.0555 240.881 M14.8142 240.881 Q14.8142 238.971 16.0555 237.881 Q17.2968 236.791 19.493 236.791 Q21.6812 236.791 22.9305 237.881 Q24.1718 238.971 24.1718 240.881 Q24.1718 242.798 22.9305 243.888 Q21.6812 244.971 19.493 244.971 Q17.2968 244.971 16.0555 243.888 Q14.8142 242.798 14.8142 240.881 Z\" fill=\"#000000\" fill-rule=\"evenodd\" fill-opacity=\"1\" /><path clip-path=\"url(#clip980)\" d=\"M 0 0 M18.562 227.847 L23.941 227.847 L23.941 229.311 L18.6098 229.311 Q17.3446 229.311 16.716 229.804 Q16.0873 230.298 16.0873 231.284 Q16.0873 232.47 16.8433 233.154 Q17.5992 233.838 18.9042 233.838 L23.941 233.838 L23.941 235.311 L15.0291 235.311 L15.0291 233.838 L16.4136 233.838 Q15.6099 233.313 15.2121 232.605 Q14.8142 231.889 14.8142 230.958 Q14.8142 229.422 15.7691 228.635 Q16.716 227.847 18.562 227.847 Z\" fill=\"#000000\" fill-rule=\"evenodd\" fill-opacity=\"1\" /><path clip-path=\"url(#clip980)\" d=\"M 0 0 M12.4987 224.863 L15.0291 224.863 L15.0291 221.847 L16.1669 221.847 L16.1669 224.863 L21.0049 224.863 Q22.095 224.863 22.4053 224.568 Q22.7156 224.266 22.7156 223.351 L22.7156 221.847 L23.941 221.847 L23.941 223.351 Q23.941 225.046 23.3124 225.69 Q22.6759 226.335 21.0049 226.335 L16.1669 226.335 L16.1669 227.409 L15.0291 227.409 L15.0291 226.335 L12.4987 226.335 L12.4987 224.863 Z\" fill=\"#000000\" fill-rule=\"evenodd\" fill-opacity=\"1\" /><path clip-path=\"url(#clip980)\" d=\"M 0 0 M16.3977 215.147 Q16.2544 215.394 16.1908 215.688 Q16.1192 215.975 16.1192 216.325 Q16.1192 217.566 16.9308 218.235 Q17.7345 218.895 19.2463 218.895 L23.941 218.895 L23.941 220.367 L15.0291 220.367 L15.0291 218.895 L16.4136 218.895 Q15.602 218.433 15.2121 217.693 Q14.8142 216.953 14.8142 215.895 Q14.8142 215.744 14.8381 215.561 Q14.854 215.378 14.8938 215.155 L16.3977 215.147 Z\" fill=\"#000000\" fill-rule=\"evenodd\" fill-opacity=\"1\" /><path clip-path=\"url(#clip980)\" d=\"M 0 0 M16.0555 210.516 Q16.0555 211.694 16.9785 212.378 Q17.8936 213.062 19.493 213.062 Q21.0924 213.062 22.0154 212.386 Q22.9305 211.702 22.9305 210.516 Q22.9305 209.346 22.0075 208.662 Q21.0844 207.978 19.493 207.978 Q17.9095 207.978 16.9865 208.662 Q16.0555 209.346 16.0555 210.516 M14.8142 210.516 Q14.8142 208.606 16.0555 207.516 Q17.2968 206.426 19.493 206.426 Q21.6812 206.426 22.9305 207.516 Q24.1718 208.606 24.1718 210.516 Q24.1718 212.434 22.9305 213.524 Q21.6812 214.606 19.493 214.606 Q17.2968 214.606 16.0555 213.524 Q14.8142 212.434 14.8142 210.516 Z\" fill=\"#000000\" fill-rule=\"evenodd\" fill-opacity=\"1\" /><path clip-path=\"url(#clip980)\" d=\"M 0 0 M11.5597 204.89 L11.5597 203.426 L23.941 203.426 L23.941 204.89 L11.5597 204.89 Z\" fill=\"#000000\" fill-rule=\"evenodd\" fill-opacity=\"1\" /><polyline clip-path=\"url(#clip982)\" style=\"stroke:#009af9; stroke-width:1; stroke-opacity:1; fill:none\" points=\"\n",
       "  68.7326,99.6845 72.8461,76.7419 76.9596,64.7147 81.0731,64.4544 85.1867,76.1234 89.3002,98.9923 93.4137,131.364 97.5273,170.786 101.641,214.533 105.754,260.137 \n",
       "  109.868,305.653 113.981,349.524 118.095,390.092 122.208,425.002 126.322,432.288 130.435,432.288 134.549,432.288 138.663,432.288 142.776,411.371 146.89,372.754 \n",
       "  151.003,331.914 155.117,292.089 159.23,254.003 163.344,216.438 167.457,177.343 171.571,135.161 175.684,90.2991 179.798,46.6494 183.911,24.0579 188.025,24.0579 \n",
       "  192.138,24.0579 196.252,46.2181 200.365,93.8645 204.479,141.022 208.592,180.445 212.706,210.78 216.82,234.781 220.933,257.359 225.047,284.147 229.16,320.324 \n",
       "  233.274,369.148 237.387,429.479 241.501,432.288 245.614,432.288 249.728,432.288 253.841,432.288 257.955,419.545 262.068,348.155 266.182,292.598 270.295,257.092 \n",
       "  274.409,238.712 278.522,231.413 282.636,228.067 286.75,221.215 290.863,203.344 294.977,167.358 299.09,107.856 303.204,24.2568 307.317,24.0579 311.431,24.0579 \n",
       "  315.544,24.0579 319.658,24.0579 323.771,24.0579 327.885,127.05 331.998,198.78 336.112,238.298 340.225,251.235 344.339,245.442 348.452,228.423 352.566,206.878 \n",
       "  356.679,187.261 360.793,176.656 364.907,183.334 369.02,216.48 373.134,284.817 377.247,393.629 381.361,432.288 385.474,432.288 389.588,432.288 393.701,432.288 \n",
       "  397.815,432.288 401.928,320.209 406.042,199.583 410.155,127.254 414.269,93.4447 418.382,85.6303 422.496,93.01 426.609,107.946 430.723,125.731 434.837,143.826 \n",
       "  438.95,161.135 443.064,177.427 447.177,192.965 451.291,208.291 455.404,224.117 459.518,241.283 463.631,260.768 467.745,283.723 471.858,311.536 475.972,345.91 \n",
       "  \n",
       "  \"/>\n",
       "<path clip-path=\"url(#clip980)\" d=\"\n",
       "M413.082 56.4752 L473.8 56.4752 L473.8 26.2352 L413.082 26.2352  Z\n",
       "  \" fill=\"#ffffff\" fill-rule=\"evenodd\" fill-opacity=\"1\"/>\n",
       "<polyline clip-path=\"url(#clip980)\" style=\"stroke:#000000; stroke-width:1; stroke-opacity:1; fill:none\" points=\"\n",
       "  413.082,56.4752 473.8,56.4752 473.8,26.2352 413.082,26.2352 413.082,56.4752 \n",
       "  \"/>\n",
       "<polyline clip-path=\"url(#clip980)\" style=\"stroke:#009af9; stroke-width:1; stroke-opacity:1; fill:none\" points=\"\n",
       "  417.878,41.3552 446.656,41.3552 \n",
       "  \"/>\n",
       "<path clip-path=\"url(#clip980)\" d=\"M 0 0 M454.913 46.277 Q454.462 47.4344 454.034 47.7874 Q453.605 48.1404 452.888 48.1404 L452.037 48.1404 L452.037 47.2492 L452.662 47.2492 Q453.102 47.2492 453.345 47.0409 Q453.588 46.8326 453.883 46.0571 L454.074 45.571 L451.453 39.1937 L452.581 39.1937 L454.606 44.2631 L456.632 39.1937 L457.76 39.1937 L454.913 46.277 Z\" fill=\"#000000\" fill-rule=\"evenodd\" fill-opacity=\"1\" /><path clip-path=\"url(#clip980)\" d=\"M 0 0 M459.23 44.6914 L461.14 44.6914 L461.14 38.1 L459.062 38.5166 L459.062 37.4518 L461.128 37.0352 L462.297 37.0352 L462.297 44.6914 L464.207 44.6914 L464.207 45.6752 L459.23 45.6752 L459.23 44.6914 Z\" fill=\"#000000\" fill-rule=\"evenodd\" fill-opacity=\"1\" /></svg>\n"
      ]
     },
     "execution_count": 29,
     "metadata": {},
     "output_type": "execute_result"
    }
   ],
   "source": [
    "plot(get_times(solver)[1:N-1], controls(solver), xlabel=\"time (s)\", ylabel=\"control\")"
   ]
  },
  {
   "cell_type": "markdown",
   "id": "e609e3a0-c377-4645-bc9e-46b33974d4fc",
   "metadata": {},
   "source": [
    "As you can see, we're saturating our controls and taking multiple \"pumps\" to swing up, so it's doing what we're expecting it to!"
   ]
  },
  {
   "cell_type": "markdown",
   "id": "e47acd8c-cc88-4175-9be7-e980615e39b5",
   "metadata": {},
   "source": [
    "## 7. Changing Solver Parameters\n",
    "Now let's see if we can get it to solve a little faster. As with most optimization, the convergence is affected by a wide variety of solver hyperparameters. The ones we change here are usually the best ones to play around with.\n",
    "\n",
    "\n",
    "### Convergence Criteria\n",
    "Let's start by modifying our convergence criteria. But even before that, let's check what our current criteria are:"
   ]
  },
  {
   "cell_type": "code",
   "execution_count": 41,
   "id": "e9681f35-023b-4fd2-9cb1-4072d933f05c",
   "metadata": {},
   "outputs": [
    {
     "data": {
      "text/plain": [
       "SolverOptions{Float64}\n",
       "  constraint_tolerance: Float64 0.001\n",
       "  cost_tolerance: Float64 0.001\n",
       "  cost_tolerance_intermediate: Float64 0.0001\n",
       "  gradient_tolerance: Float64 10.0\n",
       "  gradient_tolerance_intermediate: Float64 1.0\n",
       "  iterations_inner: Int64 300\n",
       "  dJ_counter_limit: Int64 10\n",
       "  square_root: Bool false\n",
       "  line_search_lower_bound: Float64 1.0e-8\n",
       "  line_search_upper_bound: Float64 10.0\n",
       "  iterations_linesearch: Int64 20\n",
       "  max_cost_value: Float64 1.0e8\n",
       "  max_state_value: Float64 1.0e8\n",
       "  max_control_value: Float64 1.0e8\n",
       "  static_bp: Bool true\n",
       "  save_S: Bool false\n",
       "  bp_reg: Bool false\n",
       "  bp_reg_initial: Float64 0.0\n",
       "  bp_reg_increase_factor: Float64 1.6\n",
       "  bp_reg_max: Float64 1.0e8\n",
       "  bp_reg_min: Float64 1.0e-8\n",
       "  bp_reg_type: Symbol control\n",
       "  bp_reg_fp: Float64 10.0\n",
       "  penalty_initial: Float64 1.0\n",
       "  penalty_scaling: Float64 10.0\n",
       "  active_set_tolerance_al: Float64 0.001\n",
       "  dual_max: Float64 1.0e8\n",
       "  penalty_max: Float64 1.0e8\n",
       "  iterations_outer: Int64 30\n",
       "  kickout_max_penalty: Bool false\n",
       "  reset_duals: Bool true\n",
       "  reset_penalties: Bool true\n",
       "  force_pn: Bool false\n",
       "  verbose_pn: Bool false\n",
       "  n_steps: Int64 2\n",
       "  solve_type: Symbol feasible\n",
       "  projected_newton_tolerance: Float64 0.001\n",
       "  active_set_tolerance_pn: Float64 0.001\n",
       "  multiplier_projection: Bool true\n",
       "  ρ_chol: Float64 0.01\n",
       "  ρ_primal: Float64 1.0e-8\n",
       "  ρ_dual: Float64 1.0e-8\n",
       "  r_threshold: Float64 1.1\n",
       "  projected_newton: Bool true\n",
       "  reuse_jacobians: Bool false\n",
       "  iterations: Int64 1000\n",
       "  show_summary: Bool true\n",
       "  verbose: Int64 0\n"
      ]
     },
     "execution_count": 41,
     "metadata": {},
     "output_type": "execute_result"
    }
   ],
   "source": [
    "# Get the solver options\n",
    "opts = Altro.options(solver)"
   ]
  },
  {
   "cell_type": "markdown",
   "id": "fd0dc591-d1a5-4f64-9a67-0150900fad41",
   "metadata": {},
   "source": [
    "Wow, that's a lot of options! Don't worry, you'll never have to even touch most of them, but we'll cover the most important ones as we move through the rest of the examples. For now, let's look at our convergence criteria:\n",
    "* Cost Tolerance: changes in cost between interations must be less than this value\n",
    "* Constraint Tolerance: maximum constraint violation must be less than this value\n",
    "* Gradient Tolerance: the gradient of our optimality condition must be less than this value. This means we can't really make any more progress on reducing our cost. In practice, this can sometimes be difficult to satisfy, so we use a fairly large default value. Also, typically we don't care too much about minimizing the cost, since it's an arbitrary cost function that doesn't usually represent *exactly* what we want the system to do. "
   ]
  },
  {
   "cell_type": "code",
   "execution_count": 42,
   "id": "1bbdea01-d9c7-4a66-b650-22185d7daab0",
   "metadata": {},
   "outputs": [
    {
     "name": "stdout",
     "output_type": "stream",
     "text": [
      "opts.cost_tolerance = 0.001\n",
      "opts.constraint_tolerance = 0.001\n",
      "opts.gradient_tolerance = 10.0\n"
     ]
    }
   ],
   "source": [
    "@show opts.cost_tolerance\n",
    "@show opts.constraint_tolerance\n",
    "@show opts.gradient_tolerance;"
   ]
  },
  {
   "cell_type": "markdown",
   "id": "f290d2b1-b4c3-4a8e-bd29-59854eb972ad",
   "metadata": {},
   "source": [
    "If we want to relax (or tighten) these tolerances, we can do that in a couple of ways:\n",
    "1. When we create the solver, specify them as keyword arguments\n",
    "2. Use the `set_options!` command\n",
    "3. Modify the options structure directly\n",
    "4. Pass in a solver options struct when the solver is created (recommended)\n",
    "\n",
    "We'll demonstrate these below:"
   ]
  },
  {
   "cell_type": "code",
   "execution_count": 43,
   "id": "61cc8aac-3ad4-4033-a538-8baf9b544c7a",
   "metadata": {},
   "outputs": [],
   "source": [
    "# 1. As keyword arguments in the constructor\n",
    "solver = ALTROSolver(prob, cost_tolerance=1e-3, constraint_tolerance=1e-3)\n",
    "\n",
    "# 2. With the `set_options!` command\n",
    "set_options!(solver, cost_tolerance=1e-3, constraint_tolerance=1e-3)\n",
    "\n",
    "# 3. Setting them directly\n",
    "solver.opts.cost_tolerance = 1e-3\n",
    "solver.opts.constraint_tolerance = 1e-3\n",
    "\n",
    "# 4. Via Options struct\n",
    "opts = SolverOptions(cost_tolerance=1e-3)  # set in constructor\n",
    "opts.constraint_tolerance = 1e-3           # OR set afterwards\n",
    "solver = ALTROSolver(prob, opts);"
   ]
  },
  {
   "cell_type": "markdown",
   "id": "9037bb19-e11c-4ea2-82e3-557fa6a0e74d",
   "metadata": {},
   "source": [
    "Let's solve it again and compare it with the solve with the default tolerances:"
   ]
  },
  {
   "cell_type": "code",
   "execution_count": 58,
   "id": "4d5542fd-96a3-467c-bacf-474485fab27e",
   "metadata": {},
   "outputs": [
    {
     "name": "stdout",
     "output_type": "stream",
     "text": [
      "\u001b[32;1m\n",
      "SOLVE COMPLETED\n",
      "\u001b[0m solved using the \u001b[0m\u001b[36;1mALTRO\u001b[0m Solver,\n",
      " part of the Altro.jl package developed by the REx Lab at Stanford and Carnegie Mellon Universities\n",
      "\u001b[34;1m\n",
      "  Solve Statistics\n",
      "\u001b[0m    Total Iterations: 88\n",
      "\u001b[0m    Solve Time: 11.694168999999999 (ms)\n",
      "\u001b[34;1m\n",
      "  Covergence\n",
      "\u001b[0m    Terminal Cost: 1.4973195087213034\n",
      "\u001b[0m    Terminal dJ: \u001b[32m-3.934382825487859e-5\n",
      "\u001b[0m    Terminal gradient: \u001b[32m0.0006495892428091425\n",
      "\u001b[0m    Terminal constraint violation: \u001b[32m2.007421056049452e-7\n",
      "\u001b[0m    Solve Status: \u001b[1m\u001b[32mSOLVE_SUCCEEDED\n",
      "\u001b[0m"
     ]
    }
   ],
   "source": [
    "solver = ALTROSolver(prob)\n",
    "initial_controls!(solver, U0)\n",
    "solve!(solver);"
   ]
  },
  {
   "cell_type": "code",
   "execution_count": 61,
   "id": "f820e2bc-4179-408d-bd57-b3dd5ed51985",
   "metadata": {},
   "outputs": [
    {
     "name": "stdout",
     "output_type": "stream",
     "text": [
      "\u001b[32;1m\n",
      "SOLVE COMPLETED\n",
      "\u001b[0m solved using the \u001b[0m\u001b[36;1mALTRO\u001b[0m Solver,\n",
      " part of the Altro.jl package developed by the REx Lab at Stanford and Carnegie Mellon Universities\n",
      "\u001b[34;1m\n",
      "  Solve Statistics\n",
      "\u001b[0m    Total Iterations: 87\n",
      "\u001b[0m    Solve Time: 9.131457 (ms)\n",
      "\u001b[34;1m\n",
      "  Covergence\n",
      "\u001b[0m    Terminal Cost: 1.4972801648930485\n",
      "\u001b[0m    Terminal dJ: \u001b[32m2.0311150522145383e-5\n",
      "\u001b[0m    Terminal gradient: \u001b[32m0.005411044600531603\n",
      "\u001b[0m    Terminal constraint violation: \u001b[32m0.0002642553927056923\n",
      "\u001b[0m    Solve Status: \u001b[1m\u001b[32mSOLVE_SUCCEEDED\n",
      "\u001b[0m"
     ]
    }
   ],
   "source": [
    "solver2 = ALTROSolver(copy(prob), opts)  # note the copy around the problem, since by default it'll use the same trajectories\n",
    "initial_controls!(solver2, U0)\n",
    "solve!(solver2);"
   ]
  },
  {
   "cell_type": "markdown",
   "id": "d06c0570-f035-4108-bfee-cb4d35fb9d29",
   "metadata": {},
   "source": [
    "You'll see that we only took one less iteration, but that the terminal constraint and gradient values are larger. We can query the max violation directly from the solver:"
   ]
  },
  {
   "cell_type": "code",
   "execution_count": 64,
   "id": "cb2d046e-a7d1-42fd-9fbf-3455b0babc72",
   "metadata": {},
   "outputs": [
    {
     "name": "stdout",
     "output_type": "stream",
     "text": [
      "max_violation(solver) = 2.007421056049452e-7\n",
      "max_violation(solver2) = 0.0002642553927056923\n"
     ]
    }
   ],
   "source": [
    "@show max_violation(solver)\n",
    "@show max_violation(solver2);"
   ]
  },
  {
   "cell_type": "markdown",
   "id": "39a46a91-013f-47eb-9879-b8a5e51a024f",
   "metadata": {},
   "source": [
    "If we want a more info on *where* the max violation is, we can use `TrajectoryOptimization.findmax_violation`:"
   ]
  },
  {
   "cell_type": "code",
   "execution_count": 68,
   "id": "dba8431c-2765-4481-8e6e-2e68f956c39c",
   "metadata": {},
   "outputs": [
    {
     "data": {
      "text/plain": [
       "\"typename(GoalConstraint) at time step 101 at index 2\""
      ]
     },
     "execution_count": 68,
     "metadata": {},
     "output_type": "execute_result"
    }
   ],
   "source": [
    "TrajectoryOptimization.findmax_violation(solver2)"
   ]
  },
  {
   "cell_type": "markdown",
   "id": "63678c48-4020-437a-80c0-fb38a0c4080f",
   "metadata": {},
   "source": [
    "Which tells us that the max violation is due to the goal constraint at the last time step at index 2, which is the pendulum angle.\n",
    "\n",
    "### Improving the Solve\n",
    "So we saw that changing the convergence criteria didn't really change things too much for us. Let's see if we can change how the solver converges during the solve, not just at the end. The parameters we change should be your go-to parameters for performance tuning ALTRO. Note that we turned the verbosity level to `1` to print out just the outer loop iterations. Changing it to `2` will print out the iLQR iterations as well."
   ]
  },
  {
   "cell_type": "code",
   "execution_count": 77,
   "id": "302a0cf4-2c40-4ceb-ba83-c0e5cc0c1c2a",
   "metadata": {},
   "outputs": [
    {
     "name": "stderr",
     "output_type": "stream",
     "text": [
      "\u001b[33m\u001b[1miter  total  c_max       cost      penalty   info                                              \u001b[22m\u001b[39m\n",
      "\u001b[33m\u001b[1m-----------------------------------------------------------------------------------------------\u001b[22m\u001b[39m\n",
      "1     34      0.02568411  1.562007  1        \n",
      "2     35      0.02215689  1.571363  10       \n",
      "3     37      0.01279985  1.565029  100      \n"
     ]
    },
    {
     "name": "stdout",
     "output_type": "stream",
     "text": [
      "\u001b[32;1m\n",
      "SOLVE COMPLETED\n",
      "\u001b[0m solved using the \u001b[0m\u001b[36;1mALTRO\u001b[0m Solver,\n",
      " part of the Altro.jl package developed by the REx Lab at Stanford and Carnegie Mellon Universities\n",
      "\u001b[34;1m\n",
      "  Solve Statistics\n",
      "\u001b[0m    Total Iterations: 40\n",
      "\u001b[0m    Solve Time: 9.475037 (ms)\n",
      "\u001b[34;1m\n",
      "  Covergence\n",
      "\u001b[0m    Terminal Cost: 1.5525585573254304\n",
      "\u001b[0m    Terminal dJ: \u001b[32m-0.0010405745407844336\n",
      "\u001b[0m    Terminal gradient: \u001b[32m0.0031063488952173747\n",
      "\u001b[0m    Terminal constraint violation: \u001b[32m3.4246685487460127e-9\n",
      "\u001b[0m    Solve Status: \u001b[1m\u001b[32mSOLVE_SUCCEEDED\n",
      "\u001b[0m"
     ]
    },
    {
     "name": "stderr",
     "output_type": "stream",
     "text": [
      "4     39      0.00048612  1.551518  1000     \n"
     ]
    }
   ],
   "source": [
    "opts = SolverOptions(\n",
    "    cost_tolerance_intermediate=1e-2,\n",
    "    penalty_scaling=10.,\n",
    "    penalty_initial=1.0,\n",
    "    verbose=1,\n",
    ")\n",
    "solver3 = ALTROSolver(copy(prob), opts)\n",
    "initial_controls!(solver3, U0)\n",
    "solve!(solver3);"
   ]
  },
  {
   "cell_type": "markdown",
   "id": "0924068e-9b35-4d2c-baee-e02b6877d6ed",
   "metadata": {},
   "source": [
    "We more than halved the number of iterations! For tuning these parameters, we've found the following rules of thumb to be helpful:\n",
    "* Change `penalty_initial` first. If solving an unconstrained version of your problem will give you a good initial guess, make it small (e.g. 1e-3). If you've provided a good initial guess that is mostly feasible, use a higher penalty (e.g. 1e3).\n",
    "* Relaxing `cost_tolerance_intermediate` means that the iLQR iterations won't converge tightly every time, so you'll take more outer loop iterations. This can be helpful to crank down on constraint tolerances quickly. Generally keep this the same or nearly the same as `constraint_tolerance`, and only it change it at the end when you want to dial in the last bit of performance.\n",
    "* Increase `penalty_scaling` between 10-100 (sometimes a little more) last. This will help drive the constraint violations down quickly, but can result in premature ill-conditioning if your penalty values get too large."
   ]
  }
 ],
 "metadata": {
  "kernelspec": {
   "display_name": "Julia 1.6.1",
   "language": "julia",
   "name": "julia-1.6"
  },
  "language_info": {
   "file_extension": ".jl",
   "mimetype": "application/julia",
   "name": "julia",
   "version": "1.6.1"
  }
 },
 "nbformat": 4,
 "nbformat_minor": 5
}
